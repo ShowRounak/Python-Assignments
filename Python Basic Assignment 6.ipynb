{
 "cells": [
  {
   "cell_type": "markdown",
   "id": "854a9a42",
   "metadata": {},
   "source": [
    "### 1. What are escape characters, and how do you use them?"
   ]
  },
  {
   "cell_type": "markdown",
   "id": "76a18d61",
   "metadata": {},
   "source": [
    "Escape characters are used to insert illegal (not allowed) characters in a string.\n",
    "\n",
    "To use escape character we use backslash \\ followed by the desired character."
   ]
  },
  {
   "cell_type": "markdown",
   "id": "b4356b05",
   "metadata": {},
   "source": [
    "For example,"
   ]
  },
  {
   "cell_type": "code",
   "execution_count": 1,
   "id": "8460aaf4",
   "metadata": {},
   "outputs": [
    {
     "ename": "SyntaxError",
     "evalue": "invalid syntax (770158045.py, line 2)",
     "output_type": "error",
     "traceback": [
      "\u001b[1;36m  Input \u001b[1;32mIn [1]\u001b[1;36m\u001b[0m\n\u001b[1;33m    s = \"I am graduated from \"University of Calcutta\"\" # this is not allowed\u001b[0m\n\u001b[1;37m                              ^\u001b[0m\n\u001b[1;31mSyntaxError\u001b[0m\u001b[1;31m:\u001b[0m invalid syntax\n"
     ]
    }
   ],
   "source": [
    "# Python does not allow double-quotes inside a string which is already under a double-quote.\n",
    "s = \"I am graduated from \"University of Calcutta\"\" # this is not allowed"
   ]
  },
  {
   "cell_type": "code",
   "execution_count": 6,
   "id": "6fea3002",
   "metadata": {},
   "outputs": [
    {
     "name": "stdout",
     "output_type": "stream",
     "text": [
      "I am graduated from \"University of Calcutta\"\n"
     ]
    }
   ],
   "source": [
    "# But we can use \\\" to do this operation\n",
    "S = \"I am graduated from \\\"University of Calcutta\\\"\"\n",
    "print(S)"
   ]
  },
  {
   "cell_type": "markdown",
   "id": "56c3fd1c",
   "metadata": {},
   "source": [
    "Another Example,"
   ]
  },
  {
   "cell_type": "code",
   "execution_count": 7,
   "id": "3342b438",
   "metadata": {},
   "outputs": [
    {
     "name": "stdout",
     "output_type": "stream",
     "text": [
      "Hello\n",
      "World\n"
     ]
    }
   ],
   "source": [
    "# we can use \\n to add a new line\n",
    "\n",
    "text = \"Hello\\nWorld\"\n",
    "print(text)"
   ]
  },
  {
   "cell_type": "markdown",
   "id": "ccc07ab3",
   "metadata": {},
   "source": [
    "### 2. What do the escape characters n and t stand for?"
   ]
  },
  {
   "cell_type": "markdown",
   "id": "f4a2a639",
   "metadata": {},
   "source": [
    "\\n means adding a new line."
   ]
  },
  {
   "cell_type": "code",
   "execution_count": 8,
   "id": "8b47767a",
   "metadata": {},
   "outputs": [
    {
     "name": "stdout",
     "output_type": "stream",
     "text": [
      "Hello\n",
      "World\n"
     ]
    }
   ],
   "source": [
    "text = \"Hello\\nWorld\"\n",
    "print(text)"
   ]
  },
  {
   "cell_type": "markdown",
   "id": "101a4134",
   "metadata": {},
   "source": [
    "\\t means adding whitespaces or tab between words/characters"
   ]
  },
  {
   "cell_type": "code",
   "execution_count": 9,
   "id": "519403c1",
   "metadata": {},
   "outputs": [
    {
     "name": "stdout",
     "output_type": "stream",
     "text": [
      "Hello\tWorld\n"
     ]
    }
   ],
   "source": [
    "txt = \"Hello\\tWorld\"\n",
    "print(txt)"
   ]
  },
  {
   "cell_type": "markdown",
   "id": "3fad91e6",
   "metadata": {},
   "source": [
    "### 3. What is the way to include backslash characters in a string?"
   ]
  },
  {
   "cell_type": "markdown",
   "id": "f97e0ec4",
   "metadata": {},
   "source": [
    "To include backslash into a string, we have to use double backslash \\\\\\"
   ]
  },
  {
   "cell_type": "code",
   "execution_count": 13,
   "id": "6565d7bd",
   "metadata": {},
   "outputs": [
    {
     "name": "stdout",
     "output_type": "stream",
     "text": [
      "This is a backslash \\\n"
     ]
    }
   ],
   "source": [
    "s1 = \"This is a backslash \\\\\"\n",
    "print(s1)"
   ]
  },
  {
   "cell_type": "markdown",
   "id": "a7ebbcdf",
   "metadata": {},
   "source": [
    "### 4. The string &quot;Howl&#39;s Moving Castle&quot; is a correct value. Why isn&#39;t the single quote character in the word Howl&#39;s not escaped a problem?"
   ]
  },
  {
   "cell_type": "markdown",
   "id": "d1f1ec72",
   "metadata": {},
   "source": [
    "In these cases, the single and double-quotes are treated as special characters itself."
   ]
  },
  {
   "cell_type": "markdown",
   "id": "69b7b9ba",
   "metadata": {},
   "source": [
    "### 5. How do you write a string of newlines if you don&#39;t want to use the n character?"
   ]
  },
  {
   "cell_type": "markdown",
   "id": "858d5a32",
   "metadata": {},
   "source": [
    "I will use triple-quotes to write a string of newlines instead of using the n character."
   ]
  },
  {
   "cell_type": "code",
   "execution_count": 14,
   "id": "20c2d36d",
   "metadata": {},
   "outputs": [
    {
     "name": "stdout",
     "output_type": "stream",
     "text": [
      "This is a line.\n",
      "It is a new line\n"
     ]
    }
   ],
   "source": [
    "new_line = \"\"\"This is a line.\n",
    "It is a new line\"\"\"\n",
    "\n",
    "print(new_line)"
   ]
  },
  {
   "cell_type": "markdown",
   "id": "c0aef112",
   "metadata": {},
   "source": [
    "### 6. What are the values of the given expressions?"
   ]
  },
  {
   "cell_type": "code",
   "execution_count": 15,
   "id": "8f811723",
   "metadata": {},
   "outputs": [
    {
     "data": {
      "text/plain": [
       "'e'"
      ]
     },
     "execution_count": 15,
     "metadata": {},
     "output_type": "execute_result"
    }
   ],
   "source": [
    "'hello, world!'[1]"
   ]
  },
  {
   "cell_type": "code",
   "execution_count": 16,
   "id": "84cb7cbf",
   "metadata": {},
   "outputs": [
    {
     "data": {
      "text/plain": [
       "'hello'"
      ]
     },
     "execution_count": 16,
     "metadata": {},
     "output_type": "execute_result"
    }
   ],
   "source": [
    "'hello, world!'[0:5]"
   ]
  },
  {
   "cell_type": "code",
   "execution_count": 17,
   "id": "d891359f",
   "metadata": {},
   "outputs": [
    {
     "data": {
      "text/plain": [
       "'hello'"
      ]
     },
     "execution_count": 17,
     "metadata": {},
     "output_type": "execute_result"
    }
   ],
   "source": [
    "'hello, world!'[:5]"
   ]
  },
  {
   "cell_type": "code",
   "execution_count": 18,
   "id": "2b4f29b0",
   "metadata": {},
   "outputs": [
    {
     "data": {
      "text/plain": [
       "'lo, world!'"
      ]
     },
     "execution_count": 18,
     "metadata": {},
     "output_type": "execute_result"
    }
   ],
   "source": [
    "'hello, world!'[3:]"
   ]
  },
  {
   "cell_type": "markdown",
   "id": "ca7c7600",
   "metadata": {},
   "source": [
    "### 7. What are the values of the following expressions?"
   ]
  },
  {
   "cell_type": "code",
   "execution_count": 19,
   "id": "82a8bc1f",
   "metadata": {},
   "outputs": [
    {
     "data": {
      "text/plain": [
       "'HELLO'"
      ]
     },
     "execution_count": 19,
     "metadata": {},
     "output_type": "execute_result"
    }
   ],
   "source": [
    "'Hello'.upper()"
   ]
  },
  {
   "cell_type": "code",
   "execution_count": 21,
   "id": "5c76c461",
   "metadata": {},
   "outputs": [
    {
     "data": {
      "text/plain": [
       "True"
      ]
     },
     "execution_count": 21,
     "metadata": {},
     "output_type": "execute_result"
    }
   ],
   "source": [
    "'Hello'.upper().isupper()"
   ]
  },
  {
   "cell_type": "code",
   "execution_count": 22,
   "id": "e0990439",
   "metadata": {},
   "outputs": [
    {
     "data": {
      "text/plain": [
       "'hello'"
      ]
     },
     "execution_count": 22,
     "metadata": {},
     "output_type": "execute_result"
    }
   ],
   "source": [
    "'Hello'.upper().lower()"
   ]
  },
  {
   "cell_type": "markdown",
   "id": "e59d0cfa",
   "metadata": {},
   "source": [
    "### 8. What are the values of the following expressions?"
   ]
  },
  {
   "cell_type": "code",
   "execution_count": 25,
   "id": "bc357816",
   "metadata": {},
   "outputs": [
    {
     "data": {
      "text/plain": [
       "['Remember,', 'remember,', 'the', 'fifth', 'of', 'July.']"
      ]
     },
     "execution_count": 25,
     "metadata": {},
     "output_type": "execute_result"
    }
   ],
   "source": [
    "'Remember, remember, the fifth of July.'.split()"
   ]
  },
  {
   "cell_type": "code",
   "execution_count": 26,
   "id": "b7fae65c",
   "metadata": {},
   "outputs": [
    {
     "data": {
      "text/plain": [
       "'There-can-only-one.'"
      ]
     },
     "execution_count": 26,
     "metadata": {},
     "output_type": "execute_result"
    }
   ],
   "source": [
    "'-'.join('There can only one.'.split())"
   ]
  },
  {
   "cell_type": "markdown",
   "id": "59db7207",
   "metadata": {},
   "source": [
    "### 9. What are the methods for right-justifying, left-justifying, and centering a string?"
   ]
  },
  {
   "cell_type": "markdown",
   "id": "1c3ceb00",
   "metadata": {},
   "source": [
    "right-justifyng = rjust()\n",
    "\n",
    "left-justifying = ljust()\n",
    "\n",
    "center-align = center()"
   ]
  },
  {
   "cell_type": "code",
   "execution_count": 27,
   "id": "b3fc1b50",
   "metadata": {},
   "outputs": [
    {
     "name": "stdout",
     "output_type": "stream",
     "text": [
      "Normal print is \n",
      "He loves playing football\n"
     ]
    }
   ],
   "source": [
    "s = \"He loves playing football\"\n",
    "\n",
    "print(f\"Normal print is \\n{s}\")"
   ]
  },
  {
   "cell_type": "code",
   "execution_count": 32,
   "id": "0641733a",
   "metadata": {},
   "outputs": [
    {
     "name": "stdout",
     "output_type": "stream",
     "text": [
      "-------------------------He loves playing football\n"
     ]
    }
   ],
   "source": [
    "#right-justifying print is\n",
    "print(s.rjust(50, '-')) #rjust(len, fillchar)"
   ]
  },
  {
   "cell_type": "code",
   "execution_count": 33,
   "id": "622b2e29",
   "metadata": {},
   "outputs": [
    {
     "name": "stdout",
     "output_type": "stream",
     "text": [
      "He loves playing football-------------------------\n"
     ]
    }
   ],
   "source": [
    "#left-justifying print is\n",
    "print(s.ljust(50, '-')) # ljust(len, fillchar)"
   ]
  },
  {
   "cell_type": "code",
   "execution_count": 35,
   "id": "27601613",
   "metadata": {},
   "outputs": [
    {
     "name": "stdout",
     "output_type": "stream",
     "text": [
      "------------He loves playing football-------------\n"
     ]
    }
   ],
   "source": [
    "# center align\n",
    "print(s.center(50, '-')) # center(len, fillchar)\n"
   ]
  },
  {
   "cell_type": "markdown",
   "id": "1dbad1f1",
   "metadata": {},
   "source": [
    "### 10. What is the best way to remove whitespace characters from the start or end?"
   ]
  },
  {
   "cell_type": "markdown",
   "id": "7b49ccea",
   "metadata": {},
   "source": [
    "We use .strip() method to remove whitespaced from the start and end."
   ]
  },
  {
   "cell_type": "code",
   "execution_count": 36,
   "id": "e78f7817",
   "metadata": {},
   "outputs": [
    {
     "name": "stdout",
     "output_type": "stream",
     "text": [
      "      Hello      World\n"
     ]
    }
   ],
   "source": [
    "a = \"      Hello     \"\n",
    "\n",
    "print(a, \"World\")"
   ]
  },
  {
   "cell_type": "code",
   "execution_count": 38,
   "id": "25a532e2",
   "metadata": {},
   "outputs": [
    {
     "name": "stdout",
     "output_type": "stream",
     "text": [
      "Hello World\n"
     ]
    }
   ],
   "source": [
    "print(a.strip(), \"World\") # .strip() method"
   ]
  },
  {
   "cell_type": "code",
   "execution_count": 39,
   "id": "1edd8879",
   "metadata": {},
   "outputs": [
    {
     "name": "stdout",
     "output_type": "stream",
     "text": [
      "Hello      World\n"
     ]
    }
   ],
   "source": [
    "# To remove whitespaces only from the start we can .lstrip()\n",
    "print(a.lstrip(), \"World\")"
   ]
  },
  {
   "cell_type": "code",
   "execution_count": 40,
   "id": "05202748",
   "metadata": {},
   "outputs": [
    {
     "name": "stdout",
     "output_type": "stream",
     "text": [
      "      Hello World\n"
     ]
    }
   ],
   "source": [
    "# To remove whitespaces only from the end we can .rstrip()\n",
    "print(a.rstrip(), \"World\")"
   ]
  },
  {
   "cell_type": "code",
   "execution_count": null,
   "id": "3ae23b2c",
   "metadata": {},
   "outputs": [],
   "source": []
  }
 ],
 "metadata": {
  "kernelspec": {
   "display_name": "Python 3 (ipykernel)",
   "language": "python",
   "name": "python3"
  },
  "language_info": {
   "codemirror_mode": {
    "name": "ipython",
    "version": 3
   },
   "file_extension": ".py",
   "mimetype": "text/x-python",
   "name": "python",
   "nbconvert_exporter": "python",
   "pygments_lexer": "ipython3",
   "version": "3.9.13"
  }
 },
 "nbformat": 4,
 "nbformat_minor": 5
}
