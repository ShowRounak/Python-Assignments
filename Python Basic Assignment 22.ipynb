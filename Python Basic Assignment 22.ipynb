{
 "cells": [
  {
   "cell_type": "markdown",
   "id": "70864acc",
   "metadata": {},
   "source": [
    "1. What is the result of the code, and explain?\n",
    "\n",
    "X = 'iNeuron'\n",
    "\n",
    "def func():\n",
    "    print(X)\n",
    "    \n",
    "func()"
   ]
  },
  {
   "cell_type": "markdown",
   "id": "e9b05aad",
   "metadata": {},
   "source": [
    "The above function will print the 'ineuron' as there is no local variable called X inside the function. Hence, it will call the global variable."
   ]
  },
  {
   "cell_type": "markdown",
   "id": "837311e6",
   "metadata": {},
   "source": [
    "-------------------"
   ]
  },
  {
   "cell_type": "markdown",
   "id": "534a519c",
   "metadata": {},
   "source": [
    "2. What is the result of the code, and explain?\n",
    "\n",
    "X = 'iNeuron'\n",
    "\n",
    "def func():\n",
    "    X = 'NI'\n",
    "    \n",
    "func()\n",
    "print(X)"
   ]
  },
  {
   "cell_type": "markdown",
   "id": "a1bcc8f4",
   "metadata": {},
   "source": [
    "The above code will print the 'ineuron'. Because, the code inside the function won't change the global X variable. It only creates a local variable named X inside the function."
   ]
  },
  {
   "cell_type": "markdown",
   "id": "3e4977d2",
   "metadata": {},
   "source": [
    "------------"
   ]
  },
  {
   "cell_type": "markdown",
   "id": "8b5aa4b2",
   "metadata": {},
   "source": [
    "3. What does this code print, and why?\n",
    "\n",
    "X = 'iNeuron'\n",
    "\n",
    "def func():\n",
    "    X = 'NI'\n",
    "    print(X)\n",
    "    \n",
    "func()\n",
    "print(X)"
   ]
  },
  {
   "cell_type": "markdown",
   "id": "f2be9216",
   "metadata": {},
   "source": [
    "First it will print the 'NI' from the local X variable. And after that, it will print 'iNeuron' of the global variable X."
   ]
  },
  {
   "cell_type": "markdown",
   "id": "7c2a4d50",
   "metadata": {},
   "source": [
    "----"
   ]
  },
  {
   "cell_type": "markdown",
   "id": "6ed06ae7",
   "metadata": {},
   "source": [
    "4. What output does this code produce? Why?\n",
    "\n",
    "X = 'iNeuron'\n",
    "def func():\n",
    "    global X \n",
    "    X = 'NI'\n",
    "    print(X)\n",
    "    \n",
    "func()\n",
    "print(X)"
   ]
  },
  {
   "cell_type": "markdown",
   "id": "95755b31",
   "metadata": {},
   "source": [
    "In this case, it will print 'NI' for both the cases. With the help of the global keyword we can access the global variable named X from the function."
   ]
  },
  {
   "cell_type": "markdown",
   "id": "01e8efdc",
   "metadata": {},
   "source": [
    "-------------"
   ]
  },
  {
   "cell_type": "markdown",
   "id": "a3e82b9a",
   "metadata": {},
   "source": [
    "5. What about this code—what’s the output, and why?\n",
    "\n",
    "X = 'iNeuron'\n",
    "def func():\n",
    "    X = 'NI'\n",
    "    def nested():\n",
    "        print(X)\n",
    "    nested()\n",
    "\n",
    "func()\n",
    "print(X)"
   ]
  },
  {
   "cell_type": "markdown",
   "id": "19ff84ea",
   "metadata": {},
   "source": [
    "The nested function will print the 'NI' of the enclosing variable X. And print(X) will print the 'iNeuron' of global variable X."
   ]
  },
  {
   "cell_type": "markdown",
   "id": "11e39fd9",
   "metadata": {},
   "source": [
    "----------"
   ]
  },
  {
   "cell_type": "markdown",
   "id": "a01df0bc",
   "metadata": {},
   "source": [
    "6. How about this code: what is its output in Python 3, and explain?\n",
    "    \n",
    "def func():\n",
    "    X = 'NI'\n",
    "    def nested():\n",
    "        nonlocal X\n",
    "        X = 'spam'\n",
    "    nested()\n",
    "    print(X)\n",
    "    \n",
    "func()"
   ]
  },
  {
   "cell_type": "markdown",
   "id": "6d513815",
   "metadata": {},
   "source": [
    "With the help of nonlocal keyword we can access the enclosing variable X. Hence, it will update the value of X. As a result, the above code will print 'spam' in the console."
   ]
  },
  {
   "cell_type": "code",
   "execution_count": null,
   "id": "f2d14fad",
   "metadata": {},
   "outputs": [],
   "source": []
  }
 ],
 "metadata": {
  "kernelspec": {
   "display_name": "Python 3 (ipykernel)",
   "language": "python",
   "name": "python3"
  },
  "language_info": {
   "codemirror_mode": {
    "name": "ipython",
    "version": 3
   },
   "file_extension": ".py",
   "mimetype": "text/x-python",
   "name": "python",
   "nbconvert_exporter": "python",
   "pygments_lexer": "ipython3",
   "version": "3.9.13"
  }
 },
 "nbformat": 4,
 "nbformat_minor": 5
}
