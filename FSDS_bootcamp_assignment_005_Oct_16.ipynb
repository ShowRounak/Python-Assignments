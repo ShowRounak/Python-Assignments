{
  "nbformat": 4,
  "nbformat_minor": 0,
  "metadata": {
    "colab": {
      "provenance": [],
      "collapsed_sections": []
    },
    "kernelspec": {
      "name": "python3",
      "display_name": "Python 3"
    },
    "language_info": {
      "name": "python"
    }
  },
  "cells": [
    {
      "cell_type": "markdown",
      "source": [
        "# ASSIGNMENTS \n",
        "## Send it before 0000 hrs IST or 12 AM Friday\n",
        "\n",
        "## NOTE: Evaluation will be done before next class.\n",
        "\n",
        "## HOW TO SUBMIT: -\n",
        "Download this notebook, Solve it and upload in the google form given in the mail."
      ],
      "metadata": {
        "id": "dkGbTD94s6CD"
      }
    },
    {
      "cell_type": "markdown",
      "source": [
        "# List, Tuple and Sets"
      ],
      "metadata": {
        "id": "n3FuI-mutNl6"
      }
    },
    {
      "cell_type": "markdown",
      "source": [
        "#### 1. On amazon website we have the following available items - \n",
        "\n",
        "```python\n",
        "amazon_website = [(\"watch\", 5000), (\"phone\", 10000), (\"laptop\", 50000), (\"shirt\", 1000)]\n",
        "```\n",
        "Take the user input N no. of times and find out the total cost to be paid?\n",
        "\n",
        "OR\n",
        "\n",
        "You can ask the user quntity or the count of item?\n",
        "\n",
        "if the item is not present in the amazon website then print that item as out of stock and do add it total\n",
        "\n",
        "\n",
        "HINT: while, for loop.. indexing"
      ],
      "metadata": {
        "id": "hZcGNSR2y9zW"
      }
    },
    {
      "cell_type": "code",
      "source": [
        "cart = []\n",
        "\n",
        "while True:\n",
        "    user_input = input(\"What you want to purchase [watch, phone, laptop, shirt]: \").lower()\n",
        "    if user_input:\n",
        "        cart.append(user_input)\n",
        "    else:\n",
        "        break\n",
        " \n",
        "print(f\"Your shopping cart: {cart}\")\n",
        "\n",
        "amazon_website = [(\"watch\", 5000), (\"phone\", 10000), (\"laptop\", 50000), (\"shirt\", 1000)]\n",
        "total = 0\n",
        "\n",
        "for item in amazon_website:\n",
        "    for ele in cart:\n",
        "        if item[0] == ele:\n",
        "            total = total + item[1]\n",
        "            print(f\"After adding {item[0]} which costs: {item[1]}, total amount is: {total}\")\n",
        "\n",
        "print(f\"Your total bill is: {total}\")"
      ],
      "metadata": {
        "colab": {
          "base_uri": "https://localhost:8080/"
        },
        "id": "eEJU3ZtB8A_0",
        "outputId": "79555201-2157-4aab-a857-bcbae54deb69"
      },
      "execution_count": 4,
      "outputs": [
        {
          "output_type": "stream",
          "name": "stdout",
          "text": [
            "What you want to purchase [watch, phone, laptop, shirt]: phone\n",
            "What you want to purchase [watch, phone, laptop, shirt]: watch\n",
            "What you want to purchase [watch, phone, laptop, shirt]: laptop\n",
            "What you want to purchase [watch, phone, laptop, shirt]: \n",
            "Your shopping cart: ['phone', 'watch', 'laptop']\n",
            "After adding watch which costs: 5000, total amount is: 5000\n",
            "After adding phone which costs: 10000, total amount is: 15000\n",
            "After adding laptop which costs: 50000, total amount is: 65000\n",
            "Your total bill is: 65000\n"
          ]
        }
      ]
    },
    {
      "cell_type": "markdown",
      "source": [
        "#### 2. What will be the output of the following code snippet?\n",
        "\n",
        "```\n",
        "arr = [1, 2, 3, 4, 5, 6]\n",
        "for i in range(1, 6):\n",
        "    arr[i - 1] = arr[i]\n",
        "for i in range(0, 6): \n",
        "    print(arr[i], end = \" \")\n",
        "```"
      ],
      "metadata": {
        "id": "FQrKC2gzzsUm"
      }
    },
    {
      "cell_type": "markdown",
      "source": [
        "2 3 4 5 6 6 \n",
        "\n",
        "### In each iteration of the first for loop, first element is getting replaced the by the next element. \n",
        "##### [2, 2, 3, 4, 5, 6] 1st iteration\n",
        "##### [2, 3, 3, 4, 5, 6] 2nd iteration\n",
        "##### [2, 3, 4, 4, 5, 6] 3rd iteration\n",
        "##### [2, 3, 4, 5, 5, 6] 4th iteration\n",
        "##### [2, 3, 4, 5, 6, 6] 5th iteration\n",
        "\n",
        "### And, the second for loop just print the elements of the modified list."
      ],
      "metadata": {
        "id": "NOQE_Io6P7qm"
      }
    },
    {
      "cell_type": "markdown",
      "source": [
        "#### 3. Write a Python program to find the repeated items of a tuple."
      ],
      "metadata": {
        "id": "nL_DZJFS0ZZF"
      }
    },
    {
      "cell_type": "code",
      "source": [
        "tup = (1,2,1,3,4,2,1,5,3)\n",
        "\n",
        "repeated_items = set()\n",
        "\n",
        "for i in tup:\n",
        "  if tup.count(i) > 1:\n",
        "    repeated_items.add(i)\n",
        "\n",
        "print(repeated_items)"
      ],
      "metadata": {
        "id": "C7s6AGjI_B6G",
        "colab": {
          "base_uri": "https://localhost:8080/"
        },
        "outputId": "95713163-8666-49b7-fc90-0637bc1803c8"
      },
      "execution_count": 5,
      "outputs": [
        {
          "output_type": "stream",
          "name": "stdout",
          "text": [
            "{1, 2, 3}\n"
          ]
        }
      ]
    },
    {
      "cell_type": "markdown",
      "source": [
        "### 4. Replace last value of tuples in a list with 500. Try using list comprehension\n",
        "\n",
        "Example -: \n",
        "```\n",
        "Input -:\n",
        "\n",
        "[(10, 20, 40), (40, 50, 60), (70, 80, 90)]\n",
        "\n",
        "Output -:\n",
        "[(10, 20, 500), (40, 50, 500), (70, 80, 500)]\n",
        "\n",
        "\n",
        "```\n"
      ],
      "metadata": {
        "id": "ne8WpLZZ1GSm"
      }
    },
    {
      "cell_type": "code",
      "source": [
        "l = [(10, 20, 40), (40, 50, 60), (70, 80, 90)]\n",
        "modified_list = []\n",
        "for item in l:\n",
        "  # print(item)\n",
        "  item = list(item)\n",
        "  item[-1] = 500\n",
        "  # print(item)\n",
        "  item = tuple(item)\n",
        "  modified_list.append(item)\n",
        "\n",
        "print(f\"Input list is: {l}\")\n",
        "print(f\"Output list is: {modified_list}\")"
      ],
      "metadata": {
        "id": "YpvH9Di21z-O",
        "colab": {
          "base_uri": "https://localhost:8080/"
        },
        "outputId": "e46a4996-7812-4fcd-d95b-cbd26c9bde6b"
      },
      "execution_count": 6,
      "outputs": [
        {
          "output_type": "stream",
          "name": "stdout",
          "text": [
            "Input list is: [(10, 20, 40), (40, 50, 60), (70, 80, 90)]\n",
            "Output list is: [(10, 20, 500), (40, 50, 500), (70, 80, 500)]\n"
          ]
        }
      ]
    },
    {
      "cell_type": "code",
      "source": [],
      "metadata": {
        "id": "s4_nLhkXTY_5"
      },
      "execution_count": null,
      "outputs": []
    }
  ]
}