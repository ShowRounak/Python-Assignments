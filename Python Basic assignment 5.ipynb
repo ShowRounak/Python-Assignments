{
 "cells": [
  {
   "cell_type": "markdown",
   "id": "aa3c236b-39f6-4929-b845-4a47969ae128",
   "metadata": {},
   "source": [
    "### 1. What does an empty dictionary&#39;s code look like?"
   ]
  },
  {
   "cell_type": "code",
   "execution_count": 1,
   "id": "1f675d53-a2fe-4095-9baf-7b6a3f69f41e",
   "metadata": {},
   "outputs": [],
   "source": [
    "empty_dict = {}"
   ]
  },
  {
   "cell_type": "markdown",
   "id": "b9d920b5-2a67-48bd-a50f-920737e38449",
   "metadata": {},
   "source": [
    "### 2. What is the value of a dictionary value with the key &#39;foo&#39; and the value 42?"
   ]
  },
  {
   "cell_type": "code",
   "execution_count": 2,
   "id": "60821f4b-3751-4c60-b5a3-33a0509fb8c0",
   "metadata": {},
   "outputs": [],
   "source": [
    "test_dict = {'foo' : 42}"
   ]
  },
  {
   "cell_type": "code",
   "execution_count": 3,
   "id": "3a716263-c279-4332-a6f0-c7eb9671a123",
   "metadata": {},
   "outputs": [
    {
     "data": {
      "text/plain": [
       "dict_values([42])"
      ]
     },
     "execution_count": 3,
     "metadata": {},
     "output_type": "execute_result"
    }
   ],
   "source": [
    "test_dict.values()"
   ]
  },
  {
   "cell_type": "markdown",
   "id": "76ebefa3-38f0-40f7-bd40-220a27f11c75",
   "metadata": {},
   "source": [
    "### 3. What is the most significant distinction between a dictionary and a list?"
   ]
  },
  {
   "cell_type": "markdown",
   "id": "8306c865-94e5-402e-bc06-458bf7e726bd",
   "metadata": {},
   "source": [
    "Dictionary contains data in key-value pairs. Whereas, a list contains only single values in a list format.\n",
    "\n",
    "Dictionary enclosed in curly-brackets {}. And List enclosed in sqaure-brackets []"
   ]
  },
  {
   "cell_type": "markdown",
   "id": "82488cce-c9ae-475c-b0ff-6280f35f1cb1",
   "metadata": {},
   "source": [
    "### 4. What happens if you try to access spam[&#39;foo&#39;] if spam is {&#39;bar&#39;: 100}?"
   ]
  },
  {
   "cell_type": "markdown",
   "id": "c3032fae-1512-422a-b28c-b30ac3e79f48",
   "metadata": {},
   "source": [
    "It will throw a key-error as the key 'foo' does not exist in the spam dictionary."
   ]
  },
  {
   "cell_type": "code",
   "execution_count": 4,
   "id": "96a895f7-8714-45fa-a6a0-fb252608d508",
   "metadata": {},
   "outputs": [],
   "source": [
    "spam = {'bar': 100}"
   ]
  },
  {
   "cell_type": "code",
   "execution_count": 5,
   "id": "936fc37f-1cdd-4dd6-9d38-84de0a3c99bf",
   "metadata": {},
   "outputs": [
    {
     "ename": "KeyError",
     "evalue": "'foo'",
     "output_type": "error",
     "traceback": [
      "\u001b[0;31m---------------------------------------------------------------------------\u001b[0m",
      "\u001b[0;31mKeyError\u001b[0m                                  Traceback (most recent call last)",
      "Cell \u001b[0;32mIn [5], line 1\u001b[0m\n\u001b[0;32m----> 1\u001b[0m \u001b[43mspam\u001b[49m\u001b[43m[\u001b[49m\u001b[38;5;124;43m'\u001b[39;49m\u001b[38;5;124;43mfoo\u001b[39;49m\u001b[38;5;124;43m'\u001b[39;49m\u001b[43m]\u001b[49m\n",
      "\u001b[0;31mKeyError\u001b[0m: 'foo'"
     ]
    }
   ],
   "source": [
    "spam['foo']"
   ]
  },
  {
   "cell_type": "markdown",
   "id": "01a2d927-4bf2-483b-b03e-a384c170a0d5",
   "metadata": {},
   "source": [
    "### 5. If a dictionary is stored in spam, what is the difference between the expressions &#39;cat&#39; in spam and &#39;cat&#39; in spam.keys()?"
   ]
  },
  {
   "cell_type": "markdown",
   "id": "f30a8740-d13f-411e-b6a8-4416db810be4",
   "metadata": {},
   "source": [
    "Both statement returns True as output."
   ]
  },
  {
   "cell_type": "code",
   "execution_count": 6,
   "id": "45e8f013-2d36-49f0-82b0-59c10a94e8b5",
   "metadata": {},
   "outputs": [],
   "source": [
    "spam = {'cat' : 101}"
   ]
  },
  {
   "cell_type": "code",
   "execution_count": 7,
   "id": "4470c8a6-edc8-401d-a34f-8acf252c60e8",
   "metadata": {},
   "outputs": [
    {
     "data": {
      "text/plain": [
       "True"
      ]
     },
     "execution_count": 7,
     "metadata": {},
     "output_type": "execute_result"
    }
   ],
   "source": [
    "'cat' in spam"
   ]
  },
  {
   "cell_type": "code",
   "execution_count": 8,
   "id": "725d4683-743b-4999-8acc-71fc6c7ea027",
   "metadata": {},
   "outputs": [
    {
     "data": {
      "text/plain": [
       "True"
      ]
     },
     "execution_count": 8,
     "metadata": {},
     "output_type": "execute_result"
    }
   ],
   "source": [
    "'cat' in spam.keys()"
   ]
  },
  {
   "cell_type": "markdown",
   "id": "e128fbec-2989-4c0e-8515-9092f703da7e",
   "metadata": {},
   "source": [
    "### 6. If a dictionary is stored in spam, what is the difference between the expressions &#39;cat&#39; in spam and &#39;cat&#39; in spam.values()?"
   ]
  },
  {
   "cell_type": "markdown",
   "id": "4090a7b0-7f25-4004-85bf-2748f105ba9a",
   "metadata": {},
   "source": [
    "'cat' in spam.values() will return False, as 'cat' is a key in the dictionary."
   ]
  },
  {
   "cell_type": "code",
   "execution_count": 9,
   "id": "2feba3b9-e895-4b09-9dbb-7421a8ef5abb",
   "metadata": {},
   "outputs": [],
   "source": [
    "spam = {'cat' : 101}"
   ]
  },
  {
   "cell_type": "code",
   "execution_count": 10,
   "id": "370f41b9-46f0-4504-b9bb-8ee3f55e882a",
   "metadata": {},
   "outputs": [
    {
     "data": {
      "text/plain": [
       "True"
      ]
     },
     "execution_count": 10,
     "metadata": {},
     "output_type": "execute_result"
    }
   ],
   "source": [
    "'cat' in spam"
   ]
  },
  {
   "cell_type": "code",
   "execution_count": 11,
   "id": "2700ffad-92fb-47c6-b6dc-a211f0cf0a35",
   "metadata": {},
   "outputs": [
    {
     "data": {
      "text/plain": [
       "False"
      ]
     },
     "execution_count": 11,
     "metadata": {},
     "output_type": "execute_result"
    }
   ],
   "source": [
    "'cat' in spam.values()"
   ]
  },
  {
   "cell_type": "markdown",
   "id": "a3ccdcbe-e393-4aec-9d04-610aec1eedcb",
   "metadata": {},
   "source": [
    "### 7. What is a shortcut for the following code?\n",
    "### if &#39;color&#39; not in spam:\n",
    "### spam[&#39;color&#39;] = &#39;black&#39;"
   ]
  },
  {
   "cell_type": "markdown",
   "id": "1e6ab138-e50e-4dd8-9aef-df1e22687a91",
   "metadata": {},
   "source": [
    "I will use setdefault method."
   ]
  },
  {
   "cell_type": "code",
   "execution_count": 36,
   "id": "aeec7923-6052-4137-8bf1-06601c6ba42c",
   "metadata": {},
   "outputs": [],
   "source": [
    "spam = {'cat' : 101, 'dog': 51, 'horse': 21}"
   ]
  },
  {
   "cell_type": "code",
   "execution_count": 37,
   "id": "95edbc2e-1e77-4443-bc01-fdb8e5796b8e",
   "metadata": {},
   "outputs": [
    {
     "data": {
      "text/plain": [
       "{'cat': 101, 'dog': 51, 'horse': 21}"
      ]
     },
     "execution_count": 37,
     "metadata": {},
     "output_type": "execute_result"
    }
   ],
   "source": [
    "spam"
   ]
  },
  {
   "cell_type": "code",
   "execution_count": 38,
   "id": "55c766c9-987d-4021-9e40-45cb22538aef",
   "metadata": {},
   "outputs": [
    {
     "data": {
      "text/plain": [
       "'black'"
      ]
     },
     "execution_count": 38,
     "metadata": {},
     "output_type": "execute_result"
    }
   ],
   "source": [
    "spam.setdefault('color', 'black')"
   ]
  },
  {
   "cell_type": "code",
   "execution_count": 39,
   "id": "372d9bff-a20a-4689-a204-e3883401fcf3",
   "metadata": {},
   "outputs": [
    {
     "data": {
      "text/plain": [
       "{'cat': 101, 'dog': 51, 'horse': 21, 'color': 'black'}"
      ]
     },
     "execution_count": 39,
     "metadata": {},
     "output_type": "execute_result"
    }
   ],
   "source": [
    "spam"
   ]
  },
  {
   "cell_type": "markdown",
   "id": "47d52f84-fb92-4958-a420-f37e5850f7a2",
   "metadata": {},
   "source": [
    "### 8. How do you &quot;pretty print&quot; dictionary values using which module and function?"
   ]
  },
  {
   "cell_type": "markdown",
   "id": "912efe19-472c-477e-83d9-a6a9a0c0e372",
   "metadata": {},
   "source": [
    "I can \"pretty print a dictionary\" using pprint module and pprint function."
   ]
  },
  {
   "cell_type": "code",
   "execution_count": 40,
   "id": "ed53f3c4-9b96-45fd-84f4-58159e803fd8",
   "metadata": {},
   "outputs": [],
   "source": [
    "import pprint"
   ]
  },
  {
   "cell_type": "code",
   "execution_count": 54,
   "id": "7ed35f2a-dbdc-4e2e-8fac-a9c0ef980831",
   "metadata": {},
   "outputs": [],
   "source": [
    "student_dic = {\n",
    "    'student1' : {'name' : 'Rounak', 'subject': 'DS', 'contact_no': 87887887},\n",
    "'student2': {'name' : 'Rudra', 'subject': 'Math', 'contact_no' : 87887887},\n",
    "'student3': {'name' : 'Arnab', 'subject': 'English', 'contact_no': 98975287}\n",
    "}"
   ]
  },
  {
   "cell_type": "code",
   "execution_count": 55,
   "id": "ba1d5a00-581e-4301-a995-445f518843a8",
   "metadata": {},
   "outputs": [
    {
     "name": "stdout",
     "output_type": "stream",
     "text": [
      "{'student1': {'name': 'Rounak', 'subject': 'DS', 'contact_no': 87887887}, 'student2': {'name': 'Rudra', 'subject': 'Math', 'contact_no': 87887887}, 'student3': {'name': 'Arnab', 'subject': 'English', 'contact_no': 98975287}}\n"
     ]
    }
   ],
   "source": [
    "print(student_dic)"
   ]
  },
  {
   "cell_type": "code",
   "execution_count": 56,
   "id": "2301c53c-84b2-4a48-a3eb-3a4baf052804",
   "metadata": {},
   "outputs": [
    {
     "name": "stdout",
     "output_type": "stream",
     "text": [
      "{'student1': {'contact_no': 87887887, 'name': 'Rounak', 'subject': 'DS'},\n",
      " 'student2': {'contact_no': 87887887, 'name': 'Rudra', 'subject': 'Math'},\n",
      " 'student3': {'contact_no': 98975287, 'name': 'Arnab', 'subject': 'English'}}\n"
     ]
    }
   ],
   "source": [
    "pprint.pprint(student_dic)"
   ]
  },
  {
   "cell_type": "code",
   "execution_count": null,
   "id": "9668c043-c8d6-4bb8-957e-bc7100bf464e",
   "metadata": {},
   "outputs": [],
   "source": []
  }
 ],
 "metadata": {
  "kernelspec": {
   "display_name": "Python 3 (ipykernel)",
   "language": "python",
   "name": "python3"
  },
  "language_info": {
   "codemirror_mode": {
    "name": "ipython",
    "version": 3
   },
   "file_extension": ".py",
   "mimetype": "text/x-python",
   "name": "python",
   "nbconvert_exporter": "python",
   "pygments_lexer": "ipython3",
   "version": "3.10.6"
  }
 },
 "nbformat": 4,
 "nbformat_minor": 5
}
