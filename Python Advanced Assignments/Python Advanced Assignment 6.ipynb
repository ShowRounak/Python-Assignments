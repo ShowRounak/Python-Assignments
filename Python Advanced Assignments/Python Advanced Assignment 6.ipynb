{
 "cells": [
  {
   "cell_type": "markdown",
   "id": "620d9967-8565-479e-aa33-03f48b5830b7",
   "metadata": {},
   "source": [
    "### Q1. Describe three applications for exception processing."
   ]
  },
  {
   "cell_type": "markdown",
   "id": "e11d5d4f-569b-4cdc-a3c1-e13f1beb59fa",
   "metadata": {},
   "source": [
    "- With exception processing we can prevent an programm from crashing\n",
    "- Error detection becomes easy.\n",
    "- With try-except-else-finally blocks, we can run codes with exceptions."
   ]
  },
  {
   "cell_type": "markdown",
   "id": "0b2062a3-6cd3-423b-b92d-5dc537f0dea7",
   "metadata": {},
   "source": [
    "### Q2. What happens if you don&#39;t do something extra to treat an exception?"
   ]
  },
  {
   "cell_type": "markdown",
   "id": "97ad13a4-3854-430c-95b6-62a189b9a247",
   "metadata": {},
   "source": [
    "The specific python program will crash."
   ]
  },
  {
   "cell_type": "markdown",
   "id": "71e8aa13-7fba-43ce-9548-dd3b805c3999",
   "metadata": {},
   "source": [
    "### Q3. What are your options for recovering from an exception in your script?"
   ]
  },
  {
   "cell_type": "markdown",
   "id": "1fd0b9d2-19e3-46cd-8931-dbe9902b6e27",
   "metadata": {},
   "source": [
    "We can use try-except block for exception handling."
   ]
  },
  {
   "cell_type": "markdown",
   "id": "ff1bca67-e0c5-4b3c-a5be-9d35a553abd8",
   "metadata": {},
   "source": [
    "### Q4. Describe two methods for triggering exceptions in your script."
   ]
  },
  {
   "cell_type": "markdown",
   "id": "c0c0015f-2586-461f-98bd-203d5d98a19e",
   "metadata": {},
   "source": [
    "- I can use the raise statement for triggering exceptions.\n",
    "- I can use the assert statement to make an assertion in Python. If the condition is True, then the program can continue. If the condition is False, then it will throw an AssertionError exception."
   ]
  },
  {
   "cell_type": "markdown",
   "id": "59ac8af1-ada7-4a77-9fa2-8daff83b9294",
   "metadata": {},
   "source": [
    "### Q5. Identify two methods for specifying actions to be executed at termination time, regardless of whether or not an exception exists."
   ]
  },
  {
   "cell_type": "markdown",
   "id": "b3135384-2ad8-461c-abf2-046c7d5f2106",
   "metadata": {},
   "source": [
    "- Using the finally block\n",
    "- Using atextit module"
   ]
  },
  {
   "cell_type": "code",
   "execution_count": null,
   "id": "c3a612f3-c63d-4cc6-8367-b5d0c67e897b",
   "metadata": {},
   "outputs": [],
   "source": []
  }
 ],
 "metadata": {
  "kernelspec": {
   "display_name": "Python 3 (ipykernel)",
   "language": "python",
   "name": "python3"
  },
  "language_info": {
   "codemirror_mode": {
    "name": "ipython",
    "version": 3
   },
   "file_extension": ".py",
   "mimetype": "text/x-python",
   "name": "python",
   "nbconvert_exporter": "python",
   "pygments_lexer": "ipython3",
   "version": "3.10.6"
  }
 },
 "nbformat": 4,
 "nbformat_minor": 5
}
