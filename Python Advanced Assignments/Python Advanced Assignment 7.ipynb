{
 "cells": [
  {
   "cell_type": "markdown",
   "id": "877125ff-2fd2-4041-bae1-9cb2c2d2ce00",
   "metadata": {},
   "source": [
    "### Q1. What is the purpose of the try statement?"
   ]
  },
  {
   "cell_type": "markdown",
   "id": "e682422e-63a3-4665-812e-cdfc7d7c37fe",
   "metadata": {},
   "source": [
    "\n",
    "The try statement in python is used to test a block of code for errors."
   ]
  },
  {
   "cell_type": "markdown",
   "id": "b153f55e-13db-4b58-9425-0511a6f59f8a",
   "metadata": {},
   "source": [
    "### Q2. What are the two most popular try statement variations?"
   ]
  },
  {
   "cell_type": "markdown",
   "id": "de50136f-d169-4ee6-96a0-a4ad5dea0695",
   "metadata": {},
   "source": [
    "Other than try, python also has else and finally block."
   ]
  },
  {
   "cell_type": "markdown",
   "id": "3c88bb30-d877-4235-8027-ca511aea7d10",
   "metadata": {},
   "source": [
    "### Q3. What is the purpose of the raise statement?"
   ]
  },
  {
   "cell_type": "markdown",
   "id": "9a6543f0-fda0-488f-a7d9-7c8eda21818d",
   "metadata": {},
   "source": [
    "The raise keyword is used to raise an exception."
   ]
  },
  {
   "cell_type": "markdown",
   "id": "9b07ad42-32da-4dee-9d14-d14a2b072fbf",
   "metadata": {},
   "source": [
    "### Q4. What does the assert statement do, and what other statement is it like?"
   ]
  },
  {
   "cell_type": "markdown",
   "id": "aa755207-f234-49d5-852d-ee69e73aa733",
   "metadata": {},
   "source": [
    "The assert statement tests a condition and triggers an error if the condition is not true.\n",
    "\n",
    "The assert statement is similar to a conditional if statement that raises an exception if the condition is not met "
   ]
  },
  {
   "cell_type": "markdown",
   "id": "68cc37f4-6a55-45a6-834d-11f385dcf200",
   "metadata": {},
   "source": [
    "### Q5. What is the purpose of the with/as argument, and what other statement is it like?"
   ]
  },
  {
   "cell_type": "markdown",
   "id": "773271ac-fea9-4319-a5d2-270ab07ec42e",
   "metadata": {},
   "source": [
    "The with statement is used to simplify the management of resources like file streams. It makes sure that the resource is properly released when the code using it is done, even if there are errors."
   ]
  },
  {
   "cell_type": "code",
   "execution_count": null,
   "id": "26a0ea21-9ddd-4f20-8dc7-1c3e6a4e39bc",
   "metadata": {},
   "outputs": [],
   "source": []
  }
 ],
 "metadata": {
  "kernelspec": {
   "display_name": "Python 3 (ipykernel)",
   "language": "python",
   "name": "python3"
  },
  "language_info": {
   "codemirror_mode": {
    "name": "ipython",
    "version": 3
   },
   "file_extension": ".py",
   "mimetype": "text/x-python",
   "name": "python",
   "nbconvert_exporter": "python",
   "pygments_lexer": "ipython3",
   "version": "3.10.6"
  }
 },
 "nbformat": 4,
 "nbformat_minor": 5
}
