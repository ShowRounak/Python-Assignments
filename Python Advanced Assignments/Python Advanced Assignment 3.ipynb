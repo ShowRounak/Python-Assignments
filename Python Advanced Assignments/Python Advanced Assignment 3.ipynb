{
 "cells": [
  {
   "cell_type": "markdown",
   "id": "4facd1ba-e1ca-4c42-b51c-7c6c74c260ab",
   "metadata": {},
   "source": [
    "### 1. What is the concept of an abstract superclass?"
   ]
  },
  {
   "cell_type": "markdown",
   "id": "81476ee4-e761-4698-9435-ddda008c17df",
   "metadata": {},
   "source": [
    "In Python's OOP, an abstract superclass is a class that cannot be instantiated and is meant to be subclassed by other classes.\n",
    "\n",
    "Abstract superclasses are useful for defining a general behavior or structure"
   ]
  },
  {
   "cell_type": "code",
   "execution_count": 4,
   "id": "81d9e75a-0f25-42c1-9dd3-718dda958cd7",
   "metadata": {},
   "outputs": [],
   "source": [
    "from abc import ABC, abstractmethod\n",
    "\n",
    "class test(ABC):\n",
    "    @abstractmethod\n",
    "    def func(self):\n",
    "        pass\n"
   ]
  },
  {
   "cell_type": "markdown",
   "id": "45551418-fe57-4552-b791-4bc692618f35",
   "metadata": {},
   "source": [
    "#### 2. What happens when a class statement&#39;s top level contains a basic assignment statement?"
   ]
  },
  {
   "cell_type": "markdown",
   "id": "7375f6fc-feb1-4c98-839b-49c4f940b3c7",
   "metadata": {},
   "source": [
    "In Python’s OOP, when a class statement’s top level contains a basic assignment statement, it creates a class attribute or class variable.\n",
    "\n",
    "Class attributes are shared by all instances of the class and can be accessed using either the class name or an instance of the class."
   ]
  },
  {
   "cell_type": "code",
   "execution_count": 5,
   "id": "439577de-0152-4e14-a166-1c50f25ad119",
   "metadata": {},
   "outputs": [],
   "source": [
    "class test1:\n",
    "    \n",
    "    a = \"hello\""
   ]
  },
  {
   "cell_type": "code",
   "execution_count": 6,
   "id": "30cb8418-f72d-416e-87e7-5836bb13cd1f",
   "metadata": {},
   "outputs": [
    {
     "name": "stdout",
     "output_type": "stream",
     "text": [
      "hello\n"
     ]
    }
   ],
   "source": [
    "print(test1.a)"
   ]
  },
  {
   "cell_type": "code",
   "execution_count": 8,
   "id": "a63578a6-77f5-4456-8dbf-de0bc8206cfb",
   "metadata": {},
   "outputs": [
    {
     "name": "stdout",
     "output_type": "stream",
     "text": [
      "hello\n"
     ]
    }
   ],
   "source": [
    "obj1 = test1()\n",
    "\n",
    "print(obj1.a)"
   ]
  },
  {
   "cell_type": "markdown",
   "id": "0e244027-7326-4de1-80d5-d2b46c68dc42",
   "metadata": {},
   "source": [
    "### 3. Why does a class need to manually call a superclass&#39;s __init__ method?"
   ]
  },
  {
   "cell_type": "raw",
   "id": "92cfa3c1-56e4-440d-a8df-853d97c26177",
   "metadata": {},
   "source": [
    "In Python’s OOP, a class may need to manually call its superclass’s __init__ method in order to ensure that the superclass’s initialization code is executed when an instance of the subclass is created.\n",
    "\n",
    "In order to ensure that the inherited instance variables are properly initialized, the subclass’s __init__ method may need to call the superclass’s __init__ method. This can be done using the super() function, which returns a temporary object of the superclass, allowing you to call its methods:"
   ]
  },
  {
   "cell_type": "code",
   "execution_count": 14,
   "id": "cf295510-002d-43ce-b110-1b055bbc1171",
   "metadata": {},
   "outputs": [],
   "source": [
    "class SuperClass:\n",
    "    def __init__(self):\n",
    "        self.x = 1\n",
    "\n",
    "class SubClass(SuperClass):\n",
    "    def __init__(self):\n",
    "        super().__init__()\n",
    "        self.y = 2"
   ]
  },
  {
   "cell_type": "markdown",
   "id": "412908c3-3fc5-4552-8845-43586eb279e0",
   "metadata": {},
   "source": [
    "### 4. How can you augment, instead of completely replacing, an inherited method?"
   ]
  },
  {
   "cell_type": "markdown",
   "id": "bd057a6b-4617-4973-87e6-07f6177e4133",
   "metadata": {},
   "source": [
    "In Python’s OOP, you can augment an inherited method by defining a new method with the same name in the subclass and calling the superclass’s method using the super() function. "
   ]
  },
  {
   "cell_type": "code",
   "execution_count": 15,
   "id": "9ed15eab-27cd-4c44-a7ec-26dbf4cc533b",
   "metadata": {},
   "outputs": [],
   "source": [
    "class SuperClass:\n",
    "    def method(self):\n",
    "        print(\"superclass method\")\n",
    "\n",
    "\n",
    "class SubClass(SuperClass):\n",
    "    def method(self):\n",
    "        super().method()\n",
    "        print(\"subclass method\")\n"
   ]
  },
  {
   "cell_type": "code",
   "execution_count": 17,
   "id": "0c83f832-4661-4667-af91-324f11b54398",
   "metadata": {},
   "outputs": [
    {
     "name": "stdout",
     "output_type": "stream",
     "text": [
      "superclass method\n"
     ]
    }
   ],
   "source": [
    "obj1 = SuperClass()\n",
    "obj1.method()"
   ]
  },
  {
   "cell_type": "code",
   "execution_count": 19,
   "id": "8c32e770-c88a-4c28-a974-31062c9f7b35",
   "metadata": {},
   "outputs": [
    {
     "name": "stdout",
     "output_type": "stream",
     "text": [
      "superclass method\n",
      "subclass method\n"
     ]
    }
   ],
   "source": [
    "obj2 = SubClass()\n",
    "obj2.method()"
   ]
  },
  {
   "cell_type": "markdown",
   "id": "26729b6e-60ff-4264-bb2c-1cab6ea7d110",
   "metadata": {},
   "source": [
    "### 5. How is the local scope of a class different from that of a function?"
   ]
  },
  {
   "cell_type": "markdown",
   "id": "11f58b71-d06d-4707-9d76-36656c137054",
   "metadata": {},
   "source": [
    "In a function, the local scope is created when the function is called and is destroyed when the function returns. In contrast, the local scope of a class is created when the class is defined and persists for the lifetime of the class."
   ]
  },
  {
   "cell_type": "code",
   "execution_count": null,
   "id": "46a99acf-9416-47f4-9a58-2716f6382e4a",
   "metadata": {},
   "outputs": [],
   "source": []
  }
 ],
 "metadata": {
  "kernelspec": {
   "display_name": "Python 3 (ipykernel)",
   "language": "python",
   "name": "python3"
  },
  "language_info": {
   "codemirror_mode": {
    "name": "ipython",
    "version": 3
   },
   "file_extension": ".py",
   "mimetype": "text/x-python",
   "name": "python",
   "nbconvert_exporter": "python",
   "pygments_lexer": "ipython3",
   "version": "3.10.6"
  }
 },
 "nbformat": 4,
 "nbformat_minor": 5
}
