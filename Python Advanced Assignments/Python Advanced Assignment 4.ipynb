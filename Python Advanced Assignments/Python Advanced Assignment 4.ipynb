{
 "cells": [
  {
   "cell_type": "markdown",
   "id": "ded72705-b42d-467f-b5c9-79d8680920b6",
   "metadata": {},
   "source": [
    "### Q1. Which two operator overloading methods can you use in your classes to support iteration?"
   ]
  },
  {
   "cell_type": "raw",
   "id": "22001f81-221e-49fc-a1e1-7a653b45c8cd",
   "metadata": {},
   "source": [
    "__iter__     and      __next__"
   ]
  },
  {
   "cell_type": "markdown",
   "id": "e993d30c-1d2e-458b-8983-76b9ef3f5077",
   "metadata": {},
   "source": [
    "### Q2. In what contexts do the two operator overloading methods manage printing?"
   ]
  },
  {
   "cell_type": "raw",
   "id": "7bdbebe4-7f1d-45fa-941d-0808f529934a",
   "metadata": {},
   "source": [
    "The __str__ method is called by the print function.\n",
    "\n",
    "The __repr__ method is called by the repr built-in function"
   ]
  },
  {
   "cell_type": "markdown",
   "id": "ced60a0f-fe7e-49e5-9eff-d4964c9ac0a0",
   "metadata": {},
   "source": [
    "### Q3. In a class, how do you intercept slice operations?"
   ]
  },
  {
   "cell_type": "raw",
   "id": "2762336c-eb64-4c68-ad4d-db1e42cefc92",
   "metadata": {},
   "source": [
    "In Python, I can intercept slice operations in a class by defining the __getitem__ and __setitem__ methods."
   ]
  },
  {
   "cell_type": "markdown",
   "id": "a99f8fac-183e-4781-90a3-be4074ca0cc3",
   "metadata": {},
   "source": [
    "### Q4. In a class, how do you capture in-place addition?"
   ]
  },
  {
   "cell_type": "raw",
   "id": "baf31eb5-5cff-46b6-94de-859e3acecbca",
   "metadata": {},
   "source": [
    "In Python, I can capture in-place addition in a class by defining the __iadd__ method."
   ]
  },
  {
   "cell_type": "markdown",
   "id": "d0870a47-ea9b-4271-8dd5-fbffd976e73c",
   "metadata": {},
   "source": [
    "### Q5. When is it appropriate to use operator overloading?"
   ]
  },
  {
   "cell_type": "raw",
   "id": "7b4a58cb-869e-40f8-bb8c-a7a4402647d0",
   "metadata": {},
   "source": [
    "If I am implementing a class to represent complex numbers, I will use the + operator to add two complex numbers together. Hence, I will define the __add__ method in my class, which will be called when the + operator is used with objects of the class."
   ]
  },
  {
   "cell_type": "code",
   "execution_count": null,
   "id": "dcb5ad42-7148-4e5b-a58b-80bf6a3a056f",
   "metadata": {},
   "outputs": [],
   "source": []
  },
  {
   "cell_type": "code",
   "execution_count": null,
   "id": "41bfdd0f-7906-4135-ab18-30e4cd485603",
   "metadata": {},
   "outputs": [],
   "source": []
  }
 ],
 "metadata": {
  "kernelspec": {
   "display_name": "Python 3 (ipykernel)",
   "language": "python",
   "name": "python3"
  },
  "language_info": {
   "codemirror_mode": {
    "name": "ipython",
    "version": 3
   },
   "file_extension": ".py",
   "mimetype": "text/x-python",
   "name": "python",
   "nbconvert_exporter": "python",
   "pygments_lexer": "ipython3",
   "version": "3.10.6"
  }
 },
 "nbformat": 4,
 "nbformat_minor": 5
}
