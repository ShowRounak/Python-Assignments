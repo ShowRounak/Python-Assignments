{
 "cells": [
  {
   "cell_type": "markdown",
   "id": "0bcb335f-b656-4e48-94cd-718432265f74",
   "metadata": {},
   "source": [
    "### Q1. What is the purpose of Python&#39;s OOP?"
   ]
  },
  {
   "cell_type": "markdown",
   "id": "cc2ba78d-9b5e-4991-b5cd-0ea16e92c2b8",
   "metadata": {},
   "source": [
    "The main purpose of OOP (Object Oriented Programming) is to do modular coding. It is reusable, and easier to maintain. Furthermore, we can create our own custom dataclasses with OOP."
   ]
  },
  {
   "cell_type": "markdown",
   "id": "c025985f-fd3f-493e-b6ef-99723a44350c",
   "metadata": {},
   "source": [
    "### Q2. Where does an inheritance search look for an attribute?"
   ]
  },
  {
   "cell_type": "markdown",
   "id": "048a4ba9-4744-4702-b172-22b5beb1606c",
   "metadata": {},
   "source": [
    "When an attribute is accessed on an object, the interpreter first looks for the attribute in the object's instance dictionary. If the attribute is not found there, it then looks for the attribute in the class dictionary. If the attribute is still not found, the interpreter looks for the attribute in the base classes of the object."
   ]
  },
  {
   "cell_type": "markdown",
   "id": "154185ba-bdf8-497b-b3b3-121322d317b1",
   "metadata": {},
   "source": [
    "### Q3. How do you distinguish between a class object and an instance object?"
   ]
  },
  {
   "cell_type": "markdown",
   "id": "9f6f0fe0-e60d-4cbc-9110-404479632ce8",
   "metadata": {},
   "source": [
    "A class object is the blueprint or template to create instance objects. It defines the attributes and methods that the instance objects will have. A class object is created using the class keyword.\n",
    "\n",
    "An instance object is a specific object that is created from a class object."
   ]
  },
  {
   "cell_type": "markdown",
   "id": "5b3f346a-00b7-4c35-9896-f0418e2aabbc",
   "metadata": {},
   "source": [
    "### Q4. What makes the first argument in a class’s method function special?"
   ]
  },
  {
   "cell_type": "markdown",
   "id": "3668d95b-d856-4025-93ca-a2d3d3942cc3",
   "metadata": {},
   "source": [
    "In Python, the first argument in a class's method function is conventionally named self. Instead of self, we can give any name we want. It refers to the instance object that the method is being called on.\n",
    "\n",
    "The self argument is what makes instance methods different from class methods or static methods. Instance methods are bound to the instance object, and they can access and modify its attributes."
   ]
  },
  {
   "cell_type": "markdown",
   "id": "0971ca48-0756-4b19-9884-269c69210310",
   "metadata": {},
   "source": [
    "### Q5. What is the purpose of the __init__ method?"
   ]
  },
  {
   "cell_type": "markdown",
   "id": "3c5dfbd1-15d3-485d-b51c-8cc9b2e43526",
   "metadata": {},
   "source": [
    "The __init__ method is a special method in Python classes that is called when an instance of the class is created. It is used to initialize the attributes of the instance object with default or user-specified values."
   ]
  },
  {
   "cell_type": "markdown",
   "id": "a80f9433-34f8-4ede-9646-d5a4f604e7d4",
   "metadata": {},
   "source": [
    "### Q6. What is the process for creating a class instance?"
   ]
  },
  {
   "cell_type": "code",
   "execution_count": 1,
   "id": "91c71f29-4de3-4698-9621-a5372a70c28c",
   "metadata": {},
   "outputs": [
    {
     "name": "stdout",
     "output_type": "stream",
     "text": [
      "1\n",
      "2\n"
     ]
    }
   ],
   "source": [
    "class Test: ## create a class with class keyword\n",
    "    \n",
    "    def __init__(self,a,b): #creating construction with self\n",
    "        self.a = a\n",
    "        self.b = b\n",
    "        \n",
    "obj = Test(1,2) #creating object of a class\n",
    "\n",
    "#printing object attributes\n",
    "\n",
    "print(obj.a)\n",
    "print(obj.b)"
   ]
  },
  {
   "cell_type": "markdown",
   "id": "d7c8a1ab-402c-426a-b651-81d4998a9669",
   "metadata": {},
   "source": [
    "### Q7. What is the process for creating a class?"
   ]
  },
  {
   "cell_type": "markdown",
   "id": "d67ba674-3bce-49f3-9c52-3df27033a793",
   "metadata": {},
   "source": [
    "we can create class with class keyword. After that, we can cretae attributes and methods."
   ]
  },
  {
   "cell_type": "markdown",
   "id": "0a984026-327f-4fd3-8b9d-d652293ff79b",
   "metadata": {},
   "source": [
    "### Q8. How would you define the superclasses of a class?"
   ]
  },
  {
   "cell_type": "code",
   "execution_count": 2,
   "id": "b558dc09-fad3-4a01-8733-62978d7437f8",
   "metadata": {},
   "outputs": [
    {
     "name": "stdout",
     "output_type": "stream",
     "text": [
      "This is a parent method.\n",
      "This is a child method.\n"
     ]
    }
   ],
   "source": [
    "class ParentClass:\n",
    "    \n",
    "    def method1(self):\n",
    "        print(\"This is a parent method.\")\n",
    "        \n",
    "\n",
    "class ChildClass(ParentClass):\n",
    "    \n",
    "    def method2(self):\n",
    "        print(\"This is a child method.\")\n",
    "\n",
    "obj = ChildClass()\n",
    "obj.method1()  # This is a parent method.\n",
    "obj.method2()  # This is a child method.\n"
   ]
  },
  {
   "cell_type": "code",
   "execution_count": null,
   "id": "ff741e46-17e1-4eb7-8ad4-562f6d48ce1a",
   "metadata": {},
   "outputs": [],
   "source": []
  }
 ],
 "metadata": {
  "kernelspec": {
   "display_name": "Python 3 (ipykernel)",
   "language": "python",
   "name": "python3"
  },
  "language_info": {
   "codemirror_mode": {
    "name": "ipython",
    "version": 3
   },
   "file_extension": ".py",
   "mimetype": "text/x-python",
   "name": "python",
   "nbconvert_exporter": "python",
   "pygments_lexer": "ipython3",
   "version": "3.10.6"
  }
 },
 "nbformat": 4,
 "nbformat_minor": 5
}
