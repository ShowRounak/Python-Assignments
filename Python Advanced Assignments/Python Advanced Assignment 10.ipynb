{
 "cells": [
  {
   "cell_type": "markdown",
   "id": "24c9c413-9b31-4318-aac1-d40640a9e88f",
   "metadata": {},
   "source": [
    "### Q1. What is the difference between __getattr__ and __getattribute__?"
   ]
  },
  {
   "cell_type": "markdown",
   "id": "8985edd6-41e5-4f88-9c47-202283d7ba6f",
   "metadata": {},
   "source": [
    "Python will call __getattr__ method whenever you request an attribute that hasn't already been defined.\n",
    "\n",
    "If you have __getattribute__ method in your class, python invokes this method for every attribute regardless whether it exists or not."
   ]
  },
  {
   "cell_type": "markdown",
   "id": "e83d1332-284b-4584-ac2f-6bdc375a4b96",
   "metadata": {},
   "source": [
    "### Q2. What is the difference between properties and descriptors?"
   ]
  },
  {
   "cell_type": "markdown",
   "id": "0b36b202-8ea0-43dd-8513-d10e266a07ca",
   "metadata": {},
   "source": [
    "A descriptor is a special kind of class attribute that implements a descriptor protocol.\n",
    "\n",
    "A property is simply a ready-made descriptor type that maps attribute access to getter and setter methods."
   ]
  },
  {
   "cell_type": "code",
   "execution_count": null,
   "id": "defe85d1-c2e1-45a7-a85f-11d6a700fd74",
   "metadata": {},
   "outputs": [],
   "source": []
  }
 ],
 "metadata": {
  "kernelspec": {
   "display_name": "Python 3 (ipykernel)",
   "language": "python",
   "name": "python3"
  },
  "language_info": {
   "codemirror_mode": {
    "name": "ipython",
    "version": 3
   },
   "file_extension": ".py",
   "mimetype": "text/x-python",
   "name": "python",
   "nbconvert_exporter": "python",
   "pygments_lexer": "ipython3",
   "version": "3.10.6"
  }
 },
 "nbformat": 4,
 "nbformat_minor": 5
}
