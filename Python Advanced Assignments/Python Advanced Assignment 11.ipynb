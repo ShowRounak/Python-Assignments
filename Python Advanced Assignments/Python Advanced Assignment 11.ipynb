{
 "cells": [
  {
   "cell_type": "markdown",
   "id": "9e2603c5-2232-4ad4-9c88-9ea95b190517",
   "metadata": {},
   "source": [
    "### Q1. What is the concept of a metaclass?"
   ]
  },
  {
   "cell_type": "markdown",
   "id": "1f29bd10-a2b0-4bfd-b8c0-4c0c67ac1dbb",
   "metadata": {},
   "source": [
    "A metaclass in Python is a class of a class that defines how a class behaves. A class is itself an instance of a metaclass."
   ]
  },
  {
   "cell_type": "markdown",
   "id": "e9e13d10-860e-41e4-ac7a-458c67af9527",
   "metadata": {},
   "source": [
    "### Q2. What is the best way to declare a class&#39;s metaclass?"
   ]
  },
  {
   "cell_type": "code",
   "execution_count": 2,
   "id": "53f0f217-9ee9-41f2-b428-b45584a23bf2",
   "metadata": {},
   "outputs": [],
   "source": [
    "class MyMeta(type):\n",
    "    pass\n",
    "\n",
    "class MyClass(metaclass=MyMeta):\n",
    "    pass\n",
    "\n",
    "class MySubclass(MyClass):\n",
    "    pass\n"
   ]
  },
  {
   "cell_type": "markdown",
   "id": "fed7f93e-e4f2-4707-8894-e317afb88a35",
   "metadata": {},
   "source": [
    "### Q3. How do class decorators overlap with metaclasses for handling classes?"
   ]
  },
  {
   "cell_type": "markdown",
   "id": "a4724623-f695-4605-9937-6eaae99830c5",
   "metadata": {},
   "source": [
    "Both metaclasses and class decorators can be used to modify the behavior of classes"
   ]
  },
  {
   "cell_type": "markdown",
   "id": "7267f805-6957-4cff-a794-a2e870ea3c2b",
   "metadata": {},
   "source": [
    "### Q4. How do class decorators overlap with metaclasses for handling instances?"
   ]
  },
  {
   "cell_type": "markdown",
   "id": "69e72fd9-f19d-4906-8d25-f3b197fb842f",
   "metadata": {},
   "source": [
    "Class decorators and metaclasses both manage instances of a class. Class decorators are more focused and easier to use for single-class modifications, while metaclasses can be used to manage instances of multiple classes."
   ]
  },
  {
   "cell_type": "code",
   "execution_count": null,
   "id": "01cc23f3-5985-48d0-9ce5-d682ef5a22f0",
   "metadata": {},
   "outputs": [],
   "source": []
  }
 ],
 "metadata": {
  "kernelspec": {
   "display_name": "Python 3 (ipykernel)",
   "language": "python",
   "name": "python3"
  },
  "language_info": {
   "codemirror_mode": {
    "name": "ipython",
    "version": 3
   },
   "file_extension": ".py",
   "mimetype": "text/x-python",
   "name": "python",
   "nbconvert_exporter": "python",
   "pygments_lexer": "ipython3",
   "version": "3.10.6"
  }
 },
 "nbformat": 4,
 "nbformat_minor": 5
}
