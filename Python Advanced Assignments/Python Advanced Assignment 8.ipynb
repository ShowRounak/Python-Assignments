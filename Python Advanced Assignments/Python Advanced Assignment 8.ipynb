{
 "cells": [
  {
   "cell_type": "markdown",
   "id": "07022422-2b98-4a00-8b11-e040c28e0b34",
   "metadata": {},
   "source": [
    "### Q1. What are the two latest user-defined exception constraints in Python 3.X?"
   ]
  },
  {
   "cell_type": "markdown",
   "id": "3d0b4934-d630-4318-97ca-7c7f52387a93",
   "metadata": {},
   "source": [
    "raise and assert are the two latest user-defined exception constraints in Python 3.X"
   ]
  },
  {
   "cell_type": "markdown",
   "id": "8f458bb0-9587-41c9-8055-36a0bcbd3453",
   "metadata": {},
   "source": [
    "### Q2. How are class-based exceptions that have been raised matched to handlers?"
   ]
  },
  {
   "cell_type": "markdown",
   "id": "1d8ef50a-ae49-4889-999e-b8d2479d38cf",
   "metadata": {},
   "source": [
    "When an exception is raised, Python searches for an exception handler by looking for an except statement that specifies the same exception class, or a superclass of the exception class, as the one that was raised"
   ]
  },
  {
   "cell_type": "markdown",
   "id": "117f495d-b802-4d7a-835a-6549ff81422d",
   "metadata": {},
   "source": [
    "### Q3. Describe two methods for attaching context information to exception artefacts."
   ]
  },
  {
   "cell_type": "markdown",
   "id": "bdf51d9d-0db9-4f21-b153-ea35e0af8ec1",
   "metadata": {},
   "source": [
    "The process() method of LoggerAdapter is where the contextual information is added to the logging output. its passes the message and keyword arguments of the logging call, and it passes back modified versions of these to use in the call to the underlying logger.\n",
    "\n",
    "Other method that can be used is exception(), Logs a messgae with level ERROR on this logger. The arguments are interpreted as for debug(). Exception info is added to the logging message."
   ]
  },
  {
   "cell_type": "markdown",
   "id": "ad0341ca-2426-4eab-9f38-2e5af698a9da",
   "metadata": {},
   "source": [
    "### Q4. Describe two methods for specifying the text of an exception object&#39;s error message."
   ]
  },
  {
   "cell_type": "markdown",
   "id": "af1da8c6-3af8-4422-bdca-5cc718ffabc5",
   "metadata": {},
   "source": [
    "raise and assert are two methods for specifying the text of an exception object's error message."
   ]
  },
  {
   "cell_type": "markdown",
   "id": "51137d79-7821-49ba-a829-38c47c591815",
   "metadata": {},
   "source": [
    "### Q5. Why do you no longer use string-based exceptions?"
   ]
  },
  {
   "cell_type": "markdown",
   "id": "9fea4d30-ee0b-4cc0-86f6-300adc749dee",
   "metadata": {},
   "source": [
    "String-based Exceptions doesn't inherit from Exceptions. so plain exceptions catch all exceptions and not only system."
   ]
  },
  {
   "cell_type": "code",
   "execution_count": null,
   "id": "e8ddd2be-4f20-4931-b92e-1a24af5a1eb3",
   "metadata": {},
   "outputs": [],
   "source": []
  }
 ],
 "metadata": {
  "kernelspec": {
   "display_name": "Python 3 (ipykernel)",
   "language": "python",
   "name": "python3"
  },
  "language_info": {
   "codemirror_mode": {
    "name": "ipython",
    "version": 3
   },
   "file_extension": ".py",
   "mimetype": "text/x-python",
   "name": "python",
   "nbconvert_exporter": "python",
   "pygments_lexer": "ipython3",
   "version": "3.10.6"
  }
 },
 "nbformat": 4,
 "nbformat_minor": 5
}
