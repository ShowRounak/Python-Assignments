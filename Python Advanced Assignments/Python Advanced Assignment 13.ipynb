{
 "cells": [
  {
   "cell_type": "markdown",
   "id": "25c9a141-3db6-4b4f-84e0-f19bdd557d68",
   "metadata": {},
   "source": [
    "### Q1. Can you create a programme or function that employs both positive and negative indexing? Is there any repercussion if you do so?"
   ]
  },
  {
   "cell_type": "markdown",
   "id": "971d95b8-ee6f-4b9e-b27e-1823a96e7286",
   "metadata": {},
   "source": [
    "We can create a program or function that uses both positive and negative indexing in Python."
   ]
  },
  {
   "cell_type": "code",
   "execution_count": 2,
   "id": "074f8f39-7b92-4730-b5a8-d85a0fb7f45a",
   "metadata": {},
   "outputs": [
    {
     "name": "stdout",
     "output_type": "stream",
     "text": [
      "3\n",
      "5\n"
     ]
    }
   ],
   "source": [
    "def get_element(lst, index):\n",
    "    if index >= 0:\n",
    "        return lst[index]\n",
    "    else:\n",
    "        return lst[len(lst) + index]\n",
    "\n",
    "my_list = [1, 2, 3, 4, 5]\n",
    "\n",
    "print(get_element(my_list, 2)) \n",
    "print(get_element(my_list, -1))\n"
   ]
  },
  {
   "cell_type": "markdown",
   "id": "858df140-fe13-4141-94c8-42cefaff6879",
   "metadata": {},
   "source": [
    "However, there can be some repercussions if you mix positive and negative indexing without proper handling. For example, if I try to access an element using an index that is out of range, it can lead to an IndexError. Therefore, it's important to handle both positive and negative indices appropriately to avoid such errors."
   ]
  },
  {
   "cell_type": "markdown",
   "id": "11aaeef3-5e8e-4b5f-9678-d8b726e75200",
   "metadata": {},
   "source": [
    "### Q2. What is the most effective way of starting with 1,000 elements in a Python list? Assume that all elements should be set to the same value."
   ]
  },
  {
   "cell_type": "code",
   "execution_count": 3,
   "id": "5437a756-d614-4932-891a-de0c6e97626b",
   "metadata": {},
   "outputs": [],
   "source": [
    "my_list = [0 for _ in range(1000)]\n"
   ]
  },
  {
   "cell_type": "markdown",
   "id": "060c59da-67b2-47cc-8fc1-88f1cf2694a2",
   "metadata": {},
   "source": [
    "### Q3. How do you slice a list to get any other part while missing the rest? (For example, suppose you want to make a new list with the elements first, third, fifth, seventh, and so on.)"
   ]
  },
  {
   "cell_type": "code",
   "execution_count": 12,
   "id": "22aff1c0-9222-46cf-b3b8-0a634098c86e",
   "metadata": {},
   "outputs": [
    {
     "data": {
      "text/plain": [
       "[1, 3, 5, 7, 9]"
      ]
     },
     "execution_count": 12,
     "metadata": {},
     "output_type": "execute_result"
    }
   ],
   "source": [
    "original_list = [1, 2, 3, 4, 5, 6, 7, 8, 9, 10]\n",
    "\n",
    "original_list[::2]"
   ]
  },
  {
   "cell_type": "markdown",
   "id": "aa3f8ead-2027-490e-8a25-06851ad0ab0f",
   "metadata": {},
   "source": [
    "### Q4. Explain the distinctions between indexing and slicing."
   ]
  },
  {
   "cell_type": "markdown",
   "id": "fd8535f4-e74e-479c-b842-21275790411a",
   "metadata": {},
   "source": [
    "\n",
    "Indexing refers to accessing a single element from a sequence based on its position or index. Whereas, Slicing refers to extracting a subset or a portion of elements from a sequence based on a range of indices.\n"
   ]
  },
  {
   "cell_type": "markdown",
   "id": "26cc1f3c-24d6-46d3-b66e-83c246ad8c75",
   "metadata": {},
   "source": [
    "### Q5. What happens if one of the slicing expression&#39;s indexes is out of range?"
   ]
  },
  {
   "cell_type": "markdown",
   "id": "d7a543b2-3951-47af-b76c-10ef86d3469c",
   "metadata": {},
   "source": [
    "If one of the indexes in a slicing expression is out of range, Python handles it and returns the valid portion of the sequence."
   ]
  },
  {
   "cell_type": "code",
   "execution_count": 14,
   "id": "ae66e1f4-67eb-4924-a5fe-255b5dcf17a1",
   "metadata": {},
   "outputs": [
    {
     "data": {
      "text/plain": [
       "'Hello Python'"
      ]
     },
     "execution_count": 14,
     "metadata": {},
     "output_type": "execute_result"
    }
   ],
   "source": [
    "s = \"Hello Python\"\n",
    "\n",
    "s[:100]"
   ]
  },
  {
   "cell_type": "markdown",
   "id": "e05dc333-7b04-45d7-8088-8790836b254c",
   "metadata": {},
   "source": [
    "### Q6. If you pass a list to a function, and if you want the function to be able to change the values of the list—so that the list is different after the function returns—what action should you avoid?"
   ]
  },
  {
   "cell_type": "markdown",
   "id": "29165cf5-6471-4439-9b6c-ad00a8698ea2",
   "metadata": {},
   "source": [
    "If you want a function to be able to change the values of a list that is passed to it, you should avoid reassigning the list parameter to a new list inside the function. This will create a new local variable that is separate from the original list, and any modifications made to the new list will not affect the original list. Instead, you should modify the elements of the list directly or use methods that modify the list in place."
   ]
  },
  {
   "cell_type": "markdown",
   "id": "0ea7f37f-a619-4479-a1b8-07bd5d082d29",
   "metadata": {},
   "source": [
    "### Q7. What is the concept of an unbalanced matrix?"
   ]
  },
  {
   "cell_type": "markdown",
   "id": "bbd038a1-ce9a-45cb-99e7-0854d7ff8e89",
   "metadata": {},
   "source": [
    "An unbalanced matrix refers to a matrix that is not square, meaning it does not have an equal number of rows and columns."
   ]
  },
  {
   "cell_type": "markdown",
   "id": "b1ca2f63-7cdf-4341-b885-d826f51b9d86",
   "metadata": {},
   "source": [
    "### Q8. Why is it necessary to use either list comprehension or a loop to create arbitrarily large matrices?"
   ]
  },
  {
   "cell_type": "markdown",
   "id": "c7d979af-39a1-4167-88bc-3c106044ed9c",
   "metadata": {},
   "source": [
    "When creating a matrix, you need to specify the number of rows and columns. If you want to create a large matrix with many rows and columns, you would need to use a loop or list comprehension to generate the matrix. This is because manually typing out each element of the matrix would be impractical and time-consuming."
   ]
  },
  {
   "cell_type": "code",
   "execution_count": null,
   "id": "3737c544-6357-4986-9233-9ffdbc82a4dc",
   "metadata": {},
   "outputs": [],
   "source": []
  }
 ],
 "metadata": {
  "kernelspec": {
   "display_name": "Python 3 (ipykernel)",
   "language": "python",
   "name": "python3"
  },
  "language_info": {
   "codemirror_mode": {
    "name": "ipython",
    "version": 3
   },
   "file_extension": ".py",
   "mimetype": "text/x-python",
   "name": "python",
   "nbconvert_exporter": "python",
   "pygments_lexer": "ipython3",
   "version": "3.10.6"
  }
 },
 "nbformat": 4,
 "nbformat_minor": 5
}
