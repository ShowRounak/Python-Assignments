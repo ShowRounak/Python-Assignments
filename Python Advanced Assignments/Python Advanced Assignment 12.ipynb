{
 "cells": [
  {
   "cell_type": "markdown",
   "id": "efd3a1f2-055d-43aa-a2f1-423b4e36bc79",
   "metadata": {},
   "source": [
    "### Q1. Does assigning a value to a string&#39;s indexed character violate Python&#39;s string immutability?"
   ]
  },
  {
   "cell_type": "markdown",
   "id": "29e7d33c-1896-4ce6-98c3-20b092dbf1f3",
   "metadata": {},
   "source": [
    "Yes\n",
    "\n",
    "For Example:"
   ]
  },
  {
   "cell_type": "code",
   "execution_count": 1,
   "id": "c5c95984-d120-4ee5-950a-46546c042a4f",
   "metadata": {},
   "outputs": [
    {
     "ename": "TypeError",
     "evalue": "'str' object does not support item assignment",
     "output_type": "error",
     "traceback": [
      "\u001b[0;31m---------------------------------------------------------------------------\u001b[0m",
      "\u001b[0;31mTypeError\u001b[0m                                 Traceback (most recent call last)",
      "Cell \u001b[0;32mIn [1], line 2\u001b[0m\n\u001b[1;32m      1\u001b[0m s \u001b[38;5;241m=\u001b[39m \u001b[38;5;124m\"\u001b[39m\u001b[38;5;124mhello\u001b[39m\u001b[38;5;124m\"\u001b[39m\n\u001b[0;32m----> 2\u001b[0m \u001b[43ms\u001b[49m\u001b[43m[\u001b[49m\u001b[38;5;241;43m0\u001b[39;49m\u001b[43m]\u001b[49m \u001b[38;5;241m=\u001b[39m \u001b[38;5;124m\"\u001b[39m\u001b[38;5;124mH\u001b[39m\u001b[38;5;124m\"\u001b[39m\n",
      "\u001b[0;31mTypeError\u001b[0m: 'str' object does not support item assignment"
     ]
    }
   ],
   "source": [
    "s = \"hello\"\n",
    "s[0] = \"H\""
   ]
  },
  {
   "cell_type": "markdown",
   "id": "eb5cb126-1a12-45bf-bec9-a2583a0695ca",
   "metadata": {},
   "source": [
    "### Q2. Does using the += operator to concatenate strings violate Python&#39;s string immutability? Why or why not?"
   ]
  },
  {
   "cell_type": "markdown",
   "id": "b5281024-4136-4d3b-8306-a5906f0c1ba8",
   "metadata": {},
   "source": [
    "No. It actually creates a new string object"
   ]
  },
  {
   "cell_type": "markdown",
   "id": "ccbc9c32-5df7-4f1e-ab45-6360bf4f97f7",
   "metadata": {},
   "source": [
    "### Q3. In Python, how many different ways are there to index a character?"
   ]
  },
  {
   "cell_type": "markdown",
   "id": "36e38f34-90e2-4122-b9b4-9bfe872c99db",
   "metadata": {},
   "source": [
    "Two ways:\n",
    "- Positive Indexing\n",
    "- negative Indexing\n"
   ]
  },
  {
   "cell_type": "markdown",
   "id": "d2c1115a-7141-4e36-baf7-5282c317d40f",
   "metadata": {},
   "source": [
    "### Q4. What is the relationship between indexing and slicing?"
   ]
  },
  {
   "cell_type": "markdown",
   "id": "52135ebb-e28b-435e-9e12-92df1cd8ad98",
   "metadata": {},
   "source": [
    "Indexing is used to access a single character in a string, while slicing is used to access a range of characters (a substring) in a string."
   ]
  },
  {
   "cell_type": "markdown",
   "id": "673d8951-4e7a-4662-b173-134d1b21239d",
   "metadata": {},
   "source": [
    "### Q5. What is an indexed character&#39;s exact data type? What is the data form of a slicing-generated substring?"
   ]
  },
  {
   "cell_type": "markdown",
   "id": "bc7a780a-265f-40eb-be5f-bc3ae6a94e8d",
   "metadata": {},
   "source": [
    "Both an indexed character and a slicing-generated substring are strings in Python."
   ]
  },
  {
   "cell_type": "markdown",
   "id": "58856d9b-da7d-4bd7-a8dd-ca59e86167bf",
   "metadata": {},
   "source": [
    "### Q6. What is the relationship between string and character &quot;types&quot; in Python?"
   ]
  },
  {
   "cell_type": "markdown",
   "id": "3613599b-212c-44ff-a1ae-ccf7032671cd",
   "metadata": {},
   "source": [
    "Both are string"
   ]
  },
  {
   "cell_type": "markdown",
   "id": "ec6b85cf-affe-41c5-b80f-4bca9de27277",
   "metadata": {},
   "source": [
    "### Q7. Identify at least two operators and one method that allow you to combine one or more smaller strings to create a larger string."
   ]
  },
  {
   "cell_type": "markdown",
   "id": "4073e87c-9d76-444b-8cab-d309881a0674",
   "metadata": {},
   "source": [
    "- '+' Plus Operator\n",
    "- += Plus-equalto operator\n",
    "- join method"
   ]
  },
  {
   "cell_type": "markdown",
   "id": "19bd3ff3-0766-40c1-8f87-fbd843a632ba",
   "metadata": {},
   "source": [
    "### Q8. What is the benefit of first checking the target string with in or not in before using the index method to find a substring?"
   ]
  },
  {
   "cell_type": "markdown",
   "id": "8adde98c-c353-4fbf-8d9b-03af4302097a",
   "metadata": {},
   "source": [
    "The benefit of first checking if a substring is present in the target string using the in or not in operators before using the index() method is that it can help you avoid a ValueError. The index() method raises a ValueError if the specified substring is not found in the target string. By first checking if the substring is present using the in or not in operators, you can avoid this error and handle the case where the substring is not found more gracefully."
   ]
  },
  {
   "cell_type": "markdown",
   "id": "6a6e47fe-4050-4a68-901d-72f884ae94ed",
   "metadata": {},
   "source": [
    "### Q9. Which operators and built-in string methods produce simple Boolean (true/false) results?"
   ]
  },
  {
   "cell_type": "markdown",
   "id": "e0554e3e-5709-45bc-a275-01cdb9517cae",
   "metadata": {},
   "source": [
    "- in and not in operators\n",
    "- startswith() and endswith() method"
   ]
  },
  {
   "cell_type": "code",
   "execution_count": null,
   "id": "1c43b057-2f49-4fc6-a273-77ffd8e0f2ac",
   "metadata": {},
   "outputs": [],
   "source": []
  }
 ],
 "metadata": {
  "kernelspec": {
   "display_name": "Python 3 (ipykernel)",
   "language": "python",
   "name": "python3"
  },
  "language_info": {
   "codemirror_mode": {
    "name": "ipython",
    "version": 3
   },
   "file_extension": ".py",
   "mimetype": "text/x-python",
   "name": "python",
   "nbconvert_exporter": "python",
   "pygments_lexer": "ipython3",
   "version": "3.10.6"
  }
 },
 "nbformat": 4,
 "nbformat_minor": 5
}
