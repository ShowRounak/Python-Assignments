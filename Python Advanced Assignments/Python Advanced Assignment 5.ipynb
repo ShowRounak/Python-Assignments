{
 "cells": [
  {
   "cell_type": "markdown",
   "id": "f111763a-f743-4c66-a33d-26cc9d6aa932",
   "metadata": {},
   "source": [
    "### Q1. What is the meaning of multiple inheritance?"
   ]
  },
  {
   "cell_type": "markdown",
   "id": "d4a74dc5-ad27-4c59-b94c-f9e4094eb7b5",
   "metadata": {},
   "source": [
    "In multiple inheritence, when we derived a child class from the parent class, the derived child class can inherit all the features of the parent class."
   ]
  },
  {
   "cell_type": "markdown",
   "id": "e87010e0-32a8-4505-be66-56a29b0be52d",
   "metadata": {},
   "source": [
    "### Q2. What is the concept of delegation?"
   ]
  },
  {
   "cell_type": "markdown",
   "id": "a0d79d98-9484-43df-9f0a-09c77d6b04df",
   "metadata": {},
   "source": [
    "With delegation we can reuse same methods in different classes."
   ]
  },
  {
   "cell_type": "markdown",
   "id": "0a8da183-a26f-4ebd-98ab-49395af9783b",
   "metadata": {},
   "source": [
    "### Q3. What is the concept of composition?"
   ]
  },
  {
   "cell_type": "markdown",
   "id": "e2cadc99-04d1-4025-b4a7-0cdb3f60e46b",
   "metadata": {},
   "source": [
    "Composition is a concept in Python’s Object-Oriented Programming (OOP) that allows you to build complex objects by combining simpler, independent objects."
   ]
  },
  {
   "cell_type": "markdown",
   "id": "a31a34bc-356c-4bf3-9cac-85e787134860",
   "metadata": {},
   "source": [
    "### Q4. What are bound methods and how do we use them?"
   ]
  },
  {
   "cell_type": "markdown",
   "id": "b82e5e6f-2d04-4378-90db-7144fce9f3e6",
   "metadata": {},
   "source": [
    "A bound method is a method that is associated with an instance of a class, rather than the class itself. This means that when you call a bound method, the first argument passed to the method is the instance on which the method was called"
   ]
  },
  {
   "cell_type": "markdown",
   "id": "6cdb3b41-c996-4318-9624-22c9b941c9c7",
   "metadata": {},
   "source": [
    "### Q5. What is the purpose of pseudoprivate attributes?"
   ]
  },
  {
   "cell_type": "markdown",
   "id": "f639d0db-1ff7-429e-8d5d-4b6c5a7a0fe2",
   "metadata": {},
   "source": [
    "Pseudoprivate attributes are a feature in Python’s Object-Oriented Programming (OOP) that allows you to prevent name clashes in child classes by using a naming convention for attributes and methods. By adding a double underscore __ prefix to an attribute or method name, you can make it “private” to the class it is defined in"
   ]
  },
  {
   "cell_type": "code",
   "execution_count": null,
   "id": "e92946d7-275e-43b7-acfc-9897c78a75f4",
   "metadata": {},
   "outputs": [],
   "source": []
  }
 ],
 "metadata": {
  "kernelspec": {
   "display_name": "Python 3 (ipykernel)",
   "language": "python",
   "name": "python3"
  },
  "language_info": {
   "codemirror_mode": {
    "name": "ipython",
    "version": 3
   },
   "file_extension": ".py",
   "mimetype": "text/x-python",
   "name": "python",
   "nbconvert_exporter": "python",
   "pygments_lexer": "ipython3",
   "version": "3.10.6"
  }
 },
 "nbformat": 4,
 "nbformat_minor": 5
}
