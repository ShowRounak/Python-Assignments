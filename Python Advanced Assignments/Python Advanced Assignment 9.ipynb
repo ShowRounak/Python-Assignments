{
 "cells": [
  {
   "cell_type": "markdown",
   "id": "7708bb2b-6069-46af-92e0-c0359df15b8d",
   "metadata": {},
   "source": [
    "### Q1. In Python 3.X, what are the names and functions of string object types?"
   ]
  },
  {
   "cell_type": "markdown",
   "id": "4942ec71-c61b-42b0-b9c8-a45e7fff6471",
   "metadata": {},
   "source": [
    "<stirng>.isdecimal() -> Returns True if all characters in a string are decimal.\n",
    "    \n",
    "<string>.isalnum() -> Returns True if all characters in the string are AlphaNumeric.\n",
    "    \n",
    "<string>.istitle() -> Returns True if first character in a string is in Uppercase.\n",
    "    \n",
    "<string>.partition(<sub_string>) -> Splits string at first occurance of sub string and returns a tuple of 3 elements.\n",
    "    \n",
    "<string>.rpartition(<sub_string>) -> Splits string at last occurance of sub string and returns a tuple of 3 elements.\n",
    "    \n",
    "<string>.isidentifier() -> Returns True if give string is a valid identifier name.\n",
    "    \n",
    "len(<string>) -> Returns the length of the given string.\n",
    "    \n",
    "<string>.index(<sub_string>) -> Returns the lowest index of substring if substring is found in the string.\n",
    "    \n",
    "<string>.rindex(<sub_string>) -> Returns the highest index of substring if substring is found in the string.\n",
    "    \n",
    "max(<string>) -> Returns the highest Alphabetical Character in the string as per ASCII.\n",
    "    \n",
    "min(<string>) -> Returns the lowest Alphabetical Character in the string as per ASCII.\n",
    "    \n",
    "<string>.splitlines() -> Returns a list of lines in the string.\n",
    "    \n",
    "<string>.capitalize() -> Returns the string with first character capitalized.\n",
    "    \n",
    "<string>.upper() -> Returns the string with all characters in uppercase.\n",
    "    \n",
    "<string>.lower() -> Returns the string with all characters in lowercase\n",
    "    \n",
    "<string>.casefold() -> Returns the string in lowercase which can be used for caseless comparisions.\n",
    "    \n",
    "<string>.expandtabs(no_of_spaces) -> Replaces tabs in a string with specified no of spaces default is 8\n",
    "    \n",
    "<string>.find(<sub_string>) -> Returns lowest index of substring if substring is found in the string else returns -1.\n",
    "    \n",
    "<string>.rfind(<sub_string>) -> Returns highest index of substring if substring is found in the string else returns -1.\n",
    "    \n",
    "<string>.count(<char>) -> Returns the no of occurances of the char in the given string.\n",
    "    \n",
    "<string>.split(<sep>) -> Returns list of words seperated by given sep else seperated by whitespace.\n",
    "    \n",
    "<string>.rsplit(<sep>) -> Returns list of words seperated by given sep else seperated by whitespace scanning from end.\n",
    "    \n",
    "<string>.lstrip() -> Returns a copy of where leading whitespaces are removed.\n",
    "    \n",
    "<string>.rstrip() -> Returns a copy of where trailed whitespaces are removed.\n",
    "    \n",
    "<string>.strip() -> Returns a copy of where both leading and trailing whitespaces are removed.\n",
    "    \n",
    "<string>.swapcase() -> Swaps lowercase characters with uppercase and vice versa.\n",
    "    \n",
    "<sep>.join(<list>) -> Concatenates a list or tuple of words with intervening occuernces of sep.\n",
    "    \n",
    "<string>.translate(<mapping_table>) -> translates the characters using table.\n",
    "    \n",
    "<string>.maketrans(<dict>) -> Creating a mapping translation tbale usable for <string>.translate(<mapping_table>)\n",
    "    \n",
    "<string>.replace(<char_1>,<char_2>) -> Replace all occurances of char_1 with char_2 in string.\n",
    "    \n",
    "<string>.encode() -> Encodes string into any encoding supported by python. Default encoding is UTF-8.\n",
    "    \n",
    "<string>.ljust(<no_of_spaces>) -> Left-justify in a field of given width.\n",
    "    \n",
    "<string>.rjust(<no_of_spaces>) -> Right-justify in a field of given width.\n",
    "    \n",
    "<string>.center(<no_of_spaces>) -> Center-justify in a field of given width.\n",
    "    \n",
    "<stirng>.zfill(<length>) -> Zfill adds zeros to the begining of string until the specified length is reached\n",
    "    ."
   ]
  },
  {
   "cell_type": "markdown",
   "id": "d6718809-06b5-4af4-81fb-36c7ffdcbf53",
   "metadata": {},
   "source": [
    "### Q2. How do the string forms in Python 3.X vary in terms of operations?"
   ]
  },
  {
   "cell_type": "markdown",
   "id": "697ba443-4fc2-416c-ae15-957f7cfe9f57",
   "metadata": {},
   "source": [
    "In Python3 default format of strings is Unicode"
   ]
  },
  {
   "cell_type": "markdown",
   "id": "5c96952b-b4df-4653-9379-8bc33861f17e",
   "metadata": {},
   "source": [
    "### Q3. In 3.X, how do you put non-ASCII Unicode characters in a string?"
   ]
  },
  {
   "cell_type": "markdown",
   "id": "9c969ea7-fbec-4dbb-beee-cad08995277f",
   "metadata": {},
   "source": [
    "In Python 3.x unidecode() method from unidecode library can be used to put non-ASCII Unicode Characters in a string."
   ]
  },
  {
   "cell_type": "markdown",
   "id": "d5d15bff-cbc9-4a3d-a2cc-4f893e10866e",
   "metadata": {},
   "source": [
    "### Q4. In Python 3.X, what are the key differences between text-mode and binary-mode files?"
   ]
  },
  {
   "cell_type": "markdown",
   "id": "63f21b82-434e-4243-a07e-bc4692ba3010",
   "metadata": {},
   "source": [
    "The major difference between these two is that a text file contains textual information in the form of alphabets, digits and special characters or symbols. On the other hand, a binary file contains bytes or a compiled version of a text file."
   ]
  },
  {
   "cell_type": "markdown",
   "id": "a72cefcb-f968-4997-af55-f4d38c62f70e",
   "metadata": {},
   "source": [
    "#### Q5. How can you interpret a Unicode text file containing text encoded in a different encoding than you can use the open() function with the encoding parameter to specify the encoding of the fileyour platform&#39;s default?"
   ]
  },
  {
   "cell_type": "markdown",
   "id": "bb7d1594-3ffe-4020-9137-bc4d45d4d187",
   "metadata": {},
   "source": [
    "We can use the open() function with the encoding parameter to specify the encoding of the file"
   ]
  },
  {
   "cell_type": "markdown",
   "id": "f8c78838-8334-462f-9ee1-140e4938ea01",
   "metadata": {},
   "source": [
    "### Q6. What is the best way to make a Unicode text file in a particular encoding format?"
   ]
  },
  {
   "cell_type": "markdown",
   "id": "5bb5ef90-bbbb-4d2f-87e8-0342deb0c603",
   "metadata": {},
   "source": [
    "To create a Unicode text file in a particular encoding format, we can use the open() function with the encoding parameter to specify the desired encoding."
   ]
  },
  {
   "cell_type": "markdown",
   "id": "4f5ea105-4d16-4047-aa70-4b11c3063c12",
   "metadata": {},
   "source": [
    "### Q7. What qualifies ASCII text as a form of Unicode text?"
   ]
  },
  {
   "cell_type": "markdown",
   "id": "27238e0f-4012-4f38-a79f-6b1087a4dafd",
   "metadata": {},
   "source": [
    "Unicode represents most written languages in the world. ASCII has its equivalent in Unicode. The difference between ASCII and Unicode is that ASCII represents lowercase letters (a-z), uppercase letters (A-Z), digits (0–9) and symbols such as punctuation marks while Unicode represents letters of English, Arabic, Greek etc. mathematical symbols, historical scripts, emoji covering a wide range of characters than ASCII."
   ]
  },
  {
   "cell_type": "markdown",
   "id": "ce6c1303-5183-4e40-8594-fbefc2f885b1",
   "metadata": {},
   "source": [
    "### Q8. How much of an effect does the change in string types in Python 3.X have on your code?"
   ]
  },
  {
   "cell_type": "markdown",
   "id": "f18fbd13-0013-48a7-86b7-487bfb1dcaa4",
   "metadata": {},
   "source": [
    "In Python 3.X, all strings are Unicode by default, and the str type represents a sequence of Unicode characters. "
   ]
  },
  {
   "cell_type": "code",
   "execution_count": null,
   "id": "24e15f34-013e-4278-aa0c-519813513bfe",
   "metadata": {},
   "outputs": [],
   "source": []
  }
 ],
 "metadata": {
  "kernelspec": {
   "display_name": "Python 3 (ipykernel)",
   "language": "python",
   "name": "python3"
  },
  "language_info": {
   "codemirror_mode": {
    "name": "ipython",
    "version": 3
   },
   "file_extension": ".py",
   "mimetype": "text/x-python",
   "name": "python",
   "nbconvert_exporter": "python",
   "pygments_lexer": "ipython3",
   "version": "3.10.6"
  }
 },
 "nbformat": 4,
 "nbformat_minor": 5
}
