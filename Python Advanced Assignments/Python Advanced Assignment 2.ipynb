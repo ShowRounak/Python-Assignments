{
 "cells": [
  {
   "cell_type": "markdown",
   "id": "141b8b09-4495-4ea2-8d5d-9c6123464643",
   "metadata": {},
   "source": [
    "### Q1. What is the relationship between classes and modules?"
   ]
  },
  {
   "cell_type": "markdown",
   "id": "45d04cd9-0ba7-41b4-ac9d-b4af1a455384",
   "metadata": {},
   "source": [
    "Module is a file containing all python functions, classes, variables, etc.\n",
    "\n",
    "class is a blueprint for creating objects. We can define multiple classes in a module."
   ]
  },
  {
   "cell_type": "markdown",
   "id": "332f1405-000f-4a81-b846-9be12d11444b",
   "metadata": {},
   "source": [
    "### Q2. How do you make instances and classes?"
   ]
  },
  {
   "cell_type": "markdown",
   "id": "09deba17-8652-446e-a14e-f36bf44b7d9a",
   "metadata": {},
   "source": [
    "we can create class by using the 'class' keyword. Under this, we can write functions and variables.\n",
    "\n",
    "After creating classes, we can make instance of it.\n",
    "\n",
    "For example:"
   ]
  },
  {
   "cell_type": "code",
   "execution_count": 1,
   "id": "c1622d53-c22a-47c6-a920-d69987d16cdc",
   "metadata": {},
   "outputs": [],
   "source": [
    "class Car:\n",
    "    def __init__(self,name,model):\n",
    "        self.name = name\n",
    "        self.model = model\n",
    "        \n",
    "car1 = Car('Tata','tiago')"
   ]
  },
  {
   "cell_type": "markdown",
   "id": "bb8f36e2-7c4b-45a9-b7f2-0b0d1b4e73da",
   "metadata": {},
   "source": [
    "### Q3. Where and how should be class attributes created?"
   ]
  },
  {
   "cell_type": "markdown",
   "id": "10aa1256-4b23-45ce-9753-6aede2c6bffe",
   "metadata": {},
   "source": [
    "In Python's OOP, class attributes are created inside the class definition, but outside of any methods. They are shared by all instances of the class and can be accessed using the class name or any instance of the class."
   ]
  },
  {
   "cell_type": "markdown",
   "id": "412706f4-3621-4399-aa33-2dd86d2e19fe",
   "metadata": {},
   "source": [
    "### Q4. Where and how are instance attributes created?"
   ]
  },
  {
   "cell_type": "markdown",
   "id": "a4d58d07-2288-43fd-b797-2d6710afa429",
   "metadata": {},
   "source": [
    "In Python's OOP, instance attributes are created inside the class's methods. \n",
    "\n",
    "In the previous Car class example, model and name are instance attributes. "
   ]
  },
  {
   "cell_type": "markdown",
   "id": "1e1a3f5c-3747-4a11-965e-9fc03129b3de",
   "metadata": {},
   "source": [
    "### Q5. What does the term &quot;self&quot; in a Python class mean?"
   ]
  },
  {
   "cell_type": "markdown",
   "id": "1c3591ae-7d84-4f74-aa53-ce331a5375f2",
   "metadata": {},
   "source": [
    "In Python's OOP, 'self' is a reference to the instance of the class. It is the first parameter of every instance method in a class.\n",
    "\n",
    "We can write any word other than 'self'. 'self' is just a naming convention."
   ]
  },
  {
   "cell_type": "markdown",
   "id": "a29d67d3-dd75-4768-bc22-334eeeb67b57",
   "metadata": {},
   "source": [
    "### Q6. How does a Python class handle operator overloading?"
   ]
  },
  {
   "cell_type": "raw",
   "id": "337ddff3-eb30-4508-b2bf-ad233e49f4ce",
   "metadata": {},
   "source": [
    "Python has some magic methods such as __add__() to handle operator overloading."
   ]
  },
  {
   "cell_type": "markdown",
   "id": "43ebf965-e97e-4580-bef7-72317a2fe66e",
   "metadata": {},
   "source": [
    "--------------"
   ]
  },
  {
   "cell_type": "markdown",
   "id": "153db2e7-fb7c-44c8-9d23-a412f8123792",
   "metadata": {},
   "source": [
    "### Q7. When do you consider allowing operator overloading of your classes?"
   ]
  },
  {
   "cell_type": "markdown",
   "id": "b0514290-6c74-469f-9a0d-0527cffd8e51",
   "metadata": {},
   "source": [
    "Operator overloading can be useful when you want to define custom behavior for built-in operators in your own classes. This can make your code more expressive and easier to read, especially when working with complex data structures or mathematical operations."
   ]
  },
  {
   "cell_type": "markdown",
   "id": "66993033-672c-4d52-9a6d-0888c586425c",
   "metadata": {},
   "source": [
    "### Q8. What is the most popular form of operator overloading?"
   ]
  },
  {
   "cell_type": "raw",
   "id": "77157666-161c-4f4e-9e69-e4eb95bd2549",
   "metadata": {},
   "source": [
    "__add__, __eq__, __ne__, etc"
   ]
  },
  {
   "cell_type": "markdown",
   "id": "85f88001-1718-4507-9c81-b935247d10c0",
   "metadata": {},
   "source": [
    "### Q9. What are the two most important concepts to grasp in order to comprehend Python OOP code?"
   ]
  },
  {
   "cell_type": "markdown",
   "id": "9e297354-0b5c-4675-a779-4a49f0a9cb5e",
   "metadata": {},
   "source": [
    "class and object\n"
   ]
  },
  {
   "cell_type": "code",
   "execution_count": null,
   "id": "71037a1b-a013-4720-8a1c-ed199a49f33c",
   "metadata": {},
   "outputs": [],
   "source": []
  }
 ],
 "metadata": {
  "kernelspec": {
   "display_name": "Python 3 (ipykernel)",
   "language": "python",
   "name": "python3"
  },
  "language_info": {
   "codemirror_mode": {
    "name": "ipython",
    "version": 3
   },
   "file_extension": ".py",
   "mimetype": "text/x-python",
   "name": "python",
   "nbconvert_exporter": "python",
   "pygments_lexer": "ipython3",
   "version": "3.10.6"
  }
 },
 "nbformat": 4,
 "nbformat_minor": 5
}
