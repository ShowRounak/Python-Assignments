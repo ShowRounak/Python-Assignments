{
 "cells": [
  {
   "cell_type": "markdown",
   "id": "3cfbd375",
   "metadata": {},
   "source": [
    "### 1. What is the relationship between def statements and lambda expressions ?"
   ]
  },
  {
   "cell_type": "markdown",
   "id": "4fa5d4e5",
   "metadata": {},
   "source": [
    "def statement/keyword is used to create functions. We have to write function name after def.\n",
    "\n",
    "Whereas, lambda created anonymous function. These functions don't have any name. Moreover, these are one-line of code which creates anonymous function."
   ]
  },
  {
   "cell_type": "markdown",
   "id": "dbf755dc",
   "metadata": {},
   "source": [
    "### 2. What is the benefit of lambda?"
   ]
  },
  {
   "cell_type": "markdown",
   "id": "ba2bceb0",
   "metadata": {},
   "source": [
    "With lambda we can create functions very quickly by writing less amount of codes."
   ]
  },
  {
   "cell_type": "markdown",
   "id": "3c714cd5",
   "metadata": {},
   "source": [
    "### 3. Compare and contrast map, filter, and reduce."
   ]
  },
  {
   "cell_type": "markdown",
   "id": "764d0546",
   "metadata": {},
   "source": [
    "map() function in python takes two arguments. One is a function and other is an iterable. It will apply that specific function to the each item of the iterable.\n",
    "\n",
    "filter() function is python takes two arguments - function and an iterable. It will apply the specific function to all the items of the iterable. After that it will return only those items which are filtered and met the specific conditions of the function.\n",
    "\n",
    "reduce() function in python takes two arguments - one function and one iterable. It will apply the specific function to all objects of the iterable. But it returns a single value instead of an iterable object."
   ]
  },
  {
   "cell_type": "markdown",
   "id": "ea5985fe",
   "metadata": {},
   "source": [
    "### 4. What are function annotations, and how are they used?"
   ]
  },
  {
   "cell_type": "markdown",
   "id": "406a4974",
   "metadata": {},
   "source": [
    "Function annotation is the standard way to access the metadata with the arguments and the return value of the function. These are optional python expressions and have no significance during the run-time of the code."
   ]
  },
  {
   "cell_type": "markdown",
   "id": "387a40cb",
   "metadata": {},
   "source": [
    "### 5. What are recursive functions, and how are they used?"
   ]
  },
  {
   "cell_type": "markdown",
   "id": "e98f86c8",
   "metadata": {},
   "source": [
    "A recursive function is a function that calls itself during its execution. This means that the function will continue to call itself and repeat its behavior until some condition is met to return a result"
   ]
  },
  {
   "cell_type": "code",
   "execution_count": 3,
   "id": "8232e6b5",
   "metadata": {},
   "outputs": [
    {
     "data": {
      "text/plain": [
       "120"
      ]
     },
     "execution_count": 3,
     "metadata": {},
     "output_type": "execute_result"
    }
   ],
   "source": [
    "#example\n",
    "\n",
    "def recursive(n):\n",
    "    if n==1:\n",
    "        return n\n",
    "    else:\n",
    "        return n * recursive(n-1) #recursion\n",
    "    \n",
    "recursive(5)"
   ]
  },
  {
   "cell_type": "markdown",
   "id": "dab5ae42",
   "metadata": {},
   "source": [
    "### 6. What are some general design guidelines for coding functions?"
   ]
  },
  {
   "cell_type": "markdown",
   "id": "78f18843",
   "metadata": {},
   "source": [
    "- Use of Docstrings\n",
    "- Use indentation of 4 spaces\n",
    "- Naming conventions\n",
    "- Use of standard UTF-8 or ASCII encodings"
   ]
  },
  {
   "cell_type": "markdown",
   "id": "e49d2eb0",
   "metadata": {},
   "source": [
    "### 7. Name three or more ways that functions can communicate results to a caller."
   ]
  },
  {
   "cell_type": "markdown",
   "id": "45193333",
   "metadata": {},
   "source": [
    "- Function can return single value\n",
    "- Can return multiple values, tuple\n",
    "- can return list,dictionary\n",
    "- can return function object\n",
    "- Functions can update global variable"
   ]
  },
  {
   "cell_type": "code",
   "execution_count": null,
   "id": "a731297a",
   "metadata": {},
   "outputs": [],
   "source": []
  }
 ],
 "metadata": {
  "kernelspec": {
   "display_name": "Python 3 (ipykernel)",
   "language": "python",
   "name": "python3"
  },
  "language_info": {
   "codemirror_mode": {
    "name": "ipython",
    "version": 3
   },
   "file_extension": ".py",
   "mimetype": "text/x-python",
   "name": "python",
   "nbconvert_exporter": "python",
   "pygments_lexer": "ipython3",
   "version": "3.9.13"
  }
 },
 "nbformat": 4,
 "nbformat_minor": 5
}
