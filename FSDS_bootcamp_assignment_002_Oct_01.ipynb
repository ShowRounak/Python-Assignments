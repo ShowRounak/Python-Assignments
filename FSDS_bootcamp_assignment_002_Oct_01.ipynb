{
 "cells": [
  {
   "cell_type": "markdown",
   "id": "78caec1a",
   "metadata": {},
   "source": [
    "### 1. What is indentation error? Why indentation is important? Give one simple example?"
   ]
  },
  {
   "cell_type": "markdown",
   "id": "198e3166",
   "metadata": {},
   "source": [
    "#### Indentation error:\n",
    "Indentation error happens when we don't put space or tabs properly before particular lines of code. If we skip the indentation, the interpreter can't recognize a certain block of code.\n",
    "\n",
    "#### Why Indentation is important?\n",
    "The indentation is required to separate a block of code. We can indent the line of code by tapping spaces or tabs before the statrting of the code-line. Indentation helps the interpreter to identify that the following lines of code belong to a particular block of code. It also makes the code easily readable. "
   ]
  },
  {
   "cell_type": "code",
   "execution_count": 1,
   "id": "1a6a9785",
   "metadata": {},
   "outputs": [
    {
     "ename": "IndentationError",
     "evalue": "expected an indented block (Temp/ipykernel_7072/4242305249.py, line 6)",
     "output_type": "error",
     "traceback": [
      "\u001b[1;36m  File \u001b[1;32m\"C:\\Users\\RABIND~1\\AppData\\Local\\Temp/ipykernel_7072/4242305249.py\"\u001b[1;36m, line \u001b[1;32m6\u001b[0m\n\u001b[1;33m    print(\"A is greater than B\") #Here, we skip the indentation at the beginning of the line.\u001b[0m\n\u001b[1;37m    ^\u001b[0m\n\u001b[1;31mIndentationError\u001b[0m\u001b[1;31m:\u001b[0m expected an indented block\n"
     ]
    }
   ],
   "source": [
    "# Example:\n",
    "A = 10\n",
    "B = 5\n",
    "\n",
    "if A>B:\n",
    "print(\"A is greater than B\") #Here, we skip the indentation at the beginning of the line. Hence, we get an indentation error."
   ]
  },
  {
   "cell_type": "code",
   "execution_count": 2,
   "id": "ccbedb55",
   "metadata": {},
   "outputs": [
    {
     "name": "stdout",
     "output_type": "stream",
     "text": [
      "A is greater than B\n"
     ]
    }
   ],
   "source": [
    "# So, the corrected example would be the following:\n",
    "A = 10\n",
    "B = 5\n",
    "\n",
    "if A>B:\n",
    "    print(\"A is greater than B\") # Here, we add whitespaces or tab at the starting."
   ]
  },
  {
   "cell_type": "markdown",
   "id": "c1c0383f",
   "metadata": {},
   "source": [
    "### 2. Correct the following code and write the comment where you made the correction?"
   ]
  },
  {
   "cell_type": "code",
   "execution_count": 8,
   "id": "f57eff29",
   "metadata": {},
   "outputs": [
    {
     "name": "stdout",
     "output_type": "stream",
     "text": [
      "Hey friend, is class started?: [0-False/1-True]0\n",
      "Since class is not started...\n",
      "let's revise\n"
     ]
    }
   ],
   "source": [
    "# Corrected code:\n",
    "\n",
    "class_started = bool(int(input(\"Hey friend, is class started?: [0-False/1-True]\")))\n",
    "\n",
    "if class_started:\n",
    "   print(\"Since class started...\")\n",
    "   print(\"Lets concentrate\")\n",
    "else:\n",
    "   print(\"Since class is not started...\")\n",
    "   print(\"let's revise\")"
   ]
  },
  {
   "cell_type": "markdown",
   "id": "d2ee1e23",
   "metadata": {},
   "source": [
    "### 3. Use if else condition to verify that dataype of input() method in python is always string."
   ]
  },
  {
   "cell_type": "code",
   "execution_count": 12,
   "id": "cd2125d4",
   "metadata": {},
   "outputs": [
    {
     "name": "stdout",
     "output_type": "stream",
     "text": [
      "Enter a number: 4555\n",
      "The default datatype of input method is always String\n"
     ]
    }
   ],
   "source": [
    "num = input(\"Enter a number: \")\n",
    "\n",
    "if type(num) == str:\n",
    "    print(\"The default datatype of input method is always String\")\n",
    "else:\n",
    "    print(\"This is not string\")"
   ]
  },
  {
   "cell_type": "markdown",
   "id": "8f60fc96",
   "metadata": {},
   "source": [
    "### 4. Take 3 variables and assign integer values to them. Find the largest variable, by only using the if and else conditions."
   ]
  },
  {
   "cell_type": "code",
   "execution_count": 15,
   "id": "4ade5ecd",
   "metadata": {},
   "outputs": [
    {
     "name": "stdout",
     "output_type": "stream",
     "text": [
      "10001 is the largest!\n"
     ]
    }
   ],
   "source": [
    "num1 = 40\n",
    "num2 = 100\n",
    "num3= 10001\n",
    "\n",
    "if num1>num2 and num1>num3:\n",
    "    print(f\"{num1} is the largest!\")\n",
    "elif num2>num3:\n",
    "    print(f\"{num2} is the largest!\")\n",
    "else:\n",
    "    print(f\"{num3} is the largest!\")"
   ]
  },
  {
   "cell_type": "markdown",
   "id": "c87df866",
   "metadata": {},
   "source": [
    "### 5. What would be the solution?\n",
    "\n",
    "Ans:- False"
   ]
  },
  {
   "cell_type": "markdown",
   "id": "a5a26e41",
   "metadata": {},
   "source": [
    "### 6. Find the answer as well as find out the reason behind the result? -"
   ]
  },
  {
   "cell_type": "code",
   "execution_count": 20,
   "id": "fde0dc72",
   "metadata": {},
   "outputs": [
    {
     "name": "stdout",
     "output_type": "stream",
     "text": [
      "False\n"
     ]
    }
   ],
   "source": [
    "A = 5.0\n",
    "B = 10/2\n",
    "print(A is B)"
   ]
  },
  {
   "cell_type": "code",
   "execution_count": 21,
   "id": "2e9a7b7c",
   "metadata": {},
   "outputs": [
    {
     "name": "stdout",
     "output_type": "stream",
     "text": [
      "False\n"
     ]
    }
   ],
   "source": [
    "A = 5.0\n",
    "B = int(10/2)\n",
    "print(A is B)"
   ]
  },
  {
   "cell_type": "code",
   "execution_count": 22,
   "id": "237f2dea",
   "metadata": {},
   "outputs": [
    {
     "name": "stdout",
     "output_type": "stream",
     "text": [
      "False\n"
     ]
    }
   ],
   "source": [
    "A = 5.0\n",
    "B = float(10/2)\n",
    "print(A is B)"
   ]
  },
  {
   "cell_type": "markdown",
   "id": "d349aa12",
   "metadata": {},
   "source": [
    "The 'is' operator checks if the two variables refers to the same object or not. Meaning, if the values are stored in a same memory location, the 'is' operator returns True. \n",
    "In the above examples, although the values of A and B variables are same(5.0), they are stored in different memory locations. "
   ]
  },
  {
   "cell_type": "code",
   "execution_count": 23,
   "id": "189197cb",
   "metadata": {},
   "outputs": [
    {
     "name": "stdout",
     "output_type": "stream",
     "text": [
      "False\n",
      "61752917584\n",
      "61736423632\n"
     ]
    }
   ],
   "source": [
    "# For example,\n",
    "A = 5.0\n",
    "B = float(10/2)\n",
    "print(A is B)\n",
    "\n",
    "print(id(A))\n",
    "print(id(B)) # the ids of both A and B are different. Hence, the 'is' operator return False."
   ]
  },
  {
   "cell_type": "markdown",
   "id": "f8f09690",
   "metadata": {},
   "source": [
    "### 7. Write a program that asks the user to enter a number. You should print out a message to the user, either “That number is divisible by either 3 or 5”, or “That number is not divisible by either 3 or 5”. Be sure to consider the data type of the input you are taking in from the user. Use a single if/else block to solve this problem.\n",
    "\n"
   ]
  },
  {
   "cell_type": "code",
   "execution_count": 28,
   "id": "e67ab9a6",
   "metadata": {},
   "outputs": [
    {
     "name": "stdout",
     "output_type": "stream",
     "text": [
      "Enter a number: 15\n",
      "15 is divisible by either 3 or 5\n"
     ]
    }
   ],
   "source": [
    "number = int(input(\"Enter a number: \"))\n",
    "\n",
    "if number%3 == 0 or number%5 == 0:\n",
    "    print(f\"{number} is divisible by either 3 or 5\")\n",
    "else:\n",
    "    print(f\"{number} is not divisible by either 3 or 5\")"
   ]
  },
  {
   "cell_type": "markdown",
   "id": "c1367ac5",
   "metadata": {},
   "source": [
    "### 8. Take user input for length and width. Then calculate the area of rectangle. Also print as per length and width whether its a square of rectangle."
   ]
  },
  {
   "cell_type": "code",
   "execution_count": 30,
   "id": "b857474f",
   "metadata": {},
   "outputs": [
    {
     "name": "stdout",
     "output_type": "stream",
     "text": [
      "Enter the length: 10\n",
      "Enter the width: 10\n",
      "The area of the area of the rectangle is 100\n",
      "It's a square of rectangle\n"
     ]
    }
   ],
   "source": [
    "length = int(input(\"Enter the length: \"))\n",
    "width = int(input(\"Enter the width: \"))\n",
    "\n",
    "area= length * width\n",
    "print(f\"The area of the area of the rectangle is {area}\")\n",
    "\n",
    "if length == width:\n",
    "    print(\"It's a square of rectangle\")\n",
    "else:\n",
    "    None"
   ]
  },
  {
   "cell_type": "markdown",
   "id": "4e9e6ff0",
   "metadata": {},
   "source": [
    "### 9. Take two variable radius_1 and radius_2 and calculate the area of circle_1 and circle_2. Also print which circle has large area. If area is equal then print area is equal."
   ]
  },
  {
   "cell_type": "code",
   "execution_count": 32,
   "id": "1803b40b",
   "metadata": {},
   "outputs": [
    {
     "name": "stdout",
     "output_type": "stream",
     "text": [
      "314.0\n",
      "1962.5\n",
      "2nd circle is larger\n"
     ]
    }
   ],
   "source": [
    "radius_1 = 10\n",
    "radius_2 = 25\n",
    "\n",
    "circle_1 = 3.14 * (radius_1)**2\n",
    "circle_2 = 3.14 * (radius_2)**2\n",
    "\n",
    "print(circle_1)\n",
    "print(circle_2)\n",
    "\n",
    "if circle_1 > circle_2:\n",
    "    print(\"1st circle is larger\")\n",
    "elif circle_1 == circle_2:\n",
    "    print(\"The area of both circles are equal\")\n",
    "else:\n",
    "    print(\"2nd circle is larger\")"
   ]
  },
  {
   "cell_type": "markdown",
   "id": "d882ec93",
   "metadata": {},
   "source": [
    "### 10. Check whether a year is leap year or not. Use nested if...else to solve this problem. A leap year is exactly divisible by 4 except for century years (years ending with 00). The century year is a leap year only if it is perfectly divisible by 400."
   ]
  },
  {
   "cell_type": "code",
   "execution_count": 43,
   "id": "bdd6ee54",
   "metadata": {},
   "outputs": [
    {
     "name": "stdout",
     "output_type": "stream",
     "text": [
      "Enter a year: 2000\n",
      "It's a leap year\n"
     ]
    }
   ],
   "source": [
    "year = int(input(\"Enter a year: \"))\n",
    "\n",
    "if year%4 == 0:\n",
    "    if year%100 == 0:\n",
    "        if year%400 == 0:\n",
    "            print(\"It's a leap year\")\n",
    "        else:\n",
    "            print(\"It's not a leap year.\")\n",
    "    else:\n",
    "        print(\"It's a leap year\")\n",
    "else:\n",
    "    print(\"It's not a leap year.\")"
   ]
  },
  {
   "cell_type": "code",
   "execution_count": 44,
   "id": "3d6b4f43",
   "metadata": {},
   "outputs": [
    {
     "name": "stdout",
     "output_type": "stream",
     "text": [
      "Enter a year: 1900\n",
      "It's not a leap year.\n"
     ]
    }
   ],
   "source": [
    "year = int(input(\"Enter a year: \"))\n",
    "\n",
    "if year%4 == 0:\n",
    "    if year%100 == 0:\n",
    "        if year%400 == 0:\n",
    "            print(\"It's a leap year\")\n",
    "        else:\n",
    "            print(\"It's not a leap year.\")\n",
    "    else:\n",
    "        print(\"It's a leap year\")\n",
    "else:\n",
    "    print(\"It's not a leap year.\")"
   ]
  },
  {
   "cell_type": "code",
   "execution_count": 45,
   "id": "215a9a7e",
   "metadata": {},
   "outputs": [
    {
     "name": "stdout",
     "output_type": "stream",
     "text": [
      "Enter a year: 2016\n",
      "It's a leap year\n"
     ]
    }
   ],
   "source": [
    "year = int(input(\"Enter a year: \"))\n",
    "\n",
    "if year%4 == 0:\n",
    "    if year%100 == 0:\n",
    "        if year%400 == 0:\n",
    "            print(\"It's a leap year\")\n",
    "        else:\n",
    "            print(\"It's not a leap year.\")\n",
    "    else:\n",
    "        print(\"It's a leap year\")\n",
    "else:"
   ]
  },
  {
   "cell_type": "code",
   "execution_count": null,
   "id": "54c407e6",
   "metadata": {},
   "outputs": [],
   "source": []
  }
 ],
 "metadata": {
  "kernelspec": {
   "display_name": "Python 3 (ipykernel)",
   "language": "python",
   "name": "python3"
  },
  "language_info": {
   "codemirror_mode": {
    "name": "ipython",
    "version": 3
   },
   "file_extension": ".py",
   "mimetype": "text/x-python",
   "name": "python",
   "nbconvert_exporter": "python",
   "pygments_lexer": "ipython3",
   "version": "3.8.12"
  }
 },
 "nbformat": 4,
 "nbformat_minor": 5
}
