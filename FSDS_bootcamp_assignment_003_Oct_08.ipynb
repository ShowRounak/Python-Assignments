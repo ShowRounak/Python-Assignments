{
 "cells": [
  {
   "cell_type": "markdown",
   "id": "5e195eba",
   "metadata": {},
   "source": [
    "## 1. Count the number of times 'iNeuron' appears in the string."
   ]
  },
  {
   "cell_type": "code",
   "execution_count": 2,
   "id": "ebc99cee",
   "metadata": {},
   "outputs": [
    {
     "data": {
      "text/plain": [
       "3"
      ]
     },
     "execution_count": 2,
     "metadata": {},
     "output_type": "execute_result"
    }
   ],
   "source": [
    "text = \"Welcome to iNeuron, You are a part of FSDS Bootcamp 2 in iNeuron. I hope you are enjoying the course by iNeuron\"\n",
    "text.count(\"iNeuron\")"
   ]
  },
  {
   "cell_type": "markdown",
   "id": "fd12965a",
   "metadata": {},
   "source": [
    "## 2. Check if position 5 to 11 ends with the phrase iNeuron. in the string"
   ]
  },
  {
   "cell_type": "code",
   "execution_count": 3,
   "id": "a7145c9e",
   "metadata": {},
   "outputs": [
    {
     "data": {
      "text/plain": [
       "', welco'"
      ]
     },
     "execution_count": 3,
     "metadata": {},
     "output_type": "execute_result"
    }
   ],
   "source": [
    "txt = \"Hello, welcome to FSDS 2.0 at iNeuron.\"\n",
    "txt[5:12]"
   ]
  },
  {
   "cell_type": "markdown",
   "id": "e5148e18",
   "metadata": {},
   "source": [
    "So, the position 5 to 11 do not end with the phrase iNeuron in the string."
   ]
  },
  {
   "cell_type": "markdown",
   "id": "06209512",
   "metadata": {},
   "source": [
    "## 3. Write a program that takes your full name as input and displays the abbreviations of the first and middle names except the last name which is displayed as it is. For example, if your name is Sunny Bhaveen Chandra, then the output should be S.B.Chandra."
   ]
  },
  {
   "cell_type": "code",
   "execution_count": 1,
   "id": "c459628b",
   "metadata": {},
   "outputs": [
    {
     "name": "stdout",
     "output_type": "stream",
     "text": [
      "enter your name: sunny bhaveen chandra\n",
      " S.B.Chandra\n"
     ]
    }
   ],
   "source": [
    "name = input(\"enter your name: \").title()\n",
    "\n",
    "first_name, middle_name, sur_name = name.split(\" \")\n",
    "print(f\" {first_name[0]}.{middle_name[0]}.{sur_name}\")"
   ]
  },
  {
   "cell_type": "markdown",
   "id": "65f6b5ae",
   "metadata": {},
   "source": [
    "## 4. Join all items in a list into a string, using a hash(#) character as separator:"
   ]
  },
  {
   "cell_type": "code",
   "execution_count": 2,
   "id": "6be6a3a8",
   "metadata": {},
   "outputs": [
    {
     "data": {
      "text/plain": [
       "'My#name#is#Rishav#Dash'"
      ]
     },
     "execution_count": 2,
     "metadata": {},
     "output_type": "execute_result"
    }
   ],
   "source": [
    "LIST = [\"My\", \"name\", \"is\", \"Rishav\", \"Dash\"]\n",
    "\"#\".join(LIST)"
   ]
  },
  {
   "cell_type": "markdown",
   "id": "5372f557",
   "metadata": {},
   "source": [
    "## 5. Write example for the following string manipulation function,"
   ]
  },
  {
   "cell_type": "markdown",
   "id": "ef24fa6e",
   "metadata": {},
   "source": [
    "isdecimal"
   ]
  },
  {
   "cell_type": "code",
   "execution_count": 4,
   "id": "c9fa109f",
   "metadata": {},
   "outputs": [
    {
     "data": {
      "text/plain": [
       "False"
      ]
     },
     "execution_count": 4,
     "metadata": {},
     "output_type": "execute_result"
    }
   ],
   "source": [
    "a = \"5.2\"\n",
    "a.isdecimal()"
   ]
  },
  {
   "cell_type": "markdown",
   "id": "8ed637e9",
   "metadata": {},
   "source": [
    "isupper"
   ]
  },
  {
   "cell_type": "code",
   "execution_count": 6,
   "id": "1b3ce36b",
   "metadata": {},
   "outputs": [
    {
     "data": {
      "text/plain": [
       "True"
      ]
     },
     "execution_count": 6,
     "metadata": {},
     "output_type": "execute_result"
    }
   ],
   "source": [
    "b = \"ROUNAK\"\n",
    "b.isupper()"
   ]
  },
  {
   "cell_type": "markdown",
   "id": "3873e969",
   "metadata": {},
   "source": [
    "islower"
   ]
  },
  {
   "cell_type": "code",
   "execution_count": 7,
   "id": "730be40d",
   "metadata": {},
   "outputs": [
    {
     "data": {
      "text/plain": [
       "True"
      ]
     },
     "execution_count": 7,
     "metadata": {},
     "output_type": "execute_result"
    }
   ],
   "source": [
    "c = \"rounak\"\n",
    "c.islower()"
   ]
  },
  {
   "cell_type": "markdown",
   "id": "b1e9f956",
   "metadata": {},
   "source": [
    "isalpha"
   ]
  },
  {
   "cell_type": "code",
   "execution_count": 9,
   "id": "84ba82cb",
   "metadata": {},
   "outputs": [
    {
     "data": {
      "text/plain": [
       "True"
      ]
     },
     "execution_count": 9,
     "metadata": {},
     "output_type": "execute_result"
    }
   ],
   "source": [
    "d = \"Rounak\"\n",
    "d.isalpha()"
   ]
  },
  {
   "cell_type": "markdown",
   "id": "2955c4b6",
   "metadata": {},
   "source": [
    "isnumeric()"
   ]
  },
  {
   "cell_type": "code",
   "execution_count": 10,
   "id": "5894bdee",
   "metadata": {},
   "outputs": [
    {
     "data": {
      "text/plain": [
       "True"
      ]
     },
     "execution_count": 10,
     "metadata": {},
     "output_type": "execute_result"
    }
   ],
   "source": [
    "e = \"8777564545\"\n",
    "e.isnumeric()"
   ]
  },
  {
   "cell_type": "markdown",
   "id": "008baa22",
   "metadata": {},
   "source": [
    "## 6. PAN card Validation:"
   ]
  },
  {
   "cell_type": "code",
   "execution_count": 12,
   "id": "493ceb6b",
   "metadata": {},
   "outputs": [
    {
     "name": "stdout",
     "output_type": "stream",
     "text": [
      "Enter your PAN Number: AYEPC7894X\n",
      "AYEPC7894X\n",
      "Your PAN Card is valid.\n"
     ]
    }
   ],
   "source": [
    "pan_number = input(\"Enter your PAN Number: \").upper()\n",
    "print(pan_number)\n",
    "\n",
    "if len(pan_number) == 10:\n",
    "    if pan_number[0:5].isalpha() and pan_number[5:9].isdigit() and pan_number[-1].isalpha():\n",
    "        print(\"Your PAN Card is valid.\")\n",
    "    else:\n",
    "        print(\"Your card is not valid.\")\n",
    "else:\n",
    "    print(\"Your card is not valid.\")\n"
   ]
  },
  {
   "cell_type": "code",
   "execution_count": null,
   "id": "4083a00b",
   "metadata": {},
   "outputs": [],
   "source": []
  }
 ],
 "metadata": {
  "kernelspec": {
   "display_name": "Python 3 (ipykernel)",
   "language": "python",
   "name": "python3"
  },
  "language_info": {
   "codemirror_mode": {
    "name": "ipython",
    "version": 3
   },
   "file_extension": ".py",
   "mimetype": "text/x-python",
   "name": "python",
   "nbconvert_exporter": "python",
   "pygments_lexer": "ipython3",
   "version": "3.9.13"
  }
 },
 "nbformat": 4,
 "nbformat_minor": 5
}
