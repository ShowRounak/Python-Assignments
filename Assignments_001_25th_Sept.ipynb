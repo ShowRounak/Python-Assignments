{
 "cells": [
  {
   "cell_type": "markdown",
   "id": "9199b55a",
   "metadata": {},
   "source": [
    "### 1. Find out all the types of error that we have encountered and why? Include examples."
   ]
  },
  {
   "cell_type": "markdown",
   "id": "e503fbab",
   "metadata": {},
   "source": [
    "Python is a case-sensitive language. So if we are creating two variables for example NUM and num, these two are different in terms of lowercase and uppercase letters.\n"
   ]
  },
  {
   "cell_type": "code",
   "execution_count": 23,
   "id": "eca3c700",
   "metadata": {},
   "outputs": [
    {
     "ename": "NameError",
     "evalue": "name 'Num' is not defined",
     "output_type": "error",
     "traceback": [
      "\u001b[1;31m---------------------------------------------------------------------------\u001b[0m",
      "\u001b[1;31mNameError\u001b[0m                                 Traceback (most recent call last)",
      "\u001b[1;32mC:\\Users\\RABIND~1\\AppData\\Local\\Temp/ipykernel_6672/1757220490.py\u001b[0m in \u001b[0;36m<module>\u001b[1;34m\u001b[0m\n\u001b[0;32m      1\u001b[0m \u001b[0mNUM\u001b[0m \u001b[1;33m=\u001b[0m \u001b[1;36m10\u001b[0m\u001b[1;33m\u001b[0m\u001b[1;33m\u001b[0m\u001b[0m\n\u001b[0;32m      2\u001b[0m \u001b[0mnum\u001b[0m \u001b[1;33m=\u001b[0m \u001b[1;36m20\u001b[0m\u001b[1;33m\u001b[0m\u001b[1;33m\u001b[0m\u001b[0m\n\u001b[1;32m----> 3\u001b[1;33m \u001b[0mprint\u001b[0m\u001b[1;33m(\u001b[0m\u001b[0mNum\u001b[0m\u001b[1;33m)\u001b[0m\u001b[1;33m\u001b[0m\u001b[1;33m\u001b[0m\u001b[0m\n\u001b[0m",
      "\u001b[1;31mNameError\u001b[0m: name 'Num' is not defined"
     ]
    }
   ],
   "source": [
    "NUM = 10\n",
    "num = 20\n",
    "print(Num)"
   ]
  },
  {
   "cell_type": "code",
   "execution_count": 24,
   "id": "96ff3050",
   "metadata": {},
   "outputs": [
    {
     "data": {
      "text/plain": [
       "10"
      ]
     },
     "execution_count": 24,
     "metadata": {},
     "output_type": "execute_result"
    }
   ],
   "source": [
    "NUM"
   ]
  },
  {
   "cell_type": "markdown",
   "id": "d303d3fd",
   "metadata": {},
   "source": [
    "In type casting, we cannot convert float number in a string format to integer. Otherwise, it throws an error.\n"
   ]
  },
  {
   "cell_type": "code",
   "execution_count": 26,
   "id": "05e946a5",
   "metadata": {},
   "outputs": [
    {
     "name": "stdout",
     "output_type": "stream",
     "text": [
      "<class 'str'>, 50.22\n"
     ]
    },
    {
     "ename": "ValueError",
     "evalue": "invalid literal for int() with base 10: '50.22'",
     "output_type": "error",
     "traceback": [
      "\u001b[1;31m---------------------------------------------------------------------------\u001b[0m",
      "\u001b[1;31mValueError\u001b[0m                                Traceback (most recent call last)",
      "\u001b[1;32mC:\\Users\\RABIND~1\\AppData\\Local\\Temp/ipykernel_6672/2376251803.py\u001b[0m in \u001b[0;36m<module>\u001b[1;34m\u001b[0m\n\u001b[0;32m      1\u001b[0m \u001b[0mww\u001b[0m\u001b[1;33m=\u001b[0m \u001b[1;34m\"50.22\"\u001b[0m \u001b[1;31m#entering float\u001b[0m\u001b[1;33m\u001b[0m\u001b[1;33m\u001b[0m\u001b[0m\n\u001b[0;32m      2\u001b[0m \u001b[0mprint\u001b[0m\u001b[1;33m(\u001b[0m\u001b[1;34mf\"{type(ww)}, {ww}\"\u001b[0m\u001b[1;33m)\u001b[0m\u001b[1;33m\u001b[0m\u001b[1;33m\u001b[0m\u001b[0m\n\u001b[1;32m----> 3\u001b[1;33m \u001b[0mww\u001b[0m \u001b[1;33m=\u001b[0m \u001b[0mint\u001b[0m\u001b[1;33m(\u001b[0m\u001b[0mww\u001b[0m\u001b[1;33m)\u001b[0m \u001b[1;31m# trying to convert it into interger\u001b[0m\u001b[1;33m\u001b[0m\u001b[1;33m\u001b[0m\u001b[0m\n\u001b[0m\u001b[0;32m      4\u001b[0m \u001b[0mprint\u001b[0m\u001b[1;33m(\u001b[0m\u001b[1;34mf\"{type(ww)}, {ww}\"\u001b[0m\u001b[1;33m)\u001b[0m\u001b[1;33m\u001b[0m\u001b[1;33m\u001b[0m\u001b[0m\n",
      "\u001b[1;31mValueError\u001b[0m: invalid literal for int() with base 10: '50.22'"
     ]
    }
   ],
   "source": [
    "ww= \"50.22\" #entering float\n",
    "print(f\"{type(ww)}, {ww}\")\n",
    "ww = int(ww) # trying to convert it into interger\n",
    "print(f\"{type(ww)}, {ww}\")\n"
   ]
  },
  {
   "cell_type": "markdown",
   "id": "79e7f14a",
   "metadata": {},
   "source": [
    "Avoid using special characters like ^ % $  ^ & * ( ) in varibales' names."
   ]
  },
  {
   "cell_type": "code",
   "execution_count": 27,
   "id": "78d4a8b0",
   "metadata": {},
   "outputs": [
    {
     "ename": "SyntaxError",
     "evalue": "invalid syntax (Temp/ipykernel_6672/3913648312.py, line 1)",
     "output_type": "error",
     "traceback": [
      "\u001b[1;36m  File \u001b[1;32m\"C:\\Users\\RABIND~1\\AppData\\Local\\Temp/ipykernel_6672/3913648312.py\"\u001b[1;36m, line \u001b[1;32m1\u001b[0m\n\u001b[1;33m    TEN% = 10\u001b[0m\n\u001b[1;37m         ^\u001b[0m\n\u001b[1;31mSyntaxError\u001b[0m\u001b[1;31m:\u001b[0m invalid syntax\n"
     ]
    }
   ],
   "source": [
    "TEN% = 10"
   ]
  },
  {
   "cell_type": "markdown",
   "id": "8ed610f5",
   "metadata": {},
   "source": [
    "We cannot concatanate two different data-types. "
   ]
  },
  {
   "cell_type": "code",
   "execution_count": 28,
   "id": "fcf1abcc",
   "metadata": {},
   "outputs": [
    {
     "ename": "TypeError",
     "evalue": "can only concatenate str (not \"int\") to str",
     "output_type": "error",
     "traceback": [
      "\u001b[1;31m---------------------------------------------------------------------------\u001b[0m",
      "\u001b[1;31mTypeError\u001b[0m                                 Traceback (most recent call last)",
      "\u001b[1;32mC:\\Users\\RABIND~1\\AppData\\Local\\Temp/ipykernel_6672/3282179255.py\u001b[0m in \u001b[0;36m<module>\u001b[1;34m\u001b[0m\n\u001b[1;32m----> 1\u001b[1;33m \u001b[1;34m\"Ram\"\u001b[0m \u001b[1;33m+\u001b[0m \u001b[1;36m100\u001b[0m\u001b[1;33m\u001b[0m\u001b[1;33m\u001b[0m\u001b[0m\n\u001b[0m",
      "\u001b[1;31mTypeError\u001b[0m: can only concatenate str (not \"int\") to str"
     ]
    }
   ],
   "source": [
    "\"Ram\" + 100"
   ]
  },
  {
   "cell_type": "markdown",
   "id": "e7e7e3e4",
   "metadata": {},
   "source": [
    "## 2. Take input A and B and print their sum, multiplication, division, and square values."
   ]
  },
  {
   "cell_type": "code",
   "execution_count": 1,
   "id": "e3d175cb",
   "metadata": {},
   "outputs": [
    {
     "name": "stdout",
     "output_type": "stream",
     "text": [
      "Enter first number: 5\n",
      "Enter second number: 2\n",
      "\n",
      "     Your first number is 5\n",
      "     Your Second number is 2\n",
      "     The Sum is 7\n",
      "     The multiplication of both numbers is 10\n",
      "     The division is 2.5\n",
      "     The square of first number is 25\n",
      "     The square of second number is 4\n",
      "     \n"
     ]
    }
   ],
   "source": [
    "A = int(input(\"Enter first number: \"))\n",
    "B = int(input(\"Enter second number: \"))\n",
    "\n",
    "sum = A + B\n",
    "multiply = A*B\n",
    "div = A/B\n",
    "\n",
    "print(f\"\"\"\n",
    "     Your first number is {A}\n",
    "     Your Second number is {B}\n",
    "     The Sum is {sum}\n",
    "     The multiplication of both numbers is {multiply}\n",
    "     The division is {div}\n",
    "     The square of first number is {A**2}\n",
    "     The square of second number is {B**2}\n",
    "     \"\"\")\n"
   ]
  },
  {
   "cell_type": "markdown",
   "id": "e8f991a0",
   "metadata": {},
   "source": [
    "### 3. How many reserve keywords are there in python and why we should not use them as a variable name."
   ]
  },
  {
   "cell_type": "markdown",
   "id": "4e9d5b44",
   "metadata": {},
   "source": [
    "There are total of 33 reserved keywords present in Python 3.0. \n",
    "We should not use Reserved Keywords as variable names beacuse these reserved keywords already have some predefined instructions or functionalities.\n",
    "So, by using them as variables we overwrite their built-in instructions. Therefore, we will get an error while using those keywords again. \n"
   ]
  },
  {
   "cell_type": "markdown",
   "id": "f86c9ef1",
   "metadata": {},
   "source": [
    "### 4.Create email ids with the user inputs in the following formats :- lastname.firstname@gmail.com"
   ]
  },
  {
   "cell_type": "code",
   "execution_count": 2,
   "id": "289dea8d",
   "metadata": {},
   "outputs": [
    {
     "name": "stdout",
     "output_type": "stream",
     "text": [
      "Enter your first name: Rounak\n",
      "Enter your surname: Show\n",
      " show.rounak@gmail.com\n"
     ]
    }
   ],
   "source": [
    "fname= input(\"Enter your first name: \").lower()\n",
    "lname= input(\"Enter your surname: \").lower()\n",
    "\n",
    "print(f\" {lname}.{fname}@gmail.com\")"
   ]
  },
  {
   "cell_type": "markdown",
   "id": "3e694864",
   "metadata": {},
   "source": [
    "### 5. Try to print the following line:-\n",
    "#### Hi I'm Sunny\n",
    "##### My address is 22/3\n",
    "#### I earn 20dollars daily"
   ]
  },
  {
   "cell_type": "code",
   "execution_count": 3,
   "id": "1e899b87",
   "metadata": {},
   "outputs": [
    {
     "name": "stdout",
     "output_type": "stream",
     "text": [
      "\n",
      "Hi! I'm Sunny.\n",
      "My address is 22/3.\n",
      "I earn 20$ daily.\n",
      "\n"
     ]
    }
   ],
   "source": [
    "print(\"\"\"\n",
    "Hi! I'm Sunny.\n",
    "My address is 22/3.\n",
    "I earn 20$ daily.\n",
    "\"\"\")"
   ]
  },
  {
   "cell_type": "markdown",
   "id": "7903ebbd",
   "metadata": {},
   "source": [
    "### 6. Take user input(name, address, DOB, etc.) to fill up college form and create their email ids."
   ]
  },
  {
   "cell_type": "code",
   "execution_count": 29,
   "id": "3d5e127a",
   "metadata": {},
   "outputs": [
    {
     "name": "stdout",
     "output_type": "stream",
     "text": [
      "Enter your name: Rounak Show\n",
      "Enter your address: 114\n",
      "enter your date of birth(dd/mm/yyyy): 10/12/2000\n",
      "Enter your Blood Group: O+\n",
      "\n",
      "    Your name is ROUNAK SHOW\n",
      "    Your address is 114\n",
      "    Your Date of Birth is 10/12/2000\n",
      "    Your Blood group is O+\n",
      "    \n",
      " Your mail id is: rounakshow.10122000@clg.in\n"
     ]
    }
   ],
   "source": [
    "name= input(\"Enter your name: \")\n",
    "address= input(\"Enter your address: \")\n",
    "dob = input(\"enter your date of birth(dd/mm/yyyy): \")\n",
    "blood_group = input(\"Enter your Blood Group: \")\n",
    "print(f\"\"\"\n",
    "    Your name is {name.upper()}\n",
    "    Your address is {address}\n",
    "    Your Date of Birth is {dob}\n",
    "    Your Blood group is {blood_group}\n",
    "    \"\"\")\n",
    "name= name.replace(\" \", \"\").lower()\n",
    "dob = dob.replace(\"/\", \"\")\n",
    "print(f\" Your mail id is: {name}.{dob}@clg.in\")\n"
   ]
  },
  {
   "cell_type": "markdown",
   "id": "57c24137",
   "metadata": {},
   "source": [
    "### 7. Convert the following :- \"22.4\" into 22, \"22\" into complex no."
   ]
  },
  {
   "cell_type": "code",
   "execution_count": 19,
   "id": "4ea446be",
   "metadata": {},
   "outputs": [
    {
     "name": "stdout",
     "output_type": "stream",
     "text": [
      " <class 'str'>, 22.4\n",
      " <class 'float'>, 22.4\n",
      " <class 'int'>, 22\n"
     ]
    }
   ],
   "source": [
    "y = \"22.4\"\n",
    "print(f\" {type(y)}, {y}\")\n",
    "y = float(y)\n",
    "print(f\" {type(y)}, {y}\")\n",
    "y = int(y)\n",
    "print(f\" {type(y)}, {y}\")"
   ]
  },
  {
   "cell_type": "code",
   "execution_count": 22,
   "id": "d913c56e",
   "metadata": {},
   "outputs": [
    {
     "name": "stdout",
     "output_type": "stream",
     "text": [
      " <class 'str'>, 22\n",
      " <class 'int'>, 22\n",
      " <class 'complex'>, (22+3j)\n"
     ]
    }
   ],
   "source": [
    "f = \"22\"\n",
    "print(f\" {type(f)}, {f}\")\n",
    "f = int(f)\n",
    "print(f\" {type(f)}, {f}\")\n",
    "f = f + 3j\n",
    "print(f\" {type(f)}, {f}\")"
   ]
  },
  {
   "cell_type": "code",
   "execution_count": null,
   "id": "b106953f",
   "metadata": {},
   "outputs": [],
   "source": []
  }
 ],
 "metadata": {
  "kernelspec": {
   "display_name": "Python 3 (ipykernel)",
   "language": "python",
   "name": "python3"
  },
  "language_info": {
   "codemirror_mode": {
    "name": "ipython",
    "version": 3
   },
   "file_extension": ".py",
   "mimetype": "text/x-python",
   "name": "python",
   "nbconvert_exporter": "python",
   "pygments_lexer": "ipython3",
   "version": "3.8.12"
  }
 },
 "nbformat": 4,
 "nbformat_minor": 5
}
