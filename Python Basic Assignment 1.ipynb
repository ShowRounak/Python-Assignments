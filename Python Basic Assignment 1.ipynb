{
 "cells": [
  {
   "cell_type": "markdown",
   "id": "7b41224a",
   "metadata": {},
   "source": [
    "## 1. In the below elements which of them are values or an expression? eg:- values can be integer or string and expressions will be mathematical operators."
   ]
  },
  {
   "cell_type": "markdown",
   "id": "289917a3",
   "metadata": {},
   "source": [
    "*\n",
    "&#39;hello&#39;\n",
    "-87.8\n",
    "-\n",
    "/\n",
    "+\n",
    "6"
   ]
  },
  {
   "cell_type": "code",
   "execution_count": null,
   "id": "e2c9686e",
   "metadata": {},
   "outputs": [],
   "source": [
    "'hello' -87.8 - / + 6\n",
    "\n",
    "= Expressions 'hello' = Value\n",
    "\n",
    "= Expression\n",
    "\n",
    "87.8 = Value / = Expression\n",
    "\n",
    "= Expression 6 = Value"
   ]
  },
  {
   "cell_type": "markdown",
   "id": "68a18b51",
   "metadata": {},
   "source": [
    "## 2. What is the difference between string and variable? "
   ]
  },
  {
   "cell_type": "markdown",
   "id": "f640f244",
   "metadata": {},
   "source": [
    "1. We cannot store values/information in a string because it is a information by itself. Whereas we can store objects/values in a variable. Basically, we can store a string inside a variable. \n",
    "2. We have to write a string in between \"\" .  In variable, we don't need \"\". \n",
    "3. We can write any symbols as strings. But in case of variable names, we are only allowed to add specific symbols."
   ]
  },
  {
   "cell_type": "markdown",
   "id": "2c4efd97",
   "metadata": {},
   "source": [
    "## 3. Describe three different data types. \n",
    "1. Integers: Positive or Negative whole numbers such as 1,2,3,4,5,6, etc. It is represented by int in python. \n",
    "2. Float: Positive or Negative decimal numbers such as 2.5, 10.11, 0.7, etc. It is represented by Float in python. \n",
    "3. String: String is usually characters in between single or double quote ''/ \"\". We genereally address texts in a string format."
   ]
  },
  {
   "cell_type": "markdown",
   "id": "f5ba7c33",
   "metadata": {},
   "source": [
    "## 4. What is an expression made up of? What do all expressions do?"
   ]
  },
  {
   "cell_type": "markdown",
   "id": "fce9b672",
   "metadata": {},
   "source": [
    "Expressions in python are operators such as +, -, /, *, etc. to give outcomes. There are different types of expressions in python.\n"
   ]
  },
  {
   "cell_type": "markdown",
   "id": "0c1448c2",
   "metadata": {},
   "source": [
    "#### Arithmatic operations perform mathematical calculations. For example:\n",
    "\n",
    "x + y Addition \n",
    "\n",
    "x – y Subtraction\n",
    "\n",
    "x * y Multiplication \n",
    "\n",
    "x / y Division\n",
    "\n",
    "#### There are logical expressions available too. These can help us to prove some conditions. For Example:\n",
    "\n",
    "and = x and y If both X and Y are true, then it returns True, otherwise returns False\n",
    "\n",
    "or =  x or y If either x or y is true, this returns True\n",
    "\n",
    "not =  not x It returns true if condition x is false\n",
    "\n",
    "#### Relational Operators establish relations between two values. For example, = , >, <, >=, <= "
   ]
  },
  {
   "cell_type": "markdown",
   "id": "4e51b3df",
   "metadata": {},
   "source": [
    "## 5. What is the difference between an expression and a statement?"
   ]
  },
  {
   "cell_type": "markdown",
   "id": "50511cd5",
   "metadata": {},
   "source": [
    "1. Expression always gives us a resulting value. Whereas statement may or may not give us a value. \n",
    "2. Every line of programming is a statement , like assignment statement, print statement, if statement, else statement, etc. \n",
    "3. Expressions are variables, functions, operators, etc."
   ]
  },
  {
   "cell_type": "markdown",
   "id": "d0975165",
   "metadata": {},
   "source": [
    "## 6.  After running the following code, what does the variable bacon contain? \n",
    "### bacon = 22 bacon + 1"
   ]
  },
  {
   "cell_type": "code",
   "execution_count": 2,
   "id": "f6547083",
   "metadata": {},
   "outputs": [
    {
     "data": {
      "text/plain": [
       "23"
      ]
     },
     "execution_count": 2,
     "metadata": {},
     "output_type": "execute_result"
    }
   ],
   "source": [
    "23"
   ]
  },
  {
   "cell_type": "markdown",
   "id": "2efaad80",
   "metadata": {},
   "source": [
    "## 7. What should the values of the following two terms be?\n",
    "### 'spam' + 'spamspam' \n",
    "### 'spam' * 3"
   ]
  },
  {
   "cell_type": "markdown",
   "id": "dbd7774b",
   "metadata": {},
   "source": [
    "In both cases, it will be\n",
    "\n",
    "'spamspamspam'"
   ]
  },
  {
   "cell_type": "markdown",
   "id": "3deef4f5",
   "metadata": {},
   "source": [
    "## 8. Why is eggs a valid variable name while 100 is invalid?"
   ]
  },
  {
   "cell_type": "markdown",
   "id": "6c029873",
   "metadata": {},
   "source": [
    "A variable name cannot start with number. That's why, a variable name 100 is invalid."
   ]
  },
  {
   "cell_type": "markdown",
   "id": "fb882756",
   "metadata": {},
   "source": [
    "## 9. What three functions can be used to get the integer, floating-point number, or string version of a value?"
   ]
  },
  {
   "cell_type": "markdown",
   "id": "5bf37ce9",
   "metadata": {},
   "source": [
    "int(), float(), str() - are the three functions."
   ]
  },
  {
   "cell_type": "markdown",
   "id": "ba59ebdd",
   "metadata": {},
   "source": [
    "## 10. Why does this expression cause an error? How can you fix it? \n",
    "### 'I have eaten ' + 99 + ' burritos.'"
   ]
  },
  {
   "cell_type": "markdown",
   "id": "8e1d4339",
   "metadata": {},
   "source": [
    "Concatanation can not be happened between two different data-types. It will show a concatanation error. To fix that, we need change the integer to string."
   ]
  },
  {
   "cell_type": "code",
   "execution_count": 4,
   "id": "c57ce2f6",
   "metadata": {},
   "outputs": [
    {
     "data": {
      "text/plain": [
       "'I have eaten 99 burritos'"
      ]
     },
     "execution_count": 4,
     "metadata": {},
     "output_type": "execute_result"
    }
   ],
   "source": [
    "'I have eaten' + ' 99 ' + 'burritos'"
   ]
  },
  {
   "cell_type": "code",
   "execution_count": null,
   "id": "48c00197",
   "metadata": {},
   "outputs": [],
   "source": []
  },
  {
   "cell_type": "code",
   "execution_count": null,
   "id": "d02b22d9",
   "metadata": {},
   "outputs": [],
   "source": []
  }
 ],
 "metadata": {
  "kernelspec": {
   "display_name": "Python 3 (ipykernel)",
   "language": "python",
   "name": "python3"
  },
  "language_info": {
   "codemirror_mode": {
    "name": "ipython",
    "version": 3
   },
   "file_extension": ".py",
   "mimetype": "text/x-python",
   "name": "python",
   "nbconvert_exporter": "python",
   "pygments_lexer": "ipython3",
   "version": "3.9.13"
  }
 },
 "nbformat": 4,
 "nbformat_minor": 5
}
