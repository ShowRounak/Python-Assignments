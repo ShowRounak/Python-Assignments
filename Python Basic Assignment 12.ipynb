{
 "cells": [
  {
   "cell_type": "markdown",
   "id": "303c4d61-a3d6-42e4-ab4e-02af0e04cfeb",
   "metadata": {},
   "source": [
    "### 1. In what modes should the PdfFileReader() and PdfFileWriter() File objects will be opened?"
   ]
  },
  {
   "cell_type": "markdown",
   "id": "516760f8-8f43-4d2f-8da4-da5608904d4c",
   "metadata": {},
   "source": [
    "PdfFileReader() should be opened in read-binary mode. PdfFileWriter() should be opened in write-binary mode."
   ]
  },
  {
   "cell_type": "markdown",
   "id": "9a6ec074-63af-4649-a18f-4eb6556cfcc3",
   "metadata": {},
   "source": [
    "### 2. From a PdfFileReader object, how do you get a Page object for page 5?"
   ]
  },
  {
   "cell_type": "markdown",
   "id": "2f351cc0-9c13-4bb4-963d-95c41a0d1477",
   "metadata": {},
   "source": [
    "PdfFileReader.getPage(5)"
   ]
  },
  {
   "cell_type": "markdown",
   "id": "12d7e1f3-dcd7-4a39-a534-d2b6f13a43a6",
   "metadata": {},
   "source": [
    "### 3. What PdfFileReader variable stores the number of pages in the PDF document?"
   ]
  },
  {
   "cell_type": "markdown",
   "id": "491cb2cc-dfe0-416b-bc6e-1bb0b259886c",
   "metadata": {},
   "source": [
    "numPages"
   ]
  },
  {
   "cell_type": "markdown",
   "id": "cc020a8d-dce6-4257-ad8c-284fafb6437b",
   "metadata": {},
   "source": [
    "### 4. If a PdfFileReader object’s PDF is encrypted with the password swordfish, what must you do before you can obtain Page objects from it?"
   ]
  },
  {
   "cell_type": "markdown",
   "id": "be7aab32-1ae3-41d3-a5b8-1865cdeb3f61",
   "metadata": {},
   "source": [
    "obj.decrypt(\"swordfish\")"
   ]
  },
  {
   "cell_type": "markdown",
   "id": "5878cafa-e948-417c-b483-a911cd6a4fd0",
   "metadata": {},
   "source": [
    "### 5. What methods do you use to rotate a page?"
   ]
  },
  {
   "cell_type": "markdown",
   "id": "393c928c-6053-4603-9254-268aad2a28fd",
   "metadata": {},
   "source": [
    "rotateClockwise() and rotateCounterClockwise()"
   ]
  },
  {
   "cell_type": "markdown",
   "id": "05418d58-99c2-430b-b0aa-2aa27f489629",
   "metadata": {},
   "source": [
    "### 6. What is the difference between a Run object and a Paragraph object?"
   ]
  },
  {
   "cell_type": "markdown",
   "id": "195ba11b-c941-4331-82a8-a4c63934f556",
   "metadata": {},
   "source": [
    "paragraps object is needed to get paragraph from a document, runs object is needed whenever text style changes in a paragraph."
   ]
  },
  {
   "cell_type": "markdown",
   "id": "9e25e9da-ee79-45b6-9589-47b76253e4c5",
   "metadata": {},
   "source": [
    "### 7. How do you obtain a list of Paragraph objects for a Document object that’s stored in a variable named doc?"
   ]
  },
  {
   "cell_type": "markdown",
   "id": "84d9ad65-2bfc-45c2-b4ec-d3859c2c2942",
   "metadata": {},
   "source": [
    "doc.paragraphs"
   ]
  },
  {
   "cell_type": "markdown",
   "id": "1db99c97-3e46-42da-9cfb-c3372b372fb9",
   "metadata": {},
   "source": [
    "### 8. What type of object has bold, underline, italic, strike, and outline variables?"
   ]
  },
  {
   "cell_type": "markdown",
   "id": "1304b155-42dc-4949-94a6-c602815b6644",
   "metadata": {},
   "source": [
    "runs"
   ]
  },
  {
   "cell_type": "markdown",
   "id": "9d81a0d5-e5ee-4930-beab-7cd9e2d5811a",
   "metadata": {},
   "source": [
    "### 9. What is the difference between False, True, and None for the bold variable?"
   ]
  },
  {
   "cell_type": "markdown",
   "id": "bf990282-fe57-4af6-9c0d-2accf17f8041",
   "metadata": {},
   "source": [
    "True = bold is always enabled no matter what other styles are applied to the run, \n",
    "\n",
    "False = bold is always disabled, \n",
    "\n",
    "None = defaults to whatever the run's style set to"
   ]
  },
  {
   "cell_type": "markdown",
   "id": "c5017702-3dbe-4fac-8e32-18b1756be7ec",
   "metadata": {},
   "source": [
    "### 10. How do you create a Document object for a new Word document?"
   ]
  },
  {
   "cell_type": "markdown",
   "id": "af10f80c-c25c-4fe6-a54f-f5ac25f59146",
   "metadata": {},
   "source": [
    "import docx\n",
    "\n",
    "doc=docx.Document(.docx file name)\n"
   ]
  },
  {
   "cell_type": "markdown",
   "id": "52b93969-4a7c-4376-8461-da8fdc543b54",
   "metadata": {},
   "source": [
    "### 11. How do you add a paragraph with the text &#39;Hello, there!&#39; to a Document object stored in a variable named doc?"
   ]
  },
  {
   "cell_type": "markdown",
   "id": "7e992d79-4420-40a3-9801-3df4bb1d78f2",
   "metadata": {},
   "source": [
    "doc.add_paragraph(\"Hello, there!\")"
   ]
  },
  {
   "cell_type": "markdown",
   "id": "c39ff3c4-9d88-4d78-9ff7-7335a84ddf56",
   "metadata": {},
   "source": [
    "### 12. What integers represent the levels of headings available in Word documents?"
   ]
  },
  {
   "cell_type": "markdown",
   "id": "af607e20-fe8a-4c6f-8742-0f3d49661eba",
   "metadata": {},
   "source": [
    "0 to 4"
   ]
  },
  {
   "cell_type": "code",
   "execution_count": null,
   "id": "f0e09c79-c357-4677-a464-d316c1dff2c4",
   "metadata": {},
   "outputs": [],
   "source": []
  }
 ],
 "metadata": {
  "kernelspec": {
   "display_name": "Python 3 (ipykernel)",
   "language": "python",
   "name": "python3"
  },
  "language_info": {
   "codemirror_mode": {
    "name": "ipython",
    "version": 3
   },
   "file_extension": ".py",
   "mimetype": "text/x-python",
   "name": "python",
   "nbconvert_exporter": "python",
   "pygments_lexer": "ipython3",
   "version": "3.10.6"
  }
 },
 "nbformat": 4,
 "nbformat_minor": 5
}
