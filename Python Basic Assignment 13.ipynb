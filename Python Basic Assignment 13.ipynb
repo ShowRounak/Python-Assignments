{
 "cells": [
  {
   "cell_type": "markdown",
   "id": "61f892fb-0203-44da-bc59-1382dd847c52",
   "metadata": {},
   "source": [
    "### 1. What advantages do Excel spreadsheets have over CSV spreadsheets?"
   ]
  },
  {
   "cell_type": "markdown",
   "id": "e2e4c90f-5b19-4504-9a2a-da3172cf2918",
   "metadata": {},
   "source": [
    "Reading large dataset is much easier in excel compared to csv, Excel provides the option for linking the data from external sources but no such feature available in csv."
   ]
  },
  {
   "cell_type": "markdown",
   "id": "15cb382b-b2fc-45ac-95fc-5bddfa1d052a",
   "metadata": {},
   "source": [
    "### 2.What do you pass to csv.reader() and csv.writer() to create reader and writer objects?"
   ]
  },
  {
   "cell_type": "markdown",
   "id": "927381e5-a255-4b03-b8d2-d3ed710a3f8f",
   "metadata": {},
   "source": [
    "file object"
   ]
  },
  {
   "cell_type": "markdown",
   "id": "01e1a61c-4e5f-429c-9bbb-4e59f728433a",
   "metadata": {},
   "source": [
    "### 3. What modes do File objects for reader and writer objects need to be opened in?"
   ]
  },
  {
   "cell_type": "markdown",
   "id": "23d1698b-3210-4595-94a8-1c5d0720d20b",
   "metadata": {},
   "source": [
    "'r'(read mode) for reader objects \n",
    "\n",
    "'w'(write mode) for writer objects"
   ]
  },
  {
   "cell_type": "markdown",
   "id": "27544066-57f5-494f-aec3-1ed8a1c16350",
   "metadata": {},
   "source": [
    "### 4. What method takes a list argument and writes it to a CSV file?"
   ]
  },
  {
   "cell_type": "markdown",
   "id": "2bd4fa2e-01ce-4434-bf04-ebc81455a8fd",
   "metadata": {},
   "source": [
    "writerow() method of csv.writer()"
   ]
  },
  {
   "cell_type": "markdown",
   "id": "2be6926f-fc1f-41c7-9c2e-9da5c5b52ac1",
   "metadata": {},
   "source": [
    "### 5. What do the keyword arguments delimiter and line terminator do?"
   ]
  },
  {
   "cell_type": "markdown",
   "id": "bd416ab9-fdf9-4e18-993c-42d4f3c871d2",
   "metadata": {},
   "source": [
    "delimiter sets the character between cells on a row. line terminator sets the character that comes at the end of a row."
   ]
  },
  {
   "cell_type": "markdown",
   "id": "58feb474-9154-4dda-baf8-d96cf7b0df89",
   "metadata": {},
   "source": [
    "### 6. What function takes a string of JSON data and returns a Python data structure?"
   ]
  },
  {
   "cell_type": "markdown",
   "id": "3e16b744-9540-481a-a008-4e208f0b047d",
   "metadata": {},
   "source": [
    "json.loads()"
   ]
  },
  {
   "cell_type": "markdown",
   "id": "8c0572f7-6e4a-4b25-a40d-79b08c47e751",
   "metadata": {},
   "source": [
    "### 7. What function takes a Python data structure and returns a string of JSON data?"
   ]
  },
  {
   "cell_type": "markdown",
   "id": "521fd34e-1b26-4fdc-b6ef-a6d7de4c45ef",
   "metadata": {},
   "source": [
    "json.dumps()"
   ]
  },
  {
   "cell_type": "code",
   "execution_count": null,
   "id": "146f8322-dacf-4767-a988-adcf84decc85",
   "metadata": {},
   "outputs": [],
   "source": []
  }
 ],
 "metadata": {
  "kernelspec": {
   "display_name": "Python 3 (ipykernel)",
   "language": "python",
   "name": "python3"
  },
  "language_info": {
   "codemirror_mode": {
    "name": "ipython",
    "version": 3
   },
   "file_extension": ".py",
   "mimetype": "text/x-python",
   "name": "python",
   "nbconvert_exporter": "python",
   "pygments_lexer": "ipython3",
   "version": "3.10.6"
  }
 },
 "nbformat": 4,
 "nbformat_minor": 5
}
