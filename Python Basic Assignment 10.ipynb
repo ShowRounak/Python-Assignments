{
 "cells": [
  {
   "cell_type": "markdown",
   "id": "dfb7fc72-5489-4804-8380-cfc26cb57ced",
   "metadata": {},
   "source": [
    "### 1. How do you distinguish between shutil.copy() and shutil.copytree()?"
   ]
  },
  {
   "cell_type": "markdown",
   "id": "9d19fc41-331b-49bd-9f76-46bbd7a1e2df",
   "metadata": {},
   "source": [
    "shutil.copy() will copy a single file and shutil.copytree() will copy an entire folder and every folder and file contained in it."
   ]
  },
  {
   "cell_type": "markdown",
   "id": "b722bc3b-8792-4b78-84dd-0b1e0b37e994",
   "metadata": {},
   "source": [
    "### 2. What function is used to rename files??"
   ]
  },
  {
   "cell_type": "markdown",
   "id": "5ad8ad1d-6e24-4bf3-8bf2-62954154c3f8",
   "metadata": {},
   "source": [
    "os.rename()"
   ]
  },
  {
   "cell_type": "markdown",
   "id": "c0f3aa16-28d7-4fe1-b71b-e0c56aafce37",
   "metadata": {},
   "source": [
    "### 3. What is the difference between the delete functions in the send2trash and shutil modules?"
   ]
  },
  {
   "cell_type": "markdown",
   "id": "ca0bb82c-8873-4297-b8b1-fe7e655a65cd",
   "metadata": {},
   "source": [
    "send2trash function move a file or folder to the recycle bin, while shutil function permanently delete file or folder."
   ]
  },
  {
   "cell_type": "markdown",
   "id": "7cb4c345-6260-453d-a2fa-762abe69f0a5",
   "metadata": {},
   "source": [
    "### 4.ZipFile objects have a close() method just like File objects’ close() method. What ZipFile method is equivalent to File objects’ open() method?"
   ]
  },
  {
   "cell_type": "markdown",
   "id": "b79070cc-57ce-4e50-83c3-38b6e137d649",
   "metadata": {},
   "source": [
    "ZipFile"
   ]
  },
  {
   "cell_type": "markdown",
   "id": "28d1ea6d-233c-45d1-90be-c4e09d4f6bf3",
   "metadata": {},
   "source": [
    "### 5. Create a programme that searches a folder tree for files with a certain file extension (such as .pdf or .jpg). Copy these files from whatever location they are in to a new folder."
   ]
  },
  {
   "cell_type": "code",
   "execution_count": 1,
   "id": "030f4a3c-f24c-46f7-838c-142d33fc1e4e",
   "metadata": {},
   "outputs": [],
   "source": [
    "def copyFile(src,dst,ext):\n",
    "    try:\n",
    "        import os,shutil\n",
    "        for file in os.listdir(src):\n",
    "            if file.endswith(ext):\n",
    "                shutil.copy(os.path.join(src,file),dst)\n",
    "        print(f'Files have been successfully copied from {src} to {dst}')\n",
    "    except Exception as e:\n",
    "        print(e)\n",
    "\n"
   ]
  },
  {
   "cell_type": "code",
   "execution_count": null,
   "id": "101c371e-2eac-43f6-9fc8-d352d7360733",
   "metadata": {},
   "outputs": [],
   "source": []
  }
 ],
 "metadata": {
  "kernelspec": {
   "display_name": "Python 3 (ipykernel)",
   "language": "python",
   "name": "python3"
  },
  "language_info": {
   "codemirror_mode": {
    "name": "ipython",
    "version": 3
   },
   "file_extension": ".py",
   "mimetype": "text/x-python",
   "name": "python",
   "nbconvert_exporter": "python",
   "pygments_lexer": "ipython3",
   "version": "3.10.6"
  }
 },
 "nbformat": 4,
 "nbformat_minor": 5
}
