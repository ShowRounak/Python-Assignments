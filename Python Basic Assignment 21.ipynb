{
 "cells": [
  {
   "cell_type": "markdown",
   "id": "afc0c9a3-f8a1-4868-8717-b3ef271f3d67",
   "metadata": {},
   "source": [
    "### Add the current date to the text file today.txt as a string."
   ]
  },
  {
   "cell_type": "code",
   "execution_count": 1,
   "id": "f398d2b9-fb3d-4807-b5dc-295f41213ff2",
   "metadata": {},
   "outputs": [
    {
     "name": "stdout",
     "output_type": "stream",
     "text": [
      "2023-05-18\n"
     ]
    }
   ],
   "source": [
    "from datetime import date\n",
    "\n",
    "with open('today.txt', 'w') as txt:\n",
    "    txt.write(date.today().isoformat())\n",
    "print(date.today().isoformat())"
   ]
  },
  {
   "cell_type": "markdown",
   "id": "50b295a6-2469-40d8-8fe8-2af9b04a230c",
   "metadata": {},
   "source": [
    "### Read the text file today.txt into the string today_string"
   ]
  },
  {
   "cell_type": "code",
   "execution_count": 2,
   "id": "3184a419-0edd-4a83-9ab6-60de37a8bb18",
   "metadata": {},
   "outputs": [
    {
     "name": "stdout",
     "output_type": "stream",
     "text": [
      "Reading text: 2023-05-18\n"
     ]
    }
   ],
   "source": [
    "today_string = \"\"\n",
    "with open('today.txt', 'r') as txt:\n",
    "    today_string = txt.readline()\n",
    "print(f\"Reading text: {today_string}\")"
   ]
  },
  {
   "cell_type": "markdown",
   "id": "7a1c07e0-5d1f-4527-8f93-b0d6125d3383",
   "metadata": {},
   "source": [
    "### Parse the date from today_string."
   ]
  },
  {
   "cell_type": "code",
   "execution_count": 3,
   "id": "ff92ac6f-bd4d-47ea-beee-bca00ba0329e",
   "metadata": {},
   "outputs": [
    {
     "name": "stdout",
     "output_type": "stream",
     "text": [
      "2023-05-18 00:00:00\n"
     ]
    }
   ],
   "source": [
    "from datetime import datetime\n",
    "print(datetime.strptime(today_string, '%Y-%m-%d'))"
   ]
  },
  {
   "cell_type": "markdown",
   "id": "f27833c7-d873-41de-8efa-aa199e5472f8",
   "metadata": {},
   "source": [
    "### List the files in your current directory"
   ]
  },
  {
   "cell_type": "code",
   "execution_count": 4,
   "id": "391e4c5c-6f76-4d72-9789-407b2fb8fb99",
   "metadata": {},
   "outputs": [
    {
     "data": {
      "text/plain": [
       "['Python Programming Assignment 24.ipynb',\n",
       " 'README.md',\n",
       " 'test.txt',\n",
       " 'sample-code.ipynb',\n",
       " 'Python Basic Assignment 20.ipynb',\n",
       " '.git',\n",
       " 'Python Programming Assignment 25.ipynb',\n",
       " 'Python Programming Assignment 2.ipynb',\n",
       " 'Python Programming Assignment 15.ipynb',\n",
       " 'harmoina.ipynb',\n",
       " 'Python Basic assignment 5.ipynb',\n",
       " 'books.db',\n",
       " 'Python Basic Assignment 21.ipynb',\n",
       " 'Python Programming assignment 1.ipynb',\n",
       " 'Python Programming Assignment 23.ipynb',\n",
       " 'Python Programming Assignment 21.ipynb',\n",
       " 'Untitled.ipynb',\n",
       " '.ipynb_checkpoints',\n",
       " 'today.txt',\n",
       " 'Python Programming Assignment 22.ipynb',\n",
       " 'Python Basic Assignment 8.ipynb',\n",
       " 'books.csv']"
      ]
     },
     "execution_count": 4,
     "metadata": {},
     "output_type": "execute_result"
    }
   ],
   "source": [
    "import os\n",
    "os.listdir('.')"
   ]
  },
  {
   "cell_type": "markdown",
   "id": "8f8e267f-db3e-4a33-9fcc-88af7045715a",
   "metadata": {},
   "source": [
    "### Create a list of all of the files in your parent directory (minimum five files should be available)."
   ]
  },
  {
   "cell_type": "code",
   "execution_count": 5,
   "id": "a5754638-6d59-4cc8-945d-7b1bd561a5cc",
   "metadata": {},
   "outputs": [
    {
     "name": "stdout",
     "output_type": "stream",
     "text": [
      "<class 'list'>\n",
      "['.profile', '.bash_logout', '.bashrc', '.ipython', '.cache', '.jupyter', '.local', '.conda', '.config', '.npm', '.wget-hsts', 'work']\n",
      "Number of files: 12\n"
     ]
    }
   ],
   "source": [
    "lst_files = os.listdir('..')\n",
    "print(type(lst_files))\n",
    "print(lst_files)\n",
    "print(f\"Number of files: {len(lst_files)}\")"
   ]
  },
  {
   "cell_type": "markdown",
   "id": "aa3bb27c-3bab-4e47-ab46-5f2393c159bb",
   "metadata": {},
   "source": [
    "### Use multiprocessing to create three separate processes. Make each one wait a random number of seconds between one and five, print the current time, and then exit."
   ]
  },
  {
   "cell_type": "code",
   "execution_count": 6,
   "id": "816fbe96-3428-4c24-8640-64dad412351f",
   "metadata": {},
   "outputs": [
    {
     "name": "stdout",
     "output_type": "stream",
     "text": [
      "starting processes\n",
      "Process 0 will sleep for 6\n",
      "starting processes\n",
      "Process 1 will sleep for 2\n",
      "wait starting processes\n",
      "Process 2 will sleep for 5\n",
      "6 waitseconds, time is  5waitseconds, time is  2023-05-18 14:10:55.5396052\n",
      " 2023-05-18 14:10:55.545214 \n",
      "seconds, time is 2023-05-18 14:10:55.551023\n",
      "Finished Process!\n",
      "Finished Process!\n",
      "Finished Process!\n"
     ]
    }
   ],
   "source": [
    "import multiprocessing\n",
    "from datetime import datetime \n",
    "from time import sleep \n",
    "import random\n",
    "\n",
    "def now_sleep(seconds): \n",
    "    print('wait', seconds, 'seconds, time is', datetime.utcnow())\n",
    "    sleep(seconds) \n",
    "    print(\"Finished Process!\")\n",
    "\n",
    "if __name__ == '__main__':\n",
    "    for n in range(3): \n",
    "        print(\"starting processes\")\n",
    "        seconds = random.randint(1, 10) \n",
    "        print(f\"Process {n} will sleep for {seconds}\")\n",
    "        proc = multiprocessing.Process(target=now_sleep, args=(seconds,)) \n",
    "        proc.start()"
   ]
  },
  {
   "cell_type": "markdown",
   "id": "a1f7d6c1-38e0-4324-b818-f04ea7278e1e",
   "metadata": {},
   "source": [
    "### Create a date object of your day of birth."
   ]
  },
  {
   "cell_type": "code",
   "execution_count": 7,
   "id": "9d3c7291-7763-41ca-9cb1-a29c4d435692",
   "metadata": {},
   "outputs": [
    {
     "name": "stdout",
     "output_type": "stream",
     "text": [
      "2000-12-10\n"
     ]
    }
   ],
   "source": [
    "my_birthday = date(2000, 12, 10)\n",
    "print(my_birthday)"
   ]
  },
  {
   "cell_type": "markdown",
   "id": "c36595e7-8c22-45f2-ab3a-c2eb30c660fc",
   "metadata": {},
   "source": [
    "### What day of the week was your day of birth?"
   ]
  },
  {
   "cell_type": "code",
   "execution_count": 8,
   "id": "a344e9bf-80ae-490f-b7e8-660ce8310e93",
   "metadata": {},
   "outputs": [
    {
     "name": "stdout",
     "output_type": "stream",
     "text": [
      "My birthday was on 7th day of the week\n"
     ]
    }
   ],
   "source": [
    "print(f\"My birthday was on {my_birthday.isoweekday()}th day of the week\")"
   ]
  },
  {
   "cell_type": "markdown",
   "id": "75f63c3f-5bcb-4ec5-818f-ebbeaf7208d2",
   "metadata": {},
   "source": [
    "### When will you be (or when were you) 10,000 days old?"
   ]
  },
  {
   "cell_type": "code",
   "execution_count": 9,
   "id": "0da199f1-c214-4f24-8aac-2e4b66427bb7",
   "metadata": {},
   "outputs": [
    {
     "name": "stdout",
     "output_type": "stream",
     "text": [
      "2028-04-27\n"
     ]
    }
   ],
   "source": [
    "from datetime import timedelta\n",
    "\n",
    "ten_thousand_days = my_birthday + timedelta(days=10000)\n",
    "print(ten_thousand_days)"
   ]
  },
  {
   "cell_type": "code",
   "execution_count": null,
   "id": "54d1d160-d2a1-4871-979b-43e57a073913",
   "metadata": {},
   "outputs": [],
   "source": []
  }
 ],
 "metadata": {
  "kernelspec": {
   "display_name": "Python 3 (ipykernel)",
   "language": "python",
   "name": "python3"
  },
  "language_info": {
   "codemirror_mode": {
    "name": "ipython",
    "version": 3
   },
   "file_extension": ".py",
   "mimetype": "text/x-python",
   "name": "python",
   "nbconvert_exporter": "python",
   "pygments_lexer": "ipython3",
   "version": "3.10.6"
  }
 },
 "nbformat": 4,
 "nbformat_minor": 5
}
