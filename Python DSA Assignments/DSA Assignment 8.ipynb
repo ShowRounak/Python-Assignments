{
 "cells": [
  {
   "cell_type": "markdown",
   "id": "ee298ab8",
   "metadata": {},
   "source": [
    "#### Given two strings s1 and s2, return *the lowest **ASCII** sum of deleted characters to make two strings equal*.\n",
    "\n",
    "**Example 1:**\n",
    "\n",
    "**Input:** s1 = \"sea\", s2 = \"eat\"\n",
    "\n",
    "**Output:** 231\n",
    "\n",
    "**Explanation:** Deleting \"s\" from \"sea\" adds the ASCII value of \"s\" (115) to the sum.\n",
    "\n",
    "Deleting \"t\" from \"eat\" adds 116 to the sum.\n",
    "\n",
    "At the end, both strings are equal, and 115 + 116 = 231 is the minimum sum possible to achieve this."
   ]
  },
  {
   "cell_type": "code",
   "execution_count": 89,
   "id": "120fb94f",
   "metadata": {},
   "outputs": [],
   "source": [
    "def minimumDeleteSum(s1: str, s2: str) -> int:\n",
    "    m, n = len(s1), len(s2)\n",
    "    dp = [[0] * (n + 1) for _ in range(m + 1)]\n",
    "    for i in range(m - 1, -1, -1):\n",
    "        for j in range(n - 1, -1, -1):\n",
    "            if s1[i] == s2[j]:\n",
    "                dp[i][j] = dp[i + 1][j + 1] + ord(s1[i])\n",
    "            else:\n",
    "                dp[i][j] = max(dp[i + 1][j], dp[i][j + 1])\n",
    "    return sum(map(ord, s1 + s2)) - dp[0][0] * 2"
   ]
  },
  {
   "cell_type": "code",
   "execution_count": 90,
   "id": "a1a034fb",
   "metadata": {},
   "outputs": [
    {
     "data": {
      "text/plain": [
       "231"
      ]
     },
     "execution_count": 90,
     "metadata": {},
     "output_type": "execute_result"
    }
   ],
   "source": [
    "s1 = \"sea\"\n",
    "s2 = \"eat\"\n",
    "\n",
    "minimumDeleteSum(s1,s2)"
   ]
  },
  {
   "cell_type": "markdown",
   "id": "86dd0319",
   "metadata": {},
   "source": [
    "#### Given a string s containing only three types of characters: '(', ')' and '*', return true *if* s *is **valid*.\n",
    "\n",
    "The following rules define a **valid** string:\n",
    "\n",
    "Any left parenthesis '(' must have a corresponding right parenthesis ')'.\n",
    "\n",
    "Any right parenthesis ')' must have a corresponding left parenthesis '('.\n",
    "\n",
    "Left parenthesis '(' must go before the corresponding right parenthesis ')'.\n",
    "\n",
    "'*' could be treated as a single right parenthesis ')' or a single left parenthesis '(' or an empty string \"\".\n",
    "\n",
    "**Example 1:**\n",
    "\n",
    "**Input:** s = \"()\"\n",
    "\n",
    "**Output:**\n",
    "\n",
    "true"
   ]
  },
  {
   "cell_type": "code",
   "execution_count": 115,
   "id": "32c40118",
   "metadata": {},
   "outputs": [],
   "source": [
    "def check_valid_string(s: str) -> bool:\n",
    "    lo = hi = 0\n",
    "    for c in s:\n",
    "        lo += 1 if c == '(' else -1\n",
    "        hi += 1 if c != ')' else -1\n",
    "        if hi < 0:\n",
    "            break\n",
    "        lo = max(lo, 0)\n",
    "    return lo == 0\n"
   ]
  },
  {
   "cell_type": "code",
   "execution_count": 116,
   "id": "516ce8c0",
   "metadata": {},
   "outputs": [
    {
     "data": {
      "text/plain": [
       "True"
      ]
     },
     "execution_count": 116,
     "metadata": {},
     "output_type": "execute_result"
    }
   ],
   "source": [
    "s = \"()\"\n",
    "\n",
    "check_valid_string(s)"
   ]
  },
  {
   "cell_type": "markdown",
   "id": "aa5044dc",
   "metadata": {},
   "source": [
    "#### Given two strings word1 and word2, return *the minimum number of **steps** required to make* word1 *and* word2 *the same*.\n",
    "\n",
    "In one **step**, you can delete exactly one character in either string.\n",
    "\n",
    "**Example 1:**\n",
    "\n",
    "**Input:** word1 = \"sea\", word2 = \"eat\"\n",
    "\n",
    "**Output:** 2\n",
    "\n",
    "**Explanation:** You need one step to make \"sea\" to \"ea\" and another step to make \"eat\" to \"ea\"."
   ]
  },
  {
   "cell_type": "code",
   "execution_count": 166,
   "id": "799ea0b7",
   "metadata": {},
   "outputs": [],
   "source": [
    "def same_word(word1: str, word2: str) -> int:\n",
    "    m, n = len(word1), len(word2)\n",
    "    dp = [[0] * (n + 1) for _ in range(m + 1)]\n",
    "    for i in range(1, m + 1):\n",
    "        for j in range(1, n + 1):\n",
    "            if word1[i - 1] == word2[j - 1]:\n",
    "                dp[i][j] = dp[i - 1][j - 1] + 1\n",
    "            else:\n",
    "                dp[i][j] = max(dp[i - 1][j], dp[i][j - 1])\n",
    "    return m + n - 2 * dp[m][n]"
   ]
  },
  {
   "cell_type": "code",
   "execution_count": 167,
   "id": "57eeaf56",
   "metadata": {},
   "outputs": [
    {
     "data": {
      "text/plain": [
       "2"
      ]
     },
     "execution_count": 167,
     "metadata": {},
     "output_type": "execute_result"
    }
   ],
   "source": [
    "w1 = \"sea\"\n",
    "w2 = \"eat\"\n",
    "\n",
    "same_word(w1,w2)"
   ]
  },
  {
   "cell_type": "markdown",
   "id": "2eeefd5c",
   "metadata": {},
   "source": [
    "#### Given two strings s and p, return *an array of all the start indices of* p*'s anagrams in* s. You may return the answer in **any order**.\n",
    "\n",
    "An **Anagram** is a word or phrase formed by rearranging the letters of a different word or phrase, typically using all the original letters exactly once.\n",
    "\n",
    "**Example 1:**\n",
    "\n",
    "**Input:** s = \"cbaebabacd\", p = \"abc\"\n",
    "\n",
    "**Output:** [0,6]\n",
    "\n",
    "**Explanation:**\n",
    "\n",
    "The substring with start index = 0 is \"cba\", which is an anagram of \"abc\".\n",
    "\n",
    "The substring with start index = 6 is \"bac\", which is an anagram of \"abc\"."
   ]
  },
  {
   "cell_type": "code",
   "execution_count": 203,
   "id": "cecc065f",
   "metadata": {},
   "outputs": [],
   "source": [
    "from collections import Counter\n",
    "\n",
    "def findAnagrams(s: str, p: str):\n",
    "    ns, np = len(s), len(p)\n",
    "    if ns < np:\n",
    "        return []\n",
    "    p_count = Counter(p)\n",
    "    s_count = Counter()\n",
    "    output = []\n",
    "    for i in range(ns):\n",
    "        s_count[s[i]] += 1\n",
    "        if i >= np:\n",
    "            if s_count[s[i - np]] == 1:\n",
    "                del s_count[s[i - np]]\n",
    "            else:\n",
    "                s_count[s[i - np]] -= 1\n",
    "        if p_count == s_count:\n",
    "            output.append(i - np + 1)\n",
    "    return output"
   ]
  },
  {
   "cell_type": "code",
   "execution_count": 204,
   "id": "17671902",
   "metadata": {},
   "outputs": [
    {
     "data": {
      "text/plain": [
       "[0, 6]"
      ]
     },
     "execution_count": 204,
     "metadata": {},
     "output_type": "execute_result"
    }
   ],
   "source": [
    "s = \"cbaebabacd\"\n",
    "p = \"abc\"\n",
    "\n",
    "findAnagrams(s,p)"
   ]
  },
  {
   "cell_type": "markdown",
   "id": "d8bda596",
   "metadata": {},
   "source": [
    "#### Given an encoded string, return its decoded string.\n",
    "\n",
    "The encoding rule is: k[encoded_string], where the encoded_string inside the square brackets is being repeated exactly k times. Note that k is guaranteed to be a positive integer.\n",
    "\n",
    "You may assume that the input string is always valid; there are no extra white spaces, square brackets are well-formed, etc. Furthermore, you may assume that the original data does not contain any digits and that digits are only for those repeat numbers, k. For example, there will not be input like 3a or 2[4].\n",
    "\n",
    "The test cases are generated so that the length of the output will never exceed 105.\n",
    "\n",
    "**Example 1:**\n",
    "\n",
    "**Input:** s = \"3[a]2[bc]\"\n",
    "\n",
    "**Output:** \"aaabcbc\""
   ]
  },
  {
   "cell_type": "code",
   "execution_count": 244,
   "id": "df8b70eb",
   "metadata": {},
   "outputs": [],
   "source": [
    "def decode_string(s: str) -> str:\n",
    "    stack = []\n",
    "    curr_num = 0\n",
    "    curr_str = ''\n",
    "    for c in s:\n",
    "        if c == '[':\n",
    "            stack.append(curr_str)\n",
    "            stack.append(curr_num)\n",
    "            curr_str = ''\n",
    "            curr_num = 0\n",
    "        elif c == ']':\n",
    "            num = stack.pop()\n",
    "            prev_str = stack.pop()\n",
    "            curr_str = prev_str + num * curr_str\n",
    "        elif c.isdigit():\n",
    "            curr_num = curr_num * 10 + int(c)\n",
    "        else:\n",
    "            curr_str += c\n",
    "    return curr_str\n"
   ]
  },
  {
   "cell_type": "code",
   "execution_count": 245,
   "id": "f06712fe",
   "metadata": {},
   "outputs": [
    {
     "data": {
      "text/plain": [
       "'aaabcbc'"
      ]
     },
     "execution_count": 245,
     "metadata": {},
     "output_type": "execute_result"
    }
   ],
   "source": [
    "s = \"3[a]2[bc]\"\n",
    "decode_string(s)"
   ]
  },
  {
   "cell_type": "markdown",
   "id": "31a74429",
   "metadata": {},
   "source": [
    "#### Given two strings s and goal, return true *if you can swap two letters in* s *so the result is equal to* goal*, otherwise, return* false*.*\n",
    "\n",
    "Swapping letters is defined as taking two indices i and j (0-indexed) such that i != j and swapping the characters at s[i] and s[j].\n",
    "\n",
    "For example, swapping at indices 0 and 2 in \"abcd\" results in \"cbad\".\n",
    "\n",
    "**Example 1:**\n",
    "\n",
    "**Input:** s = \"ab\", goal = \"ba\"\n",
    "\n",
    "**Output:** true\n",
    "\n",
    "**Explanation:** You can swap s[0] = 'a' and s[1] = 'b' to get \"ba\", which is equal to goal."
   ]
  },
  {
   "cell_type": "code",
   "execution_count": 260,
   "id": "fd82da72",
   "metadata": {},
   "outputs": [],
   "source": [
    "def swap_strings(s: str, goal: str) -> bool:\n",
    "    if len(s) != len(goal):\n",
    "        return False\n",
    "    if s == goal:\n",
    "        return len(set(s)) < len(s)\n",
    "    pairs = []\n",
    "    for a, b in zip(s, goal):\n",
    "        if a != b:\n",
    "            pairs.append((a, b))\n",
    "        if len(pairs) >= 3:\n",
    "            return False\n",
    "    return len(pairs) == 2 and pairs[0] == pairs[1][::-1]\n"
   ]
  },
  {
   "cell_type": "code",
   "execution_count": 261,
   "id": "561514b0",
   "metadata": {},
   "outputs": [
    {
     "data": {
      "text/plain": [
       "True"
      ]
     },
     "execution_count": 261,
     "metadata": {},
     "output_type": "execute_result"
    }
   ],
   "source": [
    "s = \"ab\"\n",
    "goal = \"ba\"\n",
    "\n",
    "swap_strings(s,goal)"
   ]
  },
  {
   "cell_type": "markdown",
   "id": "c838244f",
   "metadata": {},
   "source": [
    "**Question 5**\n",
    "\n",
    "#### Given an array of characters chars, compress it using the following algorithm:\n",
    "\n",
    "Begin with an empty string s. For each group of **consecutive repeating characters** in chars:\n",
    "\n",
    "If the group's length is 1, append the character to s.\n",
    "Otherwise, append the character followed by the group's length.\n",
    "\n",
    "The compressed string s **should not be returned separately**, but instead, be stored **in the input character array chars**. Note that group lengths that are 10 or longer will be split into multiple characters in chars.\n",
    "\n",
    "After you are done **modifying the input array,** return *the new length of the array*.\n",
    "\n",
    "You must write an algorithm that uses only constant extra space.\n",
    "\n",
    "**Example 1:**\n",
    "\n",
    "**Input:** chars = [\"a\",\"a\",\"b\",\"b\",\"c\",\"c\",\"c\"]\n",
    "\n",
    "**Output:** Return 6, and the first 6 characters of the input array should be: [\"a\",\"2\",\"b\",\"2\",\"c\",\"3\"]\n",
    "\n",
    "**Explanation:**\n",
    "\n",
    "The groups are \"aa\", \"bb\", and \"ccc\". This compresses to \"a2b2c3\"."
   ]
  },
  {
   "cell_type": "code",
   "execution_count": 308,
   "id": "56750757",
   "metadata": {},
   "outputs": [],
   "source": [
    "def compress(chars) -> int:\n",
    "    n = len(chars)\n",
    "    i, count = 0, 1\n",
    "    for j in range(1, n + 1):\n",
    "        if j < n and chars[j] == chars[j - 1]:\n",
    "            count += 1\n",
    "        else:\n",
    "            chars[i] = chars[j - 1]\n",
    "            i += 1\n",
    "            if count > 1:\n",
    "                for c in str(count):\n",
    "                    chars[i] = c\n",
    "                    i += 1\n",
    "            count = 1\n",
    "    return i"
   ]
  },
  {
   "cell_type": "code",
   "execution_count": 309,
   "id": "ed20dd43",
   "metadata": {},
   "outputs": [
    {
     "data": {
      "text/plain": [
       "6"
      ]
     },
     "execution_count": 309,
     "metadata": {},
     "output_type": "execute_result"
    }
   ],
   "source": [
    "chars = [\"a\",\"a\",\"b\",\"b\",\"c\",\"c\",\"c\"]\n",
    "\n",
    "compress(chars)"
   ]
  },
  {
   "cell_type": "code",
   "execution_count": null,
   "id": "caf3546f",
   "metadata": {},
   "outputs": [],
   "source": []
  }
 ],
 "metadata": {
  "kernelspec": {
   "display_name": "Python 3 (ipykernel)",
   "language": "python",
   "name": "python3"
  },
  "language_info": {
   "codemirror_mode": {
    "name": "ipython",
    "version": 3
   },
   "file_extension": ".py",
   "mimetype": "text/x-python",
   "name": "python",
   "nbconvert_exporter": "python",
   "pygments_lexer": "ipython3",
   "version": "3.9.13"
  }
 },
 "nbformat": 4,
 "nbformat_minor": 5
}
