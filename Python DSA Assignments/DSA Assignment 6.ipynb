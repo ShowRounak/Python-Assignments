{
 "cells": [
  {
   "cell_type": "markdown",
   "id": "64a40f2c",
   "metadata": {},
   "source": [
    "#### A permutation perm of n + 1 integers of all the integers in the range [0, n] can be represented as a string s of length n where:\n",
    "\n",
    "s[i] == 'I' if perm[i] < perm[i + 1], and\n",
    "s[i] == 'D' if perm[i] > perm[i + 1].\n",
    "\n",
    "Given a string s, reconstruct the permutation perm and return it. If there are multiple valid permutations perm, return **any of them**.\n",
    "\n",
    "**Example 1:**\n",
    "\n",
    "**Input:** s = \"IDID\"\n",
    "\n",
    "**Output:**\n",
    "\n",
    "[0,4,1,3,2]"
   ]
  },
  {
   "cell_type": "code",
   "execution_count": 1,
   "id": "26474835",
   "metadata": {},
   "outputs": [],
   "source": [
    "def permute(s):\n",
    "    low, high = 0, len(s)\n",
    "    ans = []\n",
    "    for c in s:\n",
    "        if c == 'I':\n",
    "            ans.append(low)\n",
    "            low += 1\n",
    "        else:\n",
    "            ans.append(high)\n",
    "            high -= 1\n",
    "    ans.append(low)\n",
    "    return ans"
   ]
  },
  {
   "cell_type": "code",
   "execution_count": 2,
   "id": "859f59a6",
   "metadata": {},
   "outputs": [
    {
     "data": {
      "text/plain": [
       "[0, 4, 1, 3, 2]"
      ]
     },
     "execution_count": 2,
     "metadata": {},
     "output_type": "execute_result"
    }
   ],
   "source": [
    "permute('IDID')"
   ]
  },
  {
   "cell_type": "markdown",
   "id": "3854e1c6",
   "metadata": {},
   "source": [
    "##### You are given an m x n integer matrix matrix with the following two properties:\n",
    "\n",
    "Each row is sorted in non-decreasing order.\n",
    "The first integer of each row is greater than the last integer of the previous row.\n",
    "\n",
    "Given an integer target, return true *if* target *is in* matrix *or* false *otherwise*.\n",
    "\n",
    "You must write a solution in O(log(m * n)) time complexity.\n",
    "\n",
    "**Example 1:**\n",
    "\n",
    "**Input:** matrix = [[1,3,5,7],[10,11,16,20],[23,30,34,60]], target = 3\n",
    "\n",
    "**Output:** true"
   ]
  },
  {
   "cell_type": "code",
   "execution_count": 85,
   "id": "010e8020",
   "metadata": {},
   "outputs": [],
   "source": [
    "def search_matrix(matrix, target):\n",
    "    m, n = len(matrix), len(matrix[0])\n",
    "    low, high = 0, m * n - 1\n",
    "    while low <= high:\n",
    "        mid = (low + high) // 2\n",
    "        mid_element = matrix[mid // n][mid % n]\n",
    "        if mid_element == target:\n",
    "            return True\n",
    "        elif mid_element < target:\n",
    "            low = mid + 1\n",
    "        else:\n",
    "            high = mid - 1\n",
    "    return False"
   ]
  },
  {
   "cell_type": "code",
   "execution_count": 86,
   "id": "8e554d4c",
   "metadata": {},
   "outputs": [
    {
     "data": {
      "text/plain": [
       "True"
      ]
     },
     "execution_count": 86,
     "metadata": {},
     "output_type": "execute_result"
    }
   ],
   "source": [
    "matrix = [[1,3,5,7],[10,11,16,20],[23,30,34,60]]\n",
    "target = 3\n",
    "\n",
    "search_matrix(matrix,target)"
   ]
  },
  {
   "cell_type": "markdown",
   "id": "6f84b86c",
   "metadata": {},
   "source": [
    "#### Given an array of integers arr, return *true if and only if it is a valid mountain array*.\n",
    "\n",
    "Recall that arr is a mountain array if and only if:\n",
    "\n",
    "arr.length >= 3\n",
    "\n",
    "There exists some i with 0 < i < arr.length - 1 such that:\n",
    "\n",
    "arr[0] < arr[1] < ... < arr[i - 1] < arr[i]\n",
    "\n",
    "arr[i] > arr[i + 1] > ... > arr[arr.length - 1]"
   ]
  },
  {
   "cell_type": "code",
   "execution_count": 108,
   "id": "b64c7b1a",
   "metadata": {},
   "outputs": [],
   "source": [
    "def mountain_array(arr):\n",
    "    n = len(arr)\n",
    "    i = 0\n",
    "\n",
    "    while i + 1 < n and arr[i] < arr[i + 1]:\n",
    "        i += 1\n",
    "\n",
    "    if i == 0 or i == n - 1:\n",
    "        return False\n",
    "\n",
    "    while i + 1 < n and arr[i] > arr[i + 1]:\n",
    "        i += 1\n",
    "\n",
    "    return i == n - 1"
   ]
  },
  {
   "cell_type": "code",
   "execution_count": 109,
   "id": "47898442",
   "metadata": {},
   "outputs": [
    {
     "data": {
      "text/plain": [
       "False"
      ]
     },
     "execution_count": 109,
     "metadata": {},
     "output_type": "execute_result"
    }
   ],
   "source": [
    "mountain_array([2,1])"
   ]
  },
  {
   "cell_type": "markdown",
   "id": "b6ca8a40",
   "metadata": {},
   "source": [
    "#### Given a binary array nums, return *the maximum length of a contiguous subarray with an equal number of* 0 *and* 1.\n",
    "\n",
    "**Example 1:**\n",
    "\n",
    "**Input:** nums = [0,1]\n",
    "\n",
    "**Output:** 2\n",
    "\n",
    "**Explanation:**\n",
    "\n",
    "[0, 1] is the longest contiguous subarray with an equal number of 0 and 1."
   ]
  },
  {
   "cell_type": "code",
   "execution_count": 118,
   "id": "2b0b55f1",
   "metadata": {},
   "outputs": [],
   "source": [
    "def find_max_length(nums):\n",
    "    count = max_len = 0\n",
    "    table = {0: 0}\n",
    "    for i, num in enumerate(nums, 1):\n",
    "        if num == 0:\n",
    "            count -= 1\n",
    "        else:\n",
    "            count += 1\n",
    "\n",
    "        if count in table:\n",
    "            max_len = max(max_len, i - table[count])\n",
    "        else:\n",
    "            table[count] = i\n",
    "\n",
    "    return max_len\n"
   ]
  },
  {
   "cell_type": "code",
   "execution_count": 119,
   "id": "5a5f70fa",
   "metadata": {},
   "outputs": [
    {
     "data": {
      "text/plain": [
       "2"
      ]
     },
     "execution_count": 119,
     "metadata": {},
     "output_type": "execute_result"
    }
   ],
   "source": [
    "find_max_length([0,1])"
   ]
  },
  {
   "cell_type": "markdown",
   "id": "ca58adb6",
   "metadata": {},
   "source": [
    "#### The **product sum** of two equal-length arrays a and b is equal to the sum of a[i] * b[i] for all 0 <= i < a.length (**0-indexed**).\n",
    "\n",
    "For example, if a = [1,2,3,4] and b = [5,2,3,1], the **product sum** would be 1*5 + 2*2 + 3*3 + 4*1 = 22.\n",
    "\n",
    "Given two arrays nums1 and nums2 of length n, return *the **minimum product sum** if you are allowed to **rearrange** the **order** of the elements in* nums1.\n",
    "\n",
    "**Example 1:**\n",
    "\n",
    "**Input:** nums1 = [5,3,4,2], nums2 = [4,2,2,5]\n",
    "\n",
    "**Output:** 40\n",
    "\n",
    "**Explanation:**\n",
    "\n",
    "We can rearrange nums1 to become [3,5,4,2]. The product sum of [3,5,4,2] and [4,2,2,5] is 3*4 + 5*2 + 4*2 + 2*5 = 40."
   ]
  },
  {
   "cell_type": "code",
   "execution_count": 130,
   "id": "9bd5a125",
   "metadata": {},
   "outputs": [],
   "source": [
    "def min_product_sum(nums1, nums2):\n",
    "    nums1.sort()\n",
    "    nums2.sort(reverse=True)\n",
    "    return sum(a * b for a, b in zip(nums1, nums2))"
   ]
  },
  {
   "cell_type": "code",
   "execution_count": 131,
   "id": "aac672e2",
   "metadata": {},
   "outputs": [
    {
     "data": {
      "text/plain": [
       "40"
      ]
     },
     "execution_count": 131,
     "metadata": {},
     "output_type": "execute_result"
    }
   ],
   "source": [
    "nums1 = [5,3,4,2]\n",
    "nums2 = [4,2,2,5]\n",
    "\n",
    "min_product_sum(nums1,nums2)"
   ]
  },
  {
   "cell_type": "markdown",
   "id": "951658c9",
   "metadata": {},
   "source": [
    "#### An integer array original is transformed into a **doubled** array changed by appending **twice the value** of every element in original, and then randomly **shuffling** the resulting array.\n",
    "\n",
    "Given an array changed, return original *if* changed *is a **doubled** array. If* changed *is not a **doubled** array, return an empty array. The elements in* original *may be returned in **any** order*.\n",
    "\n",
    "**Example 1:**\n",
    "\n",
    "**Input:** changed = [1,3,4,2,6,8]\n",
    "\n",
    "**Output:** [1,3,4]\n",
    "\n",
    "**Explanation:** One possible original array could be [1,3,4]:\n",
    "\n",
    "Twice the value of 1 is 1 * 2 = 2.\n",
    "\n",
    "Twice the value of 3 is 3 * 2 = 6.\n",
    "\n",
    "Twice the value of 4 is 4 * 2 = 8.\n",
    "\n",
    "Other original arrays could be [4,3,1] or [3,1,4]."
   ]
  },
  {
   "cell_type": "code",
   "execution_count": 172,
   "id": "e8795145",
   "metadata": {},
   "outputs": [],
   "source": [
    "from collections import Counter\n",
    "\n",
    "def findOriginalArray(changed):\n",
    "    if len(changed) % 2 == 1:\n",
    "        return []\n",
    "    freq = Counter(changed)\n",
    "    ans = []\n",
    "    for num in sorted(freq):\n",
    "        if freq[num] > freq[2 * num]:\n",
    "            return []\n",
    "        ans.extend([num] * freq[num])\n",
    "        freq[2 * num] -= freq[num]\n",
    "    return ans"
   ]
  },
  {
   "cell_type": "code",
   "execution_count": 175,
   "id": "8c7016ea",
   "metadata": {},
   "outputs": [
    {
     "data": {
      "text/plain": [
       "[1, 3, 4]"
      ]
     },
     "execution_count": 175,
     "metadata": {},
     "output_type": "execute_result"
    }
   ],
   "source": [
    "findOriginalArray([1,3,4,2,6,8])"
   ]
  },
  {
   "cell_type": "markdown",
   "id": "95b27c61",
   "metadata": {},
   "source": [
    "#### Given two sparse matrices mat1 of size m x k and mat2 of size k x n, return the result of mat1 x mat2. You may assume that multiplication is always possible.\n",
    "\n",
    "**Example 1:**\n",
    "\n",
    "**Input:** mat1 = [[1,0,0],[-1,0,3]], mat2 = [[7,0,0],[0,0,0],[0,0,1]]\n",
    "\n",
    "**Output:**\n",
    "\n",
    "[[7,0,0],[-7,0,3]]"
   ]
  },
  {
   "cell_type": "code",
   "execution_count": 224,
   "id": "6ffd2f65",
   "metadata": {},
   "outputs": [],
   "source": [
    "def mat_multiply(mat1, mat2):\n",
    "    m, k1 = len(mat1), len(mat1[0])\n",
    "    k2, n = len(mat2), len(mat2[0])\n",
    "    result = [[0] * n for _ in range(m)]\n",
    "    for i in range(m):\n",
    "        for k in range(k1):\n",
    "            if mat1[i][k] != 0:\n",
    "                for j in range(n):\n",
    "                    result[i][j] += mat1[i][k] * mat2[k][j]\n",
    "    return result"
   ]
  },
  {
   "cell_type": "code",
   "execution_count": 225,
   "id": "6fc4bf0a",
   "metadata": {},
   "outputs": [
    {
     "data": {
      "text/plain": [
       "[[7, 0, 0], [-7, 0, 3]]"
      ]
     },
     "execution_count": 225,
     "metadata": {},
     "output_type": "execute_result"
    }
   ],
   "source": [
    "mat1 = [[1,0,0],[-1,0,3]]\n",
    "mat2 = [[7,0,0],[0,0,0],[0,0,1]]\n",
    "\n",
    "mat_multiply(mat1,mat2)"
   ]
  },
  {
   "cell_type": "code",
   "execution_count": null,
   "id": "d4ebab50",
   "metadata": {},
   "outputs": [],
   "source": []
  }
 ],
 "metadata": {
  "kernelspec": {
   "display_name": "Python 3 (ipykernel)",
   "language": "python",
   "name": "python3"
  },
  "language_info": {
   "codemirror_mode": {
    "name": "ipython",
    "version": 3
   },
   "file_extension": ".py",
   "mimetype": "text/x-python",
   "name": "python",
   "nbconvert_exporter": "python",
   "pygments_lexer": "ipython3",
   "version": "3.9.13"
  }
 },
 "nbformat": 4,
 "nbformat_minor": 5
}
