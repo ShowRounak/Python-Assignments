{
 "cells": [
  {
   "cell_type": "markdown",
   "id": "c86c9c83",
   "metadata": {},
   "source": [
    "Given an integer `n`, return *`true` if it is a power of three. Otherwise, return `false`*.\n",
    "\n",
    "An integer `n` is a power of three, if there exists an integer `x` such that `n == 3x`.\n",
    "\n",
    "**Example 1:**\n",
    "Input: n = 27\n",
    "\n",
    "Output: true\n",
    "\n",
    "Explanation: 27 = 33"
   ]
  },
  {
   "cell_type": "code",
   "execution_count": 16,
   "id": "3a58171c",
   "metadata": {},
   "outputs": [],
   "source": [
    "def isPowerOfThree(n: int) -> bool:\n",
    "    if n == 1:\n",
    "        return True\n",
    "    if n < 1 or n % 3 != 0:\n",
    "        return False\n",
    "    return isPowerOfThree(n // 3)"
   ]
  },
  {
   "cell_type": "code",
   "execution_count": 17,
   "id": "2ff46e71",
   "metadata": {},
   "outputs": [
    {
     "data": {
      "text/plain": [
       "True"
      ]
     },
     "execution_count": 17,
     "metadata": {},
     "output_type": "execute_result"
    }
   ],
   "source": [
    "isPowerOfThree(n=27)"
   ]
  },
  {
   "cell_type": "code",
   "execution_count": 18,
   "id": "35086967",
   "metadata": {},
   "outputs": [
    {
     "data": {
      "text/plain": [
       "False"
      ]
     },
     "execution_count": 18,
     "metadata": {},
     "output_type": "execute_result"
    }
   ],
   "source": [
    "isPowerOfThree(n=0)"
   ]
  },
  {
   "cell_type": "markdown",
   "id": "c70bcfb8",
   "metadata": {},
   "source": [
    "You have a list `arr` of all integers in the range `[1, n]` sorted in a strictly increasing order. Apply the following algorithm on `arr`:\n",
    "\n",
    "- Starting from left to right, remove the first number and every other number afterward until you reach the end of the list.\n",
    "- Repeat the previous step again, but this time from right to left, remove the rightmost number and every other number from the remaining numbers.\n",
    "- Keep repeating the steps again, alternating left to right and right to left, until a single number remains.\n",
    "\n",
    "Given the integer `n`, return *the last number that remains in* `arr`.\n",
    "\n",
    "**Example 1:**\n",
    "Input: n = 9\n",
    "\n",
    "Output: 6\n",
    "\n",
    "Explanation:\n",
    "\n",
    "arr = [1, 2,3, 4,5, 6,7, 8,9]\n",
    "\n",
    "arr = [2,4, 6,8]\n",
    "\n",
    "arr = [2, 6]\n",
    "\n",
    "arr = [6]\n"
   ]
  },
  {
   "cell_type": "code",
   "execution_count": 40,
   "id": "99a4dc32",
   "metadata": {},
   "outputs": [],
   "source": [
    "def lastRemaining(n):\n",
    "    if n == 1:\n",
    "        return 1\n",
    "    return 2 * (n // 2 + 1 - lastRemaining(n // 2))"
   ]
  },
  {
   "cell_type": "code",
   "execution_count": 41,
   "id": "25b2cff9",
   "metadata": {},
   "outputs": [
    {
     "data": {
      "text/plain": [
       "6"
      ]
     },
     "execution_count": 41,
     "metadata": {},
     "output_type": "execute_result"
    }
   ],
   "source": [
    "lastRemaining(9)"
   ]
  },
  {
   "cell_type": "markdown",
   "id": "486f0b97",
   "metadata": {},
   "source": [
    "Given a string calculate length of the string using recursion.\n",
    "\n",
    "**Examples:**\n",
    "Input : str = \"abcd\"\n",
    "\n",
    "Output :4\n",
    "\n",
    "Input : str = \"GEEKSFORGEEKS\"\n",
    "\n",
    "Output :13"
   ]
  },
  {
   "cell_type": "code",
   "execution_count": 46,
   "id": "0c8cd8ae",
   "metadata": {},
   "outputs": [],
   "source": [
    "def recursiveLength(s: str) -> int:\n",
    "    if s == '':\n",
    "        return 0\n",
    "    return 1 + recursiveLength(s[1:])"
   ]
  },
  {
   "cell_type": "code",
   "execution_count": 47,
   "id": "7322616c",
   "metadata": {},
   "outputs": [
    {
     "data": {
      "text/plain": [
       "4"
      ]
     },
     "execution_count": 47,
     "metadata": {},
     "output_type": "execute_result"
    }
   ],
   "source": [
    "recursiveLength(\"abcd\")"
   ]
  },
  {
   "cell_type": "code",
   "execution_count": 48,
   "id": "7f60b202",
   "metadata": {},
   "outputs": [
    {
     "data": {
      "text/plain": [
       "13"
      ]
     },
     "execution_count": 48,
     "metadata": {},
     "output_type": "execute_result"
    }
   ],
   "source": [
    "recursiveLength(\"GEEKSFORGEEKS\")"
   ]
  },
  {
   "cell_type": "markdown",
   "id": "aeecee2f",
   "metadata": {},
   "source": [
    "**Question 7**\n",
    "\n",
    "Given a string **str**, the task is to print all the permutations of **str**. A **permutation** is an arrangement of all or part of a set of objects, with regard to the order of the arrangement. For instance, the words ‘bat’ and ‘tab’ represents two distinct permutation (or arrangements) of a similar three letter word.\n",
    "\n",
    "Input: str = “cd”\n",
    "\n",
    "**Output:** cd dc\n",
    " \n",
    "**Input:** str = “abb”\n",
    " \n",
    "**Output:** abb abb bab bba bab bba"
   ]
  },
  {
   "cell_type": "code",
   "execution_count": 54,
   "id": "68d5b307",
   "metadata": {},
   "outputs": [],
   "source": [
    "def permute(str):\n",
    "    if len(str) == 1:\n",
    "        return [str]\n",
    "\n",
    "    permutations = []\n",
    "    for i in range(len(str)):\n",
    "        char = str[i]\n",
    "        remaining = str[:i] + str[i+1:]\n",
    "        sub_permutations = permute(remaining)\n",
    "\n",
    "        for perm in sub_permutations:\n",
    "            permutations.append(char + perm)\n",
    "\n",
    "    return permutations"
   ]
  },
  {
   "cell_type": "code",
   "execution_count": 55,
   "id": "59199834",
   "metadata": {},
   "outputs": [
    {
     "data": {
      "text/plain": [
       "['cd', 'dc']"
      ]
     },
     "execution_count": 55,
     "metadata": {},
     "output_type": "execute_result"
    }
   ],
   "source": [
    "permute(\"cd\")"
   ]
  },
  {
   "cell_type": "markdown",
   "id": "3b757cd7",
   "metadata": {},
   "source": [
    "**Question 8**\n",
    "\n",
    "Given a string, count total number of consonants in it. A consonant is an English alphabet character that is not vowel (a, e, i, o and u). Examples of constants are b, c, d, f, and g.\n",
    "\n",
    "**Examples :**\n",
    "Input : abc de\n",
    "\n",
    "Output : 3\n",
    "\n",
    "Explanation: There are three consonants b, c and d.\n",
    "\n",
    "Input : geeksforgeeks portal\n",
    "\n",
    "Output : 12"
   ]
  },
  {
   "cell_type": "code",
   "execution_count": 114,
   "id": "b5a3cd58",
   "metadata": {},
   "outputs": [],
   "source": [
    "def count_consonants(s):\n",
    "    vowels = ['a', 'e', 'i', 'o', 'u']\n",
    "    count = 0\n",
    "\n",
    "    def helper(s):\n",
    "        nonlocal count\n",
    "        if len(s) == 0:\n",
    "            return\n",
    "        elif s[0].lower() not in vowels and s[0].isalpha():\n",
    "            count += 1\n",
    "        helper(s[1:])\n",
    "\n",
    "    helper(s)\n",
    "    return count"
   ]
  },
  {
   "cell_type": "code",
   "execution_count": 115,
   "id": "1b758231",
   "metadata": {},
   "outputs": [
    {
     "data": {
      "text/plain": [
       "12"
      ]
     },
     "execution_count": 115,
     "metadata": {},
     "output_type": "execute_result"
    }
   ],
   "source": [
    "count_consonants('geeksforgeeks portal')"
   ]
  },
  {
   "cell_type": "code",
   "execution_count": null,
   "id": "2ca0188f",
   "metadata": {},
   "outputs": [],
   "source": [
    "\n"
   ]
  },
  {
   "cell_type": "code",
   "execution_count": null,
   "id": "732c9796",
   "metadata": {},
   "outputs": [],
   "source": []
  }
 ],
 "metadata": {
  "kernelspec": {
   "display_name": "Python 3 (ipykernel)",
   "language": "python",
   "name": "python3"
  },
  "language_info": {
   "codemirror_mode": {
    "name": "ipython",
    "version": 3
   },
   "file_extension": ".py",
   "mimetype": "text/x-python",
   "name": "python",
   "nbconvert_exporter": "python",
   "pygments_lexer": "ipython3",
   "version": "3.9.13"
  }
 },
 "nbformat": 4,
 "nbformat_minor": 5
}
