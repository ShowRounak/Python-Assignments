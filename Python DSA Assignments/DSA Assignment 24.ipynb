{
 "cells": [
  {
   "cell_type": "markdown",
   "id": "aeded4c5",
   "metadata": {},
   "source": [
    "#### Given a roman numeral, convert it to an integer.\n",
    "\n",
    "**Example 1:**\n",
    "\n",
    "Input: s = \"III\"\n",
    "\n",
    "Output: 3\n",
    "\n",
    "Explanation: III = 3."
   ]
  },
  {
   "cell_type": "code",
   "execution_count": 1,
   "id": "cfe7c65b",
   "metadata": {},
   "outputs": [
    {
     "name": "stdout",
     "output_type": "stream",
     "text": [
      "Roman Numeral: XXVII\n",
      "Integer Value: 27\n"
     ]
    }
   ],
   "source": [
    "def roman_to_integer(s):\n",
    "    roman_values = {\n",
    "        'I': 1,\n",
    "        'V': 5,\n",
    "        'X': 10,\n",
    "        'L': 50,\n",
    "        'C': 100,\n",
    "        'D': 500,\n",
    "        'M': 1000\n",
    "    }\n",
    "\n",
    "    total = 0\n",
    "    prev_value = 0\n",
    "\n",
    "    for c in s[::-1]:\n",
    "        curr_value = roman_values[c]\n",
    "        if curr_value >= prev_value:\n",
    "            total += curr_value\n",
    "        else:\n",
    "            total -= curr_value\n",
    "        prev_value = curr_value\n",
    "\n",
    "    return total\n",
    "\n",
    "roman_numeral = \"XXVII\"\n",
    "integer_value = roman_to_integer(roman_numeral)\n",
    "print(\"Roman Numeral:\", roman_numeral)\n",
    "print(\"Integer Value:\", integer_value)\n"
   ]
  },
  {
   "cell_type": "markdown",
   "id": "5a4527aa",
   "metadata": {},
   "source": [
    "#### 2. Longest Substring Without Repeating Characters\n",
    "Given a string `s`, find the length of the **longest substring** without repeating characters.\n",
    "\n",
    "**Example 1:**\n",
    "\n",
    "Input: s = \"abcabcbb\"\n",
    "\n",
    "Output: 3\n",
    "\n",
    "Explanation: The answer is \"abc\", with the length of 3."
   ]
  },
  {
   "cell_type": "code",
   "execution_count": 2,
   "id": "995a080c",
   "metadata": {},
   "outputs": [
    {
     "name": "stdout",
     "output_type": "stream",
     "text": [
      "String: abcabcbb\n",
      "Length of Longest Substring: 3\n"
     ]
    }
   ],
   "source": [
    "def longest_substring(s):\n",
    "    # Dictionary to store the last occurrence of each character\n",
    "    char_dict = {}\n",
    "    max_length = 0\n",
    "    start = 0\n",
    "\n",
    "    for end in range(len(s)):\n",
    "        # Check if the current character is already in the dictionary\n",
    "        if s[end] in char_dict:\n",
    "            # Update the start position of the substring to the next position after the last occurrence\n",
    "            start = max(start, char_dict[s[end]] + 1)\n",
    "\n",
    "        # Update the last occurrence of the current character\n",
    "        char_dict[s[end]] = end\n",
    "\n",
    "        # Update the maximum length of the substring\n",
    "        max_length = max(max_length, end - start + 1)\n",
    "\n",
    "    return max_length\n",
    "\n",
    "s = \"abcabcbb\"\n",
    "length = longest_substring(s)\n",
    "print(\"String:\", s)\n",
    "print(\"Length of Longest Substring:\", length)"
   ]
  },
  {
   "cell_type": "markdown",
   "id": "2080c9f3",
   "metadata": {},
   "source": [
    "#### 3. **Majority Element**\n",
    "\n",
    "Given an array `nums` of size `n`, return *the majority element*.\n",
    "\n",
    "The majority element is the element that appears more than `⌊n / 2⌋` times. You may assume that the majority element always exists in the array.\n",
    "\n",
    "Example 1:\n",
    "\n",
    "Input: nums = [3,2,3]\n",
    "\n",
    "Output: 3"
   ]
  },
  {
   "cell_type": "code",
   "execution_count": 3,
   "id": "0d4ff12f",
   "metadata": {},
   "outputs": [
    {
     "name": "stdout",
     "output_type": "stream",
     "text": [
      "Array: [2, 2, 1, 1, 1, 2, 2]\n",
      "Majority Element: 2\n"
     ]
    }
   ],
   "source": [
    "def majority_element(nums):\n",
    "    count = 0\n",
    "    candidate = None\n",
    "\n",
    "    for num in nums:\n",
    "        if count == 0:\n",
    "            candidate = num\n",
    "        if num == candidate:\n",
    "            count += 1\n",
    "        else:\n",
    "            count -= 1\n",
    "\n",
    "    return candidate\n",
    "\n",
    "\n",
    "nums = [2, 2, 1, 1, 1, 2, 2]\n",
    "majority = majority_element(nums)\n",
    "print(\"Array:\", nums)\n",
    "print(\"Majority Element:\", majority)"
   ]
  },
  {
   "cell_type": "markdown",
   "id": "cb142b53",
   "metadata": {},
   "source": [
    "#### 4. **Group Anagram**\n",
    "\n",
    "Given an array of strings `strs`, group **the anagrams** together. You can return the answer in **any order**.\n",
    "\n",
    "An **Anagram** is a word or phrase formed by rearranging the letters of a different word or phrase, typically using all the original letters exactly once.\n",
    "\n",
    "**Example 1:**\n",
    "\n",
    "Input: strs = [\"eat\",\"tea\",\"tan\",\"ate\",\"nat\",\"bat\"]\\\n",
    "\n",
    "Output: [[\"bat\"],[\"nat\",\"tan\"],[\"ate\",\"eat\",\"tea\"]]"
   ]
  },
  {
   "cell_type": "code",
   "execution_count": 4,
   "id": "83179fd5",
   "metadata": {},
   "outputs": [
    {
     "name": "stdout",
     "output_type": "stream",
     "text": [
      "Input: ['eat', 'tea', 'tan', 'ate', 'nat', 'bat']\n",
      "Anagram Groups: [['eat', 'tea', 'ate'], ['tan', 'nat'], ['bat']]\n"
     ]
    }
   ],
   "source": [
    "from collections import defaultdict\n",
    "\n",
    "def group_anagrams(strs):\n",
    "    anagram_groups = defaultdict(list)\n",
    "\n",
    "    for word in strs:\n",
    "        # Sort the characters of the word to create a unique key\n",
    "        sorted_word = ''.join(sorted(word))\n",
    "        # Append the word to the list of anagrams with the same key\n",
    "        anagram_groups[sorted_word].append(word)\n",
    "\n",
    "    return list(anagram_groups.values())\n",
    "\n",
    "\n",
    "strs = [\"eat\", \"tea\", \"tan\", \"ate\", \"nat\", \"bat\"]\n",
    "anagram_groups = group_anagrams(strs)\n",
    "print(\"Input:\", strs)\n",
    "print(\"Anagram Groups:\", anagram_groups)"
   ]
  },
  {
   "cell_type": "markdown",
   "id": "804787ef",
   "metadata": {},
   "source": [
    "#### 5. **Ugly Numbers**\n",
    "\n",
    "An **ugly number** is a positive integer whose prime factors are limited to `2`, `3`, and `5`.\n",
    "\n",
    "Given an integer `n`, return *the* `nth` ***ugly number***.\n",
    "\n",
    "**Example 1:**\n",
    "\n",
    "Input: n = 10\n",
    "\n",
    "Output: 12\n",
    "\n",
    "Explanation: [1, 2, 3, 4, 5, 6, 8, 9, 10, 12] is the sequence of the first 10 ugly numbers."
   ]
  },
  {
   "cell_type": "code",
   "execution_count": 5,
   "id": "bb47ca0b",
   "metadata": {},
   "outputs": [
    {
     "name": "stdout",
     "output_type": "stream",
     "text": [
      "n: 10\n",
      "Nth Ugly Number: 12\n"
     ]
    }
   ],
   "source": [
    "def nth_ugly_number(n):\n",
    "    ugly_numbers = [1]\n",
    "    p2 = p3 = p5 = 0\n",
    "\n",
    "    for _ in range(1, n):\n",
    "        # Calculate the next ugly number as the minimum of the multiples of 2, 3, and 5\n",
    "        next_ugly = min(ugly_numbers[p2] * 2, ugly_numbers[p3] * 3, ugly_numbers[p5] * 5)\n",
    "        ugly_numbers.append(next_ugly)\n",
    "\n",
    "        # Move the pointers to the next multiples of 2, 3, and 5\n",
    "        if next_ugly == ugly_numbers[p2] * 2:\n",
    "            p2 += 1\n",
    "        if next_ugly == ugly_numbers[p3] * 3:\n",
    "            p3 += 1\n",
    "        if next_ugly == ugly_numbers[p5] * 5:\n",
    "            p5 += 1\n",
    "\n",
    "    return ugly_numbers[n - 1]\n",
    "\n",
    "\n",
    "n = 10\n",
    "ugly_number = nth_ugly_number(n)\n",
    "print(\"n:\", n)\n",
    "print(\"Nth Ugly Number:\", ugly_number)"
   ]
  },
  {
   "cell_type": "markdown",
   "id": "e90711d1",
   "metadata": {},
   "source": [
    "#### 6. **Top K Frequent Words**\n",
    "\n",
    "Given an array of strings `words` and an integer `k`, return *the* `k` *most frequent strings*.\n",
    "\n",
    "Return the answer **sorted** by **the frequency** from highest to lowest. Sort the words with the same frequency by their **lexicographical order**.\n",
    "\n",
    "**Example 1:**\n",
    "\n",
    "Input: words = [\"i\",\"love\",\"leetcode\",\"i\",\"love\",\"coding\"], k = 2\n",
    "\n",
    "Output: [\"i\",\"love\"]\n",
    "\n",
    "Explanation: \"i\" and \"love\" are the two most frequent words.\n",
    "\n",
    "|Note that \"i\" comes before \"love\" due to a lower alphabetical order."
   ]
  },
  {
   "cell_type": "code",
   "execution_count": 6,
   "id": "98ffa6f8",
   "metadata": {},
   "outputs": [
    {
     "name": "stdout",
     "output_type": "stream",
     "text": [
      "Words: ['i', 'love', 'leetcode', 'i', 'love', 'coding']\n",
      "Top 2 Frequent Words: ['i', 'love']\n"
     ]
    }
   ],
   "source": [
    "from collections import Counter\n",
    "\n",
    "def top_k_frequent_words(words, k):\n",
    "    word_counts = Counter(words)\n",
    "\n",
    "    # Sort the words based on frequency (in descending order) and lexicographical order\n",
    "    sorted_words = sorted(word_counts.keys(), key=lambda x: (-word_counts[x], x))\n",
    "\n",
    "    return sorted_words[:k]\n",
    "\n",
    "\n",
    "words = [\"i\", \"love\", \"leetcode\", \"i\", \"love\", \"coding\"]\n",
    "k = 2\n",
    "top_k = top_k_frequent_words(words, k)\n",
    "print(\"Words:\", words)\n",
    "print(f\"Top {k} Frequent Words:\", top_k)"
   ]
  },
  {
   "cell_type": "markdown",
   "id": "7afd1c6d",
   "metadata": {},
   "source": [
    "#### 7. **Sliding Window Maximum**\n",
    "\n",
    "You are given an array of integers `nums`, there is a sliding window of size `k` which is moving from the very left of the array to the very right. You can only see the `k` numbers in the window. Each time the sliding window moves right by one position.\n",
    "\n",
    "Return *the max sliding window*.\n",
    "\n",
    "**Example 1:**\n",
    "\n",
    "Input: nums = [1,3,-1,-3,5,3,6,7], k = 3\n",
    "\n",
    "Output: [3,3,5,5,6,7]\n"
   ]
  },
  {
   "cell_type": "code",
   "execution_count": 7,
   "id": "8a366df2",
   "metadata": {},
   "outputs": [
    {
     "name": "stdout",
     "output_type": "stream",
     "text": [
      "Input: nums = [1, 3, -1, -3, 5, 3, 6, 7] k = 3\n",
      "Max Sliding Window: [3, 3, 5, 5, 6, 7]\n"
     ]
    }
   ],
   "source": [
    "\n",
    "from collections import deque\n",
    "\n",
    "def max_sliding_window(nums, k):\n",
    "    result = []\n",
    "    window = deque()\n",
    "\n",
    "    for i, num in enumerate(nums):\n",
    "        if window and window[0] <= i - k:\n",
    "            window.popleft()\n",
    "\n",
    "        while window and nums[window[-1]] < num:\n",
    "            window.pop()\n",
    "        window.append(i)\n",
    "\n",
    "        if i >= k - 1:\n",
    "            result.append(nums[window[0]])\n",
    "\n",
    "    return result\n",
    "\n",
    "\n",
    "nums = [1, 3, -1, -3, 5, 3, 6, 7]\n",
    "k = 3\n",
    "max_window = max_sliding_window(nums, k)\n",
    "print(\"Input: nums =\", nums, \"k =\", k)\n",
    "print(\"Max Sliding Window:\", max_window)"
   ]
  },
  {
   "cell_type": "markdown",
   "id": "128264fd",
   "metadata": {},
   "source": [
    "#### 8. **Find K Closest Elements**\n",
    "\n",
    "Given a **sorted** integer array `arr`, two integers `k` and `x`, return the `k` closest integers to `x` in the array. The result should also be sorted in ascending order.\n",
    "\n",
    "An integer `a` is closer to `x` than an integer `b` if:\n",
    "\n",
    "- `|a - x| < |b - x|`, or\n",
    "- `|a - x| == |b - x|` and `a < b`\n",
    "\n",
    "**Example 1:**\n",
    "\n",
    "Input: arr = [1,2,3,4,5], k = 4, x = 3\n",
    "\n",
    "Output: [1,2,3,4]"
   ]
  },
  {
   "cell_type": "code",
   "execution_count": 9,
   "id": "f28e6295",
   "metadata": {},
   "outputs": [
    {
     "name": "stdout",
     "output_type": "stream",
     "text": [
      "Input: arr = [1, 2, 3, 4, 5] k = 4 x = 3\n",
      "Closest Elements: [1, 2, 3, 4]\n"
     ]
    }
   ],
   "source": [
    "def find_closest_elements(arr, k, x):\n",
    "    left = 0\n",
    "    right = len(arr) - k\n",
    "\n",
    "    while left < right:\n",
    "        mid = (left + right) // 2\n",
    "        if x - arr[mid] > arr[mid + k] - x:\n",
    "            left = mid + 1\n",
    "        else:\n",
    "            right = mid\n",
    "\n",
    "    return arr[left:left + k]\n",
    "\n",
    "arr = [1, 2, 3, 4, 5]\n",
    "k = 4\n",
    "x = 3\n",
    "closest_elements = find_closest_elements(arr, k, x)\n",
    "print(\"Input: arr =\", arr, \"k =\", k, \"x =\", x)\n",
    "print(\"Closest Elements:\", closest_elements)"
   ]
  },
  {
   "cell_type": "code",
   "execution_count": null,
   "id": "2ea743dc",
   "metadata": {},
   "outputs": [],
   "source": []
  }
 ],
 "metadata": {
  "kernelspec": {
   "display_name": "Python 3 (ipykernel)",
   "language": "python",
   "name": "python3"
  },
  "language_info": {
   "codemirror_mode": {
    "name": "ipython",
    "version": 3
   },
   "file_extension": ".py",
   "mimetype": "text/x-python",
   "name": "python",
   "nbconvert_exporter": "python",
   "pygments_lexer": "ipython3",
   "version": "3.9.13"
  }
 },
 "nbformat": 4,
 "nbformat_minor": 5
}
