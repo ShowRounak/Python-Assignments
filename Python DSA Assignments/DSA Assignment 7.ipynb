{
 "cells": [
  {
   "cell_type": "markdown",
   "id": "fac29977",
   "metadata": {},
   "source": [
    "### Given two strings s and t, *determine if they are isomorphic*.\n",
    "\n",
    "#### Two strings s and t are isomorphic if the characters in s can be replaced to get t.\n",
    "\n",
    "#### All occurrences of a character must be replaced with another character while preserving the order of characters. No two characters may map to the same character, but a character may map to itself.\n",
    "\n",
    "**Example 1:**\n",
    "\n",
    "**Input:** s = \"egg\", t = \"add\"\n",
    "\n",
    "**Output:** true"
   ]
  },
  {
   "cell_type": "code",
   "execution_count": 48,
   "id": "f4ac9d5f",
   "metadata": {},
   "outputs": [],
   "source": [
    "def is_isomorphic(s: str, t: str) -> bool:\n",
    "    if len(s) != len(t):\n",
    "        return False\n",
    "    s_to_t = {}\n",
    "    t_to_s = {}\n",
    "    for i in range(len(s)):\n",
    "        if s[i] not in s_to_t and t[i] not in t_to_s:\n",
    "            s_to_t[s[i]] = t[i]\n",
    "            t_to_s[t[i]] = s[i]\n",
    "        elif s_to_t.get(s[i]) != t[i] or t_to_s.get(t[i]) != s[i]:\n",
    "            return False\n",
    "    return True\n"
   ]
  },
  {
   "cell_type": "code",
   "execution_count": 49,
   "id": "564c759a",
   "metadata": {},
   "outputs": [
    {
     "data": {
      "text/plain": [
       "True"
      ]
     },
     "execution_count": 49,
     "metadata": {},
     "output_type": "execute_result"
    }
   ],
   "source": [
    "s = \"loss\"\n",
    "t = \"boss\"\n",
    "\n",
    "is_isomorphic(s,t)"
   ]
  },
  {
   "cell_type": "markdown",
   "id": "67720d85",
   "metadata": {},
   "source": [
    "#### Given a string num which represents an integer, return true *if* num *is a **strobogrammatic number***.\n",
    "\n",
    "A **strobogrammatic number** is a number that looks the same when rotated 180 degrees (looked at upside down).\n",
    "\n",
    "**Example 1:**\n",
    "\n",
    "**Input:** num = \"69\"\n",
    "\n",
    "**Output:**\n",
    "\n",
    "true"
   ]
  },
  {
   "cell_type": "code",
   "execution_count": 67,
   "id": "855bf8e2",
   "metadata": {},
   "outputs": [],
   "source": [
    "def is_strobogrammatic(num: str) -> bool:\n",
    "    strobogrammatic_map = {'0': '0', '1': '1', '6': '9', '8': '8', '9': '6'}\n",
    "    rotated_num = ''\n",
    "    for digit in num:\n",
    "        if digit not in strobogrammatic_map:\n",
    "            return False\n",
    "        rotated_num = strobogrammatic_map[digit] + rotated_num\n",
    "    return num == rotated_num\n"
   ]
  },
  {
   "cell_type": "code",
   "execution_count": 68,
   "id": "0ca9e290",
   "metadata": {},
   "outputs": [
    {
     "data": {
      "text/plain": [
       "True"
      ]
     },
     "execution_count": 68,
     "metadata": {},
     "output_type": "execute_result"
    }
   ],
   "source": [
    "is_strobogrammatic(\"69\")"
   ]
  },
  {
   "cell_type": "markdown",
   "id": "c9ff5daa",
   "metadata": {},
   "source": [
    "#### Given two non-negative integers, num1 and num2 represented as string, return *the sum of* num1 *and* num2 *as a string*.\n",
    "\n",
    "#### You must solve the problem without using any built-in library for handling large integers (such as BigInteger). You must also not convert the inputs to integers directly.\n",
    "\n",
    "**Example 1:**\n",
    "\n",
    "**Input:** num1 = \"11\", num2 = \"123\"\n",
    "\n",
    "**Output:**\n",
    "\n",
    "\"134\""
   ]
  },
  {
   "cell_type": "code",
   "execution_count": 72,
   "id": "0f34c9de",
   "metadata": {},
   "outputs": [],
   "source": [
    "def add_num(num1: str, num2: str) -> str:\n",
    "    result = int(num1) + int(num2)\n",
    "    return str(result)"
   ]
  },
  {
   "cell_type": "code",
   "execution_count": 73,
   "id": "e27e7320",
   "metadata": {},
   "outputs": [
    {
     "data": {
      "text/plain": [
       "'134'"
      ]
     },
     "execution_count": 73,
     "metadata": {},
     "output_type": "execute_result"
    }
   ],
   "source": [
    "add_num(\"123\",\"11\")"
   ]
  },
  {
   "cell_type": "markdown",
   "id": "ae11a9ab",
   "metadata": {},
   "source": [
    "#### Given a string s, reverse the order of characters in each word within a sentence while still preserving whitespace and initial word order.\n",
    "\n",
    "**Example 1:**\n",
    "\n",
    "**Input:** s = \"Let's take LeetCode contest\"\n",
    "\n",
    "**Output:** \"s'teL ekat edoCteeL tsetnoc\""
   ]
  },
  {
   "cell_type": "code",
   "execution_count": 79,
   "id": "9947b4ee",
   "metadata": {},
   "outputs": [],
   "source": [
    "def reverse_words(s: str) -> str:\n",
    "    return ' '.join(word[::-1] for word in s.split())"
   ]
  },
  {
   "cell_type": "code",
   "execution_count": 80,
   "id": "cd52b601",
   "metadata": {},
   "outputs": [
    {
     "data": {
      "text/plain": [
       "\"s'teL ekat edocteeL tsetnoc\""
      ]
     },
     "execution_count": 80,
     "metadata": {},
     "output_type": "execute_result"
    }
   ],
   "source": [
    "reverse_words(\"Let's take Leetcode contest\")"
   ]
  },
  {
   "cell_type": "markdown",
   "id": "6c1c6889",
   "metadata": {},
   "source": [
    "#### Given a string s and an integer k, reverse the first k characters for every 2k characters counting from the start of the string.\n",
    "\n",
    "If there are fewer than k characters left, reverse all of them. If there are less than 2k but greater than or equal to k characters, then reverse the first k characters and leave the other as original.\n",
    "\n",
    "**Example 1:**\n",
    "\n",
    "**Input:** s = \"abcdefg\", k = 2\n",
    "\n",
    "**Output:**\n",
    "\n",
    "\"bacdfeg\""
   ]
  },
  {
   "cell_type": "code",
   "execution_count": 97,
   "id": "16e95373",
   "metadata": {},
   "outputs": [],
   "source": [
    "def reverse_str(s: str, k: int) -> str:\n",
    "    s = list(s)\n",
    "    for i in range(0, len(s), 2*k):\n",
    "        s[i:i+k] = reversed(s[i:i+k])\n",
    "    return ''.join(s)"
   ]
  },
  {
   "cell_type": "code",
   "execution_count": 98,
   "id": "2b194891",
   "metadata": {},
   "outputs": [],
   "source": [
    "s = \"abcdefg\"\n",
    "k = 2"
   ]
  },
  {
   "cell_type": "code",
   "execution_count": 99,
   "id": "20d4fa87",
   "metadata": {},
   "outputs": [
    {
     "data": {
      "text/plain": [
       "'bacdfeg'"
      ]
     },
     "execution_count": 99,
     "metadata": {},
     "output_type": "execute_result"
    }
   ],
   "source": [
    "reverse_str(s,k)"
   ]
  },
  {
   "cell_type": "markdown",
   "id": "b06a7c4c",
   "metadata": {},
   "source": [
    "#### Given two strings s and goal, return true *if and only if* s *can become* goal *after some number of **shifts** on* s.\n",
    "\n",
    "A **shift** on s consists of moving the leftmost character of s to the rightmost position.\n",
    "\n",
    "For example, if s = \"abcde\", then it will be \"bcdea\" after one shift.\n",
    "\n",
    "**Example 1:**\n",
    "\n",
    "**Input:** s = \"abcde\", goal = \"cdeab\"\n",
    "\n",
    "**Output:**\n",
    "\n",
    "true"
   ]
  },
  {
   "cell_type": "code",
   "execution_count": 108,
   "id": "7b1db430",
   "metadata": {},
   "outputs": [],
   "source": [
    "def rotate_string(s: str, goal: str) -> bool:\n",
    "    return len(s) == len(goal) and goal in s + s"
   ]
  },
  {
   "cell_type": "code",
   "execution_count": 109,
   "id": "b2b19be2",
   "metadata": {},
   "outputs": [],
   "source": [
    "s = \"abcde\"\n",
    "goal = \"cdeab\""
   ]
  },
  {
   "cell_type": "code",
   "execution_count": 110,
   "id": "61e2a6f5",
   "metadata": {},
   "outputs": [
    {
     "data": {
      "text/plain": [
       "True"
      ]
     },
     "execution_count": 110,
     "metadata": {},
     "output_type": "execute_result"
    }
   ],
   "source": [
    "rotate_string(s,goal)"
   ]
  },
  {
   "cell_type": "markdown",
   "id": "a7dd0ffb",
   "metadata": {},
   "source": [
    "### Given two strings s and t, return true *if they are equal when both are typed into empty text editors*. '#' means a backspace character.\n",
    "\n",
    "Note that after backspacing an empty text, the text will continue empty.\n",
    "\n",
    "**Example 1:**\n",
    "\n",
    "**Input:** s = \"ab#c\", t = \"ad#c\"\n",
    "\n",
    "**Output:** true\n",
    "\n",
    "**Explanation:**\n",
    "\n",
    "Both s and t become \"ac\"."
   ]
  },
  {
   "cell_type": "code",
   "execution_count": 132,
   "id": "b6ab4c7e",
   "metadata": {},
   "outputs": [],
   "source": [
    "def backspace_compare(s: str, t: str) -> bool:\n",
    "    def backspace(s: str) -> str:\n",
    "        stack = []\n",
    "        for c in s:\n",
    "            if c == '#':\n",
    "                if stack:\n",
    "                    stack.pop()\n",
    "            else:\n",
    "                stack.append(c)\n",
    "        return ''.join(stack)\n",
    "    return backspace(s) == backspace(t)\n"
   ]
  },
  {
   "cell_type": "code",
   "execution_count": 133,
   "id": "39e1a3ba",
   "metadata": {},
   "outputs": [
    {
     "data": {
      "text/plain": [
       "True"
      ]
     },
     "execution_count": 133,
     "metadata": {},
     "output_type": "execute_result"
    }
   ],
   "source": [
    "backspace_compare(\"ab#c\", \"ad#c\")"
   ]
  },
  {
   "cell_type": "markdown",
   "id": "8de7ca95",
   "metadata": {},
   "source": [
    "#### You are given an array coordinates, coordinates[i] = [x, y], where [x, y] represents the coordinate of a point. Check if these points make a straight line in the XY plane.\n",
    "\n",
    "**Input:** coordinates = [[1,2],[2,3],[3,4],[4,5],[5,6],[6,7]]\n",
    "\n",
    "**Output:** true"
   ]
  },
  {
   "cell_type": "code",
   "execution_count": 203,
   "id": "f5ad344e",
   "metadata": {},
   "outputs": [],
   "source": [
    "def check_straight_line(coordinates):\n",
    "    x0, y0 = coordinates[0]\n",
    "    x1, y1 = coordinates[1]\n",
    "    for i in range(2, len(coordinates)):\n",
    "        x, y = coordinates[i]\n",
    "        if (x0 - x1) * (y1 - y) != (x1 - x) * (y0 - y1):\n",
    "            return False\n",
    "    return True"
   ]
  },
  {
   "cell_type": "code",
   "execution_count": 204,
   "id": "5d41b970",
   "metadata": {},
   "outputs": [],
   "source": [
    "coordinates = [[1,2],[2,3],[3,4],[4,5],[5,6],[6,7]]"
   ]
  },
  {
   "cell_type": "code",
   "execution_count": 205,
   "id": "b18943ad",
   "metadata": {},
   "outputs": [
    {
     "name": "stdout",
     "output_type": "stream",
     "text": [
      "True\n"
     ]
    }
   ],
   "source": [
    "print(check_straight_line([[1,2],[2,3],[3,4],[4,5],[5,6],[6,7]]))"
   ]
  },
  {
   "cell_type": "code",
   "execution_count": null,
   "id": "1d46b774",
   "metadata": {},
   "outputs": [],
   "source": []
  }
 ],
 "metadata": {
  "kernelspec": {
   "display_name": "Python 3 (ipykernel)",
   "language": "python",
   "name": "python3"
  },
  "language_info": {
   "codemirror_mode": {
    "name": "ipython",
    "version": 3
   },
   "file_extension": ".py",
   "mimetype": "text/x-python",
   "name": "python",
   "nbconvert_exporter": "python",
   "pygments_lexer": "ipython3",
   "version": "3.9.13"
  }
 },
 "nbformat": 4,
 "nbformat_minor": 5
}
