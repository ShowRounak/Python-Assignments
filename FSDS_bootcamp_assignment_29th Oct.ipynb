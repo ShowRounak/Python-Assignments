{
 "cells": [
  {
   "cell_type": "markdown",
   "id": "996e662d",
   "metadata": {},
   "source": [
    "1. write a function which will try to find out len of a string without using an inbuilt len function \n",
    "2. write a function which  will be able to print an index of list element without using an index function\n",
    "3. write a function which will be able to print an ip address of your system\n",
    "4. write a function which will shutdown your system\n",
    "5. write a function which will take input as a list with any kind of numeric value and give an out as a multiplication of \n",
    "all the numeric data l = [3.5, 6.56, 4,5,\"sudh\" , \"ineuron\" , 'fsda bootcamp 2.0']\n",
    "6. write a function which will be able to read all the mails \n",
    "7 . write a function which will be able to send a mail to anyone \n",
    "8. write a function which will be able to read a doc/word file from your system "
   ]
  },
  {
   "cell_type": "markdown",
   "id": "4f71d93f",
   "metadata": {},
   "source": [
    "### write a function which will try to find out len of a string without using an inbuilt len function"
   ]
  },
  {
   "cell_type": "code",
   "execution_count": 34,
   "id": "6ba8c71b",
   "metadata": {},
   "outputs": [],
   "source": [
    "def length(a):\n",
    "    \"\"\" Function to find the length of a string\"\"\"\n",
    "    counter = 0\n",
    "    for i in a:\n",
    "        counter = counter + 1\n",
    "    return counter"
   ]
  },
  {
   "cell_type": "code",
   "execution_count": 35,
   "id": "e23be113",
   "metadata": {},
   "outputs": [],
   "source": [
    "s = \"string\""
   ]
  },
  {
   "cell_type": "code",
   "execution_count": 36,
   "id": "b47a3a64",
   "metadata": {},
   "outputs": [
    {
     "data": {
      "text/plain": [
       "6"
      ]
     },
     "execution_count": 36,
     "metadata": {},
     "output_type": "execute_result"
    }
   ],
   "source": [
    "length(s)"
   ]
  },
  {
   "cell_type": "code",
   "execution_count": 37,
   "id": "26eeaebb",
   "metadata": {},
   "outputs": [],
   "source": [
    "l1 = [1,2,3,4,5]"
   ]
  },
  {
   "cell_type": "code",
   "execution_count": 38,
   "id": "f9715f4b",
   "metadata": {},
   "outputs": [
    {
     "data": {
      "text/plain": [
       "5"
      ]
     },
     "execution_count": 38,
     "metadata": {},
     "output_type": "execute_result"
    }
   ],
   "source": [
    "length(l1)"
   ]
  },
  {
   "cell_type": "markdown",
   "id": "a22e8d5f",
   "metadata": {},
   "source": [
    "### write a function which will be able to print an index of list element without using an index function"
   ]
  },
  {
   "cell_type": "code",
   "execution_count": 39,
   "id": "96806067",
   "metadata": {},
   "outputs": [],
   "source": [
    "l2 = [1,2,3,4,5,6,\"rik\", \"iNeuron\"]"
   ]
  },
  {
   "cell_type": "code",
   "execution_count": 40,
   "id": "457308ce",
   "metadata": {},
   "outputs": [],
   "source": [
    "def test1(li):\n",
    "    for i in range(0, length(li)):\n",
    "        print(f\"The index of {li[i]} is {i}\")"
   ]
  },
  {
   "cell_type": "code",
   "execution_count": 41,
   "id": "4fc3b026",
   "metadata": {},
   "outputs": [
    {
     "name": "stdout",
     "output_type": "stream",
     "text": [
      "The index of 1 is 0\n",
      "The index of 2 is 1\n",
      "The index of 3 is 2\n",
      "The index of 4 is 3\n",
      "The index of 5 is 4\n",
      "The index of 6 is 5\n",
      "The index of rik is 6\n",
      "The index of iNeuron is 7\n"
     ]
    }
   ],
   "source": [
    "test1(l2)"
   ]
  },
  {
   "cell_type": "code",
   "execution_count": 42,
   "id": "04a8f1a8",
   "metadata": {},
   "outputs": [
    {
     "name": "stdout",
     "output_type": "stream",
     "text": [
      "The index of 1 is 0\n",
      "The index of 2 is 1\n",
      "The index of 3 is 2\n",
      "The index of 4 is 3\n",
      "The index of 5 is 4\n"
     ]
    }
   ],
   "source": [
    "test1(l1)"
   ]
  },
  {
   "cell_type": "markdown",
   "id": "456b74ac",
   "metadata": {},
   "source": [
    "### write a function which will be able to print an ip address of your system"
   ]
  },
  {
   "cell_type": "code",
   "execution_count": 43,
   "id": "1f515716",
   "metadata": {},
   "outputs": [],
   "source": [
    "import socket"
   ]
  },
  {
   "cell_type": "code",
   "execution_count": 45,
   "id": "49752cfe",
   "metadata": {},
   "outputs": [
    {
     "data": {
      "text/plain": [
       "'192.168.29.128'"
      ]
     },
     "execution_count": 45,
     "metadata": {},
     "output_type": "execute_result"
    }
   ],
   "source": [
    "socket.gethostbyname(socket.gethostname())"
   ]
  },
  {
   "cell_type": "code",
   "execution_count": 46,
   "id": "f9466b86",
   "metadata": {},
   "outputs": [],
   "source": [
    "def ip_add():\n",
    "    ip = socket.gethostbyname(socket.gethostname())\n",
    "    return ip"
   ]
  },
  {
   "cell_type": "code",
   "execution_count": 47,
   "id": "25a9d41c",
   "metadata": {},
   "outputs": [
    {
     "data": {
      "text/plain": [
       "'192.168.29.128'"
      ]
     },
     "execution_count": 47,
     "metadata": {},
     "output_type": "execute_result"
    }
   ],
   "source": [
    "ip_add()"
   ]
  },
  {
   "cell_type": "markdown",
   "id": "e5f69409",
   "metadata": {},
   "source": [
    "### write a function which will shutdown your system"
   ]
  },
  {
   "cell_type": "code",
   "execution_count": 48,
   "id": "8ffae773",
   "metadata": {},
   "outputs": [],
   "source": [
    "import os"
   ]
  },
  {
   "cell_type": "code",
   "execution_count": null,
   "id": "21a933de",
   "metadata": {},
   "outputs": [],
   "source": [
    "# os.system(\"shutdown /s /t 4\") #it means initiate a shutdown after 4 seconds\n",
    "\n",
    "# /s - shutdown\n",
    "# /r - restart\n",
    "# /t - timer"
   ]
  },
  {
   "cell_type": "markdown",
   "id": "676c3620",
   "metadata": {},
   "source": [
    "### write a function which will take input as a list with any kind of numeric value and give an out as a multiplication of all the numeric data l = [3.5, 6.56, 4,5,\"sudh\" , \"ineuron\" , 'fsda bootcamp 2.0']"
   ]
  },
  {
   "cell_type": "code",
   "execution_count": 49,
   "id": "56e18adf",
   "metadata": {},
   "outputs": [],
   "source": [
    "def multiplication(a):\n",
    "    \"\"\" Returns the multiplication of integars and floats in a list\"\"\"\n",
    "    S = 1\n",
    "    for i in a:\n",
    "        if type(i) == int or type(i) == float:\n",
    "                S = i * S\n",
    "    return S"
   ]
  },
  {
   "cell_type": "code",
   "execution_count": 50,
   "id": "95883b55",
   "metadata": {},
   "outputs": [
    {
     "data": {
      "text/plain": [
       "30.0"
      ]
     },
     "execution_count": 50,
     "metadata": {},
     "output_type": "execute_result"
    }
   ],
   "source": [
    "l = [1,2.5,3,4,\"rik\"]\n",
    "multiplication(l)"
   ]
  },
  {
   "cell_type": "code",
   "execution_count": 51,
   "id": "543ce2d3",
   "metadata": {},
   "outputs": [
    {
     "data": {
      "text/plain": [
       "459.19999999999993"
      ]
     },
     "execution_count": 51,
     "metadata": {},
     "output_type": "execute_result"
    }
   ],
   "source": [
    "l1 = [3.5, 6.56, 4,5,\"sudh\" , \"ineuron\" , 'fsda bootcamp 2.0']\n",
    "multiplication(l1)"
   ]
  },
  {
   "cell_type": "markdown",
   "id": "a9c400e9",
   "metadata": {},
   "source": [
    "### write a function which will be able to read all the mails "
   ]
  },
  {
   "cell_type": "code",
   "execution_count": 58,
   "id": "aff4dc59",
   "metadata": {},
   "outputs": [
    {
     "name": "stdout",
     "output_type": "stream",
     "text": [
      "From : Google <no-reply@accounts.google.com>\n",
      "\n",
      "Subject : Security alert\n",
      "\n",
      "From : Times Prime <support@timesprime.com>\n",
      "\n",
      "Subject : Re: Android - TimesPrime Feedback - Rounak - 30-10-2022\n",
      "\n",
      "From : Times Prime <support@timesprime.com>\n",
      "\n",
      "Subject : Request Received - Android - TimesPrime Feedback - Rounak -\n",
      " 30-10-2022\n",
      "\n",
      "From : query ineuron <query@ineuron.ai>\n",
      "\n",
      "Subject : Re: FSDS bootcamp 2.0 assignment 29th Oct\n",
      "\n",
      "From : \"UNiDAYS - Student Identify\" <offers@m.myunidays.com>\n",
      "\n",
      "Subject : ACTION REQUIRED: activate your UNiDAYS membership\n",
      "\n",
      "From : AJIO <alert@mailer.ajio.in>\n",
      "\n",
      "Subject : Innerwear & Loungewear Essentials for Him & Her!\n",
      "\n",
      "From : LinkedIn Job Alerts <jobalerts-noreply@linkedin.com>\n",
      "\n",
      "Subject : =?UTF-8?Q?12_new_jobs_for_=E2=80=9CContent_Writer=E2=80=9D?=\n",
      "\n",
      "From : ICICI Prudential Mutual Fund <info@service.icicipruamc.com>\n",
      "\n",
      "Subject : Celebrate World Savings Day\n",
      "\n",
      "From : Myntra <updates@myntra.com>\n",
      "\n",
      "Subject : =?UTF-8?B?8J+aqCBQUklDRSBEUk9QIE9OIExFVknigJlTIPCfmqg=?=\n",
      "\n",
      "From : Myntra <updates@myntra.com>\n",
      "\n",
      "Subject : =?UTF-8?B?8J+aqCBQUklDRSBEUk9QIE9OIExFVknigJlTIPCfmqg=?=\n",
      "\n"
     ]
    },
    {
     "ename": "NameError",
     "evalue": "name 'traceback' is not defined",
     "output_type": "error",
     "traceback": [
      "\u001b[1;31m---------------------------------------------------------------------------\u001b[0m",
      "\u001b[1;31mUnicodeDecodeError\u001b[0m                        Traceback (most recent call last)",
      "Input \u001b[1;32mIn [58]\u001b[0m, in \u001b[0;36mread_email_from_gmail\u001b[1;34m()\u001b[0m\n\u001b[0;32m     28\u001b[0m \u001b[38;5;28;01mif\u001b[39;00m \u001b[38;5;28misinstance\u001b[39m(arr, \u001b[38;5;28mtuple\u001b[39m):\n\u001b[1;32m---> 29\u001b[0m     msg \u001b[38;5;241m=\u001b[39m email\u001b[38;5;241m.\u001b[39mmessage_from_string(\u001b[38;5;28;43mstr\u001b[39;49m\u001b[43m(\u001b[49m\u001b[43marr\u001b[49m\u001b[43m[\u001b[49m\u001b[38;5;241;43m1\u001b[39;49m\u001b[43m]\u001b[49m\u001b[43m,\u001b[49m\u001b[38;5;124;43m'\u001b[39;49m\u001b[38;5;124;43mutf-8\u001b[39;49m\u001b[38;5;124;43m'\u001b[39;49m\u001b[43m)\u001b[49m)\n\u001b[0;32m     30\u001b[0m     email_subject \u001b[38;5;241m=\u001b[39m msg[\u001b[38;5;124m'\u001b[39m\u001b[38;5;124msubject\u001b[39m\u001b[38;5;124m'\u001b[39m]\n",
      "\u001b[1;31mUnicodeDecodeError\u001b[0m: 'utf-8' codec can't decode byte 0xa0 in position 7753: invalid start byte",
      "\nDuring handling of the above exception, another exception occurred:\n",
      "\u001b[1;31mNameError\u001b[0m                                 Traceback (most recent call last)",
      "Input \u001b[1;32mIn [58]\u001b[0m, in \u001b[0;36m<cell line: 39>\u001b[1;34m()\u001b[0m\n\u001b[0;32m     36\u001b[0m         traceback\u001b[38;5;241m.\u001b[39mprint_exc() \n\u001b[0;32m     37\u001b[0m         \u001b[38;5;28mprint\u001b[39m(\u001b[38;5;28mstr\u001b[39m(e))\n\u001b[1;32m---> 39\u001b[0m \u001b[43mread_email_from_gmail\u001b[49m\u001b[43m(\u001b[49m\u001b[43m)\u001b[49m\n",
      "Input \u001b[1;32mIn [58]\u001b[0m, in \u001b[0;36mread_email_from_gmail\u001b[1;34m()\u001b[0m\n\u001b[0;32m     33\u001b[0m                 \u001b[38;5;28mprint\u001b[39m(\u001b[38;5;124m'\u001b[39m\u001b[38;5;124mSubject : \u001b[39m\u001b[38;5;124m'\u001b[39m \u001b[38;5;241m+\u001b[39m email_subject \u001b[38;5;241m+\u001b[39m \u001b[38;5;124m'\u001b[39m\u001b[38;5;130;01m\\n\u001b[39;00m\u001b[38;5;124m'\u001b[39m)\n\u001b[0;32m     35\u001b[0m \u001b[38;5;28;01mexcept\u001b[39;00m \u001b[38;5;167;01mException\u001b[39;00m \u001b[38;5;28;01mas\u001b[39;00m e:\n\u001b[1;32m---> 36\u001b[0m     \u001b[43mtraceback\u001b[49m\u001b[38;5;241m.\u001b[39mprint_exc() \n\u001b[0;32m     37\u001b[0m     \u001b[38;5;28mprint\u001b[39m(\u001b[38;5;28mstr\u001b[39m(e))\n",
      "\u001b[1;31mNameError\u001b[0m: name 'traceback' is not defined"
     ]
    }
   ],
   "source": [
    "import smtplib\n",
    "import time\n",
    "import imaplib\n",
    "import email\n",
    "ORG_EMAIL = \"@gmail.com\" \n",
    "FROM_EMAIL = 'rounak.1210@gmail.com'\n",
    "FROM_PWD = 'hkalooexoguchuvt'\n",
    "SMTP_SERVER = \"imap.gmail.com\" \n",
    "SMTP_PORT = 993\n",
    "imaplib._MAXLINE = 400000000\n",
    "\n",
    "def read_email_from_gmail():\n",
    "    try:\n",
    "        mail = imaplib.IMAP4_SSL(SMTP_SERVER)\n",
    "        mail.login(FROM_EMAIL,FROM_PWD)\n",
    "        mail.select('inbox')\n",
    "\n",
    "        data = mail.search(None, 'ALL')\n",
    "        mail_ids = data[1]\n",
    "        id_list = mail_ids[0].split()   \n",
    "        first_email_id = int(id_list[0])\n",
    "        latest_email_id = int(id_list[-1])\n",
    "\n",
    "        for i in range(latest_email_id,first_email_id, -1):\n",
    "            data = mail.fetch(str(i), '(RFC822)' )\n",
    "            for response_part in data:\n",
    "                arr = response_part[0]\n",
    "                if isinstance(arr, tuple):\n",
    "                    msg = email.message_from_string(str(arr[1],'utf-8'))\n",
    "                    email_subject = msg['subject']\n",
    "                    email_from = msg['from']\n",
    "                    print('From : ' + email_from + '\\n')\n",
    "                    print('Subject : ' + email_subject + '\\n')\n",
    "\n",
    "    except Exception as e:\n",
    "        traceback.print_exc() \n",
    "        print(str(e))\n",
    "\n",
    "read_email_from_gmail()"
   ]
  },
  {
   "cell_type": "markdown",
   "id": "03dd2a08",
   "metadata": {},
   "source": [
    "### write a function which will be able to send a mail to anyone"
   ]
  },
  {
   "cell_type": "code",
   "execution_count": 56,
   "id": "2bb09c41",
   "metadata": {},
   "outputs": [],
   "source": [
    "import smtplib, ssl\n",
    "port = 465  # For SSL\n",
    "smtp_server = \"smtp.gmail.com\"\n",
    "sender_email = \"rounak.1210@gmail.com\"  # Enter your address\n",
    "receiver_email = \"surajitnandy.1306@gmail.com\"  # Enter receiver address\n",
    "password = 'hkalooexoguchuvt' #generate app password through the google account > security > app password\n",
    "message = \"\"\"this is my message from python code \"\"\"\n",
    "\n",
    "context = ssl.create_default_context()\n",
    "with smtplib.SMTP_SSL(smtp_server, port, context=context) as server:\n",
    "    server.login(sender_email, password)\n",
    "    server.sendmail(sender_email, receiver_email, message)"
   ]
  },
  {
   "cell_type": "markdown",
   "id": "a2a0e9b8",
   "metadata": {},
   "source": [
    "### write a function which will be able to read a doc/word file from your system"
   ]
  },
  {
   "cell_type": "code",
   "execution_count": 61,
   "id": "027db317",
   "metadata": {},
   "outputs": [
    {
     "name": "stdout",
     "output_type": "stream",
     "text": [
      "Collecting docx2txt\n",
      "  Downloading docx2txt-0.8.tar.gz (2.8 kB)\n",
      "  Preparing metadata (setup.py): started\n",
      "  Preparing metadata (setup.py): finished with status 'done'\n",
      "Building wheels for collected packages: docx2txt\n",
      "  Building wheel for docx2txt (setup.py): started\n",
      "  Building wheel for docx2txt (setup.py): finished with status 'done'\n",
      "  Created wheel for docx2txt: filename=docx2txt-0.8-py3-none-any.whl size=3966 sha256=72cbced93a0111b6ddf3095bc3ed69f5129651ec77fe2d5c2f08bc681c1f6e0f\n",
      "  Stored in directory: c:\\users\\rouna\\appdata\\local\\pip\\cache\\wheels\\40\\75\\01\\e6c444034338bde9c7947d3467807f889123465c2371e77418\n",
      "Successfully built docx2txt\n",
      "Installing collected packages: docx2txt\n",
      "Successfully installed docx2txt-0.8\n",
      "Note: you may need to restart the kernel to use updated packages.\n"
     ]
    }
   ],
   "source": [
    "pip install docx2txt"
   ]
  },
  {
   "cell_type": "code",
   "execution_count": 62,
   "id": "9bb1681e",
   "metadata": {},
   "outputs": [],
   "source": [
    "import docx2txt"
   ]
  },
  {
   "cell_type": "code",
   "execution_count": 64,
   "id": "3b70530b",
   "metadata": {},
   "outputs": [
    {
     "name": "stdout",
     "output_type": "stream",
     "text": [
      "Introduction\n",
      "\n",
      "Looking for a fun and easy way to watch your favorite TV shows and movies? Look no further than Box Flix! With this app, you can easily stream or download your favorite content to your Android device. Plus, with the latest update, you can now enjoy even more features, including: - A new and improved user interface - Better support for HD content - A wider range of supported devices So what are you waiting for? Get the Box Flix APK today and start watching your favorite shows and movies on your Android device!\n",
      "\n",
      "What is Box Flix APK?\n",
      "\n",
      "Box Flix APK is the latest version of the Android app for streaming movies and TV shows. It offers an extensive library of titles to choose from, as well as a variety of ways to watch. You can either stream content directly to your device, or download it for offline viewing. The app also supports Chromecast, so you can watch your favorite shows and movies on the big screen.\n",
      "\n",
      "Features of Box Flix App\n",
      "\n",
      "The Box Flix App is the latest in online streaming entertainment. With it, you can watch your favorite movies and TV shows on your Android device. The app offers a wide range of features that make it a must-have for any movie or TV lover.\n",
      "\n",
      "Some of the key features of the Box Flix App include:\n",
      "\n",
      "A large selection of movies and TV shows: The app offers a huge library of movies and TV shows to choose from. Whether you're looking for the latest blockbuster hit or a classic television series, you're sure to find something to watch on Box Flix.\n",
      "\n",
      "HD streaming: All of the content on Box Flix is available in HD quality. This means that you can enjoy your favorite movies and TV shows in high definition on your Android device.\n",
      "\n",
      "Offline viewing: One of the best features of the Box Flix App is that you can download your favorite movies and TV shows to watch offline. This is perfect for when you're on the go and don't have an Internet connection available.\n",
      "\n",
      "Chromecast support: The app also supports Chromecast, so you can stream your favorite content directly to your television.\n",
      "\n",
      "Easy to use: The interface of the Box Flix App is extremely user-friendly. Navigating through the app is simple and straightforward, so you can start watching your favorite content right away.\n",
      "\n",
      "Conclusion\n",
      "\n",
      "Overall, the Box Flix APK is a great tool for anyone who wants to watch TV shows and movies on their Android device. It's easy to use and has a ton of features, making it a must-have for any TV lover. So what are you waiting for? Download the latest version of the Box Flix APK today!\n",
      "\n",
      "\n",
      "\n",
      "\n",
      "\n",
      "\n",
      "\n",
      "\n",
      "\n",
      "\n",
      "\n",
      "\n",
      "\n",
      "\n",
      "\n",
      "\n",
      "\n",
      "\n",
      "\n",
      "\n",
      "\n",
      "\n",
      "\n",
      "\n",
      "\n",
      "\n",
      "\n",
      "\n",
      "\n",
      "\n",
      "\n",
      "\n",
      "\n",
      "\n",
      "\n",
      "\n",
      "\n",
      "\n",
      "\n",
      "\n",
      "\n",
      "\n",
      "\n",
      "\n",
      "\n",
      "\n",
      "\n",
      "\n",
      "\n",
      "\n",
      "\n",
      "\n",
      "\n",
      "\n",
      "\n",
      "\n",
      "\n",
      "\n",
      "\n",
      "Today, you can watch your favorite shows on the go, anywhere and anytime. Thanks to the wide availability of mobile apps, users have the opportunity to watch their favorite TV shows on their smartphones or tablets anytime they want. However, not all apps are created equal. Some app developers make apps that are more convenient than others, as well as user-friendly; some offer additional features that enhance the experience – such as subtitles in different languages or interactive audiovisuals – while others don’t even offer a way to download their app. This article focuses on one of these apps: The TNT FLASHTV APK download for Android. In it, we will discuss why this app is unique and why you should download it right away if you’re a fan of watching TV shows online. If that sounds like something you’d be interested in, read on!\n",
      "\n",
      "\n",
      "\n",
      "\n",
      "\n",
      "What is the TNT Flash TV APK?\n",
      "\n",
      "The TNT Flash TV APK is a mobile app that lets you watch your favorite TV shows – such as Blindspot, Elementary, Major Crimes, The Last Ship, The Librarians – on your mobile device or tablet. The app has been developed by a company called Digital Turbine Inc. It comes with a host of features that make it easy to stream your favorite TV shows and movies. In addition, it’s free to download. Operating System: Android.\n",
      "\n",
      "\n",
      "\n",
      "Why you should download and install the TNT FLASH TV APK right away\n",
      "\n",
      "The TNT Flash TV app lets you watch your favorite TV shows on your mobile device or tablet. It offers a wide range of content – more than 1,000 shows – that you can stream on your mobile device. It’s free to download and doesn’t require any registration. The app is easy to use, and it offers a wide range of features – such as high-quality streams, interactive audiovisuals, no sign-in required, and subtitles in multiple languages – that make it the best app for watching TV shows online on the go. In addition, the app’s developers have made it available in both the Google Play Store and the Apple App Store. This means that you can download it on your Android device or your Apple device. Operating System: Android, iOS.\n",
      "\n",
      "\n",
      "\n",
      "How to Download and Install the TNT FLASH TV APK\n",
      "\n",
      "If you’re interested in downloading and installing the TNT Flash TV app on your mobile device, you can do so by following these steps: - First, visit the Google Play Store or the App Store on your mobile device. - Next, type “TNT Flash TV” into the search bar. - Choose the app and click “Install.” - After a few seconds, the app will be installed on your mobile device. You can now open it and start watching your favorite TV shows.\n",
      "\n",
      "\n",
      "\n",
      "The Features of the TNT Flash TV APK\n",
      "\n",
      "The TNT Flash TV app comes with a range of useful and convenient features that make it the best app for watching TV shows online. Let’s take a closer look at these features: - Easy to use: The app is very easy to use. You don’t need any registration or subscription to watch your favorite TV shows. - High-quality streams: The app’s developers make sure that the streams are of the highest quality. This means that you can enjoy watching your favorite TV shows on your mobile device or tablet. - Interactive audiovisuals: Another great feature of this app is the fact that it comes with interactive audiovisuals that make watching the TV shows more fun. - No sign-in required: The app doesn’t require you to sign in or create any kind of account. All you have to do is open it on your device, choose a TV show, and start streaming it immediately. - Subtitles in multiple languages: Another reason why this app is the best for watching TV shows online is that it comes with subtitles in multiple languages, so you can watch your favorite shows in any language you want. - Wide range of content: The app has a wide range of content that you can watch on your mobile device. You don’t have to choose from just one TV show or one movie – you can choose from a wide range of content and start streaming your favorite shows right away.\n",
      "\n",
      "\n",
      "\n",
      "Final Words\n",
      "\n",
      "The TNT Flash TV app is the best app for watching TV shows online. It comes with a wide range of features that make it easy to use and very convenient. The app is free to download and doesn’t require any registration or subscription. If you’re looking for an app that lets you watch your favorite TV shows on the go, this is the app for you. We hope that this article has provided you with all the information you need to make an informed decision.\n"
     ]
    }
   ],
   "source": [
    "a = docx2txt.process('tnt flash tv.docx')\n",
    "print(a)"
   ]
  },
  {
   "cell_type": "code",
   "execution_count": 65,
   "id": "b0d15ccd",
   "metadata": {},
   "outputs": [
    {
     "name": "stdout",
     "output_type": "stream",
     "text": [
      " Volume in drive C is Windows\n",
      " Volume Serial Number is D0C1-5A67\n",
      "\n",
      " Directory of C:\\Users\\rouna\n",
      "\n",
      "30-10-2022  16:33    <DIR>          .\n",
      "22-10-2022  16:10    <DIR>          ..\n",
      "30-10-2022  16:34    <DIR>          .conda\n",
      "21-10-2022  16:03                25 .condarc\n",
      "21-10-2022  16:02    <DIR>          .continuum\n",
      "30-10-2022  15:03    <DIR>          .ipynb_checkpoints\n",
      "19-10-2022  19:43    <DIR>          .ipython\n",
      "20-10-2022  20:24    <DIR>          .jupyter\n",
      "21-10-2022  16:27            22,102 1st Oct ineuron.ipynb\n",
      "21-10-2022  16:27            10,583 24th Sept ineuron.ipynb\n",
      "21-10-2022  16:27            34,485 25th Sept ineuron.ipynb\n",
      "29-10-2022  17:42           215,733 29th October iNeuron.ipynb\n",
      "30-10-2022  16:33            25,399 30th Oct iNeuron.ipynb\n",
      "21-10-2022  16:27           224,326 6.3 python list ineuron.ipynb\n",
      "21-10-2022  16:27           197,746 6.4 python tuple and sets.ipynb\n",
      "29-10-2022  14:53           199,514 6.5 Dictionary.ipynb\n",
      "21-10-2022  16:03    <DIR>          anaconda3\n",
      "21-10-2022  16:27            10,768 Array.ipynb\n",
      "21-10-2022  16:27            12,652 Assignments_001_25th_Sept.ipynb\n",
      "19-10-2022  01:07    <DIR>          Contacts\n",
      "21-10-2022  16:27            12,661 Dictionaries & Sets.ipynb\n",
      "19-10-2022  01:09    <DIR>          Documents\n",
      "30-10-2022  13:29    <DIR>          Downloads\n",
      "19-10-2022  01:07    <DIR>          Favorites\n",
      "30-10-2022  13:28             4,375 FSDS bootcamp assignment 29th Oct.ipynb\n",
      "21-10-2022  16:27            12,833 FSDS_bootcamp_assignment_002_Oct_01.ipynb\n",
      "21-10-2022  16:27             6,765 FSDS_bootcamp_assignment_003_Oct_08.ipynb\n",
      "21-10-2022  16:27             4,177 FSDS_bootcamp_assignment_004_Oct_09.ipynb\n",
      "21-10-2022  16:27             6,401 FSDS_bootcamp_assignment_005_Oct_16.ipynb\n",
      "26-10-2022  14:16            30,112 Function and holiday task.ipynb\n",
      "19-10-2022  01:07    <DIR>          Links\n",
      "21-10-2022  16:27            15,396 Misc_exercise.ipynb\n",
      "19-10-2022  01:07    <DIR>          Music\n",
      "21-10-2022  16:27            17,593 Numpy Arrays.ipynb\n",
      "30-10-2022  13:19    <DIR>          OneDrive\n",
      "21-10-2022  16:27            13,775 Pandas.ipynb\n",
      "21-10-2022  16:27             7,001 Python Basic Assignment 1.ipynb\n",
      "21-10-2022  16:27            12,589 Python Basic Assignment 2.ipynb\n",
      "21-10-2022  16:27            15,653 Python Basic Assignment 4.ipynb\n",
      "25-10-2022  16:17            16,705 Python Function - Sudhanshu Sir.ipynb\n",
      "22-10-2022  21:59            10,166 Python Program Discussion in Loops.ipynb\n",
      "19-10-2022  01:07    <DIR>          Saved Games\n",
      "19-10-2022  01:21    <DIR>          Searches\n",
      "30-10-2022  16:31            16,812 tnt flash tv.docx\n",
      "21-10-2022  16:27             2,096 Tuples.ipynb\n",
      "26-10-2022  15:48             3,070 Untitled.ipynb\n",
      "19-10-2022  23:33    <DIR>          Videos\n",
      "              29 File(s)      1,161,513 bytes\n",
      "              18 Dir(s)  105,304,846,336 bytes free\n"
     ]
    }
   ],
   "source": [
    "ls"
   ]
  },
  {
   "cell_type": "code",
   "execution_count": null,
   "id": "d223819c",
   "metadata": {},
   "outputs": [],
   "source": []
  }
 ],
 "metadata": {
  "kernelspec": {
   "display_name": "Python 3 (ipykernel)",
   "language": "python",
   "name": "python3"
  },
  "language_info": {
   "codemirror_mode": {
    "name": "ipython",
    "version": 3
   },
   "file_extension": ".py",
   "mimetype": "text/x-python",
   "name": "python",
   "nbconvert_exporter": "python",
   "pygments_lexer": "ipython3",
   "version": "3.9.13"
  }
 },
 "nbformat": 4,
 "nbformat_minor": 5
}
