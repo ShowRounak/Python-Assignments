{
 "cells": [
  {
   "cell_type": "markdown",
   "id": "5b0b36e8-def9-4e85-8db1-8265f5634fa8",
   "metadata": {},
   "source": [
    "### 1. What does RGBA stand for?"
   ]
  },
  {
   "cell_type": "markdown",
   "id": "60a1b112-dd8a-4199-99f7-28254e292a94",
   "metadata": {},
   "source": [
    "Red-Green-Blue-Alpha"
   ]
  },
  {
   "cell_type": "markdown",
   "id": "eebb3c34-f42a-4db7-abc1-caffba47664a",
   "metadata": {},
   "source": [
    "### 2. From the Pillow module, how do you get the RGBA value of any images?"
   ]
  },
  {
   "cell_type": "code",
   "execution_count": 3,
   "id": "57589239-e2fa-4f46-ad65-be50fd73c2be",
   "metadata": {},
   "outputs": [
    {
     "data": {
      "text/plain": [
       "(255, 0, 0, 255)"
      ]
     },
     "execution_count": 3,
     "metadata": {},
     "output_type": "execute_result"
    }
   ],
   "source": [
    "from PIL import ImageColor\n",
    "\n",
    "ImageColor.getcolor('red', 'RGBA')"
   ]
  },
  {
   "cell_type": "markdown",
   "id": "bc0fd5a5-830d-4929-8b62-72b471a275f0",
   "metadata": {},
   "source": [
    "### 3. What is a box tuple, and how does it work?"
   ]
  },
  {
   "cell_type": "markdown",
   "id": "d20b3fa1-f1cd-414e-9f96-b581ecdba795",
   "metadata": {},
   "source": [
    "Many Pillow's function take box tuple argument. This means pillow is taking a tuple of four integer coordinates that expecting a rectangular region in image. The four integers are in order left, top, right, bottom."
   ]
  },
  {
   "cell_type": "markdown",
   "id": "01b52f58-f73e-460c-a46c-50026c7f6623",
   "metadata": {},
   "source": [
    "### 4. Use your image and load in notebook then, How can you find out the width and height of an Image object?"
   ]
  },
  {
   "cell_type": "code",
   "execution_count": 5,
   "id": "40cc6d82-73c9-48b2-b3ff-f0e2bcc0a6e9",
   "metadata": {},
   "outputs": [
    {
     "name": "stdout",
     "output_type": "stream",
     "text": [
      "width= 1920\n",
      "height= 1200\n"
     ]
    }
   ],
   "source": [
    "from PIL import Image\n",
    "im=Image.open(\"national-park-4k-by-ai-1920×1200.jpg\")\n",
    "width, height = im.size\n",
    "print(\"width=\", width)\n",
    "print(\"height=\", height)"
   ]
  },
  {
   "cell_type": "markdown",
   "id": "e7be88c1-af65-4118-b807-d89d303bd7d8",
   "metadata": {},
   "source": [
    "### 5. What method would you call to get Image object for a 100×100 image, excluding the lower-left quarter of it?"
   ]
  },
  {
   "cell_type": "code",
   "execution_count": 6,
   "id": "173e465a-69b6-438d-906d-1c9430424684",
   "metadata": {},
   "outputs": [
    {
     "data": {
      "image/png": "[encoded data removed]",
      "text/plain": [
       "<PIL.Image.Image image mode=RGBA size=100x100>"
      ]
     },
     "execution_count": 6,
     "metadata": {},
     "output_type": "execute_result"
    }
   ],
   "source": [
    "from PIL import Image\n",
    "\n",
    "Image.new('RGBA', (100,100))"
   ]
  },
  {
   "cell_type": "markdown",
   "id": "c50bfac2-0382-4295-b00c-f1bb8226e514",
   "metadata": {},
   "source": [
    "### 6. After making changes to an Image object, how could you save it as an image file?"
   ]
  },
  {
   "cell_type": "markdown",
   "id": "19534c7e-c43e-4f08-b163-a1ac21b5ffbd",
   "metadata": {},
   "source": [
    "save(filename)"
   ]
  },
  {
   "cell_type": "markdown",
   "id": "c557ab4a-d338-4dc8-871e-5862cc70e614",
   "metadata": {},
   "source": [
    "### 7. What module contains Pillow’s shape-drawing code?"
   ]
  },
  {
   "cell_type": "markdown",
   "id": "222ac48e-4407-42b6-94af-713684b2cee0",
   "metadata": {},
   "source": [
    "ImageDraw"
   ]
  },
  {
   "cell_type": "markdown",
   "id": "ffb4a171-086e-4164-b8aa-556aa39f07d3",
   "metadata": {},
   "source": [
    "### 8. Image objects do not have drawing methods. What kind of object does? How do you get this kind of object?"
   ]
  },
  {
   "cell_type": "markdown",
   "id": "47cf231d-04ab-4e8b-9b0b-afd2c4375be5",
   "metadata": {},
   "source": [
    "wand.drawing.Drawing object has drawing methods.\n",
    "\n",
    "It can be got this way:\n",
    "\n",
    "from wand.drawing import Drawing"
   ]
  },
  {
   "cell_type": "code",
   "execution_count": null,
   "id": "b62771f8-e1e5-4851-b4e6-9614fb2aad73",
   "metadata": {},
   "outputs": [],
   "source": []
  }
 ],
 "metadata": {
  "kernelspec": {
   "display_name": "Python 3 (ipykernel)",
   "language": "python",
   "name": "python3"
  },
  "language_info": {
   "codemirror_mode": {
    "name": "ipython",
    "version": 3
   },
   "file_extension": ".py",
   "mimetype": "text/x-python",
   "name": "python",
   "nbconvert_exporter": "python",
   "pygments_lexer": "ipython3",
   "version": "3.10.6"
  }
 },
 "nbformat": 4,
 "nbformat_minor": 5
}
