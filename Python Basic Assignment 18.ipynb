{
 "cells": [
  {
   "cell_type": "markdown",
   "id": "6904a84b-5dc3-495f-9178-513118950241",
   "metadata": {},
   "source": [
    "### 1. Create a zoo.py file first. Define the hours() function, which prints the string &#39;Open 9-5 daily&#39;. Then, use the interactive interpreter to import the zoo module and call its hours() function."
   ]
  },
  {
   "cell_type": "code",
   "execution_count": 5,
   "id": "6864dc39-1aa5-4ca5-a814-a85453b0e1c4",
   "metadata": {},
   "outputs": [
    {
     "name": "stdout",
     "output_type": "stream",
     "text": [
      "Open 9-5 daily\n"
     ]
    }
   ],
   "source": [
    "import zoo\n",
    "zoo.hours()"
   ]
  },
  {
   "cell_type": "markdown",
   "id": "4ed87c96-ecd6-4a8b-abc3-d75ff54cf6c9",
   "metadata": {},
   "source": [
    "### 2. In the interactive interpreter, import the zoo module as menagerie and call its hours() function."
   ]
  },
  {
   "cell_type": "code",
   "execution_count": 3,
   "id": "f7fe647c-b25a-429a-9fca-b4ef804cfc50",
   "metadata": {},
   "outputs": [
    {
     "name": "stdout",
     "output_type": "stream",
     "text": [
      "Open 9-5 daily\n"
     ]
    }
   ],
   "source": [
    "import zoo as managerie\n",
    "managerie.hours()"
   ]
  },
  {
   "cell_type": "markdown",
   "id": "822be560-5d3a-4ef9-9aac-fa2f327d49d1",
   "metadata": {},
   "source": [
    "### 3. Using the interpreter, explicitly import and call the hours() function from zoo."
   ]
  },
  {
   "cell_type": "code",
   "execution_count": 4,
   "id": "74fecff0-59e7-447c-964e-ed5ebb70d09c",
   "metadata": {},
   "outputs": [
    {
     "name": "stdout",
     "output_type": "stream",
     "text": [
      "Open 9-5 daily\n"
     ]
    }
   ],
   "source": [
    "zoo.hours()"
   ]
  },
  {
   "cell_type": "markdown",
   "id": "88ea5905-d8cf-4537-81bb-9acae8b8e4a1",
   "metadata": {},
   "source": [
    "### 4. Import the hours() function as info and call it."
   ]
  },
  {
   "cell_type": "code",
   "execution_count": 6,
   "id": "78fc247e-b8a6-41c9-a6e6-7e529bcf9c10",
   "metadata": {},
   "outputs": [],
   "source": [
    "from zoo import hours as info"
   ]
  },
  {
   "cell_type": "code",
   "execution_count": 7,
   "id": "b8dfc72e-d291-4d22-acf7-92fcd8089511",
   "metadata": {},
   "outputs": [
    {
     "name": "stdout",
     "output_type": "stream",
     "text": [
      "Open 9-5 daily\n"
     ]
    }
   ],
   "source": [
    "info()"
   ]
  },
  {
   "cell_type": "markdown",
   "id": "77559f50-ed66-482d-bde9-1b557c78ca1c",
   "metadata": {},
   "source": [
    "### 5. Create a plain dictionary with the key-value pairs &#39;a&#39;: 1, &#39;b&#39;: 2, and &#39;c&#39;: 3, and print it out."
   ]
  },
  {
   "cell_type": "code",
   "execution_count": 8,
   "id": "6f5069dd-de72-402f-952b-da09c354d160",
   "metadata": {},
   "outputs": [
    {
     "name": "stdout",
     "output_type": "stream",
     "text": [
      "{'a': 1, 'b': 2, 'c': 3}\n"
     ]
    }
   ],
   "source": [
    "my_dict = {'a':1, 'b':2, 'c':3}\n",
    "print(my_dict)"
   ]
  },
  {
   "cell_type": "markdown",
   "id": "f63fa42e-ae6a-42c5-b2b0-faaddb21827e",
   "metadata": {},
   "source": [
    "### 6.Make an OrderedDict called fancy from the same pairs listed in 5 and print it. Did it print in the same order as plain?"
   ]
  },
  {
   "cell_type": "code",
   "execution_count": 9,
   "id": "ee214e1d-26a8-4724-b0f3-c1c6a3d2c6e7",
   "metadata": {},
   "outputs": [
    {
     "name": "stdout",
     "output_type": "stream",
     "text": [
      "OrderedDict([('a', 1), ('b', 2), ('c', 3)])\n"
     ]
    }
   ],
   "source": [
    "from collections import OrderedDict\n",
    "\n",
    "fancy = OrderedDict()\n",
    "fancy['a'] = 1\n",
    "fancy['b'] = 2\n",
    "fancy['c'] = 3\n",
    "\n",
    "print(fancy)"
   ]
  },
  {
   "cell_type": "markdown",
   "id": "bdc5eb68-97d0-4e04-873a-2062c3fe7642",
   "metadata": {},
   "source": [
    "### 7. Make a default dictionary called dict_of_lists and pass it the argument list. Make the list dict_of_lists[&#39;a&#39;] and append the value &#39;something for a&#39; to it in one assignment. Print dict_of_lists[&#39;a&#39;]."
   ]
  },
  {
   "cell_type": "code",
   "execution_count": 11,
   "id": "f92fdb1c-99e5-4455-b841-190cee530ccf",
   "metadata": {},
   "outputs": [
    {
     "data": {
      "text/plain": [
       "defaultdict(list, {'a': ['something for a']})"
      ]
     },
     "execution_count": 11,
     "metadata": {},
     "output_type": "execute_result"
    }
   ],
   "source": [
    "from collections import defaultdict\n",
    "dict_of_lists = defaultdict(list)\n",
    "dict_of_lists['a'].append('something for a')\n",
    "dict_of_lists"
   ]
  },
  {
   "cell_type": "code",
   "execution_count": null,
   "id": "2a71988b-a412-45a6-b458-aef8464d7f0f",
   "metadata": {},
   "outputs": [],
   "source": []
  }
 ],
 "metadata": {
  "kernelspec": {
   "display_name": "Python 3 (ipykernel)",
   "language": "python",
   "name": "python3"
  },
  "language_info": {
   "codemirror_mode": {
    "name": "ipython",
    "version": 3
   },
   "file_extension": ".py",
   "mimetype": "text/x-python",
   "name": "python",
   "nbconvert_exporter": "python",
   "pygments_lexer": "ipython3",
   "version": "3.10.6"
  }
 },
 "nbformat": 4,
 "nbformat_minor": 5
}
