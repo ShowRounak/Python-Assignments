{
 "cells": [
  {
   "cell_type": "markdown",
   "id": "5c2a19e7",
   "metadata": {},
   "source": [
    "### 1. What exactly is []?"
   ]
  },
  {
   "cell_type": "markdown",
   "id": "1d042d95",
   "metadata": {},
   "source": [
    "It's blank/empty list."
   ]
  },
  {
   "cell_type": "markdown",
   "id": "81887ecc",
   "metadata": {},
   "source": [
    "### 2. In a list of values stored in a variable called spam, how would you assign the value &#39;hello&#39; as the third value? (Assume [2, 4, 6, 8, 10] are in spam.)"
   ]
  },
  {
   "cell_type": "code",
   "execution_count": 1,
   "id": "0c778ed3",
   "metadata": {},
   "outputs": [
    {
     "name": "stdout",
     "output_type": "stream",
     "text": [
      "[2, 4, 6, 'hello', 10]\n"
     ]
    }
   ],
   "source": [
    "spam = [2,4,6,8,10]\n",
    "\n",
    "spam[3] = \"hello\"\n",
    "\n",
    "print(spam)"
   ]
  },
  {
   "cell_type": "markdown",
   "id": "0cff3e8d",
   "metadata": {},
   "source": [
    "## Let&#39;s pretend the spam includes the list [&#39;a&#39;, &#39;b&#39;, &#39;c&#39;, &#39;d&#39;] for the next three queries."
   ]
  },
  {
   "cell_type": "markdown",
   "id": "f9e20632",
   "metadata": {},
   "source": [
    "### 3. What is the value of spam[int(int(&#39;3&#39; * 2) / 11)]?"
   ]
  },
  {
   "cell_type": "code",
   "execution_count": 24,
   "id": "e45de425",
   "metadata": {},
   "outputs": [
    {
     "data": {
      "text/plain": [
       "'d'"
      ]
     },
     "execution_count": 24,
     "metadata": {},
     "output_type": "execute_result"
    }
   ],
   "source": [
    "spam = ['a', 'b', 'c', 'd']\n",
    "\n",
    "spam[int(int('3'*2)/11)] # '3'*2 = '33'; it converts into int33. Then after division by 11, it became spam[3], which is 'd'. "
   ]
  },
  {
   "cell_type": "markdown",
   "id": "4c84f295",
   "metadata": {},
   "source": [
    "### 4. What is the value of spam[-1]?"
   ]
  },
  {
   "cell_type": "code",
   "execution_count": 4,
   "id": "85facea6",
   "metadata": {},
   "outputs": [
    {
     "data": {
      "text/plain": [
       "'d'"
      ]
     },
     "execution_count": 4,
     "metadata": {},
     "output_type": "execute_result"
    }
   ],
   "source": [
    "spam[-1]"
   ]
  },
  {
   "cell_type": "markdown",
   "id": "d8c66179",
   "metadata": {},
   "source": [
    "### 5. What is the value of spam[:2]?"
   ]
  },
  {
   "cell_type": "code",
   "execution_count": 5,
   "id": "c6d3f6ae",
   "metadata": {},
   "outputs": [
    {
     "data": {
      "text/plain": [
       "['a', 'b']"
      ]
     },
     "execution_count": 5,
     "metadata": {},
     "output_type": "execute_result"
    }
   ],
   "source": [
    "spam[:2]"
   ]
  },
  {
   "cell_type": "markdown",
   "id": "e5ff9f1e",
   "metadata": {},
   "source": [
    "## Let&#39;s pretend bacon has the list [3.14, &#39;cat,&#39; 11, &#39;cat,&#39; True] for the next three questions."
   ]
  },
  {
   "cell_type": "code",
   "execution_count": 6,
   "id": "5e2c3e4e",
   "metadata": {},
   "outputs": [],
   "source": [
    "bacon = [3.14, 'cat', 11, 'cat', True]\n"
   ]
  },
  {
   "cell_type": "markdown",
   "id": "0d4681d6",
   "metadata": {},
   "source": [
    "### 6. What is the value of bacon.index(&#39;cat&#39;)?"
   ]
  },
  {
   "cell_type": "code",
   "execution_count": 7,
   "id": "f23b1fdf",
   "metadata": {},
   "outputs": [
    {
     "data": {
      "text/plain": [
       "1"
      ]
     },
     "execution_count": 7,
     "metadata": {},
     "output_type": "execute_result"
    }
   ],
   "source": [
    "bacon.index('cat')"
   ]
  },
  {
   "cell_type": "markdown",
   "id": "2e26b295",
   "metadata": {},
   "source": [
    "### 7. How does bacon.append(99) change the look of the list value in bacon?"
   ]
  },
  {
   "cell_type": "code",
   "execution_count": 8,
   "id": "14904732",
   "metadata": {},
   "outputs": [
    {
     "data": {
      "text/plain": [
       "[3.14, 'cat', 11, 'cat', True, 99]"
      ]
     },
     "execution_count": 8,
     "metadata": {},
     "output_type": "execute_result"
    }
   ],
   "source": [
    "bacon.append(99)\n",
    "\n",
    "bacon"
   ]
  },
  {
   "cell_type": "markdown",
   "id": "87dc09c3",
   "metadata": {},
   "source": [
    "### 8. How does bacon.remove(&#39;cat&#39;) change the look of the list in bacon?"
   ]
  },
  {
   "cell_type": "code",
   "execution_count": 9,
   "id": "62836d9c",
   "metadata": {},
   "outputs": [],
   "source": [
    "bacon.remove('cat')"
   ]
  },
  {
   "cell_type": "code",
   "execution_count": 10,
   "id": "d92e5de6",
   "metadata": {},
   "outputs": [
    {
     "data": {
      "text/plain": [
       "[3.14, 11, 'cat', True, 99]"
      ]
     },
     "execution_count": 10,
     "metadata": {},
     "output_type": "execute_result"
    }
   ],
   "source": [
    "bacon"
   ]
  },
  {
   "cell_type": "markdown",
   "id": "e7e52b39",
   "metadata": {},
   "source": [
    "### 9. What are the list concatenation and list replication operators?"
   ]
  },
  {
   "cell_type": "code",
   "execution_count": 12,
   "id": "5b389b42",
   "metadata": {},
   "outputs": [
    {
     "name": "stdout",
     "output_type": "stream",
     "text": [
      "['a', 'b', 'c', 'd', 3.14, 11, 'cat', True, 99]\n"
     ]
    }
   ],
   "source": [
    "# List concatenation using + operator\n",
    "\n",
    "new_list = spam + bacon  \n",
    "\n",
    "print(new_list)  "
   ]
  },
  {
   "cell_type": "code",
   "execution_count": 13,
   "id": "8610ab48",
   "metadata": {},
   "outputs": [
    {
     "data": {
      "text/plain": [
       "['a', 'b', 'c', 'd', 'a', 'b', 'c', 'd', 'a', 'b', 'c', 'd']"
      ]
     },
     "execution_count": 13,
     "metadata": {},
     "output_type": "execute_result"
    }
   ],
   "source": [
    "# list replication using * operator\n",
    "\n",
    "spam * 3"
   ]
  },
  {
   "cell_type": "markdown",
   "id": "5b5d8a8c",
   "metadata": {},
   "source": [
    "### 10. What is difference between the list methods append() and insert()?"
   ]
  },
  {
   "cell_type": "markdown",
   "id": "2415778c",
   "metadata": {},
   "source": [
    "append() function allows us to add new element at the end of a list. Whereas, using insert() function, we can add element at any specific index of a list. \n",
    "\n",
    "For example,"
   ]
  },
  {
   "cell_type": "code",
   "execution_count": 25,
   "id": "0121a2aa",
   "metadata": {},
   "outputs": [
    {
     "name": "stdout",
     "output_type": "stream",
     "text": [
      "['a', 'b', 'c', 'd']\n",
      "['a', 'b', 'c', 'd', 'e']\n"
     ]
    }
   ],
   "source": [
    "# list append()\n",
    "print(spam)\n",
    "\n",
    "spam.append(\"e\")\n",
    "\n",
    "print(spam)"
   ]
  },
  {
   "cell_type": "code",
   "execution_count": 18,
   "id": "7d9cb516",
   "metadata": {},
   "outputs": [
    {
     "name": "stdout",
     "output_type": "stream",
     "text": [
      "[999, 3.14, 11, 'cat', True, 99]\n",
      "['insert', 999, 3.14, 11, 'cat', True, 99]\n"
     ]
    }
   ],
   "source": [
    "# insert()\n",
    "\n",
    "print(bacon)\n",
    "\n",
    "bacon.insert(0, \"insert\")\n",
    "\n",
    "print(bacon)"
   ]
  },
  {
   "cell_type": "markdown",
   "id": "3221179b",
   "metadata": {},
   "source": [
    "### 11. What are the two methods for removing items from a list?"
   ]
  },
  {
   "cell_type": "code",
   "execution_count": 19,
   "id": "3f5568cc",
   "metadata": {},
   "outputs": [
    {
     "data": {
      "text/plain": [
       "['insert', 3.14, 11, 'cat', True, 99]"
      ]
     },
     "execution_count": 19,
     "metadata": {},
     "output_type": "execute_result"
    }
   ],
   "source": [
    "# one is remove function\n",
    "\n",
    "bacon.remove(999) #it directly removes the element from a list\n",
    "\n",
    "bacon"
   ]
  },
  {
   "cell_type": "code",
   "execution_count": 26,
   "id": "f7e57b3c",
   "metadata": {},
   "outputs": [
    {
     "data": {
      "text/plain": [
       "'a'"
      ]
     },
     "execution_count": 26,
     "metadata": {},
     "output_type": "execute_result"
    }
   ],
   "source": [
    "# another is pop() method\n",
    "\n",
    "spam.pop(0) # it removes the item at a specific index\n"
   ]
  },
  {
   "cell_type": "code",
   "execution_count": 27,
   "id": "fd536113",
   "metadata": {},
   "outputs": [
    {
     "data": {
      "text/plain": [
       "['b', 'c', 'd', 'e']"
      ]
     },
     "execution_count": 27,
     "metadata": {},
     "output_type": "execute_result"
    }
   ],
   "source": [
    "spam"
   ]
  },
  {
   "cell_type": "markdown",
   "id": "f9180682",
   "metadata": {},
   "source": [
    "### 12. Describe how list values and string values are identical."
   ]
  },
  {
   "cell_type": "markdown",
   "id": "a5df3630",
   "metadata": {},
   "source": [
    "Strings and lists are both sequences. These are both used to store data."
   ]
  },
  {
   "cell_type": "markdown",
   "id": "85fbd64c",
   "metadata": {},
   "source": [
    "### 13. What&#39;s the difference between tuples and lists?"
   ]
  },
  {
   "cell_type": "markdown",
   "id": "789a5110",
   "metadata": {},
   "source": [
    "1. Lists are denoted by square brackets. Whereas, tuples are denoted by parenthesis.\n",
    "\n",
    "2. We can modify a list. In the other hand, tuple can't be modified"
   ]
  },
  {
   "cell_type": "markdown",
   "id": "bd039505",
   "metadata": {},
   "source": [
    "### 14. How do you type a tuple value that only contains the integer 42?"
   ]
  },
  {
   "cell_type": "code",
   "execution_count": 33,
   "id": "fbc107a2",
   "metadata": {},
   "outputs": [],
   "source": [
    "t = [42]"
   ]
  },
  {
   "cell_type": "code",
   "execution_count": 34,
   "id": "19fee12e",
   "metadata": {},
   "outputs": [
    {
     "name": "stdout",
     "output_type": "stream",
     "text": [
      "[42]\n",
      "<class 'list'>\n"
     ]
    }
   ],
   "source": [
    "print(t)\n",
    "\n",
    "print(type(t))"
   ]
  },
  {
   "cell_type": "code",
   "execution_count": 41,
   "id": "af802d7f",
   "metadata": {},
   "outputs": [
    {
     "name": "stdout",
     "output_type": "stream",
     "text": [
      "(42,)\n",
      "<class 'tuple'>\n"
     ]
    }
   ],
   "source": [
    "t = tuple(t)\n",
    "print(t)\n",
    "\n",
    "print(type(t))"
   ]
  },
  {
   "cell_type": "code",
   "execution_count": 38,
   "id": "71230cee",
   "metadata": {},
   "outputs": [],
   "source": [
    "# or we can simply write this way\n",
    "tup = (42, )"
   ]
  },
  {
   "cell_type": "code",
   "execution_count": 40,
   "id": "cee8d514",
   "metadata": {},
   "outputs": [
    {
     "name": "stdout",
     "output_type": "stream",
     "text": [
      "(42,)\n",
      "<class 'tuple'>\n"
     ]
    }
   ],
   "source": [
    "print(tup)\n",
    "\n",
    "print(type(tup))"
   ]
  },
  {
   "cell_type": "markdown",
   "id": "17251ae3",
   "metadata": {},
   "source": [
    "### 15. How do you get a list value&#39;s tuple form? How do you get a tuple value&#39;s list form?"
   ]
  },
  {
   "cell_type": "code",
   "execution_count": 42,
   "id": "dd8418e2",
   "metadata": {},
   "outputs": [
    {
     "name": "stdout",
     "output_type": "stream",
     "text": [
      "(1, 2, 3, 4, 5, 6)\n"
     ]
    }
   ],
   "source": [
    "# list value's tuple form\n",
    "\n",
    "my_list = [1,2,3,4,5,6]\n",
    "\n",
    "my_tuple = tuple(my_list)\n",
    "\n",
    "print(my_tuple)"
   ]
  },
  {
   "cell_type": "code",
   "execution_count": 43,
   "id": "65df39f8",
   "metadata": {},
   "outputs": [
    {
     "name": "stdout",
     "output_type": "stream",
     "text": [
      "[11, 22, 33, 44, 55, 66]\n"
     ]
    }
   ],
   "source": [
    "# Tuple value's list form\n",
    "\n",
    "my_tup = (11,22,33,44,55,66)\n",
    "\n",
    "my_lis = list(my_tup)\n",
    "\n",
    "print(my_lis)"
   ]
  },
  {
   "cell_type": "markdown",
   "id": "32dbc30f",
   "metadata": {},
   "source": [
    "### 16. Variables that &quot;contain&quot; list values are not necessarily lists themselves. Instead, what do they contain?"
   ]
  },
  {
   "cell_type": "markdown",
   "id": "bd5bfa0c",
   "metadata": {},
   "source": [
    "List variables don't contain lists - they contain references to lists. \n",
    "\n",
    "For example, "
   ]
  },
  {
   "cell_type": "code",
   "execution_count": 44,
   "id": "3b4b2d75",
   "metadata": {},
   "outputs": [
    {
     "name": "stdout",
     "output_type": "stream",
     "text": [
      "[1, 2, 3, 4, 'hello']\n",
      "[1, 2, 3, 4, 'hello']\n"
     ]
    }
   ],
   "source": [
    "A = [1,2,3,4]\n",
    "\n",
    "B = A\n",
    "\n",
    "B.append(\"hello\")\n",
    "\n",
    "print(A)\n",
    "\n",
    "print(B)"
   ]
  },
  {
   "cell_type": "markdown",
   "id": "b027b3ff",
   "metadata": {},
   "source": [
    "In the above example, I write code to update the B list. But, the A list is also changed.\n",
    "\n",
    "When I create the list and assign it to A variable, I'm actually assign the references of the list to the A variable. Not the values of list. After the copying, both the B and A variable are pointing towards the same reference. This means the values stored in both A and B variable refer to the same lists. And, when I modify the values stored in B variable, I'm modifying the same list that A refers to. \n"
   ]
  },
  {
   "cell_type": "markdown",
   "id": "54e3caeb",
   "metadata": {},
   "source": [
    "### 17. How do you distinguish between copy.copy() and copy.deepcopy()?"
   ]
  },
  {
   "cell_type": "markdown",
   "id": "97cfec81",
   "metadata": {},
   "source": [
    "copy.copy() makes a duplicate copy of the list.\n",
    "\n",
    "In the cases of nested lists, means if the list contains another lists, then copy.deepcopy() will copy the inner lists as well."
   ]
  },
  {
   "cell_type": "code",
   "execution_count": 45,
   "id": "cbf5aea7",
   "metadata": {},
   "outputs": [],
   "source": [
    "import copy"
   ]
  },
  {
   "cell_type": "code",
   "execution_count": 46,
   "id": "11edee9c",
   "metadata": {},
   "outputs": [
    {
     "name": "stdout",
     "output_type": "stream",
     "text": [
      "[1, 2, 3, 4, 5, 6]\n",
      "[1, 2, 3, 4, 5, 6, 'Rounak']\n",
      "[1, 2, 3, 4, 5, 6]\n"
     ]
    }
   ],
   "source": [
    "X = [1,2,3,4,5,6]\n",
    "\n",
    "Y = copy.copy(X)\n",
    "\n",
    "print(Y)\n",
    "\n",
    "Y.append(\"Rounak\")\n",
    "\n",
    "print(Y)\n",
    "print(X)"
   ]
  },
  {
   "cell_type": "code",
   "execution_count": 52,
   "id": "b16f7a27",
   "metadata": {},
   "outputs": [
    {
     "name": "stdout",
     "output_type": "stream",
     "text": [
      "[1, 2, 3, 4, 5, [6, 7, 8, 9]]\n",
      "[1, 2, 3, 4, 5, [6, 7, 8, 9], 'Rounak']\n",
      "[1, 2, 3, 4, 5, [6, 7, 8, 9]]\n"
     ]
    }
   ],
   "source": [
    "XX = [1,2,3,4,5,[6,7,8,9]]\n",
    "\n",
    "YY = copy.deepcopy(XX)\n",
    "\n",
    "print(YY)\n",
    "\n",
    "YY.append(\"Rounak\")\n",
    "\n",
    "print(YY)\n",
    "print(XX)"
   ]
  },
  {
   "cell_type": "code",
   "execution_count": null,
   "id": "d3109aae",
   "metadata": {},
   "outputs": [],
   "source": []
  }
 ],
 "metadata": {
  "kernelspec": {
   "display_name": "Python 3 (ipykernel)",
   "language": "python",
   "name": "python3"
  },
  "language_info": {
   "codemirror_mode": {
    "name": "ipython",
    "version": 3
   },
   "file_extension": ".py",
   "mimetype": "text/x-python",
   "name": "python",
   "nbconvert_exporter": "python",
   "pygments_lexer": "ipython3",
   "version": "3.9.13"
  }
 },
 "nbformat": 4,
 "nbformat_minor": 5
}
