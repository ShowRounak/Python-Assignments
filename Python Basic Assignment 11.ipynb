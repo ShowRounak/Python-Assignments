{
 "cells": [
  {
   "cell_type": "markdown",
   "id": "e2da47e8-4025-434e-937d-b07d23d31b1c",
   "metadata": {},
   "source": [
    "### 1. Create an assert statement that throws an AssertionError if the variable spam is a negative integer."
   ]
  },
  {
   "cell_type": "markdown",
   "id": "269a08c9-6871-495d-8f6f-ee50e6943f89",
   "metadata": {},
   "source": [
    "assert spam > 0, \"Negative not allowed!\""
   ]
  },
  {
   "cell_type": "markdown",
   "id": "202135b5-56c2-4057-bbb8-a50b6ccf1052",
   "metadata": {},
   "source": [
    "### 2. Write an assert statement that triggers an AssertionError if the variables eggs and bacon contain strings that are the same as each other, even if their cases are different (that is, &#39;hello&#39; and &#39;hello&#39; are considered the same, and &#39;goodbye&#39; and &#39;GOODbye&#39; are also considered the same)."
   ]
  },
  {
   "cell_type": "markdown",
   "id": "5fe8906a-5cf3-4346-bae7-f73294016b64",
   "metadata": {},
   "source": [
    "assert eggs.lower()!=bacon.lower(), \"eggs and bacon shouldn't be same!\""
   ]
  },
  {
   "cell_type": "markdown",
   "id": "2bdc66cb-e37b-475d-8fdc-32e6b8687cbb",
   "metadata": {},
   "source": [
    "### 3. Create an assert statement that throws an AssertionError every time."
   ]
  },
  {
   "cell_type": "markdown",
   "id": "985963e3-c9dd-49d3-aad9-4b6e5f8b168d",
   "metadata": {},
   "source": [
    "assert False"
   ]
  },
  {
   "cell_type": "markdown",
   "id": "a99a774e-ae55-4cab-9961-fae090bdd7bd",
   "metadata": {},
   "source": [
    "### 4. What are the two lines that must be present in your software in order to call logging.debug()?"
   ]
  },
  {
   "cell_type": "markdown",
   "id": "44314c1e-bd39-4127-97f9-f052fda34cab",
   "metadata": {},
   "source": [
    "import logging\n",
    "\n",
    "logging.basicConfig(fiename, level=logging.DEBUG)"
   ]
  },
  {
   "cell_type": "markdown",
   "id": "5d8c2950-09f8-45b6-9183-7e6be75d4aab",
   "metadata": {},
   "source": [
    "### 5. What are the two lines that your program must have in order to have logging.debug() send a logging message to a file named programLog.txt?"
   ]
  },
  {
   "cell_type": "markdown",
   "id": "8a95e0e7-2959-4921-aebf-171113d0a63f",
   "metadata": {},
   "source": [
    "import logging\n",
    "\n",
    "logging.basicConfig(fiename, level=logging.DEBUG)"
   ]
  },
  {
   "cell_type": "markdown",
   "id": "90f0b312-a8e3-4b99-9e1d-9a6a9c717199",
   "metadata": {},
   "source": [
    "### 6. What are the five levels of logging?"
   ]
  },
  {
   "cell_type": "markdown",
   "id": "aca9378f-6b91-492c-90b8-ceaca44e643d",
   "metadata": {},
   "source": [
    "logging.error()\n",
    "\n",
    "logging.warning()\n",
    "\n",
    "logging.info()\n",
    "\n",
    "logging.critical()\n",
    "\n",
    "logging.debug()"
   ]
  },
  {
   "cell_type": "markdown",
   "id": "390c5db9-a22e-4aa3-9bdd-80966ddacca0",
   "metadata": {},
   "source": [
    "### 7. What line of code would you add to your software to disable all logging messages?"
   ]
  },
  {
   "cell_type": "markdown",
   "id": "4c90aee7-682f-4fb1-81cb-9e2311dafdf3",
   "metadata": {},
   "source": [
    "logging.disable(level)"
   ]
  },
  {
   "cell_type": "markdown",
   "id": "0f26ffe9-1ba3-4ec0-940d-77c1fc750259",
   "metadata": {},
   "source": [
    "### 8. Why is using logging messages better than using print() to display the same message?"
   ]
  },
  {
   "cell_type": "markdown",
   "id": "1ef21e16-e12e-4a10-821f-94a31a9bffc1",
   "metadata": {},
   "source": [
    "It helps to see where and when a logging call is being made from\n",
    "\n",
    "we can differentiate logging based on severity\n",
    "\n",
    "print does not have any of them"
   ]
  },
  {
   "cell_type": "markdown",
   "id": "5402998c-bbd7-4976-80c7-44885167aecc",
   "metadata": {},
   "source": [
    "### 9. What are the differences between the Step Over, Step In, and Step Out buttons in the debugger?"
   ]
  },
  {
   "cell_type": "markdown",
   "id": "722260a2-93fc-401d-a364-25094463df7f",
   "metadata": {},
   "source": [
    "Step In will dig into method calls.\n",
    "\n",
    "Step Over will just execute the line and go to the next line.\n",
    "\n",
    "Step Out Steps out of the current method and takes you to the caller method."
   ]
  },
  {
   "cell_type": "markdown",
   "id": "3191f75a-a8fb-4f78-b287-d2dfbede42c9",
   "metadata": {},
   "source": [
    "### 10. After you click Continue, when will the debugger stop ?"
   ]
  },
  {
   "cell_type": "markdown",
   "id": "6df2fb7e-3e7a-49b0-b5fe-5f8cd7a9528a",
   "metadata": {},
   "source": [
    "when it has reached the end of a program or a breakpoint"
   ]
  },
  {
   "cell_type": "markdown",
   "id": "2415bfcc-38c3-4c1c-9134-1afa2295cb67",
   "metadata": {},
   "source": [
    "### 11. What is the concept of a breakpoint?"
   ]
  },
  {
   "cell_type": "markdown",
   "id": "6715a473-c0b7-4054-b7ed-e56484093f12",
   "metadata": {},
   "source": [
    "An intentional stopping point or pause put into program for debugging purpose."
   ]
  },
  {
   "cell_type": "code",
   "execution_count": null,
   "id": "f1c2ba60-4d55-4d99-83e3-1a8124f7daa5",
   "metadata": {},
   "outputs": [],
   "source": []
  }
 ],
 "metadata": {
  "kernelspec": {
   "display_name": "Python 3 (ipykernel)",
   "language": "python",
   "name": "python3"
  },
  "language_info": {
   "codemirror_mode": {
    "name": "ipython",
    "version": 3
   },
   "file_extension": ".py",
   "mimetype": "text/x-python",
   "name": "python",
   "nbconvert_exporter": "python",
   "pygments_lexer": "ipython3",
   "version": "3.10.6"
  }
 },
 "nbformat": 4,
 "nbformat_minor": 5
}
