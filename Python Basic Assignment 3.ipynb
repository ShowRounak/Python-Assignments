{
 "cells": [
  {
   "cell_type": "markdown",
   "id": "888154ad",
   "metadata": {},
   "source": [
    "### 1. Why are functions advantageous to have in your programs?"
   ]
  },
  {
   "cell_type": "markdown",
   "id": "bce3b431",
   "metadata": {},
   "source": [
    "Functions are very helpful to increase the reusubility the code. So that we don't have to write the exact same code again & again."
   ]
  },
  {
   "cell_type": "markdown",
   "id": "df7b1972",
   "metadata": {},
   "source": [
    "### 2. When does the code in a function run: when it&#39;s specified or when it&#39;s called?"
   ]
  },
  {
   "cell_type": "markdown",
   "id": "af43a0a3",
   "metadata": {},
   "source": [
    "When it's called"
   ]
  },
  {
   "cell_type": "markdown",
   "id": "fb306259",
   "metadata": {},
   "source": [
    "### 3. What statement creates a function?"
   ]
  },
  {
   "cell_type": "markdown",
   "id": "257b6006",
   "metadata": {},
   "source": [
    "def"
   ]
  },
  {
   "cell_type": "markdown",
   "id": "f0ab88d4",
   "metadata": {},
   "source": [
    "### 4. What is the difference between a function and a function call?"
   ]
  },
  {
   "cell_type": "markdown",
   "id": "6d6debe0",
   "metadata": {},
   "source": [
    "A Function is a block of code which executes some kind of operations and returns a result. \n",
    "Whereas the function call is the code with which we can run that function when required. "
   ]
  },
  {
   "cell_type": "markdown",
   "id": "53ca0692",
   "metadata": {},
   "source": [
    "### 5. How many global scopes are there in a Python program? How many local scopes?"
   ]
  },
  {
   "cell_type": "markdown",
   "id": "c4d5cac6",
   "metadata": {},
   "source": [
    "There is one global scope, and a local scope"
   ]
  },
  {
   "cell_type": "markdown",
   "id": "ca58094e",
   "metadata": {},
   "source": [
    "### 6. What happens to variables in a local scope when the function call returns?"
   ]
  },
  {
   "cell_type": "markdown",
   "id": "4b937fab",
   "metadata": {},
   "source": [
    "Local variables are deleted when the function call returns."
   ]
  },
  {
   "cell_type": "markdown",
   "id": "ddc4a74b",
   "metadata": {},
   "source": [
    "### 7. What is the concept of a return value? Is it possible to have a return value in an expression?"
   ]
  },
  {
   "cell_type": "markdown",
   "id": "c76f10a8",
   "metadata": {},
   "source": [
    "When a function does some operations and returns a value as a result, then this value is basically returned as output using return keyword.\n",
    "\n",
    "This return value can be of any primitive data type."
   ]
  },
  {
   "cell_type": "markdown",
   "id": "e045d270",
   "metadata": {},
   "source": [
    "Yes, it is possible to have a return value in an expression. For example,"
   ]
  },
  {
   "cell_type": "code",
   "execution_count": 2,
   "id": "9d4a1dfd",
   "metadata": {},
   "outputs": [],
   "source": [
    "def summation(a,b):\n",
    "    return a+b"
   ]
  },
  {
   "cell_type": "code",
   "execution_count": 3,
   "id": "707bcbdc",
   "metadata": {},
   "outputs": [
    {
     "data": {
      "text/plain": [
       "60"
      ]
     },
     "execution_count": 3,
     "metadata": {},
     "output_type": "execute_result"
    }
   ],
   "source": [
    "summation(10,50)"
   ]
  },
  {
   "cell_type": "markdown",
   "id": "37ee78ac",
   "metadata": {},
   "source": [
    "### 8. If a function does not have a return statement, what is the return value of a call to that function?"
   ]
  },
  {
   "cell_type": "markdown",
   "id": "dfaafc1b",
   "metadata": {},
   "source": [
    "If a function does not have return statement, it returns None."
   ]
  },
  {
   "cell_type": "markdown",
   "id": "f67712bf",
   "metadata": {},
   "source": [
    "### 9. How do you make a function variable refer to the global variable?"
   ]
  },
  {
   "cell_type": "markdown",
   "id": "8ef14744",
   "metadata": {},
   "source": [
    "We can use global keyword inside a function to create a global variable."
   ]
  },
  {
   "cell_type": "code",
   "execution_count": 11,
   "id": "d9834d28",
   "metadata": {},
   "outputs": [
    {
     "name": "stdout",
     "output_type": "stream",
     "text": [
      "Hello  World\n"
     ]
    }
   ],
   "source": [
    "def test():\n",
    "    global x\n",
    "    x = \"World\"\n",
    "\n",
    "print(\"Hello \", x)"
   ]
  },
  {
   "cell_type": "markdown",
   "id": "8ddb29ee",
   "metadata": {},
   "source": [
    "### 10. What is the data type of None?"
   ]
  },
  {
   "cell_type": "markdown",
   "id": "7d2c1a3e",
   "metadata": {},
   "source": [
    "NoneType"
   ]
  },
  {
   "cell_type": "markdown",
   "id": "af8640d1",
   "metadata": {},
   "source": [
    "### 11. What does the sentence import areallyourpetsnamederic do?"
   ]
  },
  {
   "cell_type": "markdown",
   "id": "0e4aeb5c",
   "metadata": {},
   "source": [
    "The sentence import areallyourpetsnamederic imports a module called areallyourpetsnamederic"
   ]
  },
  {
   "cell_type": "markdown",
   "id": "b1be4956",
   "metadata": {},
   "source": [
    "### 12. If you had a bacon() feature in a spam module, what would you call it after importing spam?"
   ]
  },
  {
   "cell_type": "markdown",
   "id": "7340df74",
   "metadata": {},
   "source": [
    "spam.bacon()"
   ]
  },
  {
   "cell_type": "markdown",
   "id": "87827d85",
   "metadata": {},
   "source": [
    "### 13. What can you do to save a programme from crashing if it encounters an error?"
   ]
  },
  {
   "cell_type": "markdown",
   "id": "51a01862",
   "metadata": {},
   "source": [
    "I can do exception handling. To do this, i have to write my codes inside try and except block."
   ]
  },
  {
   "cell_type": "markdown",
   "id": "708baae0",
   "metadata": {},
   "source": [
    "### 14. What is the purpose of the try clause? What is the purpose of the except clause?"
   ]
  },
  {
   "cell_type": "markdown",
   "id": "e6ea8139",
   "metadata": {},
   "source": [
    "We can test a block of code (Which we think might throw a runtime error) using try clause. If there is no error, then the code will simply execute.\n",
    "If there is an error, then it goes to except block without throwing any error to the console"
   ]
  },
  {
   "cell_type": "markdown",
   "id": "ac653c98",
   "metadata": {},
   "source": [
    "The except clause handles the error."
   ]
  },
  {
   "cell_type": "code",
   "execution_count": null,
   "id": "515d0867",
   "metadata": {},
   "outputs": [],
   "source": []
  }
 ],
 "metadata": {
  "kernelspec": {
   "display_name": "Python 3 (ipykernel)",
   "language": "python",
   "name": "python3"
  },
  "language_info": {
   "codemirror_mode": {
    "name": "ipython",
    "version": 3
   },
   "file_extension": ".py",
   "mimetype": "text/x-python",
   "name": "python",
   "nbconvert_exporter": "python",
   "pygments_lexer": "ipython3",
   "version": "3.9.13"
  }
 },
 "nbformat": 4,
 "nbformat_minor": 5
}
