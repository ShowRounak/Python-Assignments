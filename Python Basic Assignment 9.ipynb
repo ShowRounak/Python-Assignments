{
 "cells": [
  {
   "cell_type": "markdown",
   "id": "71b71fc3-9bdd-4f0e-b1b9-fca75c1cad10",
   "metadata": {},
   "source": [
    "### 1. To what does a relative path refer?"
   ]
  },
  {
   "cell_type": "markdown",
   "id": "aefb633e-98e2-4ca9-a6ef-fcf23880bd16",
   "metadata": {},
   "source": [
    "Relative paths are relative to the current working directory. When using relative path, we need to provide the absolute/complete path of file from the root directory, instead we can give the partial/relative path to indicate the file location."
   ]
  },
  {
   "cell_type": "markdown",
   "id": "638faee8-5c64-44f5-b9f7-ea8be417bd11",
   "metadata": {},
   "source": [
    "### 2. What does an absolute path start with your operating system?"
   ]
  },
  {
   "cell_type": "markdown",
   "id": "60da5c4f-8595-41ae-a4f2-444ee34b537b",
   "metadata": {},
   "source": [
    "I am using Windows Operating System with Single Hard drive, so my absolute path starts with C:\\"
   ]
  },
  {
   "cell_type": "markdown",
   "id": "ecda5eb0-a580-4c87-9090-d3b8a74af50e",
   "metadata": {},
   "source": [
    "### 3. What do the functions os.getcwd() and os.chdir() do?"
   ]
  },
  {
   "cell_type": "markdown",
   "id": "3c3e75f4-1f24-4822-b666-bde39438dd20",
   "metadata": {},
   "source": [
    "- os.getcwd() returns you the current working directory path\n",
    "- os.chdir() is used to change the current working directory while running the program"
   ]
  },
  {
   "cell_type": "markdown",
   "id": "0c69ebd9-4a6c-48e6-a08f-3cf79645f696",
   "metadata": {},
   "source": [
    "### 4. What are the . and .. folders?"
   ]
  },
  {
   "cell_type": "markdown",
   "id": "38b0702a-af51-4bfa-acf7-2e5856db9d2c",
   "metadata": {},
   "source": [
    "- . single dot means the current folder\n",
    "- .. double dot means the parent folder"
   ]
  },
  {
   "cell_type": "markdown",
   "id": "35fbd94c-5af2-49b7-8041-8ff8efd443f8",
   "metadata": {},
   "source": [
    "### 5. In C:\\bacon\\eggs\\spam.txt, which part is the dir name, and which part is the base name?"
   ]
  },
  {
   "cell_type": "markdown",
   "id": "79e42ace-c3ed-49be-b2a5-01d531f4b71d",
   "metadata": {},
   "source": [
    "- C:\\bacon\\eggs is the dir name\n",
    "- spam.txt is the base name"
   ]
  },
  {
   "cell_type": "markdown",
   "id": "03b92793-64b9-4596-976e-0362e7f903d7",
   "metadata": {},
   "source": [
    "### 6. What are the three “mode” arguments that can be passed to the open() function?"
   ]
  },
  {
   "cell_type": "markdown",
   "id": "12750619-2df0-4b14-96e6-5a1d44cdfcc5",
   "metadata": {},
   "source": [
    "The three mode arguments that can be passed to the open() function are:\n",
    "\n",
    "- 'r' for read mode\n",
    "- 'w' for write mode\n",
    "- 'a' for append mode."
   ]
  },
  {
   "cell_type": "markdown",
   "id": "64ae965b-3f5e-4f09-9709-7183607d4777",
   "metadata": {},
   "source": [
    "### 7. What happens if an existing file is opened in write mode?"
   ]
  },
  {
   "cell_type": "markdown",
   "id": "a069c1b8-353f-4bb0-93c5-e38a227cdd7b",
   "metadata": {},
   "source": [
    "If an existing file is opened in write mode, then all the existing content from the file is erased and the new content will be added."
   ]
  },
  {
   "cell_type": "markdown",
   "id": "69b41a9c-f942-4662-8810-5a0475dca69d",
   "metadata": {},
   "source": [
    "### 8. How do you tell the difference between read() and readlines()?"
   ]
  },
  {
   "cell_type": "markdown",
   "id": "4f0eed54-4b76-49fa-8a4f-88cb67a46511",
   "metadata": {},
   "source": [
    "The read() method returns the file’s entire contents as a single string value.\n",
    "\n",
    "The readlines() method returns a list of strings, where each string is a line from the file’s contents."
   ]
  },
  {
   "cell_type": "markdown",
   "id": "afc18a44-6e5c-4cb0-848b-c113b50f1cb9",
   "metadata": {},
   "source": [
    "### 9. What data structure does a shelf value resemble?"
   ]
  },
  {
   "cell_type": "markdown",
   "id": "6fba654a-9f48-4a84-83ea-1a118248d00b",
   "metadata": {},
   "source": [
    "A shelf value resembles a dictionary value; it has keys and values, along with keys() and values() methods that work similarly to the dictionary methods of the same names."
   ]
  },
  {
   "cell_type": "code",
   "execution_count": null,
   "id": "baa02ea8-354e-4494-8ae1-8c7821fdc42f",
   "metadata": {},
   "outputs": [],
   "source": []
  }
 ],
 "metadata": {
  "kernelspec": {
   "display_name": "Python 3 (ipykernel)",
   "language": "python",
   "name": "python3"
  },
  "language_info": {
   "codemirror_mode": {
    "name": "ipython",
    "version": 3
   },
   "file_extension": ".py",
   "mimetype": "text/x-python",
   "name": "python",
   "nbconvert_exporter": "python",
   "pygments_lexer": "ipython3",
   "version": "3.10.6"
  }
 },
 "nbformat": 4,
 "nbformat_minor": 5
}
