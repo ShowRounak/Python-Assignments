{
 "cells": [
  {
   "cell_type": "code",
   "execution_count": null,
   "id": "40dde746",
   "metadata": {},
   "outputs": [],
   "source": [
    "#1. What is the result of the code, and why?\n",
    ">>> def func(a,b=6, c=8):\n",
    "print(a, b, c)\n",
    ">>> func(1, 2)"
   ]
  },
  {
   "cell_type": "markdown",
   "id": "1bdd7555",
   "metadata": {},
   "source": [
    "It will print 1 2 8 in the console. As we didnot pass any value to the thrid parameter, so by default it will consider 8."
   ]
  },
  {
   "cell_type": "code",
   "execution_count": null,
   "id": "aac7d388",
   "metadata": {},
   "outputs": [],
   "source": [
    "#2. What is the result of this code, and why?\n",
    "def func(a, b, c=5):\n",
    "    print(a, b, c)\n",
    "func(1, c=3, b=2)"
   ]
  },
  {
   "cell_type": "markdown",
   "id": "43093284",
   "metadata": {},
   "source": [
    "It will print 1 2 3 respectively, because we gave values to all the parameters."
   ]
  },
  {
   "cell_type": "code",
   "execution_count": null,
   "id": "faca2c31",
   "metadata": {},
   "outputs": [],
   "source": [
    "3. How about this code: what is its result, and why?\n",
    "def func(a, *pargs):\n",
    "    print(a, pargs)\n",
    "func(1, 2, 3)"
   ]
  },
  {
   "cell_type": "markdown",
   "id": "901f173f",
   "metadata": {},
   "source": [
    "It will first print the value of a (which is 1 in this case). After that, it will print the rest of values inside a tuple, (2,3) in this case."
   ]
  },
  {
   "cell_type": "code",
   "execution_count": null,
   "id": "542bba8e",
   "metadata": {},
   "outputs": [],
   "source": [
    "4. What does this code print, and why?\n",
    "\n",
    "def func(a, **kargs):\n",
    "    print(a, kargs)\n",
    "func(a=1, c=3, b=2)"
   ]
  },
  {
   "cell_type": "markdown",
   "id": "6775763e",
   "metadata": {},
   "source": [
    "So, here it will first print the value of a (which is 1 in this case). After that, it will print a dictionary with key-value pair.\n",
    "{'c': 3, 'b': 2}"
   ]
  },
  {
   "cell_type": "code",
   "execution_count": null,
   "id": "8327c5c7",
   "metadata": {},
   "outputs": [],
   "source": [
    "#5. What gets printed by this, and explain?\n",
    "\n",
    "def func(a, b, c=8, d=5): \n",
    "    print(a, b, c, d)\n",
    "func(1, *(5, 6))"
   ]
  },
  {
   "cell_type": "markdown",
   "id": "825af2ec",
   "metadata": {},
   "source": [
    "The above code will print 1 5 6 5 in the console. The value of a=1 will be printed at first. Then (5,6) will be read as comma separated value and will be passed to b and c respectively. Then the default value of d=5 will be printed."
   ]
  },
  {
   "cell_type": "code",
   "execution_count": null,
   "id": "78d02a4a",
   "metadata": {},
   "outputs": [],
   "source": [
    "#6. what is the result of this, and explain?\n",
    "\n",
    "def func(a, b, c): \n",
    "    a = 2\n",
    "    b[0] = 'x' \n",
    "    c['a'] = 'y'\n",
    "    \n",
    "l=1 \n",
    "m=[1]\n",
    "n={'a':0}\n",
    "\n",
    "func(l, m, n)\n",
    "print(l, m, n)"
   ]
  },
  {
   "cell_type": "markdown",
   "id": "231619c8",
   "metadata": {},
   "source": [
    "It will print 1 ['x'] {'a': 'y'} in the console. The value of l will be unchanged. And value of m and n will be changed."
   ]
  },
  {
   "cell_type": "code",
   "execution_count": null,
   "id": "177a5644",
   "metadata": {},
   "outputs": [],
   "source": []
  }
 ],
 "metadata": {
  "kernelspec": {
   "display_name": "Python 3 (ipykernel)",
   "language": "python",
   "name": "python3"
  },
  "language_info": {
   "codemirror_mode": {
    "name": "ipython",
    "version": 3
   },
   "file_extension": ".py",
   "mimetype": "text/x-python",
   "name": "python",
   "nbconvert_exporter": "python",
   "pygments_lexer": "ipython3",
   "version": "3.9.13"
  }
 },
 "nbformat": 4,
 "nbformat_minor": 5
}
