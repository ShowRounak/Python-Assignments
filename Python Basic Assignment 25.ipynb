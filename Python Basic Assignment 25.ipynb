{
 "cells": [
  {
   "cell_type": "markdown",
   "id": "6368da94",
   "metadata": {},
   "source": [
    "### What is the difference between enclosing a list comprehension in square brackets and parentheses?"
   ]
  },
  {
   "cell_type": "markdown",
   "id": "d4ffc8a0",
   "metadata": {},
   "source": [
    "When we do List comprehension in square brackets, it produces a list object as the output.\n",
    "\n",
    "List comprehension in oval parenthesis () produces a generator object. \n",
    "\n",
    "Like this, when we do List comprehension in curve parenthesis {}, it will produce a set object."
   ]
  },
  {
   "cell_type": "code",
   "execution_count": 2,
   "id": "443ef94b",
   "metadata": {},
   "outputs": [
    {
     "name": "stdout",
     "output_type": "stream",
     "text": [
      "<class 'list'>\n"
     ]
    }
   ],
   "source": [
    "l = [i for i in range(10)]\n",
    "print(type(l))"
   ]
  },
  {
   "cell_type": "code",
   "execution_count": 5,
   "id": "bf0a5de0",
   "metadata": {},
   "outputs": [
    {
     "name": "stdout",
     "output_type": "stream",
     "text": [
      "<class 'set'>\n"
     ]
    }
   ],
   "source": [
    "l2 = {i for i in range(10)}\n",
    "print(type(l2))"
   ]
  },
  {
   "cell_type": "code",
   "execution_count": 6,
   "id": "ea9acab2",
   "metadata": {},
   "outputs": [
    {
     "name": "stdout",
     "output_type": "stream",
     "text": [
      "<class 'generator'>\n"
     ]
    }
   ],
   "source": [
    "l3 = (i for i in range(10))\n",
    "print(type(l3))"
   ]
  },
  {
   "cell_type": "markdown",
   "id": "1b2360dc",
   "metadata": {},
   "source": [
    "### What is the relationship between generators and iterators?"
   ]
  },
  {
   "cell_type": "markdown",
   "id": "b3796ecc",
   "metadata": {},
   "source": [
    "In Python, an iterator is an object that can be iterated (looped) upon, meaning that it can be used in a 'for' loop. It generates values one at a time, and once all the values have been generated, it raises the 'StopIteration' exception to signal that there are no more values.\n",
    "\n",
    "On the other hand, a generator is a type of iterator that can be defined with a special function called a generator function. When a generator function is called, it returns a generator object that can be used to generate a sequence of values lazily. This means that the values are generated on-the-fly as they are needed, rather than being generated all at once and stored in memory.\n",
    "\n",
    "The key difference between a generator and a regular function is that a generator uses the 'yield' keyword to return values one at a time, whereas a regular function returns a value and exits. When a generator yields a value, it saves its state and waits until the next value is requested before continuing. This allows generators to generate very large sequences of values with very little memory overhead."
   ]
  },
  {
   "cell_type": "markdown",
   "id": "0423c78d",
   "metadata": {},
   "source": [
    "### What are the signs that a function is a generator function?"
   ]
  },
  {
   "cell_type": "markdown",
   "id": "90c8e9b7",
   "metadata": {},
   "source": [
    "The generator function uses 'yield' keyword to return values one at a time."
   ]
  },
  {
   "cell_type": "markdown",
   "id": "0df31266",
   "metadata": {},
   "source": [
    "### What is the purpose of a yield statement?"
   ]
  },
  {
   "cell_type": "markdown",
   "id": "a7729972",
   "metadata": {},
   "source": [
    "The 'yield' keyword works like the 'return' keyword in functions. But, there is a differnece. The 'yield' keyword returns values one at a time. Whereas, regular 'return' function returns all values and exits."
   ]
  },
  {
   "cell_type": "markdown",
   "id": "a628b1dd",
   "metadata": {},
   "source": [
    "### What is the relationship between map calls and list comprehensions? Make a comparison and contrast between the two."
   ]
  },
  {
   "cell_type": "markdown",
   "id": "aec8346e",
   "metadata": {},
   "source": [
    "Both map calls and list comprehensions are used in Python to create new sequences by applying a function to each element of an existing sequence. However, there are some differences in their syntax and behavior."
   ]
  },
  {
   "cell_type": "markdown",
   "id": "c15236ee",
   "metadata": {},
   "source": [
    "Map calls use the map() function to apply a function to each element of a sequence, and return a new sequence containing the results."
   ]
  },
  {
   "cell_type": "markdown",
   "id": "1c3e1ac6",
   "metadata": {},
   "source": [
    "List comprehensions, on the other hand, use a more concise syntax to achieve the same result."
   ]
  },
  {
   "cell_type": "code",
   "execution_count": 8,
   "id": "e3858764",
   "metadata": {},
   "outputs": [
    {
     "name": "stdout",
     "output_type": "stream",
     "text": [
      "[1, 4, 9, 16, 25]\n"
     ]
    }
   ],
   "source": [
    "## map() example\n",
    "\n",
    "x = [1,2,3,4,5]\n",
    "\n",
    "x_sq = map(lambda a: a**2,x)\n",
    "\n",
    "print(list(x_sq))"
   ]
  },
  {
   "cell_type": "code",
   "execution_count": 9,
   "id": "b7865c90",
   "metadata": {},
   "outputs": [
    {
     "name": "stdout",
     "output_type": "stream",
     "text": [
      "[1, 4, 9, 16, 25]\n"
     ]
    }
   ],
   "source": [
    "## list comprehension example\n",
    "\n",
    "nums = [1, 2, 3, 4, 5]\n",
    "squares = [x**2 for x in nums]\n",
    "print(squares)"
   ]
  },
  {
   "cell_type": "code",
   "execution_count": null,
   "id": "c502acd6",
   "metadata": {},
   "outputs": [],
   "source": []
  }
 ],
 "metadata": {
  "kernelspec": {
   "display_name": "Python 3 (ipykernel)",
   "language": "python",
   "name": "python3"
  },
  "language_info": {
   "codemirror_mode": {
    "name": "ipython",
    "version": 3
   },
   "file_extension": ".py",
   "mimetype": "text/x-python",
   "name": "python",
   "nbconvert_exporter": "python",
   "pygments_lexer": "ipython3",
   "version": "3.9.13"
  }
 },
 "nbformat": 4,
 "nbformat_minor": 5
}
