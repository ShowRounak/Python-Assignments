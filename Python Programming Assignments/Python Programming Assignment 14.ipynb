{
 "cells": [
  {
   "cell_type": "markdown",
   "id": "cdbd3b18",
   "metadata": {},
   "source": [
    "### Define a class with a generator which can iterate the numbers, which are divisible by 7, between a given range 0 and n."
   ]
  },
  {
   "cell_type": "code",
   "execution_count": 1,
   "id": "4085577b",
   "metadata": {},
   "outputs": [],
   "source": [
    "class Task1:\n",
    "    def gen(self, n):\n",
    "        for i in range(n+1):\n",
    "            if i%7 == 0:\n",
    "                yield i"
   ]
  },
  {
   "cell_type": "code",
   "execution_count": 2,
   "id": "7e5b1699",
   "metadata": {},
   "outputs": [
    {
     "data": {
      "text/plain": [
       "[0, 7, 14, 21, 28, 35, 42, 49, 56, 63, 70, 77, 84, 91, 98]"
      ]
     },
     "execution_count": 2,
     "metadata": {},
     "output_type": "execute_result"
    }
   ],
   "source": [
    "nums = Task1()\n",
    "\n",
    "[i for i in nums.gen(100)]"
   ]
  },
  {
   "cell_type": "markdown",
   "id": "006418eb",
   "metadata": {},
   "source": [
    "### Write a program to compute the frequency of the words from the input. The output should output after sorting the key alphanumerically.\n",
    "\n",
    "Suppose the following input is supplied to the program:\n",
    "\n",
    "New to Python or choosing between Python 2 and Python 3? Read Python 2 or Python 3.\n",
    "\n",
    "Then, the output should be:\n",
    "\n",
    "2:2\n",
    "\n",
    "3.:1\n",
    "\n",
    "3?:1\n",
    "\n",
    "New:1\n",
    "\n",
    "Python:5\n",
    "\n",
    "Read:1\n",
    "\n",
    "and:1\n",
    "\n",
    "between:1\n",
    "\n",
    "choosing:1\n",
    "\n",
    "or:2\n",
    "\n",
    "to:1"
   ]
  },
  {
   "cell_type": "code",
   "execution_count": 3,
   "id": "38aad0c5",
   "metadata": {},
   "outputs": [
    {
     "name": "stdout",
     "output_type": "stream",
     "text": [
      "2 : 2\n",
      "3 : 1\n",
      "3? : 1\n",
      "New : 1\n",
      "Python : 5\n",
      "Read : 1\n",
      "and : 1\n",
      "between : 1\n",
      "choosing : 1\n",
      "or : 2\n",
      "to : 1\n"
     ]
    }
   ],
   "source": [
    "def task2(string: str):\n",
    "    \n",
    "    string_list = string.split(' ')\n",
    "    out_dict = {}\n",
    "    \n",
    "    for s in string_list:\n",
    "        if s in out_dict.keys():\n",
    "            out_dict[s] += 1\n",
    "        else:\n",
    "            out_dict[s] = 1\n",
    "            \n",
    "    for k, v in sorted(out_dict.items()):\n",
    "        print(k, ':', v)\n",
    "        \n",
    "task2('New to Python or choosing between Python 2 and Python 3? Read Python 2 or Python 3')"
   ]
  },
  {
   "cell_type": "markdown",
   "id": "7bcb6db4",
   "metadata": {},
   "source": [
    "### Define a class Person and its two child classes: Male and Female. All classes have a method &quot;getGender&quot; which can print &quot;Male&quot; for Male class and &quot;Female&quot; for Female class."
   ]
  },
  {
   "cell_type": "code",
   "execution_count": 4,
   "id": "08637790",
   "metadata": {},
   "outputs": [
    {
     "name": "stdout",
     "output_type": "stream",
     "text": [
      "Male\n",
      "Female\n"
     ]
    }
   ],
   "source": [
    "class Person:\n",
    "    def getGender(self):\n",
    "        pass\n",
    "    \n",
    "class Male(Person):\n",
    "    def getGender(self):\n",
    "        print('Male')\n",
    "        \n",
    "class Female(Person):\n",
    "    def getGender(self):\n",
    "        print('Female')\n",
    "        \n",
    "\n",
    "male = Male()\n",
    "female= Female()\n",
    "male.getGender()\n",
    "female.getGender()"
   ]
  },
  {
   "cell_type": "markdown",
   "id": "54075e41",
   "metadata": {},
   "source": [
    "### Please write a program to generate all sentences where subject is in [&quot;I&quot;, &quot;You&quot;] and verb is in [&quot;Play&quot;, &quot;Love&quot;] and the object is in [&quot;Hockey&quot;,&quot;Football&quot;]."
   ]
  },
  {
   "cell_type": "code",
   "execution_count": 5,
   "id": "5d1b380e",
   "metadata": {},
   "outputs": [
    {
     "name": "stdout",
     "output_type": "stream",
     "text": [
      "I Play Hockey\n",
      "I Play Football\n",
      "I Love Hockey\n",
      "I Love Football\n",
      "You Play Hockey\n",
      "You Play Football\n",
      "You Love Hockey\n",
      "You Love Football\n"
     ]
    }
   ],
   "source": [
    "subject=[\"I\", \"You\"]\n",
    "verb=[\"Play\", \"Love\"]\n",
    "obj=[\"Hockey\",\"Football\"]\n",
    "\n",
    "sentence_list = []\n",
    "\n",
    "for i in subject:\n",
    "    for j in verb:\n",
    "        for k in obj:\n",
    "            sentence_list.append(i + \" \" + j + \" \" + k)\n",
    "            \n",
    "for sentence in sentence_list:\n",
    "    print(sentence)"
   ]
  },
  {
   "cell_type": "markdown",
   "id": "977c8452",
   "metadata": {},
   "source": [
    "### Please write a program to compress and decompress the string &quot;hello world!hello world!hello world!hello world!&quot;."
   ]
  },
  {
   "cell_type": "code",
   "execution_count": 7,
   "id": "d535449d",
   "metadata": {},
   "outputs": [
    {
     "name": "stdout",
     "output_type": "stream",
     "text": [
      "Compressed string is: b'x\\x9c\\xcbH\\xcd\\xc9\\xc9W(\\xcf/\\xcaIQ\\xcc \\x82\\r\\x00\\xbd[\\x11\\xf5'\n",
      "Decompressed string is: b'hello world!hello world!hello world!hello world!'\n"
     ]
    }
   ],
   "source": [
    "import zlib\n",
    "\n",
    "s = 'hello world!hello world!hello world!hello world!'\n",
    "\n",
    "compress_string = zlib.compress(bytes(s, 'utf-8'))\n",
    "\n",
    "print(f\"Compressed string is: {compress_string}\")\n",
    "print(f\"Decompressed string is: {zlib.decompress(compress_string)}\")"
   ]
  },
  {
   "cell_type": "markdown",
   "id": "6b15c14e",
   "metadata": {},
   "source": [
    "### Please write a binary search function which searches an item in a sorted list. The function should return the index of element to be searched in the list."
   ]
  },
  {
   "cell_type": "code",
   "execution_count": 10,
   "id": "5f644230",
   "metadata": {},
   "outputs": [
    {
     "data": {
      "text/plain": [
       "3"
      ]
     },
     "execution_count": 10,
     "metadata": {},
     "output_type": "execute_result"
    }
   ],
   "source": [
    "def binarySearch(list1, n):  \n",
    "    \n",
    "    \n",
    "    low = 0  \n",
    "    high = len(list1) - 1  \n",
    "    mid = 0  \n",
    "  \n",
    "    while low <= high:  \n",
    "        mid = (high + low) // 2  \n",
    "        if list1[mid] < n:  \n",
    "            low = mid + 1  \n",
    "        elif list1[mid] > n:  \n",
    "            high = mid - 1  \n",
    "        else:  \n",
    "            return mid  \n",
    "    return -1\n",
    "\n",
    "sorted_list = [1, 3, 10, 22, 43, 78, 100]\n",
    "\n",
    "binarySearch(sorted_list, 22)\n"
   ]
  },
  {
   "cell_type": "code",
   "execution_count": null,
   "id": "0a7fe951",
   "metadata": {},
   "outputs": [],
   "source": []
  }
 ],
 "metadata": {
  "kernelspec": {
   "display_name": "Python 3 (ipykernel)",
   "language": "python",
   "name": "python3"
  },
  "language_info": {
   "codemirror_mode": {
    "name": "ipython",
    "version": 3
   },
   "file_extension": ".py",
   "mimetype": "text/x-python",
   "name": "python",
   "nbconvert_exporter": "python",
   "pygments_lexer": "ipython3",
   "version": "3.9.13"
  }
 },
 "nbformat": 4,
 "nbformat_minor": 5
}
