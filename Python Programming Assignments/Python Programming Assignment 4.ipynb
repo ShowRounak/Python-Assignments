{
 "cells": [
  {
   "cell_type": "markdown",
   "id": "871224a1",
   "metadata": {},
   "source": [
    "### Write a Python Program to Find the Factorial of a Number?"
   ]
  },
  {
   "cell_type": "code",
   "execution_count": 3,
   "id": "0eda55b2",
   "metadata": {},
   "outputs": [
    {
     "name": "stdout",
     "output_type": "stream",
     "text": [
      "Enter a number: 4\n",
      "\n",
      "Factorial of 4: 24\n"
     ]
    }
   ],
   "source": [
    "num = int(input(\"Enter a number: \"))\n",
    "\n",
    "fact = 1\n",
    "for i in range(num, 0, -1):\n",
    "    fact = fact*i\n",
    "    \n",
    "print(\"\\nFactorial of {}: {}\".format(num, fact))"
   ]
  },
  {
   "cell_type": "markdown",
   "id": "98454570",
   "metadata": {},
   "source": [
    "### Write a Python Program to Display the multiplication Table?"
   ]
  },
  {
   "cell_type": "code",
   "execution_count": 4,
   "id": "4c8eddd8",
   "metadata": {},
   "outputs": [
    {
     "name": "stdout",
     "output_type": "stream",
     "text": [
      "Enter a number: 5\n",
      "5 x 1 = 5\n",
      "5 x 2 = 10\n",
      "5 x 3 = 15\n",
      "5 x 4 = 20\n",
      "5 x 5 = 25\n",
      "5 x 6 = 30\n",
      "5 x 7 = 35\n",
      "5 x 8 = 40\n",
      "5 x 9 = 45\n",
      "5 x 10 = 50\n"
     ]
    }
   ],
   "source": [
    "num = int(input(\"Enter a number: \"))\n",
    "\n",
    "for i in range(1, 11):\n",
    "    print(f\"{num} x {i} = {num*i}\")"
   ]
  },
  {
   "cell_type": "markdown",
   "id": "1308d589",
   "metadata": {},
   "source": [
    "### Write a Python Program to Print the Fibonacci sequence?"
   ]
  },
  {
   "cell_type": "code",
   "execution_count": 5,
   "id": "866b557c",
   "metadata": {},
   "outputs": [
    {
     "name": "stdout",
     "output_type": "stream",
     "text": [
      "Enter a length: 6\n",
      "0 1 1 2 3 5 "
     ]
    }
   ],
   "source": [
    "fibo_length = int(input(\"Enter a length: \"))\n",
    "\n",
    "a = 0\n",
    "b = 1\n",
    "print(a, end = ' ')\n",
    "print(b, end = ' ')\n",
    "while(fibo_length-2 > 0):\n",
    "    nt = a + b\n",
    "    print(nt, end = ' ')\n",
    "    a = b\n",
    "    b = nt\n",
    "    \n",
    "    fibo_length -= 1"
   ]
  },
  {
   "cell_type": "markdown",
   "id": "ae72441f",
   "metadata": {},
   "source": [
    "### Write a Python Program to Check Armstrong Number?"
   ]
  },
  {
   "cell_type": "code",
   "execution_count": 16,
   "id": "080bb0f8",
   "metadata": {},
   "outputs": [
    {
     "name": "stdout",
     "output_type": "stream",
     "text": [
      "Enter a number: 153\n",
      "153 is an Armstrong number\n"
     ]
    }
   ],
   "source": [
    "num = int(input(\"Enter a number: \"))\n",
    "\n",
    "def armstrong_check(num):\n",
    "    sum = 0\n",
    "\n",
    "    temp = num\n",
    "    while temp > 0:\n",
    "        digit = temp % 10\n",
    "        sum += digit ** 3\n",
    "        temp //= 10\n",
    "\n",
    "    if num == sum:\n",
    "        print(num,\"is an Armstrong number\")\n",
    "    else:\n",
    "        print(num,\"is not an Armstrong number\")\n",
    "        \n",
    "armstrong_check(num)"
   ]
  },
  {
   "cell_type": "markdown",
   "id": "4d3c699d",
   "metadata": {},
   "source": [
    "### Write a Python Program to Find Armstrong Number in an Interval?"
   ]
  },
  {
   "cell_type": "code",
   "execution_count": 20,
   "id": "830470f7",
   "metadata": {},
   "outputs": [
    {
     "name": "stdout",
     "output_type": "stream",
     "text": [
      "Enter the lower value of range: 100\n",
      "Enter the higher value of range: 2000\n",
      "153 is an Armstrong number\n",
      "370 is an Armstrong number\n",
      "371 is an Armstrong number\n",
      "407 is an Armstrong number\n"
     ]
    }
   ],
   "source": [
    "low = int(input(\"Enter the lower value of range: \"))\n",
    "high = int(input(\"Enter the higher value of range: \"))\n",
    "\n",
    "def armstrong_check(num):\n",
    "    sum = 0\n",
    "\n",
    "    temp = num\n",
    "    while temp > 0:\n",
    "        digit = temp % 10\n",
    "        sum += digit ** 3\n",
    "        temp //= 10\n",
    "\n",
    "    if num == sum:\n",
    "        print(num,\"is an Armstrong number\")\n",
    "    else:\n",
    "        pass\n",
    "\n",
    "for i in range(low, high+1):\n",
    "    \n",
    "    if(armstrong_check(i)):\n",
    "        print(i, end = ' ')"
   ]
  },
  {
   "cell_type": "markdown",
   "id": "3d152470",
   "metadata": {},
   "source": [
    "### Write a Python Program to Find the Sum of Natural Numbers?"
   ]
  },
  {
   "cell_type": "code",
   "execution_count": 21,
   "id": "04820f83",
   "metadata": {},
   "outputs": [
    {
     "name": "stdout",
     "output_type": "stream",
     "text": [
      "Enter a positive number: 50\n",
      "Sum of 50 natural number is 1275\n"
     ]
    }
   ],
   "source": [
    "num = int(input(\"Enter a positive number: \"))\n",
    "\n",
    "total_sum = 0\n",
    "for i in range(1, num+1):\n",
    "    total_sum += i\n",
    "    \n",
    "print(f\"Sum of {num} natural number is {total_sum}\")"
   ]
  },
  {
   "cell_type": "code",
   "execution_count": null,
   "id": "278769a0",
   "metadata": {},
   "outputs": [],
   "source": []
  }
 ],
 "metadata": {
  "kernelspec": {
   "display_name": "Python 3 (ipykernel)",
   "language": "python",
   "name": "python3"
  },
  "language_info": {
   "codemirror_mode": {
    "name": "ipython",
    "version": 3
   },
   "file_extension": ".py",
   "mimetype": "text/x-python",
   "name": "python",
   "nbconvert_exporter": "python",
   "pygments_lexer": "ipython3",
   "version": "3.9.13"
  }
 },
 "nbformat": 4,
 "nbformat_minor": 5
}
