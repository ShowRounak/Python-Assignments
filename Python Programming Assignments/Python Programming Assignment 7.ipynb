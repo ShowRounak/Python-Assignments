{
 "cells": [
  {
   "cell_type": "markdown",
   "id": "8fcaf4d0",
   "metadata": {},
   "source": [
    "### Write a Python Program to find sum of array?"
   ]
  },
  {
   "cell_type": "code",
   "execution_count": 2,
   "id": "e09735c4",
   "metadata": {},
   "outputs": [
    {
     "name": "stdout",
     "output_type": "stream",
     "text": [
      "Sum of array:  778\n"
     ]
    }
   ],
   "source": [
    "l = [12,32,333,-412, 123,690]\n",
    "\n",
    "Sum = 0\n",
    "for i in l:\n",
    "    Sum += i\n",
    "    \n",
    "print(\"Sum of array: \", Sum)"
   ]
  },
  {
   "cell_type": "markdown",
   "id": "d2735425",
   "metadata": {},
   "source": [
    "### Write a Python Program to find largest element in an array?"
   ]
  },
  {
   "cell_type": "code",
   "execution_count": 3,
   "id": "a68c21d5",
   "metadata": {},
   "outputs": [
    {
     "name": "stdout",
     "output_type": "stream",
     "text": [
      "Largest number is:  690\n"
     ]
    }
   ],
   "source": [
    "l = [12,32,333,-412, 123,690]\n",
    "\n",
    "\n",
    "max = l[0]\n",
    "\n",
    "for i in range(0, len(l)):        \n",
    "    if(l[i] > max):    \n",
    "        max = l[i];    \n",
    "           \n",
    "print(\"Largest number is: \", max)  "
   ]
  },
  {
   "cell_type": "markdown",
   "id": "32b4f723",
   "metadata": {},
   "source": [
    "### Write a Python Program for array rotation?"
   ]
  },
  {
   "cell_type": "code",
   "execution_count": 5,
   "id": "27bf3c64",
   "metadata": {},
   "outputs": [
    {
     "name": "stdout",
     "output_type": "stream",
     "text": [
      "Rotated array: [6, 5, 4, 3, 2, 1]\n"
     ]
    }
   ],
   "source": [
    "l = [1,2,3,4,5,6]\n",
    "\n",
    "print(\"Rotated array:\",l[::-1])"
   ]
  },
  {
   "cell_type": "markdown",
   "id": "39fc4ea5",
   "metadata": {},
   "source": [
    "### Write a Python Program to Split the array and add the first part to the end?"
   ]
  },
  {
   "cell_type": "code",
   "execution_count": 10,
   "id": "ed706e66",
   "metadata": {},
   "outputs": [
    {
     "name": "stdout",
     "output_type": "stream",
     "text": [
      "[2, 3, 4, 5, 6, 1]\n"
     ]
    }
   ],
   "source": [
    "l = [1,2,3,4,5,6]\n",
    "\n",
    "l.append(l[0])\n",
    "l.pop(0)\n",
    "\n",
    "print(l)"
   ]
  },
  {
   "cell_type": "markdown",
   "id": "788b98d2",
   "metadata": {},
   "source": [
    "### Write a Python Program to check if given array is Monotonic?"
   ]
  },
  {
   "cell_type": "code",
   "execution_count": 11,
   "id": "4c6eaf99",
   "metadata": {},
   "outputs": [],
   "source": [
    "def is_monotonic(arr):\n",
    "    decreasing = all(arr[i] >= arr[i+1] for i in range(len(arr)-1))\n",
    "    if decreasing:\n",
    "        return True\n",
    "    \n",
    "    increasing = all(arr[i] <= arr[i+1] for i in range(len(arr)-1))\n",
    "    if increasing:\n",
    "        return True\n",
    "    \n",
    "    return False\n"
   ]
  },
  {
   "cell_type": "code",
   "execution_count": 12,
   "id": "32bbe111",
   "metadata": {},
   "outputs": [
    {
     "data": {
      "text/plain": [
       "True"
      ]
     },
     "execution_count": 12,
     "metadata": {},
     "output_type": "execute_result"
    }
   ],
   "source": [
    "l1 = [1,2,3,4,5]\n",
    "is_monotonic(l1)"
   ]
  },
  {
   "cell_type": "code",
   "execution_count": 14,
   "id": "00f873b2",
   "metadata": {},
   "outputs": [
    {
     "data": {
      "text/plain": [
       "True"
      ]
     },
     "execution_count": 14,
     "metadata": {},
     "output_type": "execute_result"
    }
   ],
   "source": [
    "l2 = [5,4,3,2,1]\n",
    "is_monotonic(l2)"
   ]
  },
  {
   "cell_type": "code",
   "execution_count": 15,
   "id": "066ffdf0",
   "metadata": {},
   "outputs": [
    {
     "data": {
      "text/plain": [
       "False"
      ]
     },
     "execution_count": 15,
     "metadata": {},
     "output_type": "execute_result"
    }
   ],
   "source": [
    "l3 = [5,4,3,2,1,9]\n",
    "is_monotonic(l3)"
   ]
  },
  {
   "cell_type": "code",
   "execution_count": null,
   "id": "f7b61d6f",
   "metadata": {},
   "outputs": [],
   "source": []
  }
 ],
 "metadata": {
  "kernelspec": {
   "display_name": "Python 3 (ipykernel)",
   "language": "python",
   "name": "python3"
  },
  "language_info": {
   "codemirror_mode": {
    "name": "ipython",
    "version": 3
   },
   "file_extension": ".py",
   "mimetype": "text/x-python",
   "name": "python",
   "nbconvert_exporter": "python",
   "pygments_lexer": "ipython3",
   "version": "3.9.13"
  }
 },
 "nbformat": 4,
 "nbformat_minor": 5
}
