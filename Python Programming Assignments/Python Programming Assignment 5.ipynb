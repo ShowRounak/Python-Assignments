{
 "cells": [
  {
   "cell_type": "markdown",
   "id": "91452992",
   "metadata": {},
   "source": [
    "###  Write a Python Program to Find LCM?"
   ]
  },
  {
   "cell_type": "code",
   "execution_count": 2,
   "id": "75ec8cb5",
   "metadata": {},
   "outputs": [
    {
     "data": {
      "text/plain": [
       "16"
      ]
     },
     "execution_count": 2,
     "metadata": {},
     "output_type": "execute_result"
    }
   ],
   "source": [
    "def lcm(a,b):\n",
    "    \n",
    "    high = a if a > b else b \n",
    "    while True:\n",
    "        if (high%a==0) and (high%b==0):\n",
    "            break\n",
    "        else:\n",
    "            high += 1\n",
    "            \n",
    "    return high\n",
    "\n",
    "lcm(16,4)"
   ]
  },
  {
   "cell_type": "markdown",
   "id": "7572a36b",
   "metadata": {},
   "source": [
    "### Write a Python Program to Find HCF?"
   ]
  },
  {
   "cell_type": "code",
   "execution_count": 3,
   "id": "4bd89014",
   "metadata": {},
   "outputs": [
    {
     "data": {
      "text/plain": [
       "4"
      ]
     },
     "execution_count": 3,
     "metadata": {},
     "output_type": "execute_result"
    }
   ],
   "source": [
    "def hcf(a, b):\n",
    "    \n",
    "    low = a if a < b else b\n",
    "    \n",
    "    for i in range(1, low+1):\n",
    "        if (a%i==0) and (b%i==0):\n",
    "            hcf = i\n",
    "            \n",
    "    return hcf\n",
    "\n",
    "hcf(20,4)"
   ]
  },
  {
   "cell_type": "markdown",
   "id": "275f4f1c",
   "metadata": {},
   "source": [
    "### Write a Python Program to Convert Decimal to Binary, Octal and Hexadecimal?\n"
   ]
  },
  {
   "cell_type": "code",
   "execution_count": 4,
   "id": "ac441dc0",
   "metadata": {},
   "outputs": [],
   "source": [
    "def num_conversion(num):\n",
    "    print(\"Binary:      \", bin(num))\n",
    "    print(\"Octal:       \", oct(num))\n",
    "    print(\"Hexadecimal: \", hex(num))"
   ]
  },
  {
   "cell_type": "code",
   "execution_count": 5,
   "id": "f23715dc",
   "metadata": {},
   "outputs": [
    {
     "name": "stdout",
     "output_type": "stream",
     "text": [
      "Binary:       0b1101111\n",
      "Octal:        0o157\n",
      "Hexadecimal:  0x6f\n"
     ]
    }
   ],
   "source": [
    "num_conversion(111)"
   ]
  },
  {
   "cell_type": "markdown",
   "id": "78bfeaa2",
   "metadata": {},
   "source": [
    "### Write a Python Program To Find ASCII value of a character?"
   ]
  },
  {
   "cell_type": "code",
   "execution_count": 7,
   "id": "f4c75307",
   "metadata": {},
   "outputs": [
    {
     "name": "stdout",
     "output_type": "stream",
     "text": [
      "Enter a character: F\n",
      "ASCII value of F is 70\n"
     ]
    }
   ],
   "source": [
    "char = input(\"Enter a character: \")\n",
    "ASCII = ord(char)\n",
    "print(\"ASCII value of {} is {}\".format(char, ASCII))"
   ]
  },
  {
   "cell_type": "markdown",
   "id": "3fd01eec",
   "metadata": {},
   "source": [
    "### Write a Python Program to Make a Simple Calculator with 4 basic mathematical operations?"
   ]
  },
  {
   "cell_type": "code",
   "execution_count": 11,
   "id": "a26dd135",
   "metadata": {},
   "outputs": [
    {
     "name": "stdout",
     "output_type": "stream",
     "text": [
      "Enter first number: 40\n",
      "Enter second number: 2\n",
      "For addition:       +\n",
      "For subtraction:    -\n",
      "For multiplicaton:  *\n",
      "For division:       /\n",
      "For Exit:           X\n",
      "Enter the choice for mathematical operations: +\n",
      "Result:  42.0\n",
      "=================================================\n",
      "Enter first number: 50\n",
      "Enter second number: 5\n",
      "For addition:       +\n",
      "For subtraction:    -\n",
      "For multiplicaton:  *\n",
      "For division:       /\n",
      "For Exit:           X\n",
      "Enter the choice for mathematical operations: /\n",
      "Result:  10.0\n",
      "=================================================\n",
      "Enter first number: 30\n",
      "Enter second number: 36\n",
      "For addition:       +\n",
      "For subtraction:    -\n",
      "For multiplicaton:  *\n",
      "For division:       /\n",
      "For Exit:           X\n",
      "Enter the choice for mathematical operations: *\n",
      "Result:  1080.0\n",
      "=================================================\n",
      "Enter first number: 100\n",
      "Enter second number: 99\n",
      "For addition:       +\n",
      "For subtraction:    -\n",
      "For multiplicaton:  *\n",
      "For division:       /\n",
      "For Exit:           X\n",
      "Enter the choice for mathematical operations: -\n",
      "Result:  1.0\n",
      "=================================================\n",
      "Enter first number: 34\n",
      "Enter second number: 43\n",
      "For addition:       +\n",
      "For subtraction:    -\n",
      "For multiplicaton:  *\n",
      "For division:       /\n",
      "For Exit:           X\n",
      "Enter the choice for mathematical operations: x\n"
     ]
    }
   ],
   "source": [
    "while True:\n",
    "    num1 = float(input('Enter first number: '))\n",
    "    num2 = float(input('Enter second number: '))\n",
    "\n",
    "    print(\"For addition:       +\")\n",
    "    print(\"For subtraction:    -\")\n",
    "    print(\"For multiplicaton:  *\")\n",
    "    print(\"For division:       /\")\n",
    "    print(\"For Exit:           X\")\n",
    "\n",
    "    ch = input(\"Enter the choice for mathematical operations: \")\n",
    "\n",
    "    if ch == '+':\n",
    "        output = num1 + num2\n",
    "    elif ch == '-':\n",
    "        output = num1 - num2\n",
    "    elif ch == '*':\n",
    "        output = num1 * num2\n",
    "    elif ch == '/':\n",
    "        output = num1 / num2\n",
    "    \n",
    "    if ch == 'X' or ch == 'x':\n",
    "            break\n",
    "\n",
    "    print('Result: ', output)\n",
    "    print(\"=================================================\")"
   ]
  },
  {
   "cell_type": "code",
   "execution_count": null,
   "id": "1b38a927",
   "metadata": {},
   "outputs": [],
   "source": []
  }
 ],
 "metadata": {
  "kernelspec": {
   "display_name": "Python 3 (ipykernel)",
   "language": "python",
   "name": "python3"
  },
  "language_info": {
   "codemirror_mode": {
    "name": "ipython",
    "version": 3
   },
   "file_extension": ".py",
   "mimetype": "text/x-python",
   "name": "python",
   "nbconvert_exporter": "python",
   "pygments_lexer": "ipython3",
   "version": "3.9.13"
  }
 },
 "nbformat": 4,
 "nbformat_minor": 5
}
