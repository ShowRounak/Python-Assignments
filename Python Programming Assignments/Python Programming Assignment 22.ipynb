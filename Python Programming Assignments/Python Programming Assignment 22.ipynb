{
 "cells": [
  {
   "cell_type": "markdown",
   "id": "23350ffb-cb51-4d06-85ad-13c19640f1ec",
   "metadata": {},
   "source": [
    "### Create a function that takes three parameters where:\n",
    " x is the start of the range (inclusive).\n",
    "\n",
    " y is the end of the range (inclusive).\n",
    "\n",
    " n is the divisor to be checked against.\n",
    "\n",
    "Return an ordered list with numbers in the range that are divisible by the third parameter n.\n",
    "\n",
    "Return an empty list if there are no numbers that are divisible by n.\n",
    "\n",
    "Examples\n",
    "\n",
    "list_operation(1, 10, 3) ➞ [3, 6, 9]\n",
    "\n",
    "list_operation(7, 9, 2) ➞ [8]\n",
    "\n",
    "list_operation(15, 20, 7) ➞ []"
   ]
  },
  {
   "cell_type": "code",
   "execution_count": 1,
   "id": "a464505f-008d-41f6-8460-b9bd897ebdcd",
   "metadata": {},
   "outputs": [],
   "source": [
    "def list_operation(x, y, z):\n",
    "    return [i for i in range(x, y+1) if i%z == 0]"
   ]
  },
  {
   "cell_type": "code",
   "execution_count": 2,
   "id": "ae03d396-c94b-4ef4-b5f0-7fdb3d14f565",
   "metadata": {},
   "outputs": [
    {
     "name": "stdout",
     "output_type": "stream",
     "text": [
      "[3, 6, 9]\n",
      "[8]\n",
      "[]\n"
     ]
    }
   ],
   "source": [
    "print(list_operation(1, 10, 3))\n",
    "print(list_operation(7, 9, 2))\n",
    "print(list_operation(15, 20, 7))"
   ]
  },
  {
   "cell_type": "markdown",
   "id": "70448099-1d3c-4856-8d4e-3462ed68309c",
   "metadata": {},
   "source": [
    "### Create a function that takes in two lists and returns True if the second list follows the first list by one element, and False otherwise. In other words, determine if the second list is the first list shifted to the right by 1.\n",
    "Examples\n",
    "\n",
    "simon_says([1, 2], [5, 1]) ➞ True\n",
    "\n",
    "simon_says([1, 2], [5, 5]) ➞ False\n",
    "\n",
    "simon_says([1, 2, 3, 4, 5], [0, 1, 2, 3, 4]) ➞ True\n",
    "\n",
    "simon_says([1, 2, 3, 4, 5], [5, 5, 1, 2, 3]) ➞ False"
   ]
  },
  {
   "cell_type": "code",
   "execution_count": 3,
   "id": "f618c5d6-b044-423f-a462-7c71dd757583",
   "metadata": {},
   "outputs": [],
   "source": [
    "def simon_says(lst1: list, lst2: list) -> bool:\n",
    "    lst1 = lst1[:-1]\n",
    "    lst2 = lst2[1:]\n",
    "    if lst1 == lst2:\n",
    "        return True\n",
    "    return False"
   ]
  },
  {
   "cell_type": "code",
   "execution_count": 4,
   "id": "54beb856-63aa-4502-b57a-edac734fd1d8",
   "metadata": {},
   "outputs": [
    {
     "name": "stdout",
     "output_type": "stream",
     "text": [
      "True\n",
      "False\n",
      "True\n",
      "False\n"
     ]
    }
   ],
   "source": [
    "print(simon_says([1, 2], [5, 1]))\n",
    "print(simon_says([1, 2], [5, 5]))\n",
    "print(simon_says([1, 2, 3, 4, 5], [0, 1, 2, 3, 4]))\n",
    "print(simon_says([1, 2, 3, 4, 5], [5, 5, 1, 2, 3]))"
   ]
  },
  {
   "cell_type": "markdown",
   "id": "c0ca2051-7279-47a1-9644-fac62a3bdc18",
   "metadata": {},
   "source": [
    "### A group of friends have decided to start a secret society. The name will be the first letter of each of their names, sorted in alphabetical order. Create a function that takes in a list of names and returns the name of the secret society.\n",
    "\n",
    "society_name([&quot;Adam&quot;, &quot;Sarah&quot;, &quot;Malcolm&quot;]) ➞ &quot;AMS&quot;\n",
    "\n",
    "society_name([&quot;Harry&quot;, &quot;Newt&quot;, &quot;Luna&quot;, &quot;Cho&quot;]) ➞ &quot;CHLN&quot;\n",
    "\n",
    "society_name([&quot;Phoebe&quot;, &quot;Chandler&quot;, &quot;Rachel&quot;, &quot;Ross&quot;, &quot;Monica&quot;, &quot;Joey&quot;])"
   ]
  },
  {
   "cell_type": "code",
   "execution_count": 5,
   "id": "d2726e1f-d4c3-420c-9b4e-6c6014d17a47",
   "metadata": {},
   "outputs": [],
   "source": [
    "def society_name(lst: list):\n",
    "    name = ''\n",
    "    for i in lst:\n",
    "        name += i[0]\n",
    "    return ''.join(sorted(name))"
   ]
  },
  {
   "cell_type": "code",
   "execution_count": 6,
   "id": "91fe9a21-52be-4909-b89e-4792b4c6c7fa",
   "metadata": {},
   "outputs": [
    {
     "name": "stdout",
     "output_type": "stream",
     "text": [
      "AMS\n",
      "CHLN\n",
      "CJMPRR\n"
     ]
    }
   ],
   "source": [
    "print(society_name([\"Adam\", \"Sarah\", \"Malcolm\"]))\n",
    "print(society_name([\"Harry\", \"Newt\", \"Luna\", \"Cho\"]))\n",
    "print(society_name([\"Phoebe\", \"Chandler\", \"Rachel\", \"Ross\", \"Monica\", \"Joey\"]))"
   ]
  },
  {
   "cell_type": "markdown",
   "id": "f2ca4845-191f-4aa7-a189-c755f2e89ec9",
   "metadata": {},
   "source": [
    "### An isogram is a word that has no duplicate letters. Create a function that takes a string and returns either True or False depending on whether or not it&#39;s an &quot;isogram&quot;.\n",
    "Examples\n",
    "\n",
    "is_isogram(&quot;Algorism&quot;) ➞ True\n",
    "\n",
    "is_isogram(&quot;PasSword&quot;) ➞ False\n",
    "\n",
    "Not case sensitive.\n",
    "\n",
    "is_isogram(&quot;Consecutive&quot;) ➞ False"
   ]
  },
  {
   "cell_type": "code",
   "execution_count": 7,
   "id": "9e7ab64b-60e5-4cd1-a200-6ff68943e5c4",
   "metadata": {},
   "outputs": [],
   "source": [
    "def is_isogram(string: str) -> bool:\n",
    "    return True if len(list(string)) == len(set(string)) else False"
   ]
  },
  {
   "cell_type": "code",
   "execution_count": 8,
   "id": "f9112f89-b16e-4896-9511-2c1fd450ccaf",
   "metadata": {},
   "outputs": [
    {
     "name": "stdout",
     "output_type": "stream",
     "text": [
      "True\n",
      "True\n",
      "False\n"
     ]
    }
   ],
   "source": [
    "print(is_isogram(\"Algorism\"))\n",
    "print(is_isogram(\"PasSword\"))\n",
    "print(is_isogram(\"Password\"))"
   ]
  },
  {
   "cell_type": "markdown",
   "id": "f3df0b63-ba46-4aa8-851f-6321db5a601c",
   "metadata": {},
   "source": [
    "### Create a function that takes a string and returns True or False, depending on whether the characters are in order or not.\n",
    "Examples\n",
    "\n",
    "is_in_order(&quot;abc&quot;) ➞ True\n",
    "\n",
    "is_in_order(&quot;edabit&quot;) ➞ False\n",
    "\n",
    "is_in_order(&quot;123&quot;) ➞ True\n",
    "\n",
    "is_in_order(&quot;xyzz&quot;) ➞ True"
   ]
  },
  {
   "cell_type": "code",
   "execution_count": 9,
   "id": "cd7cefbf-46ec-4aaf-abec-f1a2c2f5a2ec",
   "metadata": {},
   "outputs": [],
   "source": [
    "def is_in_order(string: str) -> bool:\n",
    "    return True if list(string) == sorted(list(string)) else False\n"
   ]
  },
  {
   "cell_type": "code",
   "execution_count": 10,
   "id": "8b163b85-eee3-4e7e-a0dc-666bb1dfeeb0",
   "metadata": {},
   "outputs": [
    {
     "name": "stdout",
     "output_type": "stream",
     "text": [
      "True\n",
      "False\n",
      "True\n",
      "True\n"
     ]
    }
   ],
   "source": [
    "print(is_in_order(\"abc\"))\n",
    "print(is_in_order(\"edabit\"))\n",
    "print(is_in_order(\"123\"))\n",
    "print(is_in_order(\"xyzz\"))"
   ]
  },
  {
   "cell_type": "code",
   "execution_count": null,
   "id": "21ff110a-b114-4193-94bb-b3e891d7c149",
   "metadata": {},
   "outputs": [],
   "source": []
  }
 ],
 "metadata": {
  "kernelspec": {
   "display_name": "Python 3 (ipykernel)",
   "language": "python",
   "name": "python3"
  },
  "language_info": {
   "codemirror_mode": {
    "name": "ipython",
    "version": 3
   },
   "file_extension": ".py",
   "mimetype": "text/x-python",
   "name": "python",
   "nbconvert_exporter": "python",
   "pygments_lexer": "ipython3",
   "version": "3.10.6"
  }
 },
 "nbformat": 4,
 "nbformat_minor": 5
}
