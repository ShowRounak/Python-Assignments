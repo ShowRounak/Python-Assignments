{
 "cells": [
  {
   "cell_type": "markdown",
   "id": "c75832e5-ea33-44a4-8ed5-a42f99450c78",
   "metadata": {},
   "source": [
    "### Create a function that takes a number as an argument and returns True or False depending on whether the number is symmetrical or not. A number is symmetrical when it is the same as its reverse.\n",
    "Examples\n",
    "\n",
    "is_symmetrical(7227) ➞ True\n",
    "\n",
    "is_symmetrical(12567) ➞ False\n",
    "\n",
    "is_symmetrical(44444444) ➞ True\n",
    "\n",
    "is_symmetrical(9939) ➞ False\n",
    "\n",
    "is_symmetrical(1112111) ➞ True"
   ]
  },
  {
   "cell_type": "code",
   "execution_count": 1,
   "id": "b0b45e68-e8a1-46ff-81e0-a4255b4102d4",
   "metadata": {},
   "outputs": [],
   "source": [
    "def is_symmetrical(num):\n",
    "    currentDigit = reversedDigit = 0\n",
    "    remainingNum = num\n",
    "    while(remainingNum != 0):\n",
    "        currentDigit = remainingNum % 10\n",
    "        reversedDigit = reversedDigit * 10 + currentDigit\n",
    "        remainingNum = remainingNum // 10\n",
    "\n",
    "    if reversedDigit == num:\n",
    "        return True\n",
    "    else:\n",
    "        return False"
   ]
  },
  {
   "cell_type": "code",
   "execution_count": 2,
   "id": "65e3e2b3-8ef6-47b9-a9cc-e256fd0c3109",
   "metadata": {},
   "outputs": [
    {
     "name": "stdout",
     "output_type": "stream",
     "text": [
      "True\n",
      "False\n",
      "True\n",
      "False\n",
      "True\n"
     ]
    }
   ],
   "source": [
    "print(is_symmetrical(7227))\n",
    "print(is_symmetrical(12567))\n",
    "print(is_symmetrical(44444444))\n",
    "print(is_symmetrical(9939))\n",
    "print(is_symmetrical(1112111))"
   ]
  },
  {
   "cell_type": "markdown",
   "id": "801f0eb9-2613-42ea-a26c-41ce8942e028",
   "metadata": {},
   "source": [
    "### Given a string of numbers separated by a comma and space, return the product of the numbers.\n",
    "Examples\n",
    "multiply_nums(&quot;2, 3&quot;) ➞ 6\n",
    "\n",
    "multiply_nums(&quot;1, 2, 3, 4&quot;) ➞ 24\n",
    "\n",
    "multiply_nums(&quot;54, 75, 453, 0&quot;) ➞ 0\n",
    "\n",
    "multiply_nums(&quot;10, -2&quot;) ➞ -20"
   ]
  },
  {
   "cell_type": "code",
   "execution_count": 3,
   "id": "12db2a79-c1ea-4d40-80ae-165cb2918273",
   "metadata": {},
   "outputs": [],
   "source": [
    "def multiply_nums(s):\n",
    "    product = 1\n",
    "    for i in s.split(','):\n",
    "        product = product * int(i)\n",
    "    return product"
   ]
  },
  {
   "cell_type": "code",
   "execution_count": 4,
   "id": "9f87c543-1a1b-4804-b8d3-266942bd652c",
   "metadata": {},
   "outputs": [
    {
     "name": "stdout",
     "output_type": "stream",
     "text": [
      "6\n",
      "24\n",
      "0\n",
      "-20\n"
     ]
    }
   ],
   "source": [
    "print(multiply_nums('2, 3'))\n",
    "print(multiply_nums('1, 2, 3, 4'))\n",
    "print(multiply_nums('54, 75, 453, 0'))\n",
    "print(multiply_nums('10, -2'))"
   ]
  },
  {
   "cell_type": "markdown",
   "id": "74052d78-2fc7-4243-877b-f13a78a4dd51",
   "metadata": {},
   "source": [
    "### Create a function that squares every digit of a number.\n",
    "Examples\n",
    "\n",
    "square_digits(9119) ➞ 811181\n",
    "\n",
    "square_digits(2483) ➞ 416649\n",
    "\n",
    "square_digits(3212) ➞ 9414"
   ]
  },
  {
   "cell_type": "code",
   "execution_count": 5,
   "id": "776fc1c0-5829-401e-81be-d038dc8b9388",
   "metadata": {},
   "outputs": [],
   "source": [
    "def square_digits(num):\n",
    "    res = \"\"\n",
    "    for i in str(num):\n",
    "        res += str(int(i)**2)\n",
    "    return int(res)"
   ]
  },
  {
   "cell_type": "code",
   "execution_count": 6,
   "id": "6f34e741-4ca6-4c33-a2a9-7b4565d4842a",
   "metadata": {},
   "outputs": [
    {
     "name": "stdout",
     "output_type": "stream",
     "text": [
      "811181\n",
      "416649\n",
      "9414\n"
     ]
    }
   ],
   "source": [
    "print(square_digits(9119))\n",
    "print(square_digits(2483))\n",
    "print(square_digits(3212))"
   ]
  },
  {
   "cell_type": "markdown",
   "id": "3228f24d-9509-4cf7-83ba-bcd923ec0f8c",
   "metadata": {},
   "source": [
    "### Create a function that sorts a list and removes all duplicate items from it.\n",
    "Examples\n",
    "\n",
    "setify([1, 3, 3, 5, 5]) ➞ [1, 3, 5]\n",
    "\n",
    "setify([4, 4, 4, 4]) ➞ [4]\n",
    "\n",
    "setify([5, 7, 8, 9, 10, 15]) ➞ [5, 7, 8, 9, 10, 15]\n",
    "\n",
    "setify([3, 3, 3, 2, 1]) ➞ [1, 2, 3]"
   ]
  },
  {
   "cell_type": "code",
   "execution_count": 7,
   "id": "10fd153f-0861-4b6e-9fc0-0aabfa1c9626",
   "metadata": {},
   "outputs": [],
   "source": [
    "def setify(lst):\n",
    "    return list(set(lst))"
   ]
  },
  {
   "cell_type": "code",
   "execution_count": 8,
   "id": "28dff66f-b3c1-4599-94e6-deff05308634",
   "metadata": {},
   "outputs": [
    {
     "name": "stdout",
     "output_type": "stream",
     "text": [
      "[1, 3, 5]\n",
      "[4]\n",
      "[5, 7, 8, 9, 10, 15]\n",
      "[1, 2, 3]\n"
     ]
    }
   ],
   "source": [
    "print(setify([1, 3, 3, 5, 5]))\n",
    "print(setify([4, 4, 4, 4]))\n",
    "print(setify([5, 7, 8, 9, 10, 15]))\n",
    "print(setify([3, 3, 3, 2, 1]))"
   ]
  },
  {
   "cell_type": "markdown",
   "id": "c217b85c-7244-4bf8-ba8e-74ce8467db86",
   "metadata": {},
   "source": [
    "### Create a function that returns the mean of all digits.\n",
    "Examples\n",
    "\n",
    "mean(42) ➞ 3\n",
    "\n",
    "mean(12345) ➞ 3\n",
    "\n",
    "mean(666) ➞ 6"
   ]
  },
  {
   "cell_type": "code",
   "execution_count": 9,
   "id": "774086f8-20e7-4d5d-8daf-571ec343146b",
   "metadata": {},
   "outputs": [],
   "source": [
    "def mean(n): \n",
    "    N = len(str(n)) \n",
    "    sum = mean = 0\n",
    "    \n",
    "    for digit in str(n):\n",
    "        sum += int(digit)       \n",
    "    return int(sum/N)"
   ]
  },
  {
   "cell_type": "code",
   "execution_count": 10,
   "id": "72e06b58-27d9-401d-9c49-2ce7dd9c4a2b",
   "metadata": {},
   "outputs": [
    {
     "name": "stdout",
     "output_type": "stream",
     "text": [
      "3\n",
      "3\n",
      "6\n"
     ]
    }
   ],
   "source": [
    "print(mean(42))\n",
    "print(mean(12345))\n",
    "print(mean(666))"
   ]
  },
  {
   "cell_type": "code",
   "execution_count": null,
   "id": "62f0deeb-0409-4d38-a8cf-13e8e13422e9",
   "metadata": {},
   "outputs": [],
   "source": []
  }
 ],
 "metadata": {
  "kernelspec": {
   "display_name": "Python 3 (ipykernel)",
   "language": "python",
   "name": "python3"
  },
  "language_info": {
   "codemirror_mode": {
    "name": "ipython",
    "version": 3
   },
   "file_extension": ".py",
   "mimetype": "text/x-python",
   "name": "python",
   "nbconvert_exporter": "python",
   "pygments_lexer": "ipython3",
   "version": "3.10.6"
  }
 },
 "nbformat": 4,
 "nbformat_minor": 5
}
