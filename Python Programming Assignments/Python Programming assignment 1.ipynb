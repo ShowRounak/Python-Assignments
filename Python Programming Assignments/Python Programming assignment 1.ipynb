{
 "cells": [
  {
   "cell_type": "markdown",
   "id": "b0fc2dfb-5504-4d96-aa0f-25a3bed3f32e",
   "metadata": {},
   "source": [
    "### 1. Write a Python program to print &quot;Hello Python&quot;?"
   ]
  },
  {
   "cell_type": "code",
   "execution_count": 1,
   "id": "b41d06e7-9732-447a-9627-b06251590e30",
   "metadata": {},
   "outputs": [
    {
     "name": "stdout",
     "output_type": "stream",
     "text": [
      "Hello Python\n"
     ]
    }
   ],
   "source": [
    "print('Hello Python')"
   ]
  },
  {
   "cell_type": "markdown",
   "id": "e323ea73-2cba-48ff-84c5-9ea1508cdab1",
   "metadata": {},
   "source": [
    "### 2. Write a Python program to do arithmetical operations addition and division.?"
   ]
  },
  {
   "cell_type": "code",
   "execution_count": 2,
   "id": "cf1c8877-2bfd-4e1c-9113-e99351cf28ed",
   "metadata": {},
   "outputs": [],
   "source": [
    "def addition(a,b):\n",
    "    return a+b\n",
    "\n",
    "def division(a,b):\n",
    "    return a/b"
   ]
  },
  {
   "cell_type": "code",
   "execution_count": 3,
   "id": "73103d78-fb3b-40c0-b6dd-cf6926cf0477",
   "metadata": {},
   "outputs": [
    {
     "data": {
      "text/plain": [
       "19"
      ]
     },
     "execution_count": 3,
     "metadata": {},
     "output_type": "execute_result"
    }
   ],
   "source": [
    "addition(9,10)"
   ]
  },
  {
   "cell_type": "code",
   "execution_count": 4,
   "id": "92cbf4b4-fbee-4ddd-b2d8-b7c7a0625dd5",
   "metadata": {},
   "outputs": [
    {
     "data": {
      "text/plain": [
       "3.0"
      ]
     },
     "execution_count": 4,
     "metadata": {},
     "output_type": "execute_result"
    }
   ],
   "source": [
    "division(9,3)"
   ]
  },
  {
   "cell_type": "markdown",
   "id": "e5461073-7e4b-4291-838c-61f20a3e6ace",
   "metadata": {},
   "source": [
    "### 3. Write a Python program to find the area of a triangle?"
   ]
  },
  {
   "cell_type": "code",
   "execution_count": 5,
   "id": "d9bf39bd-a302-4952-98f8-54f62e3172dd",
   "metadata": {},
   "outputs": [
    {
     "name": "stdout",
     "output_type": "stream",
     "text": [
      "Area of triangle: 1250.0\n"
     ]
    }
   ],
   "source": [
    "height = 100\n",
    "base = 25\n",
    "\n",
    "area = height*base/2\n",
    "\n",
    "print(\"Area of triangle:\", area)"
   ]
  },
  {
   "cell_type": "markdown",
   "id": "ba82abf2-ba2d-4a58-8edf-5ded1a320766",
   "metadata": {},
   "source": [
    "### 4. Write a Python program to swap two variables?"
   ]
  },
  {
   "cell_type": "code",
   "execution_count": 6,
   "id": "81456394-3ea1-40e5-98e6-8deabe1c0941",
   "metadata": {},
   "outputs": [
    {
     "name": "stdout",
     "output_type": "stream",
     "text": [
      "Before swapping var1=10 and var2=11\n",
      "After swapping var1=11 and var2=10\n"
     ]
    }
   ],
   "source": [
    "var1 = 10\n",
    "var2 = 11\n",
    "\n",
    "print(f'Before swapping var1={var1} and var2={var2}')\n",
    "\n",
    "temp = var1\n",
    "var1 = var2\n",
    "var2 = temp\n",
    "\n",
    "print(f'After swapping var1={var1} and var2={var2}')"
   ]
  },
  {
   "cell_type": "markdown",
   "id": "f7fa60c8-1c31-4d84-98b2-cf9117e0a8b2",
   "metadata": {},
   "source": [
    "### 5. Write a Python program to generate a random number?"
   ]
  },
  {
   "cell_type": "code",
   "execution_count": 7,
   "id": "05510795-565f-48d7-8b27-252481842687",
   "metadata": {},
   "outputs": [
    {
     "name": "stdout",
     "output_type": "stream",
     "text": [
      "0.7142771683244388\n",
      "47\n"
     ]
    }
   ],
   "source": [
    "import random\n",
    "\n",
    "print(random.random())\n",
    "print(random.randint(1, 1000))"
   ]
  },
  {
   "cell_type": "code",
   "execution_count": null,
   "id": "5fa94217-0547-4881-a58c-aba886f012da",
   "metadata": {},
   "outputs": [],
   "source": []
  }
 ],
 "metadata": {
  "kernelspec": {
   "display_name": "Python 3 (ipykernel)",
   "language": "python",
   "name": "python3"
  },
  "language_info": {
   "codemirror_mode": {
    "name": "ipython",
    "version": 3
   },
   "file_extension": ".py",
   "mimetype": "text/x-python",
   "name": "python",
   "nbconvert_exporter": "python",
   "pygments_lexer": "ipython3",
   "version": "3.10.6"
  }
 },
 "nbformat": 4,
 "nbformat_minor": 5
}
