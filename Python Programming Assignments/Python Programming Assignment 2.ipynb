{
 "cells": [
  {
   "cell_type": "markdown",
   "id": "fd5f00a1-79d5-4ed3-8e9e-7bdc389120d4",
   "metadata": {},
   "source": [
    "### 1. Write a Python program to convert kilometers to miles?"
   ]
  },
  {
   "cell_type": "code",
   "execution_count": 3,
   "id": "f4da88b5-4080-442a-bc98-ddeadb8475fc",
   "metadata": {},
   "outputs": [
    {
     "name": "stdout",
     "output_type": "stream",
     "text": [
      "For 10km equivalent distance in miles = 6.213727366498068\n"
     ]
    }
   ],
   "source": [
    "km = 10\n",
    "\n",
    "miles = km/1.60934\n",
    "\n",
    "print(f\"For {km}km equivalent distance in miles = {miles}\")"
   ]
  },
  {
   "cell_type": "markdown",
   "id": "f5ee9341-5877-4b0c-9f67-d6ec40afeb8d",
   "metadata": {},
   "source": [
    "### 2. Write a Python program to convert Celsius to Fahrenheit?"
   ]
  },
  {
   "cell_type": "code",
   "execution_count": 5,
   "id": "8352a055-23c0-44cb-ac56-4555035402ad",
   "metadata": {},
   "outputs": [
    {
     "name": "stdout",
     "output_type": "stream",
     "text": [
      "For Celsius = 100 equivalent Fahrenheit = 212.0\n"
     ]
    }
   ],
   "source": [
    "c = 100\n",
    "\n",
    "f = (9*c/5)+32\n",
    "\n",
    "print(\"For Celsius = {} equivalent Fahrenheit = {}\".format(c, f))"
   ]
  },
  {
   "cell_type": "markdown",
   "id": "bec18d9c-d954-4832-bfd3-9d0064cf8cf2",
   "metadata": {},
   "source": [
    "### 3. Write a Python program to display calendar?"
   ]
  },
  {
   "cell_type": "code",
   "execution_count": 6,
   "id": "b2a264ad-31cd-44d4-9ac3-234496399940",
   "metadata": {},
   "outputs": [
    {
     "name": "stdout",
     "output_type": "stream",
     "text": [
      "     April 2023\n",
      "Mo Tu We Th Fr Sa Su\n",
      "                1  2\n",
      " 3  4  5  6  7  8  9\n",
      "10 11 12 13 14 15 16\n",
      "17 18 19 20 21 22 23\n",
      "24 25 26 27 28 29 30\n",
      "\n"
     ]
    }
   ],
   "source": [
    "import calendar\n",
    "\n",
    "year = 2023\n",
    "month = 4\n",
    "\n",
    "print(calendar.month(year, month))"
   ]
  },
  {
   "cell_type": "markdown",
   "id": "1fd94e20-12c4-4368-bbc6-f77deca2f236",
   "metadata": {},
   "source": [
    "### 4. Write a Python program to solve quadratic equation?"
   ]
  },
  {
   "cell_type": "code",
   "execution_count": 9,
   "id": "f4b10d64-45b5-48cc-ae42-d31c13ddf2f8",
   "metadata": {},
   "outputs": [
    {
     "name": "stdout",
     "output_type": "stream",
     "text": [
      "ax^2 + bx^1 + c = 0\n",
      "Enter the coeff a, b and constant c\n"
     ]
    },
    {
     "name": "stdin",
     "output_type": "stream",
     "text": [
      "Enter the coeff a:  1\n",
      "Enter the coeff b:  5\n",
      "Enter the constant c:  6\n"
     ]
    },
    {
     "name": "stdout",
     "output_type": "stream",
     "text": [
      "\n",
      "For quadratic equation 1x^2 + (5)x^1 + 6\n",
      "The solutions are: -2.0 and -3.0\n"
     ]
    }
   ],
   "source": [
    "import math\n",
    "\n",
    "print(\"ax^2 + bx^1 + c = 0\")\n",
    "print(\"Enter the coeff a, b and constant c\")\n",
    "\n",
    "a = int(input((\"Enter the coeff a: \")))\n",
    "b = int(input((\"Enter the coeff b: \")))\n",
    "c = int(input((\"Enter the constant c: \")))\n",
    "\n",
    "d = (b**2) - (4*a*c)\n",
    "\n",
    "root1 = ((-1*b)+(math.sqrt(d))) / (2*a)\n",
    "root2 = ((-1*b)-(math.sqrt(d))) / (2*a)\n",
    "\n",
    "print(f'\\nFor quadratic equation {a}x^2 + ({b})x^1 + {c}')\n",
    "print(f'The solutions are: {root1} and {root2}')"
   ]
  },
  {
   "cell_type": "markdown",
   "id": "e2a5b8cb-3acf-43d2-bd7e-95550945a3cb",
   "metadata": {},
   "source": [
    "### 5. Write a Python program to swap two variables without temp variable?"
   ]
  },
  {
   "cell_type": "code",
   "execution_count": 20,
   "id": "ae5ef7ac-8d34-447d-8ef3-d4a977586e0a",
   "metadata": {},
   "outputs": [
    {
     "name": "stdout",
     "output_type": "stream",
     "text": [
      "Before Swapping var1 = 10 and var2 = 7\n",
      "After Swapping var1 = 7 and var2 = 10\n"
     ]
    }
   ],
   "source": [
    "a = 10\n",
    "b = 7\n",
    "\n",
    "print(f'Before Swapping var1 = {a} and var2 = {b}')\n",
    "\n",
    "a = a + b\n",
    "b = a - b\n",
    "a = a -b\n",
    "\n",
    "print(f'After Swapping var1 = {a} and var2 = {b}')"
   ]
  },
  {
   "cell_type": "code",
   "execution_count": null,
   "id": "94c35638-d128-4442-8670-33b1fd179a5f",
   "metadata": {},
   "outputs": [],
   "source": []
  }
 ],
 "metadata": {
  "kernelspec": {
   "display_name": "Python 3 (ipykernel)",
   "language": "python",
   "name": "python3"
  },
  "language_info": {
   "codemirror_mode": {
    "name": "ipython",
    "version": 3
   },
   "file_extension": ".py",
   "mimetype": "text/x-python",
   "name": "python",
   "nbconvert_exporter": "python",
   "pygments_lexer": "ipython3",
   "version": "3.10.6"
  }
 },
 "nbformat": 4,
 "nbformat_minor": 5
}
