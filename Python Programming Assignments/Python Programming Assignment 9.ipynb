{
 "cells": [
  {
   "cell_type": "markdown",
   "id": "a3e10468",
   "metadata": {},
   "source": [
    "### Write a Python program to check if the given number is a Disarium Number?"
   ]
  },
  {
   "cell_type": "code",
   "execution_count": 14,
   "id": "4c8d93bc",
   "metadata": {},
   "outputs": [],
   "source": [
    "def disarium_number(num):\n",
    "    \n",
    "    try:\n",
    "        if type(num) != int:\n",
    "            raise Exception(\"Not an integer\")\n",
    "            \n",
    "        num = str(num)\n",
    "        total = 0\n",
    "        for i in range(0, len(num)):\n",
    "            n = int(num[i])\n",
    "            n = n**(i+1)\n",
    "            total = total + n\n",
    "\n",
    "        if total == int(num):\n",
    "            print('It is a Disarium Number')\n",
    "        else:\n",
    "            print('It is not a Disarium Number')\n",
    "\n",
    "    except Exception as e:\n",
    "        print(e)"
   ]
  },
  {
   "cell_type": "code",
   "execution_count": 15,
   "id": "4290de69",
   "metadata": {},
   "outputs": [
    {
     "name": "stdout",
     "output_type": "stream",
     "text": [
      "It is a Disarium Number\n"
     ]
    }
   ],
   "source": [
    "disarium_number(135)"
   ]
  },
  {
   "cell_type": "markdown",
   "id": "9c075954",
   "metadata": {},
   "source": [
    "### Write a Python program to print all disarium numbers between 1 to 100?"
   ]
  },
  {
   "cell_type": "code",
   "execution_count": 4,
   "id": "8b974df5",
   "metadata": {},
   "outputs": [
    {
     "name": "stdout",
     "output_type": "stream",
     "text": [
      "1 2 3 4 5 6 7 8 9 89 "
     ]
    }
   ],
   "source": [
    "for i in range(1, 101):\n",
    "    if disarium_number(i) == True:\n",
    "        print(i, end = ' ')"
   ]
  },
  {
   "cell_type": "markdown",
   "id": "40bcfb4f",
   "metadata": {},
   "source": [
    "### Write a Python program to check if the given number is Happy Number?"
   ]
  },
  {
   "cell_type": "code",
   "execution_count": 12,
   "id": "c65600f0",
   "metadata": {},
   "outputs": [],
   "source": [
    "def happy_number(num):\n",
    "\n",
    "    res = num; \n",
    "    def isHappy(num):\n",
    "        r = 0;  \n",
    "        s = 0\n",
    "        while(num > 0):\n",
    "            r = num%10    \n",
    "            s += r**2  \n",
    "            num //= 10    \n",
    "        return s\n",
    "\n",
    "    while(res != 1 and res != 4):\n",
    "        res = isHappy(res)    \n",
    "\n",
    "    if(res == 1):    \n",
    "        print('It is a Happy Number')\n",
    "    elif(res == 4):    \n",
    "        print('It is a not a Happy Number')"
   ]
  },
  {
   "cell_type": "code",
   "execution_count": 13,
   "id": "f4601a5d",
   "metadata": {},
   "outputs": [
    {
     "name": "stdout",
     "output_type": "stream",
     "text": [
      "It is a Happy Number\n"
     ]
    }
   ],
   "source": [
    "happy_number(100)"
   ]
  },
  {
   "cell_type": "markdown",
   "id": "20c25ecc",
   "metadata": {},
   "source": [
    "### Write a Python program to print all happy numbers between 1 and 100?"
   ]
  },
  {
   "cell_type": "code",
   "execution_count": 8,
   "id": "2ab1a3c6",
   "metadata": {},
   "outputs": [
    {
     "name": "stdout",
     "output_type": "stream",
     "text": [
      "1 7 10 13 19 23 28 31 32 44 49 68 70 79 82 86 91 94 97 100 "
     ]
    }
   ],
   "source": [
    "for i in range(1, 101):\n",
    "    if happy_number(i) == True:\n",
    "        print(i, end = ' ')"
   ]
  },
  {
   "cell_type": "markdown",
   "id": "6d33443d",
   "metadata": {},
   "source": [
    "### Write a Python program to determine whether the given number is a Harshad Number?"
   ]
  },
  {
   "cell_type": "code",
   "execution_count": 10,
   "id": "1c06535d",
   "metadata": {},
   "outputs": [],
   "source": [
    "def harshad_number(num):\n",
    "    temp = num\n",
    "    total = 0\n",
    "    while (temp > 0):\n",
    "        total = total + (temp%10)\n",
    "        temp = temp//10\n",
    "        \n",
    "    if num%total==0:\n",
    "        print(\"It is a Harshad Number\")\n",
    "    else:\n",
    "        print(\"It is not Harshad Number\")"
   ]
  },
  {
   "cell_type": "code",
   "execution_count": 11,
   "id": "efab9886",
   "metadata": {},
   "outputs": [
    {
     "name": "stdout",
     "output_type": "stream",
     "text": [
      "It is a Harshad Number\n"
     ]
    }
   ],
   "source": [
    "harshad_number(156)"
   ]
  },
  {
   "cell_type": "markdown",
   "id": "620d71a1",
   "metadata": {},
   "source": [
    "### Write a Python program to print all pronic numbers between 1 and 100?"
   ]
  },
  {
   "cell_type": "code",
   "execution_count": 16,
   "id": "1483a905",
   "metadata": {},
   "outputs": [
    {
     "name": "stdout",
     "output_type": "stream",
     "text": [
      "0 2 6 12 20 30 42 56 72 90 "
     ]
    }
   ],
   "source": [
    "i = 0\n",
    "while True:\n",
    "    pronicNum = i*(i+1)\n",
    "    i = i + 1\n",
    "    if pronicNum > 100:\n",
    "        break\n",
    "    print(pronicNum, end = ' ')"
   ]
  },
  {
   "cell_type": "code",
   "execution_count": null,
   "id": "daa02738",
   "metadata": {},
   "outputs": [],
   "source": []
  }
 ],
 "metadata": {
  "kernelspec": {
   "display_name": "Python 3 (ipykernel)",
   "language": "python",
   "name": "python3"
  },
  "language_info": {
   "codemirror_mode": {
    "name": "ipython",
    "version": 3
   },
   "file_extension": ".py",
   "mimetype": "text/x-python",
   "name": "python",
   "nbconvert_exporter": "python",
   "pygments_lexer": "ipython3",
   "version": "3.9.13"
  }
 },
 "nbformat": 4,
 "nbformat_minor": 5
}
