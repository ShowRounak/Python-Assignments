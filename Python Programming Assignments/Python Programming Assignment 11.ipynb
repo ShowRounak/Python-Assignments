{
 "cells": [
  {
   "cell_type": "markdown",
   "id": "e26d681c",
   "metadata": {},
   "source": [
    "### Write a Python program to find words which are greater than given length k?"
   ]
  },
  {
   "cell_type": "code",
   "execution_count": 1,
   "id": "7e02e71b",
   "metadata": {},
   "outputs": [
    {
     "data": {
      "text/plain": [
       "['bananana', 'almond']"
      ]
     },
     "execution_count": 1,
     "metadata": {},
     "output_type": "execute_result"
    }
   ],
   "source": [
    "def test(list_of_words: list, k: int):\n",
    "    output = []\n",
    "    for i in list_of_words:\n",
    "        if len(i) > k:\n",
    "            output.append(i)\n",
    "            \n",
    "    return output\n",
    "\n",
    "list_of_words = ['Apple', 'bananana', 'kiwi', 'berry', 'almond']\n",
    "k = 5\n",
    "\n",
    "test(list_of_words, k)"
   ]
  },
  {
   "cell_type": "markdown",
   "id": "1692c1ac",
   "metadata": {},
   "source": [
    "### Write a Python program for removing i-th character from a string?"
   ]
  },
  {
   "cell_type": "code",
   "execution_count": 3,
   "id": "faff4591",
   "metadata": {},
   "outputs": [
    {
     "data": {
      "text/plain": [
       "'abcdfgh'"
      ]
     },
     "execution_count": 3,
     "metadata": {},
     "output_type": "execute_result"
    }
   ],
   "source": [
    "def test1(string: str, i):\n",
    "    string = string.replace(string[i], '')\n",
    "    return string\n",
    "\n",
    "test1('abcdEfgh', 4)"
   ]
  },
  {
   "cell_type": "markdown",
   "id": "5b5a7338",
   "metadata": {},
   "source": [
    "### Write a Python program to split and join a string?"
   ]
  },
  {
   "cell_type": "code",
   "execution_count": 4,
   "id": "f3b9662a",
   "metadata": {},
   "outputs": [
    {
     "name": "stdout",
     "output_type": "stream",
     "text": [
      "['Machine', 'Learning', 'and', 'Artificial', 'Intelligence']\n",
      "Machine Learning and Artificial Intelligence\n"
     ]
    }
   ],
   "source": [
    "string = \"Machine Learning and Artificial Intelligence\"\n",
    "\n",
    "split = string.split(' ')\n",
    "print(split)\n",
    "\n",
    "join = \" \".join(split)\n",
    "print(join)"
   ]
  },
  {
   "cell_type": "markdown",
   "id": "fcccfaac",
   "metadata": {},
   "source": [
    "### Write a Python to check if a given string is binary string or not?"
   ]
  },
  {
   "cell_type": "code",
   "execution_count": 5,
   "id": "1525331b",
   "metadata": {},
   "outputs": [
    {
     "name": "stdout",
     "output_type": "stream",
     "text": [
      "Enter the string: 110101\n",
      "Binary\n"
     ]
    }
   ],
   "source": [
    "s = input(\"Enter the string: \")\n",
    "\n",
    "def binary_check(s):\n",
    "    \n",
    "    binary = ['0', '1']\n",
    "    \n",
    "    is_binary = True\n",
    "    \n",
    "    for i in s:\n",
    "        if i not in binary:\n",
    "            is_binary = False\n",
    "\n",
    "    if is_binary:\n",
    "        print(\"Binary\")\n",
    "    else:\n",
    "        print(\"Not Binary\")\n",
    "        \n",
    "binary_check(s)"
   ]
  },
  {
   "cell_type": "code",
   "execution_count": 7,
   "id": "4f41c70f",
   "metadata": {},
   "outputs": [
    {
     "name": "stdout",
     "output_type": "stream",
     "text": [
      "Not Binary\n"
     ]
    }
   ],
   "source": [
    "binary_check('messi')"
   ]
  },
  {
   "cell_type": "markdown",
   "id": "e5faf112",
   "metadata": {},
   "source": [
    "### Write a Python program to find uncommon words from two Strings?\n"
   ]
  },
  {
   "cell_type": "code",
   "execution_count": 8,
   "id": "c1b0af9b",
   "metadata": {},
   "outputs": [],
   "source": [
    "def task5(string1, string2):\n",
    "    \n",
    "    string1 = string1.split(' ')\n",
    "    string2 = string2.split(' ')\n",
    "    uncommon = []\n",
    "    \n",
    "    for i in set(string1):\n",
    "        if i not in string2:\n",
    "            uncommon.append(i)\n",
    "\n",
    "    for i in set(string2):\n",
    "        if i not in string1:\n",
    "            uncommon.append(i)\n",
    "            \n",
    "    return uncommon"
   ]
  },
  {
   "cell_type": "code",
   "execution_count": 9,
   "id": "e8c6beab",
   "metadata": {},
   "outputs": [
    {
     "data": {
      "text/plain": [
       "['join',\n",
       " 'split',\n",
       " 'string',\n",
       " 'and',\n",
       " 'uncommon',\n",
       " 'from',\n",
       " 'two',\n",
       " 'words',\n",
       " 'find',\n",
       " 'Strings']"
      ]
     },
     "execution_count": 9,
     "metadata": {},
     "output_type": "execute_result"
    }
   ],
   "source": [
    "string1 = \"Write a Python program to split and join a string\"\n",
    "string2 = \"Write a Python program to find uncommon words from two Strings\"\n",
    "\n",
    "task5(string1, string2)"
   ]
  },
  {
   "cell_type": "markdown",
   "id": "4b2e2c48",
   "metadata": {},
   "source": [
    "### Write a Python to find all duplicate characters in string?"
   ]
  },
  {
   "cell_type": "code",
   "execution_count": 10,
   "id": "a153263f",
   "metadata": {},
   "outputs": [],
   "source": [
    "def test2(string: str):\n",
    "    duplicate = []\n",
    "    for i in string:\n",
    "        if string.count(i) > 1:\n",
    "            duplicate.append(i)\n",
    "            \n",
    "    return set(duplicate)"
   ]
  },
  {
   "cell_type": "code",
   "execution_count": 11,
   "id": "228eddad",
   "metadata": {},
   "outputs": [
    {
     "data": {
      "text/plain": [
       "{' ', 'e', 'h', 'o', 's'}"
      ]
     },
     "execution_count": 11,
     "metadata": {},
     "output_type": "execute_result"
    }
   ],
   "source": [
    "test2(\"Messi has won the World cup\")"
   ]
  },
  {
   "cell_type": "markdown",
   "id": "4af2bb0e",
   "metadata": {},
   "source": [
    "### Write a Python Program to check if a string contains any special character?\n"
   ]
  },
  {
   "cell_type": "code",
   "execution_count": 12,
   "id": "dcfd7458",
   "metadata": {},
   "outputs": [
    {
     "name": "stdout",
     "output_type": "stream",
     "text": [
      "Enter a string: Hello Guy$\n",
      "Given string contains special characters\n"
     ]
    }
   ],
   "source": [
    "import re\n",
    "\n",
    "\n",
    "string = input(\"Enter a string: \")\n",
    "regex = re.compile('[@_!#$%^&*()<>?/\\|}{~:]')  \n",
    "\n",
    "if(regex.search(string) == None):\n",
    "    print(\"Given string does not contain special characters\")\n",
    "else:\n",
    "    print(\"Given string contains special characters\")"
   ]
  },
  {
   "cell_type": "code",
   "execution_count": null,
   "id": "fcf5ff99",
   "metadata": {},
   "outputs": [],
   "source": []
  }
 ],
 "metadata": {
  "kernelspec": {
   "display_name": "Python 3 (ipykernel)",
   "language": "python",
   "name": "python3"
  },
  "language_info": {
   "codemirror_mode": {
    "name": "ipython",
    "version": 3
   },
   "file_extension": ".py",
   "mimetype": "text/x-python",
   "name": "python",
   "nbconvert_exporter": "python",
   "pygments_lexer": "ipython3",
   "version": "3.9.13"
  }
 },
 "nbformat": 4,
 "nbformat_minor": 5
}
